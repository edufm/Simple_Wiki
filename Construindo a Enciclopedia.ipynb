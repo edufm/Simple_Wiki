{
 "cells": [
  {
   "cell_type": "markdown",
   "metadata": {},
   "source": [
    "# Construindo uma enciclopedia"
   ]
  },
  {
   "cell_type": "markdown",
   "metadata": {},
   "source": [
    "Tarefas:\n",
    "\n",
    "1 . Leia os documentos do corpus `reuters` e monte uma lista de palavras que:\n",
    "- Passe todas as palavras para letra minuscula\n",
    "- tem mais que 5 contagens,\n",
    "- tem mais que 2 caracteres, e\n",
    "- não contem digitos\n",
    "\n",
    "2 . Ordene a lista de palavras e grave no disco. Abra em um editor de texto e explore a lista de palavras. Implemente medidas extras de limpeza do vocabulário.\n",
    "\n",
    "3 . Agora sua tarefa é limpar cada texto associado às várias palavras do nosso vocabulário usando seu arsenal de ferramentas de NLP!\n",
    "Para cada texto:\n",
    "- Limpe o texto para remover caracteres estranhos.\n",
    "- Divida o texto em sentenças usando o tokenizador Punkt https://www.nltk.org/_modules/nltk/tokenize/punkt.html\n",
    "- Pense em uma forma de identificar a primeira sentença do texto que não seja \"estranha\" (como os cabeçalhos de documento)\n",
    "- Use um modelo de linguagem treinado no corpus reuters.\n",
    "- Pense em usar a perplexidade de cada sentença como medida de \"estranheza\" da sentença.\n",
    "- Talvez usar a primeira sentença de perplexidade \"baixa\"?"
   ]
  },
  {
   "cell_type": "markdown",
   "metadata": {},
   "source": [
    "## Inicializa o código"
   ]
  },
  {
   "cell_type": "code",
   "execution_count": 1,
   "metadata": {},
   "outputs": [],
   "source": [
    "# Faz os imports relevantes\n",
    "\n",
    "from nltk.corpus import reuters\n",
    "import nltk\n",
    "import re\n",
    "\n",
    "import requests\n",
    "import json\n",
    "from time import sleep"
   ]
  },
  {
   "cell_type": "code",
   "execution_count": 2,
   "metadata": {},
   "outputs": [],
   "source": [
    "#nltk.download()"
   ]
  },
  {
   "cell_type": "markdown",
   "metadata": {},
   "source": [
    "## Importa o dataset de palavras a serem estudadas"
   ]
  },
  {
   "cell_type": "code",
   "execution_count": 3,
   "metadata": {},
   "outputs": [
    {
     "data": {
      "text/plain": [
       "['asian', 'exporters', 'fear', 'damage', 'from', 'u', '.', 's', '.-', 'japan']"
      ]
     },
     "execution_count": 3,
     "metadata": {},
     "output_type": "execute_result"
    }
   ],
   "source": [
    "# Cria a lista de palavras\n",
    "words = list(map(str.lower, reuters.words()))\n",
    "words[0:10]"
   ]
  },
  {
   "cell_type": "code",
   "execution_count": 4,
   "metadata": {},
   "outputs": [
    {
     "data": {
      "text/plain": [
       "['amazon',\n",
       " 'conclusions',\n",
       " 'gibraltar',\n",
       " 'affairs',\n",
       " 'lace',\n",
       " 'townsend',\n",
       " 'ferdinand',\n",
       " 'orion',\n",
       " 'lean',\n",
       " 'prospective']"
      ]
     },
     "execution_count": 4,
     "metadata": {},
     "output_type": "execute_result"
    }
   ],
   "source": [
    "# filtra as palavras de acordo com os critérios definidos\n",
    "freq_reuters = nltk.FreqDist(words)\n",
    "filtered = list(set(word for word in words if (freq_reuters[word] > 5 and len(word) > 2 and re.fullmatch(r\"[a-z]*\", word))))\n",
    "\n",
    "filtered[0: 10]"
   ]
  },
  {
   "cell_type": "code",
   "execution_count": 5,
   "metadata": {},
   "outputs": [],
   "source": [
    "# ordena a lista e salva em um arquivo para evitar uma nova leitura\n",
    "filtered = sorted(filtered)\n",
    "\n",
    "with open(\"storage/good_words.txt\", \"w\") as dump:\n",
    "    for word in filtered:\n",
    "        dump.write(f\"{word}\\n\")"
   ]
  },
  {
   "cell_type": "markdown",
   "metadata": {},
   "source": [
    "## Faz os downloads das paginas da wikipédia para construir o dataset"
   ]
  },
  {
   "cell_type": "code",
   "execution_count": 6,
   "metadata": {},
   "outputs": [],
   "source": [
    "# Le o bloco de notas com as palavras\n",
    "with open(\"storage/good_words.txt\", \"r\") as load:\n",
    "    good_words = load.read().split(\"\\n\")"
   ]
  },
  {
   "cell_type": "code",
   "execution_count": 7,
   "metadata": {},
   "outputs": [],
   "source": [
    "# Define os parametros para a API\n",
    "BATCH_SIZE = 50\n",
    "URL = \"https://en.wikipedia.org/w/api.php\"\n",
    "PARAMS = {\n",
    "    \"action\": \"query\",\n",
    "    \"prop\": \"revisions\",\n",
    "    \"rvprop\": \"content\",\n",
    "    \"rvslots\": \"main\",\n",
    "    \"rvsection\": \"0\",\n",
    "    \"titles\": \"\",\n",
    "    \"format\": \"json\",\n",
    "}\n",
    "\n",
    "# Define uma função para dividir os batches\n",
    "def split_batches(words, batch_size=BATCH_SIZE):\n",
    "    k = 0\n",
    "    while k < len(words):\n",
    "        yield words[k:(k + batch_size)]\n",
    "        k += batch_size\n",
    "\n",
    "main_texts = {}\n",
    "error_log = []\n",
    "\n",
    "# Inicia a seção\n",
    "S = requests.Session()"
   ]
  },
  {
   "cell_type": "code",
   "execution_count": 8,
   "metadata": {},
   "outputs": [
    {
     "name": "stdout",
     "output_type": "stream",
     "text": [
      "9179 palavras boas para baixar\n",
      "\n",
      " Processando batch #00184\n",
      "Download concluido\n"
     ]
    }
   ],
   "source": [
    "print(f\"{len(good_words)} palavras boas para baixar\")\n",
    "print()\n",
    "\n",
    "# realiza o fetch para cada batch das palavras inicialmente boas\n",
    "for k, batch in enumerate(split_batches(good_words)):\n",
    "    try:\n",
    "        print(f'\\r Processando batch #{k + 1:05}', end='')\n",
    "        PARAMS['titles'] = '|'.join(batch)\n",
    "        r = S.get(url=URL, params=PARAMS)\n",
    "        r_json = r.json()\n",
    "\n",
    "        # Reverse map of normalized titles.\n",
    "        title_map = {}\n",
    "        for item in r_json['query']['normalized']:\n",
    "            title_map[item['to']] = item['from']\n",
    "            \n",
    "        # Get texts.\n",
    "        texts = {}\n",
    "        for pageid, page_content in r_json['query']['pages'].items():\n",
    "            if int(pageid) < 0:\n",
    "                continue\n",
    "            text = page_content['revisions'][0]['slots']['main']['*']\n",
    "            if page_content['title'] in title_map:\n",
    "                w = title_map[page_content['title']]\n",
    "            else:\n",
    "                w = page_content['title']\n",
    "                \n",
    "            texts[w] = text\n",
    "\n",
    "        # Add to global dict.\n",
    "        main_texts.update(texts)\n",
    "\n",
    "    except Exception as e:\n",
    "        error_log.append((e, r))\n",
    "    \n",
    "print()\n",
    "print(\"Download concluido\")"
   ]
  },
  {
   "cell_type": "code",
   "execution_count": 9,
   "metadata": {},
   "outputs": [
    {
     "name": "stdout",
     "output_type": "stream",
     "text": [
      "2769 palavras redirecionadas para baixar\n",
      "\n",
      " Processando batch #00056\n",
      "Download concluido\n"
     ]
    }
   ],
   "source": [
    "# Procura nos textos recebidos palavras que não tiveram a pagina enontrada\n",
    "redirected_words = list(set(word.split(\"[\")[-1].split(\"]\")[0] for word in main_texts.keys() if \"#REDIRECT\" in main_texts[word][:15]))\n",
    "redirected_words = redirected_words + list(set(word.split(\"[\")[-1].split(\"]\")[0] for word in main_texts.keys() if \"#redirect\" in main_texts[word][:15]))\n",
    "redirected_words = sorted(redirected_words)\n",
    "redirected_words\n",
    "\n",
    "print(f\"{len(redirected_words)} palavras redirecionadas para baixar\")\n",
    "print()\n",
    "\n",
    "# realiza o fetch para cada batch das palavras redirecionadas\n",
    "for k, batch in enumerate(split_batches(redirected_words)):\n",
    "    try:\n",
    "        print(f'\\r Processando batch #{k + 1:05}', end='')\n",
    "        PARAMS['titles'] = '|'.join(batch)\n",
    "        r = S.get(url=URL, params=PARAMS)\n",
    "        r_json = r.json()\n",
    "\n",
    "        # Reverse map of normalized titles.\n",
    "        title_map = {}\n",
    "        for item in r_json['query']['normalized']:\n",
    "            title_map[item['to']] = item['from']\n",
    "            \n",
    "        # Get texts.\n",
    "        texts = {}\n",
    "        for pageid, page_content in r_json['query']['pages'].items():\n",
    "            if int(pageid) < 0:\n",
    "                continue\n",
    "            text = page_content['revisions'][0]['slots']['main']['*']\n",
    "            if page_content['title'] in title_map:\n",
    "                w = title_map[page_content['title']]\n",
    "            else:\n",
    "                w = page_content['title']\n",
    "                \n",
    "            texts[w] = text\n",
    "\n",
    "        # Add to global dict.\n",
    "        main_texts.update(texts)\n",
    "\n",
    "    except Exception as e:\n",
    "        error_log.append((e, r))\n",
    "        \n",
    "print()\n",
    "print(\"Download concluido\")"
   ]
  },
  {
   "cell_type": "code",
   "execution_count": 10,
   "metadata": {},
   "outputs": [
    {
     "name": "stdout",
     "output_type": "stream",
     "text": [
      "2769 paginas redirecionadas para remover\n",
      "2339 paginas de desambiguação para remover\n"
     ]
    }
   ],
   "source": [
    "# # remove da lista palavras que foram redirecionadas\n",
    "not_good_data = list(set(word.split(\"[\")[-1].split(\"]\")[0] for word in main_texts.keys() if \"#REDIRECT\" in main_texts[word][:15]))\n",
    "not_good_data = not_good_data + list(set(word.split(\"[\")[-1].split(\"]\")[0] for word in main_texts.keys() if \"#redirect\" in main_texts[word][:15]))\n",
    "\n",
    "print(f\"{len(not_good_data)} paginas redirecionadas para remover\")\n",
    "for word in not_good_data:\n",
    "    main_texts.pop(word)\n",
    "    \n",
    "# Retira palavras que vão para as pagins de desambiguação\n",
    "not_good_data = list(set(word.split(\"[\")[-1].split(\"]\")[0] for word in main_texts.keys() if \"may refer to:\" in main_texts[word]))\n",
    "\n",
    "print(f\"{len(not_good_data)} paginas de desambiguação para remover\")\n",
    "for word in not_good_data:\n",
    "    main_texts.pop(word)"
   ]
  },
  {
   "cell_type": "code",
   "execution_count": 11,
   "metadata": {
    "scrolled": false
   },
   "outputs": [],
   "source": [
    "# Exporta os resultados para arquivos\n",
    "with open('storage/texts.json', 'w') as f:\n",
    "    json.dump(main_texts, f, indent=4)\n",
    "\n",
    "with open('storage/errors.txt', 'w') as f:\n",
    "    for e, r in error_log:\n",
    "        f.write(f'{e} ({type(e)})\\nConteudo:\\n{r.headers}\\n{\"*\"*100}\\n')"
   ]
  },
  {
   "cell_type": "markdown",
   "metadata": {},
   "source": [
    "## Realia a limpeza dos textos"
   ]
  },
  {
   "cell_type": "code",
   "execution_count": 12,
   "metadata": {},
   "outputs": [],
   "source": [
    "# Le o bloco de notas com as palavras\n",
    "with open(\"storage/texts.json\", \"r\") as load:\n",
    "    main_texts = json.load(load)"
   ]
  },
  {
   "cell_type": "markdown",
   "metadata": {},
   "source": [
    "### Demonstração da limpeza"
   ]
  },
  {
   "cell_type": "code",
   "execution_count": 13,
   "metadata": {
    "scrolled": true
   },
   "outputs": [
    {
     "data": {
      "text/plain": [
       "'{{about|the German city|other uses|Hanover (disambiguation)}}\\n{{Redirect|Hannover}}\\n{{short description|City in Lower Saxony, Germany}}\\n{{Infobox German location\\n|name               = Hanover\\n|German_name        = Hannover\\n|type               = City\\n|image_photo        = {{Photomontage|position=center\\n| photo1a = Neues Rathaus Hannover abends.jpg\\n| photo2a = HanoverMarktkirche.JPG\\n| photo2b = TelemaxHannover.jpg\\n| photo3a = Kröpcke_Uhr_Hannover.jpg\\n| photo3b = Dschungelpalast.jpg\\n| photo4a = Inselgraben_Eilenriede.jpg\\n   | size = 280\\n   | spacing = 2\\n   | color = #FFFFFF\\n   | border = 0\\n   | foot_montage = {{nobreak|From top: [[New Town Hall (Hanover)|New Town Hall]] of Hanover}}<br/>[[Marktkirche, Hanover|Market Church]], [[Telemax]], Kröpcke-Clock, an [[Asian elephant]] at the [[Hanover Zoo]] and the [[Eilenriede]] forest\\n}}\\n|image_flag         = Flag of Hanover (city).png\\n|image_coa          = Coat of arms of Hannover.svg\\n|coordinates        = {{coord|52|22|N|9|43|E|format=dms|display=inline,title}}\\n|image_plan         = Hannover in H.svg\\n|state              = Lower Saxony\\n|district           = Hannover\\n|elevation          = 55\\n|area               = 204.01\\n|area_metro         = <!-- Metropolitan area, in km². XXX.XX (no commas or other text) -->\\n<!-- |population         = 518386  filled via Gemeindeschlüssel \\n|pop_date              = 31 December 2013\\n|pop_ref            = <ref>{{cite web |url=http://www.statistik.niedersachsen.de/portal/live.php?navigation_id=25688&article_id=87673&_psmand=40|title=Themenbereich: Bevölkerung - Tabellen |accessdate=2014-04-03 |language=German}}</ref>\\n-->\\n|pop_metro          = 1119032\\n|postal_code        = 30001 - 30669\\n|area_code          = 0511\\n|licence            = H\\n|Gemeindeschlüssel  = 03 2 41 001\\n|NUTS               = <!-- NUTS value: DEXXX  - WILL \\'\\'not\\'\\' BE DISPLAYED -->\\n|LOCODE             = DE HAJ\\n|divisions          = 13 districts\\n|website            = [https://www.hannover.de/ www.hannover.de]|\\n|mayor              = Belit Onay\\n|Bürgermeistertitel = Oberbürgermeister\\n|party              = Greens\\n|ruling_party1      = SPD\\n|ruling_party2      = Greens\\n<ref>{{Cite web|url=https://www.haz.de/Hannover/Aus-der-Stadt/Rathausaffaere-Oberbuergermeister-Stefan-Schostok-tritt-zurueck|title=Oberbürgermeister Stefan Schostok tritt zurück|website=HAZ – Hannoversche Allgemeine|language=de|access-date=2019-06-14}}</ref>\\n}}\\n\\n\\'\\'\\'Hanover\\'\\'\\' or \\'\\'\\'Hannover\\'\\'\\' ({{IPAc-en|ˈ|h|æ|n|oʊ|v|ər|,_|-|n|ə|v|-}}; {{lang-de|Hannover}} {{IPA-de|haˈnoːfɐ||De-Hannover.ogg}}; {{lang-nds|Hannober}}) is the capital and largest city of the German [[States of Germany|state]] of [[Lower Saxony]]. Its 535,061 (2017) inhabitants make it the [[List of cities in Germany by population|thirteenth-largest city]] in Germany as well as the third-largest city in [[Northern Germany]] after [[Hamburg]] and [[Bremen]]. The city lies at the [[confluence]] of the [[River Leine]] (progression: {{PAller}}) and its [[tributary]] [[Ihme]], in the south of the [[North German Plain]], and is the largest city in the [[Hannover–Braunschweig–Göttingen–Wolfsburg Metropolitan Region]]. It is the fifth-largest city in the [[Low German]] dialect area after Hamburg, [[Dortmund]], [[Essen]] and Bremen.\\n\\nBefore it became the capital of Lower Saxony in 1946 Hanover was the capital of the [[Principality of Calenberg]] (1636–1692), the [[Electorate of Hanover]] (1692–1814), the [[Kingdom of Hanover]] (1814–1866), the [[Province of Hanover]] of the [[Kingdom of Prussia]] (1868–1918), the [[Province of Hanover]] of the [[Free State of Prussia]] (1918–1946) and of the [[State of Hanover]] (1946). From 1714 to 1837 Hanover was by [[personal union]] the family seat of the [[House of Hanover|Hanoverian Kings of the United Kingdom of Great Britain and Ireland]], under their title of the dukes of [[Duchy of Brunswick-Lüneburg|Brunswick-Lüneburg]] (later described as the [[Electorate of Hanover|Elector of Hanover]]).\\n\\nThe city is a major crossing point of railway lines and motorways ([[Autobahn]]en), connecting European main lines in both the east-west ([[Berlin]]–[[Ruhr|Ruhr area]]/[[Düsseldorf]]/[[Cologne]]) and north-south ([[Hamburg]]–[[Frankfurt]]/[[Stuttgart]]/[[Munich]]) directions. [[Hannover Airport]] lies north of the city, in [[Langenhagen]], and is Germany\\'s ninth-busiest airport. The city\\'s most notable institutes of higher education are the [[Hannover Medical School]] with its [[university hospital]] (Klinikum der Medizinischen Hochschule Hannover) and the [[Leibniz University Hannover]].\\n\\nThe [[Hanover fairground]], owing to numerous extensions, especially for the [[Expo 2000]], is the largest in the world. Hanover hosts annual commercial [[World\\'s fair|trade fairs]] such as the [[Hanover Fair]] and up to 2018 the [[CeBIT]]. The IAA Commercial Vehicles show takes place every two years. It is the world\\'s leading trade show for transport, logistics and mobility. Every year Hanover hosts the [[Schützenfest Hannover]], the world\\'s largest marksmen\\'s festival, and the [[Oktoberfest celebrations#Hannover|Oktoberfest Hannover]].\\n\\n\\'Hanover\\' is the traditional English spelling. The German spelling (with a double n) is becoming more popular in English; recent editions of encyclopedias prefer the German spelling,<ref>[http://www.britannica.com/EBchecked/topic/254472/Hannover Encyclopædia Britannica] uses \\'Hannover\\'. It says \"\\'\\'English\\'\\' Hanover\" but uses \\'Hannover\\' in the text.</ref><ref>[http://www.britannica.com/EBchecked/topic/254472/Hannover Microsoft Encarta] gives the primary spelling as \\'Hannover\\'.</ref> and the local government uses the German spelling on English websites.<ref>{{cite web|author=|url=http://www.hannover.de/english/ |title=Official Website of the City and Region of Hannover |publisher=Hannover.de |date=2009-10-27 |accessdate=2011-04-07}}</ref> The English pronunciation, with [[Stress (linguistics)|stress]] on the first syllable, is applied to both the [[German language|German]] and [[English language|English]] spellings, which is different from German pronunciation, with stress on the second syllable and a long second vowel. The traditional English spelling is still used in historical contexts, especially when referring to the British [[House of Hanover]].'"
      ]
     },
     "execution_count": 13,
     "metadata": {},
     "output_type": "execute_result"
    }
   ],
   "source": [
    "# Define a variavel de teste\n",
    "clean = main_texts['hanover']\n",
    "clean"
   ]
  },
  {
   "cell_type": "code",
   "execution_count": 14,
   "metadata": {
    "scrolled": true
   },
   "outputs": [
    {
     "data": {
      "text/plain": [
       "\"{{about|the German city|other uses|Hanover (disambiguation)}}\\n{{Redirect|Hannover}}\\n{{short description|City in Lower Saxony, Germany}}\\n{{Infobox German location\\n|name               = Hanover\\n|German_name        = Hannover\\n|type               = City\\n|image_photo        = {{Photomontage|position=center\\n| photo1a = Neues Rathaus Hannover abends.jpg\\n| photo2a = HanoverMarktkirche.JPG\\n| photo2b = TelemaxHannover.jpg\\n| photo3a = Kröpcke_Uhr_Hannover.jpg\\n| photo3b = Dschungelpalast.jpg\\n| photo4a = Inselgraben_Eilenriede.jpg\\n   | size = 280\\n   | spacing = 2\\n   | color = #FFFFFF\\n   | border = 0\\n   | foot_montage = {{nobreak|From top: [[New Town Hall (Hanover)|New Town Hall]] of Hanover}}<br/>[[Marktkirche, Hanover|Market Church]], [[Telemax]], Kröpcke-Clock, an [[Asian elephant]] at the [[Hanover Zoo]] and the [[Eilenriede]] forest\\n}}\\n|image_flag         = Flag of Hanover (city).png\\n|image_coa          = Coat of arms of Hannover.svg\\n|coordinates        = {{coord|52|22|N|9|43|E|format=dms|display=inline,title}}\\n|image_plan         = Hannover in H.svg\\n|state              = Lower Saxony\\n|district           = Hannover\\n|elevation          = 55\\n|area               = 204.01\\n|area_metro         = <!-- Metropolitan area, in km². XXX.XX (no commas or other text) -->\\n<!-- |population         = 518386  filled via Gemeindeschlüssel \\n|pop_date              = 31 December 2013\\n|pop_ref            = \\n-->\\n|pop_metro          = 1119032\\n|postal_code        = 30001 - 30669\\n|area_code          = 0511\\n|licence            = H\\n|Gemeindeschlüssel  = 03 2 41 001\\n|NUTS               = <!-- NUTS value: DEXXX  - WILL ''not'' BE DISPLAYED -->\\n|LOCODE             = DE HAJ\\n|divisions          = 13 districts\\n|website            = [https://www.hannover.de/ www.hannover.de]|\\n|mayor              = Belit Onay\\n|Bürgermeistertitel = Oberbürgermeister\\n|party              = Greens\\n|ruling_party1      = SPD\\n|ruling_party2      = Greens\\n\\n}}\\n\\n'''Hanover''' or '''Hannover''' ({{IPAc-en|ˈ|h|æ|n|oʊ|v|ər|,_|-|n|ə|v|-}}; {{lang-de|Hannover}} {{IPA-de|haˈnoːfɐ||De-Hannover.ogg}}; {{lang-nds|Hannober}}) is the capital and largest city of the German [[States of Germany|state]] of [[Lower Saxony]]. Its 535,061 (2017) inhabitants make it the [[List of cities in Germany by population|thirteenth-largest city]] in Germany as well as the third-largest city in [[Northern Germany]] after [[Hamburg]] and [[Bremen]]. The city lies at the [[confluence]] of the [[River Leine]] (progression: {{PAller}}) and its [[tributary]] [[Ihme]], in the south of the [[North German Plain]], and is the largest city in the [[Hannover–Braunschweig–Göttingen–Wolfsburg Metropolitan Region]]. It is the fifth-largest city in the [[Low German]] dialect area after Hamburg, [[Dortmund]], [[Essen]] and Bremen.\\n\\nBefore it became the capital of Lower Saxony in 1946 Hanover was the capital of the [[Principality of Calenberg]] (1636–1692), the [[Electorate of Hanover]] (1692–1814), the [[Kingdom of Hanover]] (1814–1866), the [[Province of Hanover]] of the [[Kingdom of Prussia]] (1868–1918), the [[Province of Hanover]] of the [[Free State of Prussia]] (1918–1946) and of the [[State of Hanover]] (1946). From 1714 to 1837 Hanover was by [[personal union]] the family seat of the [[House of Hanover|Hanoverian Kings of the United Kingdom of Great Britain and Ireland]], under their title of the dukes of [[Duchy of Brunswick-Lüneburg|Brunswick-Lüneburg]] (later described as the [[Electorate of Hanover|Elector of Hanover]]).\\n\\nThe city is a major crossing point of railway lines and motorways ([[Autobahn]]en), connecting European main lines in both the east-west ([[Berlin]]–[[Ruhr|Ruhr area]]/[[Düsseldorf]]/[[Cologne]]) and north-south ([[Hamburg]]–[[Frankfurt]]/[[Stuttgart]]/[[Munich]]) directions. [[Hannover Airport]] lies north of the city, in [[Langenhagen]], and is Germany's ninth-busiest airport. The city's most notable institutes of higher education are the [[Hannover Medical School]] with its [[university hospital]] (Klinikum der Medizinischen Hochschule Hannover) and the [[Leibniz University Hannover]].\\n\\nThe [[Hanover fairground]], owing to numerous extensions, especially for the [[Expo 2000]], is the largest in the world. Hanover hosts annual commercial [[World's fair|trade fairs]] such as the [[Hanover Fair]] and up to 2018 the [[CeBIT]]. The IAA Commercial Vehicles show takes place every two years. It is the world's leading trade show for transport, logistics and mobility. Every year Hanover hosts the [[Schützenfest Hannover]], the world's largest marksmen's festival, and the [[Oktoberfest celebrations#Hannover|Oktoberfest Hannover]].\\n\\n'Hanover' is the traditional English spelling. The German spelling (with a double n) is becoming more popular in English; recent editions of encyclopedias prefer the German spelling, and the local government uses the German spelling on English websites. The English pronunciation, with [[Stress (linguistics)|stress]] on the first syllable, is applied to both the [[German language|German]] and [[English language|English]] spellings, which is different from German pronunciation, with stress on the second syllable and a long second vowel. The traditional English spelling is still used in historical contexts, especially when referring to the British [[House of Hanover]].\""
      ]
     },
     "execution_count": 14,
     "metadata": {},
     "output_type": "execute_result"
    }
   ],
   "source": [
    "# Remove referencias do HTML\n",
    "clean = re.sub(r\"<ref.*?/ref>\", \"\", clean, flags=re.DOTALL|re.MULTILINE)\n",
    "clean = re.sub(r\"<sup.*?/sup>\", \"\", clean, flags=re.DOTALL|re.MULTILINE)\n",
    "clean"
   ]
  },
  {
   "cell_type": "code",
   "execution_count": 15,
   "metadata": {
    "scrolled": true
   },
   "outputs": [
    {
     "data": {
      "text/plain": [
       "\"\\n\\n\\n<br/>[[Marktkirche, Hanover|Market Church]], [[Telemax]], Kröpcke-Clock, an [[Asian elephant]] at the [[Hanover Zoo]] and the [[Eilenriede]] forest\\n\\n|image_flag         = Flag of Hanover (city).png\\n|image_coa          = Coat of arms of Hannover.svg\\n|coordinates        = \\n|image_plan         = Hannover in H.svg\\n|state              = Lower Saxony\\n|district           = Hannover\\n|elevation          = 55\\n|area               = 204.01\\n|area_metro         = <!-- Metropolitan area, in km². XXX.XX (no commas or other text) -->\\n<!-- |population         = 518386  filled via Gemeindeschlüssel \\n|pop_date              = 31 December 2013\\n|pop_ref            = \\n-->\\n|pop_metro          = 1119032\\n|postal_code        = 30001 - 30669\\n|area_code          = 0511\\n|licence            = H\\n|Gemeindeschlüssel  = 03 2 41 001\\n|NUTS               = <!-- NUTS value: DEXXX  - WILL ''not'' BE DISPLAYED -->\\n|LOCODE             = DE HAJ\\n|divisions          = 13 districts\\n|website            = [https://www.hannover.de/ www.hannover.de]|\\n|mayor              = Belit Onay\\n|Bürgermeistertitel = Oberbürgermeister\\n|party              = Greens\\n|ruling_party1      = SPD\\n|ruling_party2      = Greens\\n\\n\\n\\n'''Hanover''' or '''Hannover''' (;  ; ) is the capital and largest city of the German [[States of Germany|state]] of [[Lower Saxony]]. Its 535,061 (2017) inhabitants make it the [[List of cities in Germany by population|thirteenth-largest city]] in Germany as well as the third-largest city in [[Northern Germany]] after [[Hamburg]] and [[Bremen]]. The city lies at the [[confluence]] of the [[River Leine]] (progression: ) and its [[tributary]] [[Ihme]], in the south of the [[North German Plain]], and is the largest city in the [[Hannover–Braunschweig–Göttingen–Wolfsburg Metropolitan Region]]. It is the fifth-largest city in the [[Low German]] dialect area after Hamburg, [[Dortmund]], [[Essen]] and Bremen.\\n\\nBefore it became the capital of Lower Saxony in 1946 Hanover was the capital of the [[Principality of Calenberg]] (1636–1692), the [[Electorate of Hanover]] (1692–1814), the [[Kingdom of Hanover]] (1814–1866), the [[Province of Hanover]] of the [[Kingdom of Prussia]] (1868–1918), the [[Province of Hanover]] of the [[Free State of Prussia]] (1918–1946) and of the [[State of Hanover]] (1946). From 1714 to 1837 Hanover was by [[personal union]] the family seat of the [[House of Hanover|Hanoverian Kings of the United Kingdom of Great Britain and Ireland]], under their title of the dukes of [[Duchy of Brunswick-Lüneburg|Brunswick-Lüneburg]] (later described as the [[Electorate of Hanover|Elector of Hanover]]).\\n\\nThe city is a major crossing point of railway lines and motorways ([[Autobahn]]en), connecting European main lines in both the east-west ([[Berlin]]–[[Ruhr|Ruhr area]]/[[Düsseldorf]]/[[Cologne]]) and north-south ([[Hamburg]]–[[Frankfurt]]/[[Stuttgart]]/[[Munich]]) directions. [[Hannover Airport]] lies north of the city, in [[Langenhagen]], and is Germany's ninth-busiest airport. The city's most notable institutes of higher education are the [[Hannover Medical School]] with its [[university hospital]] (Klinikum der Medizinischen Hochschule Hannover) and the [[Leibniz University Hannover]].\\n\\nThe [[Hanover fairground]], owing to numerous extensions, especially for the [[Expo 2000]], is the largest in the world. Hanover hosts annual commercial [[World's fair|trade fairs]] such as the [[Hanover Fair]] and up to 2018 the [[CeBIT]]. The IAA Commercial Vehicles show takes place every two years. It is the world's leading trade show for transport, logistics and mobility. Every year Hanover hosts the [[Schützenfest Hannover]], the world's largest marksmen's festival, and the [[Oktoberfest celebrations#Hannover|Oktoberfest Hannover]].\\n\\n'Hanover' is the traditional English spelling. The German spelling (with a double n) is becoming more popular in English; recent editions of encyclopedias prefer the German spelling, and the local government uses the German spelling on English websites. The English pronunciation, with [[Stress (linguistics)|stress]] on the first syllable, is applied to both the [[German language|German]] and [[English language|English]] spellings, which is different from German pronunciation, with stress on the second syllable and a long second vowel. The traditional English spelling is still used in historical contexts, especially when referring to the British [[House of Hanover]].\""
      ]
     },
     "execution_count": 15,
     "metadata": {},
     "output_type": "execute_result"
    }
   ],
   "source": [
    "# Remove marcas de objetos desenhados na pagina (entre chaves)\n",
    "clean = re.sub(r\"{{.*?}}\", \"\", clean, flags=re.DOTALL|re.MULTILINE)\n",
    "clean = re.sub(r\"{{|}}\", \"\", clean, flags=re.DOTALL|re.MULTILINE)\n",
    "clean"
   ]
  },
  {
   "cell_type": "code",
   "execution_count": 16,
   "metadata": {
    "scrolled": true
   },
   "outputs": [
    {
     "data": {
      "text/plain": [
       "\"Hanover or Hannover (;  ; ) is the capital and largest city of the German [[States of Germany|state]] of [[Lower Saxony]]. Its 535,061 (2017) inhabitants make it the [[List of cities in Germany by population|thirteenth-largest city]] in Germany as well as the third-largest city in [[Northern Germany]] after [[Hamburg]] and [[Bremen]]. The city lies at the [[confluence]] of the [[River Leine]] (progression: ) and its [[tributary]] [[Ihme]], in the south of the [[North German Plain]], and is the largest city in the [[Hannover–Braunschweig–Göttingen–Wolfsburg Metropolitan Region]]. It is the fifth-largest city in the [[Low German]] dialect area after Hamburg, [[Dortmund]], [[Essen]] and Bremen.\\n\\nBefore it became the capital of Lower Saxony in 1946 Hanover was the capital of the [[Principality of Calenberg]] (1636–1692), the [[Electorate of Hanover]] (1692–1814), the [[Kingdom of Hanover]] (1814–1866), the [[Province of Hanover]] of the [[Kingdom of Prussia]] (1868–1918), the [[Province of Hanover]] of the [[Free State of Prussia]] (1918–1946) and of the [[State of Hanover]] (1946). From 1714 to 1837 Hanover was by [[personal union]] the family seat of the [[House of Hanover|Hanoverian Kings of the United Kingdom of Great Britain and Ireland]], under their title of the dukes of [[Duchy of Brunswick-Lüneburg|Brunswick-Lüneburg]] (later described as the [[Electorate of Hanover|Elector of Hanover]]).\\n\\nThe city is a major crossing point of railway lines and motorways ([[Autobahn]]en), connecting European main lines in both the east-west ([[Berlin]]–[[Ruhr|Ruhr area]]/[[Düsseldorf]]/[[Cologne]]) and north-south ([[Hamburg]]–[[Frankfurt]]/[[Stuttgart]]/[[Munich]]) directions. [[Hannover Airport]] lies north of the city, in [[Langenhagen]], and is Germany's ninth-busiest airport. The city's most notable institutes of higher education are the [[Hannover Medical School]] with its [[university hospital]] (Klinikum der Medizinischen Hochschule Hannover) and the [[Leibniz University Hannover]].\\n\\nThe [[Hanover fairground]], owing to numerous extensions, especially for the [[Expo 2000]], is the largest in the world. Hanover hosts annual commercial [[World's fair|trade fairs]] such as the [[Hanover Fair]] and up to 2018 the [[CeBIT]]. The IAA Commercial Vehicles show takes place every two years. It is the world's leading trade show for transport, logistics and mobility. Every year Hanover hosts the [[Schützenfest Hannover]], the world's largest marksmen's festival, and the [[Oktoberfest celebrations#Hannover|Oktoberfest Hannover]].\\n\\n'Hanover' is the traditional English spelling. The German spelling (with a double n) is becoming more popular in English; recent editions of encyclopedias prefer the German spelling, and the local government uses the German spelling on English websites. The English pronunciation, with [[Stress (linguistics)|stress]] on the first syllable, is applied to both the [[German language|German]] and [[English language|English]] spellings, which is different from German pronunciation, with stress on the second syllable and a long second vowel. The traditional English spelling is still used in historical contexts, especially when referring to the British [[House of Hanover]].\""
      ]
     },
     "execution_count": 16,
     "metadata": {},
     "output_type": "execute_result"
    }
   ],
   "source": [
    "# Corta as legendas pré texto\n",
    "splited_clean = clean.split(\"'''\")[1:]\n",
    "clean = \"\".join(splited_clean)\n",
    "clean"
   ]
  },
  {
   "cell_type": "code",
   "execution_count": 17,
   "metadata": {
    "scrolled": true
   },
   "outputs": [
    {
     "data": {
      "text/plain": [
       "\"Hanover or Hannover (;  ; ) is the capital and largest city of the German [[States of Germany|state]] of Lower Saxony. Its 535,061 (2017) inhabitants make it the [[List of cities in Germany by population|thirteenth-largest city]] in Germany as well as the third-largest city in Northern Germany after Hamburg and Bremen. The city lies at the confluence of the River Leine (progression: ) and its tributary Ihme, in the south of the North German Plain, and is the largest city in the Hannover–Braunschweig–Göttingen–Wolfsburg Metropolitan Region. It is the fifth-largest city in the Low German dialect area after Hamburg, Dortmund, Essen and Bremen.\\n\\nBefore it became the capital of Lower Saxony in 1946 Hanover was the capital of the Principality of Calenberg (1636–1692), the Electorate of Hanover (1692–1814), the Kingdom of Hanover (1814–1866), the Province of Hanover of the Kingdom of Prussia (1868–1918), the Province of Hanover of the Free State of Prussia (1918–1946) and of the State of Hanover (1946). From 1714 to 1837 Hanover was by personal union the family seat of the [[House of Hanover|Hanoverian Kings of the United Kingdom of Great Britain and Ireland]], under their title of the dukes of [[Duchy of Brunswick-Lüneburg|Brunswick-Lüneburg]] (later described as the [[Electorate of Hanover|Elector of Hanover]]).\\n\\nThe city is a major crossing point of railway lines and motorways (Autobahnen), connecting European main lines in both the east-west (Berlin–[[Ruhr|Ruhr area]]/Düsseldorf/Cologne) and north-south (Hamburg–Frankfurt/Stuttgart/Munich) directions. Hannover Airport lies north of the city, in Langenhagen, and is Germany's ninth-busiest airport. The city's most notable institutes of higher education are the Hannover Medical School with its university hospital (Klinikum der Medizinischen Hochschule Hannover) and the Leibniz University Hannover.\\n\\nThe Hanover fairground, owing to numerous extensions, especially for the Expo 2000, is the largest in the world. Hanover hosts annual commercial [[World's fair|trade fairs]] such as the Hanover Fair and up to 2018 the CeBIT. The IAA Commercial Vehicles show takes place every two years. It is the world's leading trade show for transport, logistics and mobility. Every year Hanover hosts the Schützenfest Hannover, the world's largest marksmen's festival, and the [[Oktoberfest celebrations#Hannover|Oktoberfest Hannover]].\\n\\n'Hanover' is the traditional English spelling. The German spelling (with a double n) is becoming more popular in English; recent editions of encyclopedias prefer the German spelling, and the local government uses the German spelling on English websites. The English pronunciation, with [[Stress (linguistics)|stress]] on the first syllable, is applied to both the [[German language|German]] and [[English language|English]] spellings, which is different from German pronunciation, with stress on the second syllable and a long second vowel. The traditional English spelling is still used in historical contexts, especially when referring to the British House of Hanover.\""
      ]
     },
     "execution_count": 17,
     "metadata": {},
     "output_type": "execute_result"
    }
   ],
   "source": [
    "# Subistitui palavras entre colxete pela própria palavra\n",
    "clean = re.sub(r\"\\[\\[((?:[^|])*?)\\]\\]\", r\"\\1\", clean, flags=re.DOTALL|re.MULTILINE)\n",
    "clean"
   ]
  },
  {
   "cell_type": "code",
   "execution_count": 18,
   "metadata": {
    "scrolled": true
   },
   "outputs": [
    {
     "data": {
      "text/plain": [
       "\"Hanover or Hannover (;  ; ) is the capital and largest city of the German |state of Lower Saxony. Its 535,061 (2017) inhabitants make it the |thirteenth-largest city in Germany as well as the third-largest city in Northern Germany after Hamburg and Bremen. The city lies at the confluence of the River Leine (progression: ) and its tributary Ihme, in the south of the North German Plain, and is the largest city in the Hannover–Braunschweig–Göttingen–Wolfsburg Metropolitan Region. It is the fifth-largest city in the Low German dialect area after Hamburg, Dortmund, Essen and Bremen.\\n\\nBefore it became the capital of Lower Saxony in 1946 Hanover was the capital of the Principality of Calenberg (1636–1692), the Electorate of Hanover (1692–1814), the Kingdom of Hanover (1814–1866), the Province of Hanover of the Kingdom of Prussia (1868–1918), the Province of Hanover of the Free State of Prussia (1918–1946) and of the State of Hanover (1946). From 1714 to 1837 Hanover was by personal union the family seat of the |Hanoverian Kings of the United Kingdom of Great Britain and Ireland, under their title of the dukes of |Brunswick-Lüneburg (later described as the |Elector of Hanover).\\n\\nThe city is a major crossing point of railway lines and motorways (Autobahnen), connecting European main lines in both the east-west (Berlin–|Ruhr area/Düsseldorf/Cologne) and north-south (Hamburg–Frankfurt/Stuttgart/Munich) directions. Hannover Airport lies north of the city, in Langenhagen, and is Germany's ninth-busiest airport. The city's most notable institutes of higher education are the Hannover Medical School with its university hospital (Klinikum der Medizinischen Hochschule Hannover) and the Leibniz University Hannover.\\n\\nThe Hanover fairground, owing to numerous extensions, especially for the Expo 2000, is the largest in the world. Hanover hosts annual commercial |trade fairs such as the Hanover Fair and up to 2018 the CeBIT. The IAA Commercial Vehicles show takes place every two years. It is the world's leading trade show for transport, logistics and mobility. Every year Hanover hosts the Schützenfest Hannover, the world's largest marksmen's festival, and the |Oktoberfest Hannover.\\n\\n'Hanover' is the traditional English spelling. The German spelling (with a double n) is becoming more popular in English; recent editions of encyclopedias prefer the German spelling, and the local government uses the German spelling on English websites. The English pronunciation, with |stress on the first syllable, is applied to both the |German and |English spellings, which is different from German pronunciation, with stress on the second syllable and a long second vowel. The traditional English spelling is still used in historical contexts, especially when referring to the British House of Hanover.\""
      ]
     },
     "execution_count": 18,
     "metadata": {},
     "output_type": "execute_result"
    }
   ],
   "source": [
    "# Subistitui palavras entre colxete com pipe pela palavra depois do pipe\n",
    "clean = re.sub(r\"\\[\\[(?:[^|]|)*(.*?)\\]\\]\", r\"\\1\", clean, flags=re.DOTALL|re.MULTILINE)\n",
    "clean"
   ]
  },
  {
   "cell_type": "code",
   "execution_count": 19,
   "metadata": {
    "scrolled": false
   },
   "outputs": [
    {
     "data": {
      "text/plain": [
       "'Hanover or Hannover (SPECIALCHAR  ; ) is the capital and largest city of the German state of Lower Saxony. Its 535,061 (2017) inhabitants make it the thirteenth-largest city in Germany as well as the third-largest city in Northern Germany after Hamburg and Bremen. The city lies at the confluence of the River Leine (progression: ) and its tributary Ihme, in the south of the North German Plain, and is the largest city in the Hannover–Braunschweig–Göttingen–Wolfsburg Metropolitan Region. It is the fifth-largest city in the Low German dialect area after Hamburg, Dortmund, Essen and Bremen.Before it became the capital of Lower Saxony in 1946 Hanover was the capital of the Principality of Calenberg (1636–1692), the Electorate of Hanover (1692–1814), the Kingdom of Hanover (1814–1866), the Province of Hanover of the Kingdom of Prussia (1868–1918), the Province of Hanover of the Free State of Prussia (1918–1946) and of the State of Hanover (1946). From 1714 to 1837 Hanover was by personal union the family seat of the Hanoverian Kings of the United Kingdom of Great Britain and Ireland, under their title of the dukes of Brunswick-Lüneburg (later described as the Elector of Hanover).The city is a major crossing point of railway lines and motorways (Autobahnen), connecting European main lines in both the east-west (Berlin–Ruhr area/Düsseldorf/Cologne) and north-south (Hamburg–Frankfurt/Stuttgart/Munich) directions. Hannover Airport lies north of the city, in Langenhagen, and is Germanys ninth-busiest airport. The citys most notable institutes of higher education are the Hannover Medical School with its university hospital (Klinikum der Medizinischen Hochschule Hannover) and the Leibniz University Hannover.The Hanover fairground, owing to numerous extensions, especially for the Expo 2000, is the largest in the world. Hanover hosts annual commercial trade fairs such as the Hanover Fair and up to 2018 the CeBIT. The IAA Commercial Vehicles show takes place every two years. It is the worlds leading trade show for transport, logistics and mobility. Every year Hanover hosts the Schützenfest Hannover, the worlds largest marksmens festival, and the Oktoberfest Hannover.Hanover is the traditional English spelling. The German spelling (with a double n) is becoming more popular in English; recent editions of encyclopedias prefer the German spelling, and the local government uses the German spelling on English websites. The English pronunciation, with stress on the first syllable, is applied to both the German and English spellings, which is different from German pronunciation, with stress on the second syllable and a long second vowel. The traditional English spelling is still used in historical contexts, especially when referring to the British House of Hanover.'"
      ]
     },
     "execution_count": 19,
     "metadata": {},
     "output_type": "execute_result"
    }
   ],
   "source": [
    "# limpa algumas outras variaveis irrelevantes\n",
    "clean = re.sub(r\"\\n|\\'\", r\"\", clean, flags=re.DOTALL|re.MULTILINE)\n",
    "clean = re.sub(r\"\\|\", r\"\", clean, flags=re.DOTALL|re.MULTILINE)\n",
    "clean = re.sub(r\"\\(;|\\(,\", r\"(SPECIALCHAR\", clean, flags=re.DOTALL|re.MULTILINE)\n",
    "clean"
   ]
  },
  {
   "cell_type": "markdown",
   "metadata": {},
   "source": [
    "### Limpeza total"
   ]
  },
  {
   "cell_type": "code",
   "execution_count": 20,
   "metadata": {},
   "outputs": [],
   "source": [
    "def clean_string(clean):\n",
    "    # Remove referencias do HTML\n",
    "    clean = re.sub(r\"<ref.*?/ref>\", \"\", clean, flags=re.DOTALL|re.MULTILINE)\n",
    "    clean = re.sub(r\"<sup.*?/sup>\", \"\", clean, flags=re.DOTALL|re.MULTILINE)\n",
    "\n",
    "    # Remove marcas de objetos desenhados na pagina (entre chaves)\n",
    "    clean = re.sub(r\"{{.*?}}\", \"\", clean, flags=re.DOTALL|re.MULTILINE)\n",
    "    clean = re.sub(r\"{{|}}\", \"\", clean, flags=re.DOTALL|re.MULTILINE)\n",
    "\n",
    "    # Corta as legendas pré texto\n",
    "    splited_clean = clean.split(\"'''\")[1:]\n",
    "    clean = \"\".join(splited_clean)\n",
    "\n",
    "    # Subistitui palavras entre colxete pela própria palavra\n",
    "    clean = re.sub(r\"\\[\\[((?:[^|])*?)\\]\\]\", r\"\\1\", clean, flags=re.DOTALL|re.MULTILINE)\n",
    "\n",
    "    # Subistitui palavras entre colxete com pipe pela palavra depois do pipe\n",
    "    clean = re.sub(r\"\\[\\[(?:[^|]|)*(.*?)\\]\\]\", r\"\\1\", clean, flags=re.DOTALL|re.MULTILINE)\n",
    "\n",
    "    # limpa algumas outras variaveis irrelevantes\n",
    "    clean = re.sub(r\"\\n|\\'\", r\"\", clean, flags=re.DOTALL|re.MULTILINE)\n",
    "    clean = re.sub(r\"\\|\", r\"\", clean, flags=re.DOTALL|re.MULTILINE)\n",
    "    clean = re.sub(r\"\\(;|\\(,\", r\"(SPECIALCHAR\", clean, flags=re.DOTALL|re.MULTILINE)\n",
    "    \n",
    "    return clean"
   ]
  },
  {
   "cell_type": "code",
   "execution_count": 21,
   "metadata": {},
   "outputs": [],
   "source": [
    "for word in main_texts.keys():\n",
    "    main_texts[word] = clean_string(main_texts[word])"
   ]
  },
  {
   "cell_type": "code",
   "execution_count": 22,
   "metadata": {},
   "outputs": [],
   "source": [
    "# Exporta os resultados para arquivos\n",
    "with open('storage/clean_texts.json', 'w') as f:\n",
    "    json.dump(main_texts, f, indent=4)"
   ]
  },
  {
   "cell_type": "markdown",
   "metadata": {},
   "source": [
    "## Divide o texto em sentenças usando o tokenizador Punkt"
   ]
  },
  {
   "cell_type": "code",
   "execution_count": 126,
   "metadata": {},
   "outputs": [],
   "source": [
    "# Le o bloco de notas com as palavras\n",
    "with open(\"storage/clean_texts.json\", \"r\") as load:\n",
    "    main_texts = json.load(load)"
   ]
  },
  {
   "cell_type": "code",
   "execution_count": 127,
   "metadata": {},
   "outputs": [],
   "source": [
    "sent_tokenizer=nltk.data.load('tokenizers/punkt/english.pickle')\n",
    "for key, value in main_texts.items():\n",
    "    main_texts[key] = sent_tokenizer.tokenize(value)"
   ]
  },
  {
   "cell_type": "code",
   "execution_count": 128,
   "metadata": {},
   "outputs": [
    {
     "data": {
      "text/plain": [
       "['Hanover or Hannover (SPECIALCHAR  ; ) is the capital and largest city of the German state of Lower Saxony.',\n",
       " 'Its 535,061 (2017) inhabitants make it the thirteenth-largest city in Germany as well as the third-largest city in Northern Germany after Hamburg and Bremen.',\n",
       " 'The city lies at the confluence of the River Leine (progression: ) and its tributary Ihme, in the south of the North German Plain, and is the largest city in the Hannover–Braunschweig–Göttingen–Wolfsburg Metropolitan Region.',\n",
       " 'It is the fifth-largest city in the Low German dialect area after Hamburg, Dortmund, Essen and Bremen.Before it became the capital of Lower Saxony in 1946 Hanover was the capital of the Principality of Calenberg (1636–1692), the Electorate of Hanover (1692–1814), the Kingdom of Hanover (1814–1866), the Province of Hanover of the Kingdom of Prussia (1868–1918), the Province of Hanover of the Free State of Prussia (1918–1946) and of the State of Hanover (1946).',\n",
       " 'From 1714 to 1837 Hanover was by personal union the family seat of the Hanoverian Kings of the United Kingdom of Great Britain and Ireland, under their title of the dukes of Brunswick-Lüneburg (later described as the Elector of Hanover).The city is a major crossing point of railway lines and motorways (Autobahnen), connecting European main lines in both the east-west (Berlin–Ruhr area/Düsseldorf/Cologne) and north-south (Hamburg–Frankfurt/Stuttgart/Munich) directions.',\n",
       " 'Hannover Airport lies north of the city, in Langenhagen, and is Germanys ninth-busiest airport.',\n",
       " 'The citys most notable institutes of higher education are the Hannover Medical School with its university hospital (Klinikum der Medizinischen Hochschule Hannover) and the Leibniz University Hannover.The Hanover fairground, owing to numerous extensions, especially for the Expo 2000, is the largest in the world.',\n",
       " 'Hanover hosts annual commercial trade fairs such as the Hanover Fair and up to 2018 the CeBIT.',\n",
       " 'The IAA Commercial Vehicles show takes place every two years.',\n",
       " 'It is the worlds leading trade show for transport, logistics and mobility.',\n",
       " 'Every year Hanover hosts the Schützenfest Hannover, the worlds largest marksmens festival, and the Oktoberfest Hannover.Hanover is the traditional English spelling.',\n",
       " 'The German spelling (with a double n) is becoming more popular in English; recent editions of encyclopedias prefer the German spelling, and the local government uses the German spelling on English websites.',\n",
       " 'The English pronunciation, with stress on the first syllable, is applied to both the German and English spellings, which is different from German pronunciation, with stress on the second syllable and a long second vowel.',\n",
       " 'The traditional English spelling is still used in historical contexts, especially when referring to the British House of Hanover.']"
      ]
     },
     "execution_count": 128,
     "metadata": {},
     "output_type": "execute_result"
    }
   ],
   "source": [
    "main_texts[\"hanover\"]"
   ]
  },
  {
   "cell_type": "markdown",
   "metadata": {},
   "source": [
    "## Preparação do Modelo"
   ]
  },
  {
   "cell_type": "code",
   "execution_count": 129,
   "metadata": {},
   "outputs": [],
   "source": [
    "for fileid in reuters.fileids():\n",
    "    text += list(reuters.sents(fileid))"
   ]
  },
  {
   "cell_type": "code",
   "execution_count": 130,
   "metadata": {},
   "outputs": [],
   "source": [
    "from nltk.lm.preprocessing import padded_everygram_pipeline\n",
    "train, vocab = padded_everygram_pipeline(2, text)\n",
    "\n",
    "train = list(list(t) for t in train)\n",
    "vocab = list(vocab)"
   ]
  },
  {
   "cell_type": "code",
   "execution_count": 131,
   "metadata": {},
   "outputs": [],
   "source": [
    "#Treinamento\n",
    "from nltk.lm import MLE\n",
    "lm = MLE(2)\n",
    "lm.fit(train, vocab)"
   ]
  },
  {
   "cell_type": "markdown",
   "metadata": {},
   "source": [
    "## Selecão das sentenças com menor perplexidade "
   ]
  },
  {
   "cell_type": "code",
   "execution_count": 133,
   "metadata": {},
   "outputs": [
    {
     "data": {
      "text/plain": [
       "['Hanover', 'or']"
      ]
     },
     "execution_count": 133,
     "metadata": {},
     "output_type": "execute_result"
    }
   ],
   "source": [
    "main_texts[\"hanover\"][0].split(\" \")[:2]"
   ]
  },
  {
   "cell_type": "code",
   "execution_count": 134,
   "metadata": {},
   "outputs": [
    {
     "data": {
      "text/plain": [
       "inf"
      ]
     },
     "execution_count": 134,
     "metadata": {},
     "output_type": "execute_result"
    }
   ],
   "source": [
    "lm.perplexity(main_texts[\"hanover\"][0].split(\" \")[:2])"
   ]
  },
  {
   "cell_type": "markdown",
   "metadata": {},
   "source": [
    "## Próximos passos"
   ]
  },
  {
   "cell_type": "markdown",
   "metadata": {},
   "source": [
    "A fazer:\n",
    "    \n",
    "- Pense em uma forma de identificar a primeira sentença do texto que não seja \"estranha\" (como os cabeçalhos de documento)\n",
    "- Use um modelo de linguagem treinado no corpus reuters.\n",
    "- Pense em usar a perplexidade de cada sentença como medida de \"estranheza\" da sentença.\n",
    "- Talvez usar a primeira sentença de perplexidade \"baixa\"?"
   ]
  }
 ],
 "metadata": {
  "kernelspec": {
   "display_name": "Python 3",
   "language": "python",
   "name": "python3"
  },
  "language_info": {
   "codemirror_mode": {
    "name": "ipython",
    "version": 3
   },
   "file_extension": ".py",
   "mimetype": "text/x-python",
   "name": "python",
   "nbconvert_exporter": "python",
   "pygments_lexer": "ipython3",
   "version": "3.6.9"
  }
 },
 "nbformat": 4,
 "nbformat_minor": 4
}
