{
 "cells": [
  {
   "cell_type": "markdown",
   "metadata": {},
   "source": [
    "# Construindo uma enciclopedia"
   ]
  },
  {
   "cell_type": "markdown",
   "metadata": {},
   "source": [
    "Este projeto consiste na criação de uma enciclopédia utilizando conceitos de processamento de linguagem natural, neste são implementados etapas como extração de palavras de documentos do corpus reuters, extração de conteúdos da api do wikipedia referente a cada palavra, processamento desses conteúdos retirando caracteres e textos desnecessários, e treinamento de um modelo para selecionar as melhores descrições das palavras com análises de perplexidade."
   ]
  },
  {
   "cell_type": "markdown",
   "metadata": {},
   "source": [
    "## Importa dependências"
   ]
  },
  {
   "cell_type": "code",
   "execution_count": 19,
   "metadata": {},
   "outputs": [],
   "source": [
    "# importe de bibliotecas\n",
    "import re\n",
    "import nltk\n",
    "from nltk.corpus import reuters\n",
    "from nltk.lm.preprocessing import padded_everygram_pipeline\n",
    "from nltk.lm import MLE, Laplace\n",
    "\n",
    "import requests\n",
    "\n",
    "import json\n",
    "from joblib import Parallel, delayed\n",
    "\n",
    "import math\n",
    "from time import sleep"
   ]
  },
  {
   "cell_type": "code",
   "execution_count": 20,
   "metadata": {},
   "outputs": [],
   "source": [
    "# Download do nltk\n",
    "#nltk.download()"
   ]
  },
  {
   "cell_type": "markdown",
   "metadata": {},
   "source": [
    "## Importa o dataset de palavras a serem estudadas"
   ]
  },
  {
   "cell_type": "code",
   "execution_count": 21,
   "metadata": {},
   "outputs": [
    {
     "data": {
      "text/plain": [
       "['asian', 'exporters', 'fear', 'damage', 'from', 'u', '.', 's', '.-', 'japan']"
      ]
     },
     "execution_count": 21,
     "metadata": {},
     "output_type": "execute_result"
    }
   ],
   "source": [
    "# Cria a lista de palavras\n",
    "words = list(map(str.lower, reuters.words()))\n",
    "words[0:10]"
   ]
  },
  {
   "cell_type": "code",
   "execution_count": 22,
   "metadata": {},
   "outputs": [
    {
     "data": {
      "text/plain": [
       "['inc',\n",
       " 'heidrun',\n",
       " 'financially',\n",
       " 'eighth',\n",
       " 'dependent',\n",
       " 'ground',\n",
       " 'confined',\n",
       " 'surrounding',\n",
       " 'lifestyle',\n",
       " 'moves']"
      ]
     },
     "execution_count": 22,
     "metadata": {},
     "output_type": "execute_result"
    }
   ],
   "source": [
    "# filtra as palavras de acordo com os critérios definidos\n",
    "freq_reuters = nltk.FreqDist(words)\n",
    "filtered = list(set(word for word in words if (freq_reuters[word] > 5 and len(word) > 2 and re.fullmatch(r\"[a-z]*\", word))))\n",
    "\n",
    "filtered[0: 10]"
   ]
  },
  {
   "cell_type": "code",
   "execution_count": 23,
   "metadata": {},
   "outputs": [],
   "source": [
    "# ordena a lista e salva em um arquivo para evitar uma nova leitura\n",
    "filtered = sorted(filtered)\n",
    "\n",
    "with open(\"storage/good_words.txt\", \"w\") as dump:\n",
    "    for word in filtered:\n",
    "        dump.write(f\"{word}\\n\")"
   ]
  },
  {
   "cell_type": "markdown",
   "metadata": {},
   "source": [
    "## Faz os downloads das paginas da wikipédia para construir o dataset"
   ]
  },
  {
   "cell_type": "code",
   "execution_count": 24,
   "metadata": {},
   "outputs": [],
   "source": [
    "# Le o bloco de notas com as palavras\n",
    "with open(\"storage/good_words.txt\", \"r\") as load:\n",
    "    good_words = load.read().split(\"\\n\")"
   ]
  },
  {
   "cell_type": "code",
   "execution_count": 25,
   "metadata": {},
   "outputs": [],
   "source": [
    "# Define os parametros para a API\n",
    "BATCH_SIZE = 50\n",
    "URL = \"https://en.wikipedia.org/w/api.php\"\n",
    "PARAMS = {\n",
    "    \"action\": \"query\",\n",
    "    \"prop\": \"revisions\",\n",
    "    \"rvprop\": \"content\",\n",
    "    \"rvslots\": \"main\",\n",
    "    \"rvsection\": \"0\",\n",
    "    \"titles\": \"\",\n",
    "    \"format\": \"json\",\n",
    "}\n",
    "\n",
    "# Define uma função para dividir os batches\n",
    "def split_batches(words, batch_size=BATCH_SIZE):\n",
    "    k = 0\n",
    "    while k < len(words):\n",
    "        yield words[k:(k + batch_size)]\n",
    "        k += batch_size\n",
    "\n",
    "main_texts = {}\n",
    "error_log = []\n",
    "\n",
    "# Inicia a seção\n",
    "S = requests.Session()"
   ]
  },
  {
   "cell_type": "code",
   "execution_count": 26,
   "metadata": {},
   "outputs": [
    {
     "name": "stdout",
     "output_type": "stream",
     "text": [
      "9179 palavras boas para baixar\n",
      "\n",
      "Processando batch #00184\n",
      "\n",
      "Download concluido\n"
     ]
    }
   ],
   "source": [
    "print(f\"{len(good_words)} palavras boas para baixar\")\n",
    "print()\n",
    "\n",
    "# realiza o fetch para cada batch das palavras inicialmente boas\n",
    "for k, batch in enumerate(split_batches(good_words)):\n",
    "    try:\n",
    "        print(f'\\rProcessando batch #{k + 1:05}', end='')\n",
    "        PARAMS['titles'] = '|'.join(batch)\n",
    "        r = S.get(url=URL, params=PARAMS)\n",
    "        r_json = r.json()\n",
    "\n",
    "        # Reverse map of normalized titles.\n",
    "        title_map = {}\n",
    "        for item in r_json['query']['normalized']:\n",
    "            title_map[item['to']] = item['from']\n",
    "            \n",
    "        # Get texts.\n",
    "        texts = {}\n",
    "        for pageid, page_content in r_json['query']['pages'].items():\n",
    "            if int(pageid) < 0:\n",
    "                continue\n",
    "            text = page_content['revisions'][0]['slots']['main']['*']\n",
    "            if page_content['title'] in title_map:\n",
    "                w = title_map[page_content['title']]\n",
    "            else:\n",
    "                w = page_content['title']\n",
    "                \n",
    "            texts[w] = text\n",
    "\n",
    "        # Add to global dict.\n",
    "        main_texts.update(texts)\n",
    "\n",
    "    except Exception as e:\n",
    "        error_log.append((e, r))\n",
    "        \n",
    "print()\n",
    "print()\n",
    "print(\"Download concluido\")"
   ]
  },
  {
   "cell_type": "markdown",
   "metadata": {},
   "source": [
    "### Realiza a busca das palavras com redirecionamento"
   ]
  },
  {
   "cell_type": "code",
   "execution_count": 27,
   "metadata": {},
   "outputs": [],
   "source": [
    "# Fução para limpar as palavras encontradas no redirected\n",
    "def treat_redirected(text):\n",
    "    \n",
    "    text = text.split(\"[\")[-1].split(\"]\")[0].split(\" (\")[0]\n",
    "    text = text.strip(\" \")\n",
    "    \n",
    "    if (re.fullmatch(r\"[a-z_ ]*\", text.lower())):\n",
    "        return text\n",
    "    \n",
    "    return \"Remove Me\""
   ]
  },
  {
   "cell_type": "code",
   "execution_count": 28,
   "metadata": {},
   "outputs": [
    {
     "name": "stdout",
     "output_type": "stream",
     "text": [
      "2169 palavras redirecionadas para baixar\n",
      "\n",
      "Processando batch #00044\n",
      "\n",
      "Download concluido\n"
     ]
    }
   ],
   "source": [
    "# Procura nos textos recebidos palavras que não tiveram a pagina enontrada\n",
    "redirected_words = list(set(treat_redirected(main_texts[word]) for word in main_texts.keys() if \"#redirect\" in main_texts[word][:50].lower()))\n",
    "try:\n",
    "    redirect.remove(\"Remove Me\")\n",
    "except:\n",
    "    pass\n",
    "\n",
    "print(f\"{len(redirected_words)} palavras redirecionadas para baixar\")\n",
    "print()\n",
    "\n",
    "# realiza o fetch para cada batch das palavras redirecionadas\n",
    "for k, batch in enumerate(split_batches(redirected_words)):\n",
    "    try:\n",
    "        print(f'\\rProcessando batch #{k + 1:05}', end='')\n",
    "        PARAMS['titles'] = '|'.join(batch)\n",
    "        r = S.get(url=URL, params=PARAMS)\n",
    "        r_json = r.json()\n",
    "\n",
    "        # Reverse map of normalized titles.\n",
    "        title_map = {}\n",
    "        for item in r_json['query']['normalized']:\n",
    "            title_map[item['to']] = item['from']\n",
    "            \n",
    "        # Get texts.\n",
    "        texts = {}\n",
    "        for pageid, page_content in r_json['query']['pages'].items():\n",
    "            if int(pageid) < 0:\n",
    "                continue\n",
    "            text = page_content['revisions'][0]['slots']['main']['*']\n",
    "            if page_content['title'] in title_map:\n",
    "                w = title_map[page_content['title']]\n",
    "            else:\n",
    "                w = page_content['title']\n",
    "                \n",
    "            texts[w.lower()] = text\n",
    "\n",
    "        # Add to global dict.\n",
    "        main_texts.update(texts)\n",
    "\n",
    "    except Exception as e:\n",
    "        error_log.append((e, r))\n",
    "        \n",
    "print()\n",
    "print()\n",
    "print(\"Download concluido\")"
   ]
  },
  {
   "cell_type": "markdown",
   "metadata": {},
   "source": [
    "### Remocão de páginas sem Conteudo"
   ]
  },
  {
   "cell_type": "code",
   "execution_count": 29,
   "metadata": {},
   "outputs": [
    {
     "name": "stdout",
     "output_type": "stream",
     "text": [
      "2662 paginas redirecionadas para remover\n",
      "2616 paginas de desambiguação para remover\n",
      "30 paginas com erro\n"
     ]
    }
   ],
   "source": [
    "# Retira da lista palavras que foram redirecionadas\n",
    "words = main_texts.keys()\n",
    "not_good_data = list(set(word for word in words if \"#redirect\" in main_texts[word][:50].lower()))\n",
    "print(f\"{len(not_good_data)} paginas redirecionadas para remover\")\n",
    "for word in not_good_data:\n",
    "    main_texts.pop(word)\n",
    "    \n",
    "# Retira palavras que vão para as paginas de desambiguação\n",
    "words = main_texts.keys()\n",
    "not_good_data = list(set(word for word in words if \"may refer to:\" in main_texts[word]))\n",
    "print(f\"{len(not_good_data)} paginas de desambiguação para remover\")\n",
    "for word in not_good_data:\n",
    "    main_texts.pop(word)\n",
    "    \n",
    "# Retira palavras que vão para as paginas muito curtas\n",
    "words = main_texts.keys()\n",
    "not_good_data = list(set(word for word in words if \"{{Short pages monitor}}\" in main_texts[word]))\n",
    "not_good_data = list(set(not_good_data + [word for word in words if \"{{wiktionary redirect}}\" in main_texts[word]]))\n",
    "\n",
    "print(f\"{len(not_good_data)} paginas com erro\")\n",
    "for word in not_good_data:\n",
    "    main_texts.pop(word)"
   ]
  },
  {
   "cell_type": "code",
   "execution_count": 30,
   "metadata": {
    "scrolled": false
   },
   "outputs": [],
   "source": [
    "# Exporta os resultados para arquivos\n",
    "with open('storage/texts.json', 'w') as f:\n",
    "    json.dump(main_texts, f, indent=4)\n",
    "\n",
    "with open('storage/errors.txt', 'w') as f:\n",
    "    for e, r in error_log:\n",
    "        f.write(f'{e} ({type(e)})\\nConteudo:\\n{r.headers}\\n{\"*\"*100}\\n')"
   ]
  },
  {
   "cell_type": "markdown",
   "metadata": {},
   "source": [
    "## Realia a limpeza dos textos"
   ]
  },
  {
   "cell_type": "code",
   "execution_count": 31,
   "metadata": {},
   "outputs": [],
   "source": [
    "# Le o bloco de notas com as palavras\n",
    "with open(\"storage/texts.json\", \"r\") as load:\n",
    "    main_texts = json.load(load)"
   ]
  },
  {
   "cell_type": "markdown",
   "metadata": {},
   "source": [
    "### Demonstração da limpeza"
   ]
  },
  {
   "cell_type": "code",
   "execution_count": 32,
   "metadata": {},
   "outputs": [],
   "source": [
    "sample = \"hanover\""
   ]
  },
  {
   "cell_type": "code",
   "execution_count": 33,
   "metadata": {
    "scrolled": true
   },
   "outputs": [
    {
     "data": {
      "text/plain": [
       "'{{about|the German city|other uses|Hanover (disambiguation)}}\\n{{Redirect|Hannover}}\\n{{short description|City in Lower Saxony, Germany}}\\n{{Infobox German location\\n|name               = Hanover\\n|German_name        = Hannover\\n|type               = City\\n|image_photo        = {{Photomontage|position=center\\n| photo1a = Neues Rathaus Hannover abends.jpg\\n| photo2a = HanoverMarktkirche.JPG\\n| photo2b = TelemaxHannover.jpg\\n| photo3a = Kröpcke_Uhr_Hannover.jpg\\n| photo3b = Dschungelpalast.jpg\\n| photo4a = Inselgraben_Eilenriede.jpg\\n   | size = 280\\n   | spacing = 2\\n   | color = #FFFFFF\\n   | border = 0\\n   | foot_montage = {{nobreak|From top: [[New Town Hall (Hanover)|New Town Hall]] of Hanover}}<br/>[[Marktkirche, Hanover|Market Church]], [[Telemax]], Kröpcke-Clock, an [[Asian elephant]] at the [[Hanover Zoo]] and the [[Eilenriede]] forest\\n}}\\n|image_flag         = Flag of Hanover (city).png\\n|image_coa          = Coat of arms of Hannover.svg\\n|coordinates        = {{coord|52|22|N|9|43|E|format=dms|display=inline,title}}\\n|image_plan         = Hannover in H.svg\\n|state              = Lower Saxony\\n|district           = Hannover\\n|elevation          = 55\\n|area               = 204.01\\n|area_metro         = <!-- Metropolitan area, in km². XXX.XX (no commas or other text) -->\\n<!-- |population         = 518386  filled via Gemeindeschlüssel \\n|pop_date              = 31 December 2013\\n|pop_ref            = <ref>{{cite web |url=http://www.statistik.niedersachsen.de/portal/live.php?navigation_id=25688&article_id=87673&_psmand=40|title=Themenbereich: Bevölkerung - Tabellen |accessdate=2014-04-03 |language=German}}</ref>\\n-->\\n|pop_metro          = 1119032\\n|postal_code        = 30001 - 30669\\n|area_code          = 0511\\n|licence            = H\\n|Gemeindeschlüssel  = 03 2 41 001\\n|NUTS               = <!-- NUTS value: DEXXX  - WILL \\'\\'not\\'\\' BE DISPLAYED -->\\n|LOCODE             = DE HAJ\\n|divisions          = 13 districts\\n|website            = [https://www.hannover.de/ www.hannover.de]|\\n|mayor              = Belit Onay\\n|Bürgermeistertitel = Oberbürgermeister\\n|party              = Greens\\n|ruling_party1      = SPD\\n|ruling_party2      = Greens\\n<ref>{{Cite web|url=https://www.haz.de/Hannover/Aus-der-Stadt/Rathausaffaere-Oberbuergermeister-Stefan-Schostok-tritt-zurueck|title=Oberbürgermeister Stefan Schostok tritt zurück|website=HAZ – Hannoversche Allgemeine|language=de|access-date=2019-06-14}}</ref>\\n}}\\n\\n\\'\\'\\'Hanover\\'\\'\\' or \\'\\'\\'Hannover\\'\\'\\' ({{IPAc-en|ˈ|h|æ|n|oʊ|v|ər|,_|-|n|ə|v|-}}; {{lang-de|Hannover}} {{IPA-de|haˈnoːfɐ||De-Hannover.ogg}}; {{lang-nds|Hannober}}) is the capital and largest city of the German [[States of Germany|state]] of [[Lower Saxony]]. Its 535,061 (2017) inhabitants make it the [[List of cities in Germany by population|thirteenth-largest city]] in Germany as well as the third-largest city in [[Northern Germany]] after [[Hamburg]] and [[Bremen]]. The city lies at the [[confluence]] of the [[River Leine]] (progression: {{PAller}}) and its [[tributary]] [[Ihme]], in the south of the [[North German Plain]], and is the largest city in the [[Hannover–Braunschweig–Göttingen–Wolfsburg Metropolitan Region]]. It is the fifth-largest city in the [[Low German]] dialect area after Hamburg, [[Dortmund]], [[Essen]] and Bremen.\\n\\nBefore it became the capital of Lower Saxony in 1946 Hanover was the capital of the [[Principality of Calenberg]] (1636–1692), the [[Electorate of Hanover]] (1692–1814), the [[Kingdom of Hanover]] (1814–1866), the [[Province of Hanover]] of the [[Kingdom of Prussia]] (1868–1918), the [[Province of Hanover]] of the [[Free State of Prussia]] (1918–1946) and of the [[State of Hanover]] (1946). From 1714 to 1837 Hanover was by [[personal union]] the family seat of the [[House of Hanover|Hanoverian Kings of the United Kingdom of Great Britain and Ireland]], under their title of the dukes of [[Duchy of Brunswick-Lüneburg|Brunswick-Lüneburg]] (later described as the [[Electorate of Hanover|Elector of Hanover]]).\\n\\nThe city is a major crossing point of railway lines and motorways ([[Autobahn]]en), connecting European main lines in both the east-west ([[Berlin]]–[[Ruhr|Ruhr area]]/[[Düsseldorf]]/[[Cologne]]) and north-south ([[Hamburg]]–[[Frankfurt]]/[[Stuttgart]]/[[Munich]]) directions. [[Hannover Airport]] lies north of the city, in [[Langenhagen]], and is Germany\\'s ninth-busiest airport. The city\\'s most notable institutes of higher education are the [[Hannover Medical School]] with its [[university hospital]] (Klinikum der Medizinischen Hochschule Hannover) and the [[Leibniz University Hannover]].\\n\\nThe [[Hanover fairground]], owing to numerous extensions, especially for the [[Expo 2000]], is the largest in the world. Hanover hosts annual commercial [[World\\'s fair|trade fairs]] such as the [[Hanover Fair]] and up to 2018 the [[CeBIT]]. The IAA Commercial Vehicles show takes place every two years. It is the world\\'s leading trade show for transport, logistics and mobility. Every year Hanover hosts the [[Schützenfest Hannover]], the world\\'s largest marksmen\\'s festival, and the [[Oktoberfest celebrations#Hannover|Oktoberfest Hannover]].\\n\\n\\'Hanover\\' is the traditional English spelling. The German spelling (with a double n) is becoming more popular in English; recent editions of encyclopedias prefer the German spelling,<ref>[http://www.britannica.com/EBchecked/topic/254472/Hannover Encyclopædia Britannica] uses \\'Hannover\\'. It says \"\\'\\'English\\'\\' Hanover\" but uses \\'Hannover\\' in the text.</ref><ref>[http://www.britannica.com/EBchecked/topic/254472/Hannover Microsoft Encarta] gives the primary spelling as \\'Hannover\\'.</ref> and the local government uses the German spelling on English websites.<ref>{{cite web|author=|url=http://www.hannover.de/english/ |title=Official Website of the City and Region of Hannover |publisher=Hannover.de |date=2009-10-27 |accessdate=2011-04-07}}</ref> The English pronunciation, with [[Stress (linguistics)|stress]] on the first syllable, is applied to both the [[German language|German]] and [[English language|English]] spellings, which is different from German pronunciation, with stress on the second syllable and a long second vowel. The traditional English spelling is still used in historical contexts, especially when referring to the British [[House of Hanover]].'"
      ]
     },
     "execution_count": 33,
     "metadata": {},
     "output_type": "execute_result"
    }
   ],
   "source": [
    "# Define a variavel de teste\n",
    "clean = main_texts[sample]\n",
    "clean"
   ]
  },
  {
   "cell_type": "code",
   "execution_count": 34,
   "metadata": {
    "scrolled": true
   },
   "outputs": [
    {
     "data": {
      "text/plain": [
       "\"{{about|the German city|other uses|Hanover (disambiguation)}}\\n{{Redirect|Hannover}}\\n{{short description|City in Lower Saxony, Germany}}\\n{{Infobox German location\\n|name               = Hanover\\n|German_name        = Hannover\\n|type               = City\\n|image_photo        = {{Photomontage|position=center\\n| photo1a = Neues Rathaus Hannover abends.jpg\\n| photo2a = HanoverMarktkirche.JPG\\n| photo2b = TelemaxHannover.jpg\\n| photo3a = Kröpcke_Uhr_Hannover.jpg\\n| photo3b = Dschungelpalast.jpg\\n| photo4a = Inselgraben_Eilenriede.jpg\\n   | size = 280\\n   | spacing = 2\\n   | color = #FFFFFF\\n   | border = 0\\n   | foot_montage = {{nobreak|From top: [[New Town Hall (Hanover)|New Town Hall]] of Hanover}}<br/>[[Marktkirche, Hanover|Market Church]], [[Telemax]], Kröpcke-Clock, an [[Asian elephant]] at the [[Hanover Zoo]] and the [[Eilenriede]] forest\\n}}\\n|image_flag         = Flag of Hanover (city).png\\n|image_coa          = Coat of arms of Hannover.svg\\n|coordinates        = {{coord|52|22|N|9|43|E|format=dms|display=inline,title}}\\n|image_plan         = Hannover in H.svg\\n|state              = Lower Saxony\\n|district           = Hannover\\n|elevation          = 55\\n|area               = 204.01\\n|area_metro         = <!-- Metropolitan area, in km². XXX.XX (no commas or other text) -->\\n<!-- |population         = 518386  filled via Gemeindeschlüssel \\n|pop_date              = 31 December 2013\\n|pop_ref            = \\n-->\\n|pop_metro          = 1119032\\n|postal_code        = 30001 - 30669\\n|area_code          = 0511\\n|licence            = H\\n|Gemeindeschlüssel  = 03 2 41 001\\n|NUTS               = <!-- NUTS value: DEXXX  - WILL ''not'' BE DISPLAYED -->\\n|LOCODE             = DE HAJ\\n|divisions          = 13 districts\\n|website            = [https://www.hannover.de/ www.hannover.de]|\\n|mayor              = Belit Onay\\n|Bürgermeistertitel = Oberbürgermeister\\n|party              = Greens\\n|ruling_party1      = SPD\\n|ruling_party2      = Greens\\n\\n}}\\n\\n'''Hanover''' or '''Hannover''' ({{IPAc-en|ˈ|h|æ|n|oʊ|v|ər|,_|-|n|ə|v|-}}; {{lang-de|Hannover}} {{IPA-de|haˈnoːfɐ||De-Hannover.ogg}}; {{lang-nds|Hannober}}) is the capital and largest city of the German [[States of Germany|state]] of [[Lower Saxony]]. Its 535,061 (2017) inhabitants make it the [[List of cities in Germany by population|thirteenth-largest city]] in Germany as well as the third-largest city in [[Northern Germany]] after [[Hamburg]] and [[Bremen]]. The city lies at the [[confluence]] of the [[River Leine]] (progression: {{PAller}}) and its [[tributary]] [[Ihme]], in the south of the [[North German Plain]], and is the largest city in the [[Hannover–Braunschweig–Göttingen–Wolfsburg Metropolitan Region]]. It is the fifth-largest city in the [[Low German]] dialect area after Hamburg, [[Dortmund]], [[Essen]] and Bremen.\\n\\nBefore it became the capital of Lower Saxony in 1946 Hanover was the capital of the [[Principality of Calenberg]] (1636–1692), the [[Electorate of Hanover]] (1692–1814), the [[Kingdom of Hanover]] (1814–1866), the [[Province of Hanover]] of the [[Kingdom of Prussia]] (1868–1918), the [[Province of Hanover]] of the [[Free State of Prussia]] (1918–1946) and of the [[State of Hanover]] (1946). From 1714 to 1837 Hanover was by [[personal union]] the family seat of the [[House of Hanover|Hanoverian Kings of the United Kingdom of Great Britain and Ireland]], under their title of the dukes of [[Duchy of Brunswick-Lüneburg|Brunswick-Lüneburg]] (later described as the [[Electorate of Hanover|Elector of Hanover]]).\\n\\nThe city is a major crossing point of railway lines and motorways ([[Autobahn]]en), connecting European main lines in both the east-west ([[Berlin]]–[[Ruhr|Ruhr area]]/[[Düsseldorf]]/[[Cologne]]) and north-south ([[Hamburg]]–[[Frankfurt]]/[[Stuttgart]]/[[Munich]]) directions. [[Hannover Airport]] lies north of the city, in [[Langenhagen]], and is Germany's ninth-busiest airport. The city's most notable institutes of higher education are the [[Hannover Medical School]] with its [[university hospital]] (Klinikum der Medizinischen Hochschule Hannover) and the [[Leibniz University Hannover]].\\n\\nThe [[Hanover fairground]], owing to numerous extensions, especially for the [[Expo 2000]], is the largest in the world. Hanover hosts annual commercial [[World's fair|trade fairs]] such as the [[Hanover Fair]] and up to 2018 the [[CeBIT]]. The IAA Commercial Vehicles show takes place every two years. It is the world's leading trade show for transport, logistics and mobility. Every year Hanover hosts the [[Schützenfest Hannover]], the world's largest marksmen's festival, and the [[Oktoberfest celebrations#Hannover|Oktoberfest Hannover]].\\n\\n'Hanover' is the traditional English spelling. The German spelling (with a double n) is becoming more popular in English; recent editions of encyclopedias prefer the German spelling, and the local government uses the German spelling on English websites. The English pronunciation, with [[Stress (linguistics)|stress]] on the first syllable, is applied to both the [[German language|German]] and [[English language|English]] spellings, which is different from German pronunciation, with stress on the second syllable and a long second vowel. The traditional English spelling is still used in historical contexts, especially when referring to the British [[House of Hanover]].\""
      ]
     },
     "execution_count": 34,
     "metadata": {},
     "output_type": "execute_result"
    }
   ],
   "source": [
    "# Remove referencias do HTML\n",
    "clean = re.sub(r\"<ref.*?(/ref>|/>)\", \"\", clean, flags=re.DOTALL|re.MULTILINE)\n",
    "clean = re.sub(r\"<sup.*?(/sup>|/>)\", \"\", clean, flags=re.DOTALL|re.MULTILINE)\n",
    "clean"
   ]
  },
  {
   "cell_type": "code",
   "execution_count": 35,
   "metadata": {
    "scrolled": true
   },
   "outputs": [
    {
     "data": {
      "text/plain": [
       "\"\\n\\n\\n<br/>[[Marktkirche, Hanover|Market Church]], [[Telemax]], Kröpcke-Clock, an [[Asian elephant]] at the [[Hanover Zoo]] and the [[Eilenriede]] forest\\n}}\\n|image_flag         = Flag of Hanover (city).png\\n|image_coa          = Coat of arms of Hannover.svg\\n|coordinates        = \\n|image_plan         = Hannover in H.svg\\n|state              = Lower Saxony\\n|district           = Hannover\\n|elevation          = 55\\n|area               = 204.01\\n|area_metro         = <!-- Metropolitan area, in km². XXX.XX (no commas or other text) -->\\n<!-- |population         = 518386  filled via Gemeindeschlüssel \\n|pop_date              = 31 December 2013\\n|pop_ref            = \\n-->\\n|pop_metro          = 1119032\\n|postal_code        = 30001 - 30669\\n|area_code          = 0511\\n|licence            = H\\n|Gemeindeschlüssel  = 03 2 41 001\\n|NUTS               = <!-- NUTS value: DEXXX  - WILL ''not'' BE DISPLAYED -->\\n|LOCODE             = DE HAJ\\n|divisions          = 13 districts\\n|website            = [https://www.hannover.de/ www.hannover.de]|\\n|mayor              = Belit Onay\\n|Bürgermeistertitel = Oberbürgermeister\\n|party              = Greens\\n|ruling_party1      = SPD\\n|ruling_party2      = Greens\\n\\n}}\\n\\n'''Hanover''' or '''Hannover''' (;  ; ) is the capital and largest city of the German [[States of Germany|state]] of [[Lower Saxony]]. Its 535,061 (2017) inhabitants make it the [[List of cities in Germany by population|thirteenth-largest city]] in Germany as well as the third-largest city in [[Northern Germany]] after [[Hamburg]] and [[Bremen]]. The city lies at the [[confluence]] of the [[River Leine]] (progression: ) and its [[tributary]] [[Ihme]], in the south of the [[North German Plain]], and is the largest city in the [[Hannover–Braunschweig–Göttingen–Wolfsburg Metropolitan Region]]. It is the fifth-largest city in the [[Low German]] dialect area after Hamburg, [[Dortmund]], [[Essen]] and Bremen.\\n\\nBefore it became the capital of Lower Saxony in 1946 Hanover was the capital of the [[Principality of Calenberg]] (1636–1692), the [[Electorate of Hanover]] (1692–1814), the [[Kingdom of Hanover]] (1814–1866), the [[Province of Hanover]] of the [[Kingdom of Prussia]] (1868–1918), the [[Province of Hanover]] of the [[Free State of Prussia]] (1918–1946) and of the [[State of Hanover]] (1946). From 1714 to 1837 Hanover was by [[personal union]] the family seat of the [[House of Hanover|Hanoverian Kings of the United Kingdom of Great Britain and Ireland]], under their title of the dukes of [[Duchy of Brunswick-Lüneburg|Brunswick-Lüneburg]] (later described as the [[Electorate of Hanover|Elector of Hanover]]).\\n\\nThe city is a major crossing point of railway lines and motorways ([[Autobahn]]en), connecting European main lines in both the east-west ([[Berlin]]–[[Ruhr|Ruhr area]]/[[Düsseldorf]]/[[Cologne]]) and north-south ([[Hamburg]]–[[Frankfurt]]/[[Stuttgart]]/[[Munich]]) directions. [[Hannover Airport]] lies north of the city, in [[Langenhagen]], and is Germany's ninth-busiest airport. The city's most notable institutes of higher education are the [[Hannover Medical School]] with its [[university hospital]] (Klinikum der Medizinischen Hochschule Hannover) and the [[Leibniz University Hannover]].\\n\\nThe [[Hanover fairground]], owing to numerous extensions, especially for the [[Expo 2000]], is the largest in the world. Hanover hosts annual commercial [[World's fair|trade fairs]] such as the [[Hanover Fair]] and up to 2018 the [[CeBIT]]. The IAA Commercial Vehicles show takes place every two years. It is the world's leading trade show for transport, logistics and mobility. Every year Hanover hosts the [[Schützenfest Hannover]], the world's largest marksmen's festival, and the [[Oktoberfest celebrations#Hannover|Oktoberfest Hannover]].\\n\\n'Hanover' is the traditional English spelling. The German spelling (with a double n) is becoming more popular in English; recent editions of encyclopedias prefer the German spelling, and the local government uses the German spelling on English websites. The English pronunciation, with [[Stress (linguistics)|stress]] on the first syllable, is applied to both the [[German language|German]] and [[English language|English]] spellings, which is different from German pronunciation, with stress on the second syllable and a long second vowel. The traditional English spelling is still used in historical contexts, especially when referring to the British [[House of Hanover]].\""
      ]
     },
     "execution_count": 35,
     "metadata": {},
     "output_type": "execute_result"
    }
   ],
   "source": [
    "# Remove marcas de objetos desenhados na pagina (entre chaves)\n",
    "clean = re.sub(r\"\\{\\{(?:[^\\'\\'\\'])*?\\}\\}\", \"\", clean, flags=re.DOTALL|re.MULTILINE)\n",
    "clean"
   ]
  },
  {
   "cell_type": "code",
   "execution_count": 36,
   "metadata": {
    "scrolled": true
   },
   "outputs": [
    {
     "data": {
      "text/plain": [
       "\"Hanover or Hannover (;  ; ) is the capital and largest city of the German [[States of Germany|state]] of [[Lower Saxony]]. Its 535,061 (2017) inhabitants make it the [[List of cities in Germany by population|thirteenth-largest city]] in Germany as well as the third-largest city in [[Northern Germany]] after [[Hamburg]] and [[Bremen]]. The city lies at the [[confluence]] of the [[River Leine]] (progression: ) and its [[tributary]] [[Ihme]], in the south of the [[North German Plain]], and is the largest city in the [[Hannover–Braunschweig–Göttingen–Wolfsburg Metropolitan Region]]. It is the fifth-largest city in the [[Low German]] dialect area after Hamburg, [[Dortmund]], [[Essen]] and Bremen.\\n\\nBefore it became the capital of Lower Saxony in 1946 Hanover was the capital of the [[Principality of Calenberg]] (1636–1692), the [[Electorate of Hanover]] (1692–1814), the [[Kingdom of Hanover]] (1814–1866), the [[Province of Hanover]] of the [[Kingdom of Prussia]] (1868–1918), the [[Province of Hanover]] of the [[Free State of Prussia]] (1918–1946) and of the [[State of Hanover]] (1946). From 1714 to 1837 Hanover was by [[personal union]] the family seat of the [[House of Hanover|Hanoverian Kings of the United Kingdom of Great Britain and Ireland]], under their title of the dukes of [[Duchy of Brunswick-Lüneburg|Brunswick-Lüneburg]] (later described as the [[Electorate of Hanover|Elector of Hanover]]).\\n\\nThe city is a major crossing point of railway lines and motorways ([[Autobahn]]en), connecting European main lines in both the east-west ([[Berlin]]–[[Ruhr|Ruhr area]]/[[Düsseldorf]]/[[Cologne]]) and north-south ([[Hamburg]]–[[Frankfurt]]/[[Stuttgart]]/[[Munich]]) directions. [[Hannover Airport]] lies north of the city, in [[Langenhagen]], and is Germany's ninth-busiest airport. The city's most notable institutes of higher education are the [[Hannover Medical School]] with its [[university hospital]] (Klinikum der Medizinischen Hochschule Hannover) and the [[Leibniz University Hannover]].\\n\\nThe [[Hanover fairground]], owing to numerous extensions, especially for the [[Expo 2000]], is the largest in the world. Hanover hosts annual commercial [[World's fair|trade fairs]] such as the [[Hanover Fair]] and up to 2018 the [[CeBIT]]. The IAA Commercial Vehicles show takes place every two years. It is the world's leading trade show for transport, logistics and mobility. Every year Hanover hosts the [[Schützenfest Hannover]], the world's largest marksmen's festival, and the [[Oktoberfest celebrations#Hannover|Oktoberfest Hannover]].\\n\\n'Hanover' is the traditional English spelling. The German spelling (with a double n) is becoming more popular in English; recent editions of encyclopedias prefer the German spelling, and the local government uses the German spelling on English websites. The English pronunciation, with [[Stress (linguistics)|stress]] on the first syllable, is applied to both the [[German language|German]] and [[English language|English]] spellings, which is different from German pronunciation, with stress on the second syllable and a long second vowel. The traditional English spelling is still used in historical contexts, especially when referring to the British [[House of Hanover]].\""
      ]
     },
     "execution_count": 36,
     "metadata": {},
     "output_type": "execute_result"
    }
   ],
   "source": [
    "# Corta as legendas pré texto\n",
    "splited_clean = clean.split(\"'''\")[1:]\n",
    "\n",
    "if len(splited_clean) == 0:\n",
    "    pass\n",
    "else:\n",
    "    clean = \"\".join(splited_clean)\n",
    "\n",
    "clean"
   ]
  },
  {
   "cell_type": "code",
   "execution_count": 37,
   "metadata": {
    "scrolled": true
   },
   "outputs": [
    {
     "data": {
      "text/plain": [
       "\"Hanover or Hannover (;  ; ) is the capital and largest city of the German [[States of Germany|state]] of Lower Saxony. Its 535,061 (2017) inhabitants make it the [[List of cities in Germany by population|thirteenth-largest city]] in Germany as well as the third-largest city in Northern Germany after Hamburg and Bremen. The city lies at the confluence of the River Leine (progression: ) and its tributary Ihme, in the south of the North German Plain, and is the largest city in the Hannover–Braunschweig–Göttingen–Wolfsburg Metropolitan Region. It is the fifth-largest city in the Low German dialect area after Hamburg, Dortmund, Essen and Bremen.\\n\\nBefore it became the capital of Lower Saxony in 1946 Hanover was the capital of the Principality of Calenberg (1636–1692), the Electorate of Hanover (1692–1814), the Kingdom of Hanover (1814–1866), the Province of Hanover of the Kingdom of Prussia (1868–1918), the Province of Hanover of the Free State of Prussia (1918–1946) and of the State of Hanover (1946). From 1714 to 1837 Hanover was by personal union the family seat of the [[House of Hanover|Hanoverian Kings of the United Kingdom of Great Britain and Ireland]], under their title of the dukes of [[Duchy of Brunswick-Lüneburg|Brunswick-Lüneburg]] (later described as the [[Electorate of Hanover|Elector of Hanover]]).\\n\\nThe city is a major crossing point of railway lines and motorways (Autobahnen), connecting European main lines in both the east-west (Berlin–[[Ruhr|Ruhr area]]/Düsseldorf/Cologne) and north-south (Hamburg–Frankfurt/Stuttgart/Munich) directions. Hannover Airport lies north of the city, in Langenhagen, and is Germany's ninth-busiest airport. The city's most notable institutes of higher education are the Hannover Medical School with its university hospital (Klinikum der Medizinischen Hochschule Hannover) and the Leibniz University Hannover.\\n\\nThe Hanover fairground, owing to numerous extensions, especially for the Expo 2000, is the largest in the world. Hanover hosts annual commercial [[World's fair|trade fairs]] such as the Hanover Fair and up to 2018 the CeBIT. The IAA Commercial Vehicles show takes place every two years. It is the world's leading trade show for transport, logistics and mobility. Every year Hanover hosts the Schützenfest Hannover, the world's largest marksmen's festival, and the [[Oktoberfest celebrations#Hannover|Oktoberfest Hannover]].\\n\\n'Hanover' is the traditional English spelling. The German spelling (with a double n) is becoming more popular in English; recent editions of encyclopedias prefer the German spelling, and the local government uses the German spelling on English websites. The English pronunciation, with [[Stress (linguistics)|stress]] on the first syllable, is applied to both the [[German language|German]] and [[English language|English]] spellings, which is different from German pronunciation, with stress on the second syllable and a long second vowel. The traditional English spelling is still used in historical contexts, especially when referring to the British House of Hanover.\""
      ]
     },
     "execution_count": 37,
     "metadata": {},
     "output_type": "execute_result"
    }
   ],
   "source": [
    "# Subistitui palavras entre colxete pela própria palavra\n",
    "clean = re.sub(r\"\\[\\[((?:[^|])*?)\\]\\]\", r\"\\1\", clean, flags=re.DOTALL|re.MULTILINE)\n",
    "clean"
   ]
  },
  {
   "cell_type": "code",
   "execution_count": 38,
   "metadata": {
    "scrolled": true
   },
   "outputs": [
    {
     "data": {
      "text/plain": [
       "\"Hanover or Hannover (;  ; ) is the capital and largest city of the German |state of Lower Saxony. Its 535,061 (2017) inhabitants make it the |thirteenth-largest city in Germany as well as the third-largest city in Northern Germany after Hamburg and Bremen. The city lies at the confluence of the River Leine (progression: ) and its tributary Ihme, in the south of the North German Plain, and is the largest city in the Hannover–Braunschweig–Göttingen–Wolfsburg Metropolitan Region. It is the fifth-largest city in the Low German dialect area after Hamburg, Dortmund, Essen and Bremen.\\n\\nBefore it became the capital of Lower Saxony in 1946 Hanover was the capital of the Principality of Calenberg (1636–1692), the Electorate of Hanover (1692–1814), the Kingdom of Hanover (1814–1866), the Province of Hanover of the Kingdom of Prussia (1868–1918), the Province of Hanover of the Free State of Prussia (1918–1946) and of the State of Hanover (1946). From 1714 to 1837 Hanover was by personal union the family seat of the |Hanoverian Kings of the United Kingdom of Great Britain and Ireland, under their title of the dukes of |Brunswick-Lüneburg (later described as the |Elector of Hanover).\\n\\nThe city is a major crossing point of railway lines and motorways (Autobahnen), connecting European main lines in both the east-west (Berlin–|Ruhr area/Düsseldorf/Cologne) and north-south (Hamburg–Frankfurt/Stuttgart/Munich) directions. Hannover Airport lies north of the city, in Langenhagen, and is Germany's ninth-busiest airport. The city's most notable institutes of higher education are the Hannover Medical School with its university hospital (Klinikum der Medizinischen Hochschule Hannover) and the Leibniz University Hannover.\\n\\nThe Hanover fairground, owing to numerous extensions, especially for the Expo 2000, is the largest in the world. Hanover hosts annual commercial |trade fairs such as the Hanover Fair and up to 2018 the CeBIT. The IAA Commercial Vehicles show takes place every two years. It is the world's leading trade show for transport, logistics and mobility. Every year Hanover hosts the Schützenfest Hannover, the world's largest marksmen's festival, and the |Oktoberfest Hannover.\\n\\n'Hanover' is the traditional English spelling. The German spelling (with a double n) is becoming more popular in English; recent editions of encyclopedias prefer the German spelling, and the local government uses the German spelling on English websites. The English pronunciation, with |stress on the first syllable, is applied to both the |German and |English spellings, which is different from German pronunciation, with stress on the second syllable and a long second vowel. The traditional English spelling is still used in historical contexts, especially when referring to the British House of Hanover.\""
      ]
     },
     "execution_count": 38,
     "metadata": {},
     "output_type": "execute_result"
    }
   ],
   "source": [
    "# Subistitui palavras entre colxete com pipe pela palavra depois do pipe\n",
    "clean = re.sub(r\"\\[\\[(?:[^|]|)*(.*?)\\]\\]\", r\"\\1\", clean, flags=re.DOTALL|re.MULTILINE)\n",
    "clean"
   ]
  },
  {
   "cell_type": "code",
   "execution_count": 39,
   "metadata": {
    "scrolled": false
   },
   "outputs": [
    {
     "data": {
      "text/plain": [
       "'Hanover or Hannover  is the capital and largest city of the German state of Lower Saxony. Its 535,061 (2017) inhabitants make it the thirteenth-largest city in Germany as well as the third-largest city in Northern Germany after Hamburg and Bremen. The city lies at the confluence of the River Leine (progression: ) and its tributary Ihme, in the south of the North German Plain, and is the largest city in the Hannover–Braunschweig–Göttingen–Wolfsburg Metropolitan Region. It is the fifth-largest city in the Low German dialect area after Hamburg, Dortmund, Essen and Bremen.Before it became the capital of Lower Saxony in 1946 Hanover was the capital of the Principality of Calenberg (1636–1692), the Electorate of Hanover (1692–1814), the Kingdom of Hanover (1814–1866), the Province of Hanover of the Kingdom of Prussia (1868–1918), the Province of Hanover of the Free State of Prussia (1918–1946) and of the State of Hanover (1946). From 1714 to 1837 Hanover was by personal union the family seat of the Hanoverian Kings of the United Kingdom of Great Britain and Ireland, under their title of the dukes of Brunswick-Lüneburg (later described as the Elector of Hanover).The city is a major crossing point of railway lines and motorways (Autobahnen), connecting European main lines in both the east-west (Berlin–Ruhr area/Düsseldorf/Cologne) and north-south (Hamburg–Frankfurt/Stuttgart/Munich) directions. Hannover Airport lies north of the city, in Langenhagen, and is Germanys ninth-busiest airport. The citys most notable institutes of higher education are the Hannover Medical School with its university hospital (Klinikum der Medizinischen Hochschule Hannover) and the Leibniz University Hannover.The Hanover fairground, owing to numerous extensions, especially for the Expo 2000, is the largest in the world. Hanover hosts annual commercial trade fairs such as the Hanover Fair and up to 2018 the CeBIT. The IAA Commercial Vehicles show takes place every two years. It is the worlds leading trade show for transport, logistics and mobility. Every year Hanover hosts the Schützenfest Hannover, the worlds largest marksmens festival, and the Oktoberfest Hannover.Hanover is the traditional English spelling. The German spelling (with a double n) is becoming more popular in English; recent editions of encyclopedias prefer the German spelling, and the local government uses the German spelling on English websites. The English pronunciation, with stress on the first syllable, is applied to both the German and English spellings, which is different from German pronunciation, with stress on the second syllable and a long second vowel. The traditional English spelling is still used in historical contexts, especially when referring to the British House of Hanover.'"
      ]
     },
     "execution_count": 39,
     "metadata": {},
     "output_type": "execute_result"
    }
   ],
   "source": [
    "# limpa algumas outras variaveis irrelevantes\n",
    "clean = re.sub(r\"\\n|\\'\", r\"\", clean, flags=re.DOTALL|re.MULTILINE)\n",
    "clean = re.sub(r\"}}\", r\"\", clean, flags=re.DOTALL|re.MULTILINE)\n",
    "clean = re.sub(r\"\\|\", r\"\", clean, flags=re.DOTALL|re.MULTILINE)\n",
    "clean = re.sub(r\"\\(;|\\(,\", r\"(SPECIALCHAR\", clean, flags=re.DOTALL|re.MULTILINE)\n",
    "clean = re.sub(r\"\\(SPECIALCHAR.*?\\)\", \"\", clean, flags=re.DOTALL|re.MULTILINE)\n",
    "clean"
   ]
  },
  {
   "cell_type": "markdown",
   "metadata": {},
   "source": [
    "### Limpeza total"
   ]
  },
  {
   "cell_type": "code",
   "execution_count": 40,
   "metadata": {},
   "outputs": [],
   "source": [
    "def clean_string(clean, remove_special=True):\n",
    "    # Remove referencias do HTML\n",
    "    clean = re.sub(r\"<ref.*?(/ref>|/>)\", \"\", clean, flags=re.DOTALL|re.MULTILINE)\n",
    "    clean = re.sub(r\"<sup.*?(/sup>|/>)\", \"\", clean, flags=re.DOTALL|re.MULTILINE)\n",
    "\n",
    "    # Remove marcas de objetos desenhados na pagina (entre chaves)\n",
    "    clean = re.sub(r\"\\{\\{(?:[^\\'\\'\\'])*?\\}\\}\", \"\", clean, flags=re.DOTALL|re.MULTILINE)\n",
    "\n",
    "    # Corta as legendas pré texto\n",
    "    splited_clean = clean.split(\"'''\")[1:]\n",
    "\n",
    "    if len(splited_clean) == 0:\n",
    "        pass\n",
    "    else:\n",
    "        clean = \"\".join(splited_clean)\n",
    "\n",
    "    # Subistitui palavras entre colchete pela própria palavra\n",
    "    clean = re.sub(r\"\\[\\[((?:[^|])*?)\\]\\]\", r\"\\1\", clean, flags=re.DOTALL|re.MULTILINE)\n",
    "\n",
    "    # Subistitui palavras entre colxete com pipe pela palavra depois do pipe\n",
    "    clean = re.sub(r\"\\[\\[(?:[^|]|)*(.*?)\\]\\]\", r\"\\1\", clean, flags=re.DOTALL|re.MULTILINE)\n",
    "\n",
    "    # limpa algumas outras variaveis irrelevantes\n",
    "    clean = re.sub(r\"\\n|\\'\", r\"\", clean, flags=re.DOTALL|re.MULTILINE)\n",
    "    clean = re.sub(r\"}}\", r\"\", clean, flags=re.DOTALL|re.MULTILINE)\n",
    "    clean = re.sub(r\"\\|\", r\"\", clean, flags=re.DOTALL|re.MULTILINE)\n",
    "    clean = re.sub(r\"\\(;|\\(,\", r\"(SPECIALCHAR\", clean, flags=re.DOTALL|re.MULTILINE)\n",
    "    \n",
    "    if remove_special:\n",
    "        clean = re.sub(r\"\\(SPECIALCHAR.*?\\)\", \"\", clean, flags=re.DOTALL|re.MULTILINE)\n",
    "    \n",
    "    return clean"
   ]
  },
  {
   "cell_type": "code",
   "execution_count": 41,
   "metadata": {},
   "outputs": [],
   "source": [
    "for word in list(main_texts.keys()):\n",
    "    \n",
    "    new_text = clean_string(main_texts[word])\n",
    "    \n",
    "    if len(new_text) == 0:\n",
    "        main_texts.pop(word)\n",
    "    else:\n",
    "        main_texts[word] = new_text"
   ]
  },
  {
   "cell_type": "code",
   "execution_count": 42,
   "metadata": {},
   "outputs": [],
   "source": [
    "# Exporta os resultados para arquivos\n",
    "with open('storage/clean_texts.json', 'w') as f:\n",
    "    json.dump(main_texts, f, indent=4)"
   ]
  },
  {
   "cell_type": "markdown",
   "metadata": {},
   "source": [
    "## Divide o texto em sentenças usando o tokenizador Punkt"
   ]
  },
  {
   "cell_type": "code",
   "execution_count": 43,
   "metadata": {},
   "outputs": [],
   "source": [
    "# Le o bloco de notas com as palavras\n",
    "with open(\"storage/clean_texts.json\", \"r\") as load:\n",
    "    main_texts = json.load(load)"
   ]
  },
  {
   "cell_type": "code",
   "execution_count": 44,
   "metadata": {},
   "outputs": [],
   "source": [
    "sample = \"hanover\""
   ]
  },
  {
   "cell_type": "code",
   "execution_count": 45,
   "metadata": {},
   "outputs": [],
   "source": [
    "main_sents = {}\n",
    "sent_tokenizer=nltk.data.load('tokenizers/punkt/english.pickle')\n",
    "for key, value in main_texts.items():\n",
    "    main_sents[key] = sent_tokenizer.tokenize(value)"
   ]
  },
  {
   "cell_type": "code",
   "execution_count": 46,
   "metadata": {},
   "outputs": [
    {
     "data": {
      "text/plain": [
       "['Hanover or Hannover  is the capital and largest city of the German state of Lower Saxony.',\n",
       " 'Its 535,061 (2017) inhabitants make it the thirteenth-largest city in Germany as well as the third-largest city in Northern Germany after Hamburg and Bremen.',\n",
       " 'The city lies at the confluence of the River Leine (progression: ) and its tributary Ihme, in the south of the North German Plain, and is the largest city in the Hannover–Braunschweig–Göttingen–Wolfsburg Metropolitan Region.',\n",
       " 'It is the fifth-largest city in the Low German dialect area after Hamburg, Dortmund, Essen and Bremen.Before it became the capital of Lower Saxony in 1946 Hanover was the capital of the Principality of Calenberg (1636–1692), the Electorate of Hanover (1692–1814), the Kingdom of Hanover (1814–1866), the Province of Hanover of the Kingdom of Prussia (1868–1918), the Province of Hanover of the Free State of Prussia (1918–1946) and of the State of Hanover (1946).',\n",
       " 'From 1714 to 1837 Hanover was by personal union the family seat of the Hanoverian Kings of the United Kingdom of Great Britain and Ireland, under their title of the dukes of Brunswick-Lüneburg (later described as the Elector of Hanover).The city is a major crossing point of railway lines and motorways (Autobahnen), connecting European main lines in both the east-west (Berlin–Ruhr area/Düsseldorf/Cologne) and north-south (Hamburg–Frankfurt/Stuttgart/Munich) directions.',\n",
       " 'Hannover Airport lies north of the city, in Langenhagen, and is Germanys ninth-busiest airport.',\n",
       " 'The citys most notable institutes of higher education are the Hannover Medical School with its university hospital (Klinikum der Medizinischen Hochschule Hannover) and the Leibniz University Hannover.The Hanover fairground, owing to numerous extensions, especially for the Expo 2000, is the largest in the world.',\n",
       " 'Hanover hosts annual commercial trade fairs such as the Hanover Fair and up to 2018 the CeBIT.',\n",
       " 'The IAA Commercial Vehicles show takes place every two years.',\n",
       " 'It is the worlds leading trade show for transport, logistics and mobility.',\n",
       " 'Every year Hanover hosts the Schützenfest Hannover, the worlds largest marksmens festival, and the Oktoberfest Hannover.Hanover is the traditional English spelling.',\n",
       " 'The German spelling (with a double n) is becoming more popular in English; recent editions of encyclopedias prefer the German spelling, and the local government uses the German spelling on English websites.',\n",
       " 'The English pronunciation, with stress on the first syllable, is applied to both the German and English spellings, which is different from German pronunciation, with stress on the second syllable and a long second vowel.',\n",
       " 'The traditional English spelling is still used in historical contexts, especially when referring to the British House of Hanover.']"
      ]
     },
     "execution_count": 46,
     "metadata": {},
     "output_type": "execute_result"
    }
   ],
   "source": [
    "main_sents[sample]"
   ]
  },
  {
   "cell_type": "code",
   "execution_count": 47,
   "metadata": {},
   "outputs": [],
   "source": [
    "# Exporta os resultados para arquivos\n",
    "with open('storage/def_sents.json', 'w') as f:\n",
    "    json.dump(main_sents, f, indent=4)"
   ]
  },
  {
   "cell_type": "markdown",
   "metadata": {},
   "source": [
    "## Análise por Perplexidade"
   ]
  },
  {
   "cell_type": "markdown",
   "metadata": {},
   "source": [
    "A fim de selecionar a melhor setença que define cada palavra-chave, será utilizada a análise por perplexidade, método este que consiste em mensurar a \"estranheza\", através da perspectiva de um modelo treinado sob uma base grande de textos, de cada sentença."
   ]
  },
  {
   "cell_type": "code",
   "execution_count": 48,
   "metadata": {},
   "outputs": [],
   "source": [
    "# Le o bloco de notas com as palavras\n",
    "with open(\"storage/def_sents.json\", \"r\") as load:\n",
    "    main_sents = json.load(load)"
   ]
  },
  {
   "cell_type": "markdown",
   "metadata": {},
   "source": [
    "### Usando Corpus Reuters como base"
   ]
  },
  {
   "cell_type": "markdown",
   "metadata": {},
   "source": [
    "Nesta seção o corpus reuters é utilizado como base de treinamento para o modelo, com o pressuposto inicial de que ao utilizar um conjunto grande de textos, tem-se um modelo amplamente treinado sobre palavras muito utilizadas e pouco utilizadas para mensurar o grau de \"estranhesa\" de cada sentença."
   ]
  },
  {
   "cell_type": "code",
   "execution_count": 49,
   "metadata": {},
   "outputs": [],
   "source": [
    "# Prepraração dos dados\n",
    "reuters_sentences = reuters.sents()\n",
    "reuters_train, reuters_vocab = padded_everygram_pipeline(2, reuters_sentences)\n",
    "\n",
    "reuters_train = list(list(t) for t in reuters_train)\n",
    "reuters_vocab = list(reuters_vocab)\n",
    "\n",
    "#Treinamento do Modelo\n",
    "lm_reuters = Laplace(2)\n",
    "lm_reuters.fit(reuters_train, reuters_vocab)"
   ]
  },
  {
   "cell_type": "code",
   "execution_count": 50,
   "metadata": {},
   "outputs": [],
   "source": [
    "sample = \"hanover\""
   ]
  },
  {
   "cell_type": "code",
   "execution_count": 51,
   "metadata": {},
   "outputs": [
    {
     "name": "stdout",
     "output_type": "stream",
     "text": [
      "3430.347882606758\n",
      "8372.738449782717\n",
      "3529.6318222835257\n",
      "7686.65569545711\n",
      "10478.996008500379\n",
      "14306.610566047464\n",
      "13130.070098942655\n",
      "7638.787064473866\n",
      "11221.220325754444\n",
      "5488.853729160141\n",
      "19418.311305672054\n",
      "10551.84100606817\n",
      "4051.3891598621776\n",
      "5014.145133997854\n",
      "Tempo de Execução: 32.64062285423279 segundos\n"
     ]
    }
   ],
   "source": [
    "# Encontra as perplexidades da amostra\n",
    "text_sentences = [t.split() for t in main_sents[sample]]\n",
    "test, _ = padded_everygram_pipeline(2, text_sentences)\n",
    "test = list(list(t) for t in test)\n",
    "\n",
    "import time \n",
    "start_time = time.time()\n",
    "\n",
    "# Calcula a perplexidade das sentenças\n",
    "idx = 0 \n",
    "min_value = math.inf\n",
    "for i, s in enumerate(test):\n",
    "    px = lm_reuters.perplexity(s)\n",
    "    \n",
    "    if(min_value > px):\n",
    "        min_value = px\n",
    "        idx = i\n",
    "\n",
    "    print(px)\n",
    "print(f\"Tempo de Execução: {time.time() - start_time} segundos\")"
   ]
  },
  {
   "cell_type": "markdown",
   "metadata": {},
   "source": [
    "Como pode-se observar nos testes utilizando o corpus router como base, há um valor alto de tempo de execução para apenas uma palavra-chave, o que torna a execução do codigo para todo o conjunto de pavras da enciclopedia a ser implementada muito alto, aproximadamente de 1:30h para o conjunto atual, logo o teste completo com esta base, embora implementado, n foi executado neste notebook. "
   ]
  },
  {
   "cell_type": "code",
   "execution_count": 52,
   "metadata": {},
   "outputs": [],
   "source": [
    "def find_lowest_perplexity_reuter_parallel(main_sents, words, do_print=False):\n",
    "    \n",
    "    encyclopedia_reuters = {}\n",
    "    for i, word in enumerate(words):\n",
    "        idx, min_value = find_lowest_perplexity_reuters(main_sents, word)\n",
    "        encyclopedia_reuters[word] = main_sents[word][idx]\n",
    "        \n",
    "    return encyclopedia_reuters\n",
    "        \n",
    "def find_lowest_perplexity_reuters(main_sents, word, do_print=False):\n",
    "\n",
    "    # Prepraração dos dados\n",
    "    text_sentences = [t.split() for t in main_sents[word]]\n",
    "    test, _ = padded_everygram_pipeline(2, text_sentences)\n",
    "    test = list(list(t) for t in test)\n",
    "\n",
    "    # Calcula a perplexidade das sentenças\n",
    "    idx = 0 \n",
    "    min_value = math.inf\n",
    "    for i, s in enumerate(test):\n",
    "        px = lm_reuters.perplexity(s)\n",
    "\n",
    "        if(min_value > px):\n",
    "            min_value = px\n",
    "            idx = i\n",
    "\n",
    "        if do_print:\n",
    "            print(px)\n",
    "            \n",
    "    return idx, min_value "
   ]
  },
  {
   "cell_type": "markdown",
   "metadata": {},
   "source": [
    "#### Rodando em serie"
   ]
  },
  {
   "cell_type": "code",
   "execution_count": 67,
   "metadata": {
    "scrolled": true
   },
   "outputs": [],
   "source": [
    "# encyclopedia_reuters = {}\n",
    "# words = list(main_sents.keys())\n",
    "# total = len(words)\n",
    "# for i, word in enumerate(words):\n",
    "#     idx, min_value = find_lowest_perplexity_reuters(main_sents, word)\n",
    "#     encyclopedia_reuters[word] = main_sents[word][idx]\n",
    "    \n",
    "#     print(f\"\\r{i+1} out of {total}\", end='')"
   ]
  },
  {
   "cell_type": "markdown",
   "metadata": {},
   "source": [
    "#### Rodando em Paralelo"
   ]
  },
  {
   "cell_type": "code",
   "execution_count": null,
   "metadata": {},
   "outputs": [],
   "source": [
    "# n_jobs = 12\n",
    "# encyclopedia_reuters = {}\n",
    "# words = list(main_sents.keys())\n",
    "# part = round(len(words)/n_jobs)\n",
    "\n",
    "# words_batch = []\n",
    "# for i in range(n_jobs):\n",
    "#     if ((i+1)*part > len(words)):\n",
    "#         words_batch.append(words[i*part:])\n",
    "#     else:\n",
    "#         words_batch.append(words[i*part:(i+1)*part])"
   ]
  },
  {
   "cell_type": "code",
   "execution_count": null,
   "metadata": {},
   "outputs": [],
   "source": [
    "# encyclopedia_reuters = {}\n",
    "# results = Parallel(n_jobs=n_jobs, verbose=50)(delayed(find_lowest_perplexity_reuter_parallel)(main_sents, words) for words in words_batch)"
   ]
  },
  {
   "cell_type": "code",
   "execution_count": null,
   "metadata": {},
   "outputs": [],
   "source": [
    "# # Exporta os resultados para arquivos\n",
    "# with open('storage/encyclopedia_reuters.json', 'w') as f:\n",
    "#     json.dump(encyclopedia_reuters, f, indent=4)"
   ]
  },
  {
   "cell_type": "markdown",
   "metadata": {},
   "source": [
    "### Usando o próprio texto como base"
   ]
  },
  {
   "cell_type": "markdown",
   "metadata": {},
   "source": [
    "Nesta seção o próprio documento referente a palavra-chave é utilizado como base de treinamento para o modelo, com o pressuposto inicial de que a sentença que melhor define a palavra contem elementos com uso mais frequente em seu contexto específico."
   ]
  },
  {
   "cell_type": "code",
   "execution_count": 53,
   "metadata": {},
   "outputs": [],
   "source": [
    "sample = \"hanover\""
   ]
  },
  {
   "cell_type": "code",
   "execution_count": 54,
   "metadata": {},
   "outputs": [
    {
     "name": "stdout",
     "output_type": "stream",
     "text": [
      "79.7550009448657\n",
      "124.01750308067002\n",
      "93.11147167318235\n",
      "83.93973690163187\n",
      "121.94755697767927\n",
      "110.54408863750604\n",
      "128.84281222783548\n",
      "116.52755746298136\n",
      "150.0887349015754\n",
      "113.86013794070298\n",
      "106.94385975498913\n",
      "117.51953388139117\n",
      "114.44498585763819\n",
      "123.91459807786784\n"
     ]
    }
   ],
   "source": [
    "# Prepraração dos dados\n",
    "text_sentences = [t.split() for t in main_sents[sample]]\n",
    "train, vocab = padded_everygram_pipeline(2, text_sentences)\n",
    "\n",
    "train = list(list(t) for t in train)\n",
    "vocab = list(vocab)\n",
    "\n",
    "# Treinamento do Modelo\n",
    "lm = Laplace(2)\n",
    "lm.fit(train, vocab)\n",
    "\n",
    "# Calcula a perplexidade das sentenças\n",
    "idx = 0 \n",
    "min_value = math.inf\n",
    "for i, s in enumerate(train):\n",
    "    px = lm.perplexity(s)\n",
    "    \n",
    "    if(min_value > px):\n",
    "        min_value = px\n",
    "        idx = i\n",
    "\n",
    "    print(px)"
   ]
  },
  {
   "cell_type": "code",
   "execution_count": 55,
   "metadata": {},
   "outputs": [],
   "source": [
    "def find_lowest_perplexity_same_parallel(main_sents, words, do_print=False):\n",
    "    \n",
    "    encyclopedia_same = {}\n",
    "    for i, word in enumerate(words):\n",
    "        idx, min_value = find_lowest_perplexity_same(main_sents, word)\n",
    "        encyclopedia_same[word] = main_sents[word][idx]\n",
    "        \n",
    "    return encyclopedia_same\n",
    "\n",
    "def find_lowest_perplexity_same(main_sents, word, do_print=False):\n",
    "\n",
    "    # Prepraração dos dados\n",
    "    text_sentences = [t.split() for t in main_sents[word]]\n",
    "    train, vocab = padded_everygram_pipeline(2, text_sentences)\n",
    "\n",
    "    train = list(list(t) for t in train)\n",
    "    vocab = list(vocab)\n",
    "\n",
    "    # Treinamento do Modelo\n",
    "    lm = Laplace(2)\n",
    "    lm.fit(train, vocab)\n",
    "    \n",
    "    # Calcula a perplexidade das sentenças\n",
    "    idx = 0 \n",
    "    min_value = math.inf\n",
    "    for i, s in enumerate(train):\n",
    "        px = lm.perplexity(s)\n",
    "        \n",
    "        if(min_value > px):\n",
    "            min_value = px\n",
    "            idx = i\n",
    "        \n",
    "        if do_print:\n",
    "            print(px)\n",
    "            \n",
    "    return idx, min_value "
   ]
  },
  {
   "cell_type": "code",
   "execution_count": 56,
   "metadata": {
    "scrolled": true
   },
   "outputs": [
    {
     "name": "stdout",
     "output_type": "stream",
     "text": [
      "3299 out of 3299"
     ]
    }
   ],
   "source": [
    "encyclopedia_same = {}\n",
    "words = list(main_sents.keys())\n",
    "total = len(words)\n",
    "for i, word in enumerate(words):\n",
    "    idx, min_value = find_lowest_perplexity_same(main_sents, word)\n",
    "    encyclopedia_same[word] = main_sents[word][idx]\n",
    "    \n",
    "    print(f\"\\r{i+1} out of {total}\", end='')"
   ]
  },
  {
   "cell_type": "markdown",
   "metadata": {},
   "source": [
    "#### Rodando em paralelo"
   ]
  },
  {
   "cell_type": "code",
   "execution_count": 57,
   "metadata": {},
   "outputs": [],
   "source": [
    "n_jobs = 12\n",
    "encyclopedia_reuters = {}\n",
    "words = list(main_sents.keys())\n",
    "part = round(len(words)/n_jobs)\n",
    "\n",
    "words_batch = []\n",
    "for i in range(n_jobs):\n",
    "    if ((i+1)*part > len(words)):\n",
    "        words_batch.append(words[i*part:])\n",
    "    else:\n",
    "        words_batch.append(words[i*part:(i+1)*part])"
   ]
  },
  {
   "cell_type": "code",
   "execution_count": 58,
   "metadata": {},
   "outputs": [
    {
     "name": "stdout",
     "output_type": "stream",
     "text": [
      "[Parallel(n_jobs=12)]: Using backend LokyBackend with 12 concurrent workers.\n",
      "[Parallel(n_jobs=12)]: Done   1 tasks      | elapsed:  1.4min\n",
      "[Parallel(n_jobs=12)]: Done   2 out of  12 | elapsed:  1.4min remaining:  7.1min\n",
      "[Parallel(n_jobs=12)]: Done   3 out of  12 | elapsed:  1.5min remaining:  4.6min\n",
      "[Parallel(n_jobs=12)]: Done   4 out of  12 | elapsed:  1.6min remaining:  3.1min\n",
      "[Parallel(n_jobs=12)]: Done   5 out of  12 | elapsed:  1.6min remaining:  2.2min\n",
      "[Parallel(n_jobs=12)]: Done   6 out of  12 | elapsed:  1.7min remaining:  1.7min\n",
      "[Parallel(n_jobs=12)]: Done   7 out of  12 | elapsed:  1.8min remaining:  1.3min\n",
      "[Parallel(n_jobs=12)]: Done   8 out of  12 | elapsed:  1.9min remaining:   55.7s\n",
      "[Parallel(n_jobs=12)]: Done   9 out of  12 | elapsed:  1.9min remaining:   37.6s\n",
      "[Parallel(n_jobs=12)]: Done  10 out of  12 | elapsed:  2.2min remaining:   25.9s\n",
      "[Parallel(n_jobs=12)]: Done  12 out of  12 | elapsed:  2.2min remaining:    0.0s\n",
      "[Parallel(n_jobs=12)]: Done  12 out of  12 | elapsed:  2.2min finished\n"
     ]
    }
   ],
   "source": [
    "encyclopedia_same = {}\n",
    "results = Parallel(n_jobs=n_jobs, verbose=50)(delayed(find_lowest_perplexity_same_parallel)(main_sents, words) for words in words_batch)\n",
    "\n",
    "for result in results:\n",
    "    encyclopedia_same.update(result)"
   ]
  },
  {
   "cell_type": "code",
   "execution_count": 59,
   "metadata": {},
   "outputs": [],
   "source": [
    "# Exporta os resultados para arquivos\n",
    "with open('storage/encyclopedia_same.json', 'w') as f:\n",
    "    json.dump(encyclopedia_same, f, indent=4)"
   ]
  },
  {
   "cell_type": "markdown",
   "metadata": {},
   "source": [
    "## Explora as encyclopedias"
   ]
  },
  {
   "cell_type": "code",
   "execution_count": 61,
   "metadata": {},
   "outputs": [],
   "source": [
    "# Le o bloco de notas com os dados\n",
    "with open(\"storage/encyclopedia_same.json\", \"r\") as load:\n",
    "    encyclopedia_same = json.load(load)\n",
    "    \n",
    "#with open(\"storage/encyclopedia_reuters.json\", \"r\") as load:\n",
    "#    encyclopedia_reuters = json.load(load)"
   ]
  },
  {
   "cell_type": "code",
   "execution_count": 62,
   "metadata": {},
   "outputs": [],
   "source": [
    "#encyclopedia_reuters"
   ]
  },
  {
   "cell_type": "code",
   "execution_count": 63,
   "metadata": {},
   "outputs": [
    {
     "data": {
      "text/plain": [
       "{'abbett': 'Abbett is a surname.',\n",
       " 'abdul': 'Abdul (also transliterated as Abdal, Abdur, Abdelx, Abdil, Abdol, Abdool, or Abdoul; , {{translarDINʿAbd al-) is the most frequent transliteration of the combination of the Arabic word Abd  and the definite prefix al / el .It is the initial component of many compound names, names made of two words.',\n",
       " 'ablaze': 'The film uses stock footage from two other films.',\n",
       " 'acceleration': 'If the speed of the car decreases, this is an acceleration in the opposite direction of the velocity of the vehicle, sometimes called deceleration or Retrograde burning in spacecraft.',\n",
       " 'acceptance': 'Acceptance in human psychology is a persons assent to the reality of a situation, recognizing a process or condition (often a negative or uncomfortable situation) without attempting to change it or protest it.',\n",
       " 'accepted': 'The story takes place in Wickliffe and a fictitious college town called Harmon in Ohio.',\n",
       " 'accession': 'Accession refers to the general idea of joining or adding to.',\n",
       " 'accident': 'Most scientists who study unintentional injury avoid using the term \"accident\" and focus on factors that increase risk of severe injury and that reduce injury incidence and severity.',\n",
       " 'accordance': 'The program is used for both private and academic study.',\n",
       " 'accounting': 'Practitioners of accounting are known as accountants.',\n",
       " 'accrual': 'These types of accounts include, among others, accounts payable, accounts receivable, goodwill, deferred tax liability and future interest expense.',\n",
       " 'achieved': 'As a two-year-old he was undefeated in three starts including the Phoenix Stakes and the Champagne Stakes and was rated the best horse of his generation in Ireland.',\n",
       " 'acid': 'In modern terminology, an acid is implicitly a Brønsted acid and not a Lewis acid, since chemists almost always refer to a Lewis acid explicitly as a Lewis acid.',\n",
       " 'acquire': 'The object of the game is to earn the most money by developing and merging hotel chains.',\n",
       " 'acre': 'acre is a unit of land area used in the imperial and US customary systems.',\n",
       " 'acting': 'Acting also demands an ability to employ dialects, accents, improvisation, observation and emulation, mime, and stage combat.',\n",
       " 'actually': 'In 2012, Slant Magazine listed the album at number 88 on its list of \"Best Albums of the 1980s\".',\n",
       " 'addition': 'Repeated addition of  is the same as counting; addition of  does not change a number.',\n",
       " 'address': 'Some addresses also contain special codes, such as a postal code, to make identification easier and aid in the routing of mail.Addresses provide a means of physically locating a building.',\n",
       " 'adobe': 'Adobe is among the earliest building materials, and is used throughout the world.',\n",
       " 'adoption': 'Adoption is a process whereby a person assumes the parenting of another, usually a child, from that persons biological or legal parent or parents.',\n",
       " 'advantageous': 'Advantageous is a 2015 American drama film directed by Jennifer Phang and written by Jacqueline Kim and Jennifer Phang.',\n",
       " 'adverse': 'This word should not be confused with averse.',\n",
       " 'advertising': 'Sponsors of advertising are typically businesses wishing to promote their products or services.',\n",
       " 'advise': 'It is reportedly developing a massive data mining system, which would collect and analyze data on everyone in the United States and perform a \"threat analysis\" on them.',\n",
       " 'adviser': 'An advisers role is that of a mentor or guide and differs categorically from that of a task-specific consultant.',\n",
       " 'advocate': 'advocate is a professional  in the field of law.',\n",
       " 'aerospace': 'Aerospace is the human effort in science, engineering, and business to fly in the atmosphere of Earth (aeronautics) and surrounding space (astronautics).',\n",
       " 'aetna': 'The name of the company is based on Mount Etna, at the time the most active volcano in Europe.',\n",
       " 'affair': '{class=\"Infobox\" align=\"right\"-}',\n",
       " 'affandi': 'He married Maryati, a fellow artist.',\n",
       " 'africa': 'The continent is surrounded by the Mediterranean Sea to the north, the Isthmus of Suez and the Red Sea to the northeast, the Indian Ocean to the southeast and the Atlantic Ocean to the west.',\n",
       " 'afternoon': 'Afternoon is the time of day from noon or lunchtime until evening  or 5pm  In literal terms, it refers to a time specifically after noon.',\n",
       " 'afterwards': 'The film was shot in New York City, Montreal and various New Mexico locations over June to July 2007, and had a French release in January 2009.',\n",
       " 'aggression': 'Some definitions include that the individual must intend to harm another person.',\n",
       " 'agip': 'It has been a subsidiary of the multinational petroleum company Eni since 2003, when Eni acquired Agip Petroli S.p.A., creating the Refining and Marketing Division (R&M).',\n",
       " 'agriculture': 'The history of agriculture began thousands of years ago.',\n",
       " 'aid': 'Countries may provide aid for further diplomatic reasons.',\n",
       " 'airbus': 'The company produces and markets the first commercially viable digital fly-by-wire airliner, the Airbus A320, and the worlds largest passenger airliner, the A380.',\n",
       " 'aircraft': '--> It counters the force of gravity by using either static lift or by using the dynamic lift of an airfoil, or in a few cases the downward thrust from jet engines.',\n",
       " 'airline': 'Lufthansa Group was the largest by number of employees, FedEx Express by freight tonne-kilometres, Turkish Airlines by number of countries served and UPS Airlines by number of destinations served (though United Airlines was the largest passenger airline by number of destinations served).',\n",
       " 'airport': 'An airport for use by seaplanes and amphibious aircraft is called a seaplane base.',\n",
       " 'ajinomoto': 'The corporations head office is located in Chūō, Tokyo.',\n",
       " 'akbar': 'Akbar himself was a patron of art and culture.',\n",
       " 'alabama': 'The state tree is the longleaf pine, and the state flower is the camellia.',\n",
       " 'alaska': 'Alaska is the largest U.S. state by area and the seventh largest subnational division in the world.',\n",
       " 'alberta': 'Alberta is a province of Canada.',\n",
       " 'alcan': 'It was headquartered in Montreal, Quebec, in its Maison Alcan complex.',\n",
       " 'alcoa': 'Alcoa conducts operations in 10 countries.',\n",
       " 'alcohol': 'When a higher priority group is present in the compound, the prefix hydroxy- is used in its IUPAC name.',\n",
       " 'alejandro': 'Alejandro is the Spanish form of the name Alexander.It may also refer to:* Alejandro de Humboldt National Park (Parque Nacional Alejandro de Humboldt), a national park in Cuba* Alejandro Selkirk Island, an island in the Juan Fernández Islands off the coast of South America <!--please dont add any links-->* \"Alejandro\" (song), a song by Lady Gaga <!--please dont add any links and edit this.',\n",
       " 'alert': 'alert is to be in a state of alertness.Alert or ALERT  may also refer to:',\n",
       " 'alex': 'Alex (Aleck or Alec is the Scottish form) may be a diminutive of the male given name Alexander, or its female equivalent Alexandra or Alexandria, or a given name in its own right.',\n",
       " 'alexander': 'From the male name Alexander derive the names Alex and Xander.',\n",
       " 'alexandria': 'The city was a major center of early Christianity and was the center of the Patriarchate of Alexandria, which was one of the major centers of Christianity in the Eastern Roman Empire.',\n",
       " 'algeria': 'Algeria has one of the largest militaries in Africa and  the largest defence budget.',\n",
       " 'ali': 'While Sunnis consider Ali the fourth Rashidun Caliph, Shia Muslims regard Ali as the first Caliph and Imam after Muhammad.',\n",
       " 'alitalia': 'The company has its head office in Fiumicino, Rome, Italy.',\n",
       " 'alliance': 'Some, such as the Russian Empire, withdrew from the war before the armistice due to revolution or defeat.After the end of World War II and during the Cold War, the North Atlantic Treaty Organization (NATO) was formed as a political and military alliance that promotes democratic values.More recently, the term \"Allied forces\" has also been used to describe the coalition of the Gulf War, as opposed to forces the Multi-National Forces in Iraq which are commonly referred to as \"Coalition forces\" or, as by the George W. Bush administration, \"the coalition of the willing\".',\n",
       " 'alloy': 'alloy is a combination of metals or metals combined with one or more other elements.',\n",
       " 'almir': 'Almir de Souza Fraga (born 26 March 1969), known as Almir, is a Brazilian former footballer who played as a striker.He represented the Brazilian national side in five international games between 1990 and 1993.',\n",
       " 'almost': 'So a real number in (0, 1) is a member of the complement of the Cantor set almost everywhere, but it is not true that the complement of the Cantor set is almost the real numbers in (0, 1)—as both sets are uncountable in nature.',\n",
       " 'aloha': 'Mary Kawena Pukui wrote that the \"first expression\" of aloha was between a parent and child.',\n",
       " 'alpha': 'Alpha (uppercase {{ScriptGrekΑ, lowercase {{ScriptGrekα; , álpha, <small>modern pronunciation</small> álfa) is the first letter of the Greek alphabet.',\n",
       " 'alternatives': 'Alternatives also publishes the [http://www.alterinter.org/?lang=en Alternatives International Journal], a monthly publication in English distributed electronically.Alternatives Montreal is the headquarters of an International Federation consisting of nine NGOs spread across the world.',\n",
       " 'altron': 'It has developed or published games for the Nintendo 64, PlayStation, Sega Saturn, Super NES, Genesis, Nintendo Entertainment System, Nintendo DS, Game Boy, Game Boy Color, and Nintendo 3DS video game systems.',\n",
       " 'aluminium': 'The chief ore of aluminium is bauxite.',\n",
       " 'alusuisse': 'The organisation was named Schweizerische Aluminium AG from 1963, Alusuisse-Lonza Holding AG from 1990, and Algroup from 1998.From the 1900s became a significant employer in the Valais canton through its aluminum production activities; a byproduct of the aluminium production process: fluorine became the subject of a pollution scandal ( guerre du fluor) after its public reporting in the 1970s.',\n",
       " 'alza': 'Alza Corporation was a pharmaceutical and medical systems company.',\n",
       " 'amazon': 'Amazon usually refers to:* Amazons, a tribe of woman warriors in Greek mythology* Amazon rainforest, a rainforest covering most of the Amazon basin* Amazon River, in South America* Amazon (company), a multinational technology companyAmazon or Amazone may also refer to:',\n",
       " 'ambassador': 'The \"ambassadors\" of the Holy See are known as Papal or Apostolic Nuncios.',\n",
       " 'amcor': 'Amcor plc is a global packaging company.',\n",
       " 'amendment': 'It is based on the verb to amend, which means to change for better.',\n",
       " 'amends': 'Amends\" is episode ten of season three of the television show Buffy the Vampire Slayer.',\n",
       " 'americans': 'Americans are nationals and citizens of the United States of America.',\n",
       " 'amnesty': 'Thus, in the case of the earliest recorded amnesty, that of Thrasybulus at Athens, the thirty tyrants and a few others were expressly excluded from its operation; and the amnesty proclaimed on the restoration of Charles II of England did not extend to those who had taken part in the execution of his father.',\n",
       " 'amoco': 'By the mid-twentieth century it was ranked the largest oil company in the United States.',\n",
       " 'amortization': 'In accounting, amortization refers to charging or writing off an intangible assets cost as an operational expense over its estimated useful life to reduce a companys taxable income.',\n",
       " 'amphenol': 'This is the birthplace of the MIL-DTL-38999 cylindrical connector.',\n",
       " 'amsterdam': 'The city is also the cultural capital of the Netherlands.',\n",
       " 'amstutz': 'Notable people with the surname include:*Adrian Amstutz (born 1953), Swiss politician*Dan Amstutz (1932–2006), American lobbyist*Hobart Baumann Amstutz (1896–1980), American Methodist bishop*Reto Amstutz (born 1993), Swiss ice hockey player*Ron Amstutz (born 1952), American politician*Tom Amstutz (born 1955), American football coach',\n",
       " 'amt': 'Amt is a type of administrative division governing a group of municipalities, today only in Germany, but formerly also common in other countries of Northern Europe.',\n",
       " 'amusement': 'Amusement, from the old French à muser – to put into a stupid stare, is the state of experiencing humorous and entertaining events or situations while the person or animal actively maintains the experience, and is associated with enjoyment, happiness, laughter and pleasure.',\n",
       " 'anacomp': 'The name Anacomp is a combination of the words ANAlyze and COMPute.',\n",
       " 'analysis': 'It has also been ascribed to Isaac Newton, in the form of a practical method of physical discovery (which he did not name).',\n",
       " 'anchor': 'anchor is a device, normally made of metal, used to connect a vessel to the bed of a body of water to prevent the craft from drifting due to wind or current.',\n",
       " 'andersen': 'English Andrew).',\n",
       " 'andreas': 'male human being).',\n",
       " 'andrew': 'In the King James Bible, the Greek \"Ἀνδρέας\" is translated as Andrew.',\n",
       " 'andriessen': '1928), Dutch politician* Louis Andriessen (b.',\n",
       " 'anger': 'Some view anger as an emotion which triggers part of the fight or flight response.',\n",
       " 'angered': 'About half the population is unemployed.',\n",
       " 'anglo': 'Anglo is a prefix indicating a relation to the Angles, England, the English people or the English language, such as in the term Anglo-Saxon language.',\n",
       " 'anhui': 'The province is located across the basins of the Yangtze River and the Huai River, bordering Jiangsu to the east, Zhejiang to the southeast, Jiangxi to the south, Hubei to the southwest, Henan to the northwest, and Shandong for a short section in the north.With a population of 62 million, Anhui is the 8th most populous province in China.',\n",
       " 'animal': 'Non-human animals have appeared in art from the earliest times and are featured in mythology and religion.',\n",
       " 'ankara': 'The hill remains crowned by the ruins of the old citadel.',\n",
       " 'annesley': 'Nearby to the west is Annesley Woodhouse.',\n",
       " 'anniversary': 'One year later would be the first anniversary of that event.',\n",
       " 'answer': 'Answer commonly refers to answer (response), to a question.Answer may also refer to:',\n",
       " 'anticipating': '\"Anticipating\" is a disco and dance-pop song, influenced by R&B.',\n",
       " 'anticipation': 'Anticipation is an emotion involving pleasure, or anxiety in considering or awaiting an expected event.',\n",
       " 'antilles': 'Antilles  is an archipelago bordered by the Caribbean Sea to the south and west, the Gulf of Mexico to the northwest, and the Atlantic Ocean to the north and east.The Antillean islands are divided  into two smaller groupings: the Greater Antilles and the Lesser Antilles.',\n",
       " 'antonio': 'The Roman general Marcus Antonius held that the origin of the name was Anthon (Ανθών), son of Hercules.',\n",
       " 'antwerp': 'Antwerp  is a city in Belgium, and is the capital of Antwerp province in the Flemish Region.',\n",
       " 'apartheid': 'With the rapid growth and industrialisation of the British Cape Colony in the nineteenth century, racial policies and laws became increasingly rigid.',\n",
       " 'apollo': 'Delphic Apollo is the patron of seafarers, foreigners and the protector of fugitives and refugees.',\n",
       " 'apparently': 'The song was nominated for Best Rap Performance for the 2016 Grammys.',\n",
       " 'appeal': 'Appeals function both as a process for error correction as well as a process of clarifying and interpreting law.',\n",
       " 'appears': 'Alexey Eremenko, writing for AllMusic, selected the track as the best song from the album and her career.',\n",
       " 'apply': 'apply is a function that applies functions to arguments.',\n",
       " 'approaching': 'The majority of the disk is taken up by Nicholas Bentz’s work Approaching Eternity.',\n",
       " 'april': 'April is the fourth month of the year in the Gregorian calendar, the fifth in the early Julian, the first of four months to have a length of 30 days, and the second of five months to have a length of less than 31 days.April is commonly associated with the season of autumn in parts of the Southern Hemisphere, and spring in parts of the Northern Hemisphere, where it is the seasonal equivalent to October in the Southern Hemisphere and vice versa.',\n",
       " 'apt': 'Apt.',\n",
       " 'arable': 'Arable  relates to the growing of crops:* Arable farming or agronomy, the cultivation of field crops* Arable land, land upon which crops are cultivated* Arable crops program, a consolidated support system operated under the EU Common Agricultural Policy* Fivehead Arable Fields, a Site of Special Scientific Interest in Somerset, England',\n",
       " 'arango': 'Arango is one of fifteen parishes (administrative divisions) in Pravia, a municipality within the province and autonomous community of Asturias, in northern Spain.The population is 264 (INE 2007).',\n",
       " 'arbed': 'Created in 1911 after the merger of three steel producing companies, ARBED had a significant role in the economy of the Grand Duchy until it merged in 2002 with two other European steel companies to create Arcelor.',\n",
       " 'arbitrage': 'arbitrage  is the practice of taking advantage of a price difference between two or more markets: striking a combination of matching deals that capitalize upon the imbalance, the profit being the difference between the market prices at which the unit is traded.',\n",
       " 'arbitration': 'Arbitration, a form of alternative dispute resolution (ADR), is a way to resolve disputes outside the courts.',\n",
       " 'architect': 'architect is a person who plans, designs and reviews the construction of buildings.',\n",
       " 'arctic': 'Arctic land is bordered by the subarctic.',\n",
       " 'are': 'Are is the second-person singular and plural forms of the verb \"to be\", the copula of the English language.Are, ARE or Åre may also refer to:',\n",
       " 'area': 'It is the two-dimensional analog of the length of a curve (a one-dimensional concept) or the volume of a solid (a three-dimensional concept).The area of a shape can be measured by comparing the shape to squares of a fixed size.',\n",
       " 'aren': 'Aren is a commune in the Pyrénées-Atlantiques department in the Nouvelle-Aquitaine region of south-western France.The inhabitants of the commune are known as Arenais or Arenaises.',\n",
       " 'argentina': 'The Inca Empire expanded to the northwest of the country in Pre-Columbian times.',\n",
       " 'argument': 'Deductive arguments can be valid or sound: in a valid argument, premisses necessitate the conclusion, even if one or more of the premisses is false and the conclusion is false; in a sound argument, true premisses necessitate a true conclusion.',\n",
       " 'argyll': 'Earra-Ghàidheal native_name_lang       = ga settlement_type        = Historic county image_skyline          =  image_alt              =  image_caption          =  image_flag             =  flag_size              = 150px flag_link              = Flag of Argyll flag_alt               =  image_seal             =  seal_alt               =  image_shield           =  shield_alt             =  nickname               =  motto                  =  image_map              = Argyllshire Brit Isles Sect 2.svg map_alt                =  map_caption            =  pushpin_map            =  pushpin_map_alt        =  pushpin_map_caption    =  coor_pinpoint          =  coordinates            =  coordinates_footnotes  =  subdivision_type       = Country subdivision_name       = Scotland subdivision_type1      =  subdivision_name1      =  subdivision_type2      =  subdivision_name2      =  established_title      =  established_date       =  founder                =  seat_type              = County town seat                   = Inveraray government_footnotes   =  leader_party           =  leader_title           =  leader_name            =  unit_pref              = UK<!-- or US or Metric --> area_footnotes         =  area_total_sq_mi       = 3110 area_land_sq_mi        =  area_water_sq_mi       =  area_total_km2         =  area_land_km2          =  area_water_km2         =  area_water_percent     =  area_note              = Ranked 2nd of 34 elevation_footnotes    =  elevation_m            =  population_footnotes   =  population_total       =  population_as_of       =  population_density_km2 = auto population_demonym     =  population_note        =  timezone1              =  utc_offset1            =  timezone1_DST          =  utc_offset1_DST        =  postal_code_type       = Chapman code postal_code            = ARL area_code_type         =  area_code              =  iso_code               =  website                = <!--  --> footnotes              = thumbrightArgyll Argyll , sometimes called Argyllshire, is a historic county and registration county of western Scotland.Argyll is of ancient origin, and corresponds to most of the part of the ancient kingdom of  on Great Britain.',\n",
       " 'ariadne': 'Ariadne  was a Cretan princess in Greek mythology.',\n",
       " 'arisen': 'Arisen is a 2012 album by the band Lestat.',\n",
       " 'ariz': 'Ariz may refer to the following places:*Ariz (Marco de Canaveses), a parish in the municipality of Marco de Canaveses, Portugal*Ariz (Moimenta da Beira), a parish in the municipality of Moimenta da Beira, Portugal *Ariz, a parish in Basauri, Biscay, Basque Country* Ariz (Metro Bilbao), a metro station in Basauri, Biscay, Basque Country* Ariz, Lebanon, an area in Lebanon* Ariz, Clinica, Institucion privada para la salud en Mexico, San Jeronimo Aculco, Magdalena Contreras',\n",
       " 'arizona': 'Arizona  is a state in the southwestern region of the United States.',\n",
       " 'arkansas': 'The largest city in the states eastern part is Jonesboro.',\n",
       " 'arm': 'arm is the part of the upper limb between the glenohumeral joint (shoulder joint) and the elbow joint.In common usage, the arm extends to the hand.',\n",
       " 'armed': 'He was inducted into the National Museum of Racing and Hall of Fame in 1963.',\n",
       " 'army': 'To differentiate the colloquial army from the formal concept of military force, the term is qualified, for example in France the land force is called Armée de terre, meaning Land Army, and the air force is called Armée de lAir, meaning Air Army.',\n",
       " 'arrange': 'When he returned, he spat on the ground, creating the granite boulders from the central part of Karlu Karlu.',\n",
       " 'arrangement': 'Arranging is the art of giving an existing melody musical variety\".',\n",
       " 'arrears': 'For instance, rent is usually paid in advance, but mortgages in arrear (the interest for the period is due at the end of the period).',\n",
       " 'arrow': 'A craftsman who makes arrows is a fletcher, and one that makes arrowheads is an arrowsmith.',\n",
       " 'arsenal': 'arsenal is a place where arms and ammunition are made, maintained and repaired, stored, or issued, in any combination, whether privately or publicly owned.',\n",
       " 'art': 'Other activities related to the production of works of art include the criticism of art, the study of the history of art, and the aesthetic dissemination of art.The three classical branches of art are painting, sculpture and architecture.',\n",
       " 'arthur': 'Arthur is a very common masculine given name.',\n",
       " 'arturo': 'Arturo is a Spanish and Italian variant of the name Arthur.',\n",
       " 'asarco': 'Its mines produce  of copper a year.',\n",
       " 'asean': 'A major partner of Shanghai Cooperation Organisation, ASEAN maintains a global network of alliances and dialogue partners and is considered by many as a global powerhouse, the central union for cooperation in Asia-Pacific, and a prominent and influential organization.',\n",
       " 'asher': 'Asher , in the Book of Genesis, is the second son of Jacob and Zilpah, and the founder of the Tribe of Asher.',\n",
       " 'asia': 'It shares the continental landmass of Eurasia with the continent of Europe and the continental landmass of Afro-Eurasia with both Europe and Africa.',\n",
       " 'aside': 'aside is a dramatic device in which a character speaks to the audience.',\n",
       " 'ask': 'Ask is the active verb for a direct question.Ask may also refer to:',\n",
       " 'assay': 'The difference in the assay outcome is used to deduce the unknown quality or quantity of the target in question.',\n",
       " 'asset': 'asset is any resource owned by the business.',\n",
       " 'assumption': 'Assumption usually refers to the Assumption of Mary, a Christian tradition of the taking up of the Virgin Mary into heaven.',\n",
       " 'athens': 'Landmarks of the modern era, dating back to the establishment of Athens as the capital of the independent Greek state in 1834, include the Hellenic Parliament and the so-called \"architectural trilogy of Athens\", consisting of the National Library of Greece, the National and Kapodistrian University of Athens and the Academy of Athens.',\n",
       " 'atlanta': 'Atlanta () is the capital and most populous city in the U.S. state of Georgia.',\n",
       " 'atlantis': 'Platos vague indications of the time of the events—more than 9,000 years before his time—and the alleged location of Atlantis—\"beyond the Pillars of Hercules\"—has led to much pseudoscientific speculation.',\n",
       " 'atlas': 'atlas is a collection of maps; it is typically a bundle of maps of Earth or a region of Earth.Atlases have traditionally been bound into book form, but today many atlases are in multimedia formats.',\n",
       " 'atmosphere': 'The current composition of the Earths atmosphere is the product of billions of years of biochemical modification of the paleoatmosphere by living organisms.The term stellar atmosphere describes the outer region of a star and typically includes the portion above the opaque photosphere.',\n",
       " 'attached': 'The eighth episode of the seventh season.',\n",
       " 'attempt': 'Attempt to commit a particular crime is a crime, usually considered to be of the same or lesser gravity as the particular crime attempted.',\n",
       " 'attention': 'Focalization, concentration, of consciousness are of its essence.\"',\n",
       " 'auction': 'auction is usually a process of buying and selling goods or services by offering them up for bid, taking bids, and then selling the item to the highest bidder or buying the item from the lowest bidder.',\n",
       " 'audi': 'After relaunching the Audi brand with the 1965 introduction of the Audi F103 series, Volkswagen merged Auto Union with NSU Motorenwerke in 1969, thus creating the present day form of the company.The company name is based on the Latin translation of the surname of the founder, August Horch.',\n",
       " 'audio': 'It may also refer to:',\n",
       " 'audit': 'Moyer identified that the most important duty of the auditor was to detect fraud.',\n",
       " 'auditor': 'Generally, to act as an external auditor of the company, a person should have a certificate of practice from the regulatory authority.',\n",
       " 'august': 'In leap years, it begins on the same day of the week as June of the previous year and ends on the same day of the week as September of the previous year.',\n",
       " 'austerity': 'Cutbacks in government spending reduce employment in the public and may also do so in the private sector.',\n",
       " 'australasia': 'Australasia comprises Australia, New Zealand, and some neighbouring islands (see the section Derivation and definitions).',\n",
       " 'australia': 'It has a landmass of .',\n",
       " 'austria': 'It plays host to the OSCE and OPEC and is a founding member of the OECD and Interpol.',\n",
       " 'authority': 'The term authority identifies political legitimacy, which grants and justifies the right to exercise power of government; and the term power identifies the ability to accomplish an authorized goal, by way either of compliance or of obedience; hence, authority is the power to make decisions and the right to make such legal decisions and order their execution.',\n",
       " 'authorization': 'Authorization is the function of specifying access rights/privileges to resources, which is related to information security and computer security in general and to access control in particular.',\n",
       " 'automation': 'Automation is the technology by which a process or procedure is performed with minimal human assistance.',\n",
       " 'autumn': 'Persians celebrate the beginning of the autumn as Mehregan to honor Mithra (Mehr).',\n",
       " 'availability': 'a random, time.',\n",
       " 'avalon': 'It is traditionally identified as the former island of Glastonbury Tor.',\n",
       " 'average': 'Different concepts of average are used in different contexts.',\n",
       " 'avia': 'Avia Motors s.r.o.',\n",
       " 'aviation': 'Some of the most significant advancements in aviation technology came with the controlled gliding flying of Otto Lilienthal in 1896; then a large step in significance came with the construction of the first powered airplane by the Wright brothers in the early 1900s.',\n",
       " 'awaiting': 'The other short films were The Dream directed by Shu Kei, HK 2014 - Education for All directed by Christopher Doyle, and Boss I Love You directed by Zhang Yuan.',\n",
       " 'award': 'The award may also be or be accompanied by a title, certificate or diploma, as well as an object of direct value such as money or a scholarship.',\n",
       " 'aziz': 'The feminine form of both the adjective and the given name is Aziza.Aziz in Arabic is derived from the root ʕ-z-z with a meaning of \"strong, powerful\" and the adjective has acquired its meaning of \"dear, darling, precious\".',\n",
       " 'azzam': 'Azzam is a surname.',\n",
       " 'babcock': 'Notable people with the surname include: *Alpheus Babcock (1785–1842), American piano and musical  instrument maker*Audrey Babcock, American operatic mezzo-soprano*Barbara Babcock (born 1937), American actress*Betty Lee Babcock (1922–2013), American businesswoman and politician*Brad Babcock, American college baseball coach*Charlie Babcock, American actor*Chip Babcock (born c. 1950), American attorney*Christine Babcock, American runner*Courtney Babcock (born 1972), Canadian runner*Edward V. Babcock (1864–1948), former mayor of Pittsburgh, Pennsylvania*E. B. Babcock (Ernest Brown Babcock, 1877–1954), American plant geneticist*Elnora Monroe Babcock (1852–1934), American suffragist, press chair*Emma Whitcomb Babcock (1849-1926), American litterateur, author*Ezekiel Babcock (1828-1905), American farmer and politician*Laura Babcock (1988/1989-2012), Canadian murder victim who was murdered by Dellen Millard and Mark Smich*George Herman Babcock (1832–1893), American inventor*Harold D. Babcock (1882–1968), American astronomer*Havilah Babcock (1837-1905), American businessman*Horace W. Babcock (1912–2003), American astronomer*Ira Babcock (1808–1888), American pioneer and judge*John Babcock (1900–2010), last surviving Canadian World War I veteran*John C. Babcock (1836–1908), rowing pioneer and American Civil War spy*Joseph Park Babcock (1893–1949), American Mahjong promoter*Lorenzo A. Babcock, first attorney general of Minnesota Territory*Mabel Keyes Babcock, American landscape architect*Maud Babcock (1867–1954), American educator*Mike Babcock (born 1963), Canadian hockey head coach and former player*Orville E. Babcock (1835–1884), American Civil War general*Rob Babcock, (born c. 1953) former general manager of the Toronto Raptors NBA basketball team*Roscoe Lloyd Babcock, (1897–1981) California artist*Sam Babcock (1901–1970), American football player (Canton Bulldogs)*Stefan Babcock (born 1988), vocalist and guitarist for PUP*Stephen Moulton Babcock (1843–1931), American agricultural chemist*Tim M. Babcock (1919–2015), former governor of Montana*Warren Babcock (1866–1913), American politician and educator*Wendy Babcock (1979–2011), Canadian activist for the rights of sex workersFictional characters:*C. C. Babcock, from the sitcom The Nanny*Giles Babcock, character in Justin Cronins novel The Passage*Iris Babcock, Sergeant-Major from the Honorverse',\n",
       " 'bag': 'bag (also known regionally as a sack) is a common tool in the form of a non-rigid container.',\n",
       " 'baghdad': 'Baghdad  is the capital of Iraq and the second-largest city in the Arab world after Cairo.',\n",
       " 'bahia': 'Bahia .',\n",
       " 'bahrain': 'The capital and largest city is Manama.Bahrain is the site of the ancient Dilmun civilization.',\n",
       " 'baker': 'The place where a baker works is called a bakery.',\n",
       " 'baking': 'A person who prepares baked goods as a profession is called a baker.',\n",
       " 'balao': 'The most important rivers are: the Balao River, the Jagua River, and the Gala River.',\n",
       " 'baldrige': 'Son of H. Malcolm Baldrige, and eponym for the Malcolm Baldrige National Quality Award.',\n",
       " 'baldwin': 'Baldwin is a Germanic name, composed of the elements bald \"bold\" and win \"friend\".',\n",
       " 'bales': '1985), American basketball player* Barry Bales (b.',\n",
       " 'ball': 'It is used in ball games, where the play of the game follows the state of the ball as it is hit, kicked or thrown by players.',\n",
       " 'baltimore': 'Baltimore ( , locally: ) is the most populous city in the U.S. state of Maryland, as well as the 30th most populous city in the United States, with a population of 602,495 in 2018 and also the largest such independent city in the country.',\n",
       " 'bamberger': 'Bamberger is a German surname.',\n",
       " 'bangkok': 'The city is now a regional force in finance and business.',\n",
       " 'bangladesh': 'Bangladesh forms the larger and eastern part of the Bengal region.',\n",
       " 'bank': 'Due to their importance in the financial stability of a country, banks are highly regulated in most countries.',\n",
       " 'bankruptcy': 'In most jurisdictions, bankruptcy is imposed by a court order, often initiated by the debtor.Bankrupt is not the only legal status that an insolvent person may have, and the term bankruptcy is therefore not a synonym for insolvency.',\n",
       " 'banner': 'banner can be a flag or other piece of cloth bearing a symbol, logo, slogan or other message.',\n",
       " 'bar': 'bar (also known as a saloon or a tavern or sometimes as a pub or club, referring to the actual establishment, as in pub bar or club bar etc.)',\n",
       " 'barber': 'Barbershops are also places of social interaction and public discourse.',\n",
       " 'barclays': 'James Barclay became a partner in the business in 1736.',\n",
       " 'barco': 'Barco may also refer to:',\n",
       " 'bargaining': 'Bargaining or haggling is a type of negotiation in which the buyer and seller of a good or service debate the price and exact nature of a transaction.',\n",
       " 'barge': 'Compared to a towed barge, a pusher system has improved handling and is more efficient, as the pushing tug becomes \"part of the unit\" and it contributes to the momentum of the whole.',\n",
       " 'baring': 'Baring may refer to one of the following',\n",
       " 'barley': 'It is used in soups and stews, and in barley bread of various cultures.',\n",
       " 'barnett': 'Barnett is both a surname and a masculine given name.',\n",
       " 'baron': 'The female equivalent is baroness.',\n",
       " 'barrel': 'Wine was shipped in barrels of .',\n",
       " 'barreto': 'Barreto can refer to:*Barreto (surname)*Barretos, municipality in Brazil*Pereira Barreto, municipality in Brazil*Barreto, Niterói, neighborhood in BrazilCategory:Place name disambiguation pages',\n",
       " 'barrier': 'barrier or barricade is a physical structure which blocks or impedes something.Barrier may also refer to:',\n",
       " 'bars': 'Bars or bars can refer to:',\n",
       " 'barter': 'barter (derived from baretor) is a system of  exchange where participants in a  transaction directly exchange goods or services for other goods or services without using a medium of exchange, such as money.',\n",
       " 'basf': 'BASF SE is a German chemical company and the second largest chemical producer in the world.',\n",
       " 'basket': 'Baskets are generally woven by hand.',\n",
       " 'bastian': 'Notable people with the surname include:*Adolf Bastian, a 19th-century anthropologist*Ali Bastian, an English television actress*Amy Bastian, an American neuroscientist*Bob Bastian, an American farmer and politician*Bruce Bastian, an American computer programmer and businessman*Frank Bastian, an American medical doctor and neuropathologist studying Transmissible spongiform encephalopathies (TSEs)*Fritz Bastian, an American tennis player*Gert Bastian, (1923-1992), a German military officer and politician (Greens)*Henry Charlton Bastian (1837–1915), an English zoologist, physiologist and neurologist*Mary Bastian, a Tamil Human Rights activist*Michael Bastian, an American fashion designer*Noah Bastian, an actor*Wally Bastiansz, Sri Lankan baila musician*Bastian Schweinsteiger a German soccer player.',\n",
       " 'bat': 'Many bats are insectivores, and most of the rest are frugivores (fruit-eaters).',\n",
       " 'battle': 'A war usually consists of multiple battles.',\n",
       " 'bauxite': 'It is the worlds main source of aluminium.',\n",
       " 'bay': 'A fjord is a particularly steep bay shaped by glacial activity.A bay can be the estuary of a river, such as the Chesapeake Bay, an estuary of the Susquehanna River.',\n",
       " 'bayer': 'Bayer AG  is a German multinational pharmaceutical and life sciences company and one of the largest pharmaceutical companies in the world.',\n",
       " 'bayou': 'bayou () is a body of water typically found in a flat, low-lying area, and can either be an extremely slow-moving stream or river (often with a poorly defined shoreline), or a marshy lake or wetland.',\n",
       " 'bbc': 'It is the worlds oldest national broadcaster, and the largest broadcaster in the world by number of employees.',\n",
       " 'beach': 'The particles composing a beach are typically made from rock, such as sand, gravel, shingle, pebbles.',\n",
       " 'beall': 'Senator from Maryland*James T. Beall, Jr. (born 1952), American politician*Jeffrey Beall, American librarian*John Glenn Beall, Jr. (1927–2006), U.S.',\n",
       " 'bean': 'bean is the seed of one of several genera of the flowering plant family Fabaceae, which are used as vegetables for human or animal food.',\n",
       " 'bear': 'Bears are carnivoran mammals of the family Ursidae.',\n",
       " 'beauty': 'Beauty  is the ascription of a property or characteristic to an animal, idea, object, person or place that provides a perceptual experience of pleasure or satisfaction.',\n",
       " 'beaver': 'Castor includes two extant species, the North American beaver (Castor canadensis) (native to North America) and Eurasian beaver (Castor fiber) (Eurasia).',\n",
       " 'become': 'Become is the first studio album by Swedish progressive metal band Seventh Wonder.',\n",
       " 'bed': 'Some beds contain neither a padded mattress nor a bed frame, such as the hammock.',\n",
       " 'beecham': 'Notable people with the surname include:* Audrey Beecham (1915-1989), poet and niece of the conductor* Betty Humby Beecham (1908-1958), British pianist and wife of the conductor* Earl Beecham (born 1965), American football player* Emily Beecham (born 1984), English actress* Ernie Beecham (1906–1985), English footballer* Jeremy Beecham (born 1944), British Labour politician* Sir Joseph Beecham, 1st Baronet (1848–1916), eldest son of Thomas Beecham the chemist* Thomas Beecham (1879–1961), British conductor* Thomas Beecham (chemist) (1820–1907), British chemist, grandfather of the conductor* Sinclair Beecham, British entrepreneur',\n",
       " 'beef': 'The bones are used for making beef stock.',\n",
       " 'beer': 'Beer is one of the oldest and most widely consumed alcoholic drinks in the world.',\n",
       " 'begun': 'Begun is a city and a municipality in Chittaurgarh district  in the state of Rajasthan, India.',\n",
       " 'behalf': 'Behalf pays vendors directly, on behalf of the small business, for the purchase of goods or services.',\n",
       " 'being': 'Anything that exists is being.',\n",
       " 'beira': 'Beira  can refer to:*Beira (mythology), the mother to all the gods and goddesses in the Celtic mythology of Scotland*Beira, Azores, a small village on São Jorge Island*Beira (Portugal), the name of a region (and former province) in north-central Portugal; three provinces were later known by the name:**Beira Alta Province (extinct)**Beira Baixa Province (extinct)**Beira Litoral Province (extinct)*Beira, Mozambique, a port city in Mozambique*Beira Railroad Corporation, operating in Mozambique*Prince of Beira, a title within the Portuguese royal house*Beira (antelope) (scientific name Dorcatragus megalotis), a species of antelope*1474 Beira, an asteroid*Beira Lake, a lake in Colombo, Sri Lanka',\n",
       " 'belgium': 'It is divided into three highly autonomous regions: the Flemish Region in the north, Wallonia in the south, and the Brussels-Capital Region.',\n",
       " 'belgrade': 'In 1521, Belgrade was conquered by the Ottoman Empire and became the seat of the Sanjak of Smederevo.',\n",
       " 'belief': 'Simplified, pistis refers to \"trust\" and \"confidence.',\n",
       " 'believed': 'It was released through indie label Leisure Records.',\n",
       " 'bell': 'Some small bells such as ornamental bells or cow bells can be made from cast or pressed metal, glass or ceramic, but large bells such as church, clock and tower bells are normally cast from bell metal.Bells intended to be heard over a wide area can range from a single bell hung in a turret or bell-gable, to a musical ensemble such as an English ring of bells, a carillon or a Russian zvon which are tuned to a common scale and installed in a bell tower.',\n",
       " 'bellsouth': 'Its operations in Australia were under the name of BellSouth Australia Pty Limited.',\n",
       " 'ben': 'Abraham ben Abraham ().',\n",
       " 'bentsen': 'Bentsen is a surname.',\n",
       " 'berisford': 'Berisford is a surname.',\n",
       " 'berkey': 'Notable people with the surname include:*Craig Berkey (born 1962), Canadian sound engineer*Dennis D. Berkey, American academic administrator*Jackson Berkey (born 1942), American composer, pianist, and singer*James L. Berkey (1930–1982), American set decorator*Jean Berkey (1938–2013), American politician*John Berkey (1932–2008), American artist*Jonathan Berkey, American historian*Joshua H. Berkey (1852-1911), American Prohibitionist politician*Russell S. Berkey (1893–1985), United States Navy admiral',\n",
       " 'berlin': 'Berlin in the 1920s was the third largest municipality in the world.',\n",
       " 'berliner': 'Berliner is most often used to designate a citizen of Berlin, Germany, but may also refer to:* The Berliner (film), a 1948 German motion picture directed by Robert A. Stemmle* Berliner (doughnut), a pastry* Berliner (format), a paper size in newspapers* Berliner (surname)* Berliner (train), the CityNightLine line on the Zürich-Berlin Ostbahnhof route* Ich bin ein Berliner, a famous speech by John F. Kennedy* Berliner Gramophone, a record label* Berliner Aircraft Company, now Berliner-Joyce Aircraft* Berliner Lake, a lake in Minnesota* Berliner Zeitung, a newspaper* Berliner Motor Corporation, a defunct US motorcycle distributor of the 1950s through 1980s',\n",
       " 'bermuda': 'The capital city of Bermuda is Hamilton.',\n",
       " 'bernard': 'West Germanic Bernhard is composed from the two elements bern \"bear\" and hard \"brave, hardy\".',\n",
       " 'bernstein': 'The German pronunciation is , but in English it is often .',\n",
       " 'berry': 'Some berries are commercially important.',\n",
       " 'beryl': 'Beryl is also an ore source of beryllium.',\n",
       " 'bethlehem': 'It is the capital of the Bethlehem Governorate.',\n",
       " 'between': 'Between is a preposition.',\n",
       " 'bhp': 'The English-registered plc arm has a primary listing on the London Stock Exchange and is a constituent of the FTSE 100 Index.In 2015, some BHP Billiton assets were demerged and rebranded as South32, while a scaled-down BHP Billiton became BHP and, in 2018, BHP Billiton Limited and BHP Billiton Plc became BHP Group Limited and BHP Group Plc, respectively.',\n",
       " 'bidding': 'In the context of corporate or government procurement initiatives, the price offer a business or individual is willing to sell is also called a bid.',\n",
       " 'bilateral': 'Bilateral may refer to any concept including two sides, in particular:*Bilateria, bilateral animals*Bilateralism, the political and cultural relations between two states*Bilateral, occurring on both sides of an organism (Anatomical terms of location § Medial and lateral)*Bilateral symmetry, symmetry between two sides of an organism*Bilateral filter, an image processing algorithm*Bilateral amplifier, a type of amplifier*Bilateral (album), an album by the band Leprous*Bilateral school, see Partially selective school (England)',\n",
       " 'billboard': 'Billboards present large advertisements to passing pedestrians and drivers.',\n",
       " 'billet': 'billet is a living quarters to which a soldier is assigned to sleep.',\n",
       " 'billion': 'This is one thousand times larger than the short scale billion, and equivalent to the short scale trillion.',\n",
       " 'bilzerian': 'Notable people with the surname include:*Adam Bilzerian (born 1983), Saint Kitts and Nevis poker player and writer*Dan Bilzerian (born 1980), American venture capitalist and professional poker player*Paul Bilzerian (born 1950), American financier',\n",
       " 'biotechnology': '2).',\n",
       " 'bird': 'Likewise, the closest living relatives of birds are the crocodilians.',\n",
       " 'bismuth': 'Bismuth is a chemical element with the symbol&nbsp;Bi and atomic number 83.',\n",
       " 'bit': 'bit is a basic unit of information in information theory, computing, and digital communications.',\n",
       " 'black': 'Black is the darkest color, the result of the absence or complete absorption of visible light.',\n",
       " 'blair': 'The given name Blair is unisex and derived from the surname.',\n",
       " 'blame': 'When someone is morally responsible for doing something wrong, their action is blameworthy.',\n",
       " 'bleached': 'The band plays a style of rock, pop, rock and roll, and indie rock.',\n",
       " 'blood': 'Platelets are important in the clotting of blood.',\n",
       " 'blow': 'Blow commonly refers to:*Cocaine*Exhalation*Strike (attack)Blow, Blew, Blowing, or Blown may also refer to:',\n",
       " 'blue': 'In the Middle Ages, European artists used it in the windows of cathedrals.',\n",
       " 'boat': 'rowboats and paddle boats), wind  (e.g.',\n",
       " 'boeing': 'Boeing stock is included in the Dow Jones Industrial Average.',\n",
       " 'boliden': 'It lies 28,5 kilometers from Skellefteå City.This is where Boliden AB was founded in early 20th century after the findings in the mine that was called the Boliden mine.',\n",
       " 'bolivia': 'One-third of the country is within the Andean mountain range.',\n",
       " 'bolster': 'A bolster is also referred to as a cushion, a pillow and a prop.',\n",
       " 'bonn': 'From 1597 to 1794, Bonn was the capital of the Electorate of Cologne, and residence of the Archbishops and Prince-electors of Cologne.',\n",
       " 'bonus': 'Bonus commonly means:* Bonus, a Commonwealth term for a distribution of profits to a with-profits insurance policy* Bonus payment, an extra payment received as a reward for doing ones job well or as an incentiveBonus may also refer to:',\n",
       " 'book': 'An avid reader or collector of books is a bibliophile or colloquially, \"bookworm\".',\n",
       " 'boom': 'Boom may also refer to:',\n",
       " 'boot': 'Some uniforms include boots as the regulated footwear.',\n",
       " 'border': 'Other borders are partially or fully controlled, and may be crossed legally only at designated border checkpoints and border zones may be controlled.Borders may even foster the setting up of buffer zones.',\n",
       " 'borg': 'Borg are an alien group that appear as recurring antagonists in the Star Trek franchise.',\n",
       " 'borrow': '*In finance, monetary debt*In language, the use of loanwords*In arithmetic, when a digit becomes less than zero and the deficiency is taken from the next digit to the left*In music, the use of borrowed chords   *In construction, borrow pit*Borrow, Iran, a village in Fars Province',\n",
       " 'boston': 'Boston  is the capital and most populous city of the Commonwealth of Massachusetts in the United States, and the 21st most populous city in the United States.',\n",
       " 'botswana': 'Formerly one of the poorest countries in the world—with a GDP per capita of about US$70 per year in the late 1960s—Botswana has since transformed itself into one of the worlds fastest-growing economies.',\n",
       " 'bought': 'Adaptation & dialogue:<br>Charles Kenyon<br>Raymond Griffith based_on       = {{basedonJackdaws StrutHarriet Henry starring       = Constance Bennett<!--per billing--> music          =  cinematography = Ray June editing        = George Marks studio         = Warner Bros. distributor    = Warner Bros. released       = {{Film date19310822US runtime        = 92 minutes country        = United States language       = English budget         =$425,000  gross          =$777,000Bought  is a 1931 American Pre-Code drama film produced and released by Warner Bros. and directed by Archie Mayo.',\n",
       " 'boveri': 'Boveri is the surname of several people:* Giovanni Boveri (Boverius), (1568–1638), Italian jurist *Theodor Boveri (1862–1915), German biologist, brother of Walter Boveri*Marcella Boveri (1863–1950), US biologist, wife of Theodor Boveri*Walter Boveri (1865–1924), Swiss industrialist, co-founder of the company Brown, Boveri & Cie, brother of Theodor Boveri*Margret Boveri (1900–1975), German journalist and publicist, daughter of Marcella OGrady and Theodor Boveri',\n",
       " 'bowater': 'Bowater Inc. was a paper and pulp business headquartered in Greenville, South Carolina.',\n",
       " 'box': 'A corrugated box is a very common shipping container.',\n",
       " 'boycott': 'The purpose of a boycott is to inflict some economic loss on the target, or to indicate a moral outrage, to try to compel the target to alter an objectionable behavior.Sometimes, a boycott can be a form of consumer activism, sometimes called moral purchasing.',\n",
       " 'bra': 'Due to these challenges, women have a hard time finding a correctly fitting bra.',\n",
       " 'bradford': 'Bradford  is a city in West Yorkshire, England, in the foothills of the Pennines,  west of Leeds, and  north-west of Wakefield.',\n",
       " 'bradley': 'The family moved and spread to counties Londonderry, Donegal and Cork, and England.',\n",
       " 'bran': 'Bran is not the same as chaff, which is a coarser scaly material surrounding the grain but not forming part of the grain itself, and which is indigestable to humans.',\n",
       " 'branch': 'Large branches are known as boughs and small branches are known as twigs.',\n",
       " 'brand': 'A commodity brand is a brand associated with a commodity.',\n",
       " 'brass': 'It is also used extensively for musical instruments such as horns and bells.',\n",
       " 'braverman': 'Notable people with the surname include:*Alan N. Braverman, American media executive*Amy Braverman, American statistician*Arthur Braverman, American Japanese translator*Avishay Braverman, Israeli economist and politician and president of the Ben-Gurion University of the Negev*Bart Braverman, American actor*Charles Braverman, American filmmaker*Daniel Braverman (born 1993), American NFL football player*Elena Braverman, Russian, Israeli, and Canadian mathematician, mother of Mark*Eric R. Braverman (born 1957), American physician*Harry Braverman (1920–1976), American Marxist economist*Kate Braverman (born 1950), American novelist*Mark Braverman (born 1984), Israeli mathematician, son of Elena*Sara Braverman (1918–2013), Israeli military operative*Suella Braverman (1980), British Conservative member of Parliament',\n",
       " 'brazil': 'The federation is composed of the union of the 26 states, the Federal District, and the 5,570 municipalities.',\n",
       " 'breached': 'Breached is a Canadian rock band from Toronto, Ontario.',\n",
       " 'bread': 'Bread is a staple food prepared from a dough of flour and water, usually by baking.',\n",
       " 'breakup': 'The term is less likely to be applied to a married couple, where a breakup is typically called a separation or divorce.',\n",
       " 'bregman': '*Martin Bregman (1926–2018), American film producer and former personal manager*Myriam Bregman (born 1972), Argentine politician*Rutger Bregman (born 1988), Dutch historian*Solomon Bregman (1895–1953), prominent member of the Jewish Anti-Fascist Committee formed in the Soviet Union in 1942*Tracey E. Bregman (born 1963), German-American soap opera actress',\n",
       " 'brewery': 'brewery or brewing company is a business that makes and sells beer.',\n",
       " 'brewing': 'Brewing is the production of beer by steeping a starch source (commonly cereal grains, the most popular of which is barley) in water and fermenting the resulting sweet liquid with yeast.',\n",
       " 'brian': 'It is common in the English-speaking world.',\n",
       " 'bridge': 'Designs of bridges vary depending on the function of the bridge, the nature of the terrain where the bridge is constructed and anchored, the material used to make it, and the funds available to build it.Most likely the earliest bridges were fallen trees and stepping stones, while Neolithic people built boardwalk bridges across marshland.',\n",
       " 'brierley': 'The civil parish was abolished in 2016.',\n",
       " 'brisbane': 'Brisbane () is the capital of and the most populous city in the Australian state of Queensland, and the third most populous city in Australia.',\n",
       " 'bristol': 'The urban area population of 724,000 is the 8th-largest in the UK.',\n",
       " 'britain': 'Britain usually refers to the United Kingdom, a sovereign state comprising the island of Great Britain, the north-eastern part of the island of Ireland and many smaller islands.It can also refer to:*Great Britain, a large island in Western Europe*Roman Britain, a former Roman province corresponding roughly to modern day England and WalesBritain may also refer to:',\n",
       " 'britannia': 'In Modern Welsh the name remains Prydain.',\n",
       " 'britoil': 'It was once a constituent of the FTSE 100 Index.',\n",
       " 'broadcasting': 'As defined, \"transmitting\" and \"broadcasting\" are not the same.Transmission of radio and television programs from a radio or television station to home receivers by radio waves is referred to as \"over the air\" (OTA) or terrestrial broadcasting and in most countries requires a broadcasting license.',\n",
       " 'broker': 'A broker who also acts as a seller or as a buyer becomes a principal party to the deal.',\n",
       " 'brook': 'It may also refer to:',\n",
       " 'brooklyn': 'Brooklyn () is a borough of New York City, coterminous with Kings County, located in the U.S. state of New York, the most populous county in the state, and the second-most densely populated county in the United States.',\n",
       " 'bros': 'Early the following year, Logan quit the band and the Goss twins continued as a duo.',\n",
       " 'brown': 'In the CMYK color model used in printing or painting, brown is made by combining red, black, and yellow, or red, yellow, and blue.',\n",
       " 'bruce': 'Bruce arrived in Scotland with the Normans , from the place name Brix, Manche in Normandy, France, meaning \"the willowlands\".',\n",
       " 'brunswick': 'Brunswick is the historical English name for the German city of Braunschweig.Brunswick may also refer to:',\n",
       " 'brusca': 'Brusca is an Italian surname.',\n",
       " 'brussels': 'Brussels is also increasingly becoming multilingual.',\n",
       " 'bud': 'bud is an undeveloped or embryonic shoot and normally occurs in the axil of a leaf or at the tip of a stem.',\n",
       " 'budget': 'budget is a financial plan for a defined period, often one year.',\n",
       " 'building': 'A building as a shelter represents a physical division of the human habitat (a place of comfort and safety) and the outside (a place that at times may be harsh and harmful).Ever since the first cave paintings, buildings have also become objects or canvasses of much artistic expression.',\n",
       " 'buitoni': 'It was founded in 1827.',\n",
       " 'bulgaria': 'Bulgaria , officially the Republic of Bulgaria , is a country in Southeast Europe.',\n",
       " 'bulk': 'Bulk can refer to:',\n",
       " 'bull': 'More muscular and aggressive than the female of the species, the cow, the bull has long been an important symbol in many cultures, and plays a significant role in both beef ranching and dairy farming, and in a variety of other cultural activities.',\n",
       " 'bullion': 'The value of bullion is typically determined by the value of its precious metals content, which is defined by its purity and mass.',\n",
       " 'bur': 'bur (also spelled burr) is a seed or dry fruit or infructescence that has hooks or teeth.Some other forms of diaspores, such as the stems of certain species of cactus also are covered with thorns and may function as burs.Bur-bearing plants such as Xanthium species are often single-stemmed when growing in dense groups, but branch and spread when growing singly.',\n",
       " 'bus': 'Many types of buses, such as city transit buses and inter-city coaches, charge a fare.',\n",
       " 'bushel': 'or bu.)',\n",
       " 'business': 'A business structure does not allow for corporate tax rates.',\n",
       " 'butane': 'It was discovered by the chemist Edward Frankland in 1849.',\n",
       " 'butler': 'A butler is usually male, and in charge of male servants, while a housekeeper is usually a woman, and in charge of female servants.',\n",
       " 'butter': 'Butter is a dairy product made from the fat and protein components of milk or cream.',\n",
       " 'buttrose': 'Notable people with the surname include:*Ita Buttrose (born 1942), Australian journalist and businesswoman*Larry Buttrose (born 1952), Australian writer*Stroma Buttrose (born 1929), Australian architect',\n",
       " 'buy': 'The term may also refer to:',\n",
       " 'buyer': 'For example, a \"buyer\" is a person who purchases finished goods, typically for resale, for a firm, government, or organization; while a person who purchases material used to make goods is sometimes called a purchasing agent.',\n",
       " 'buyout': 'buyout is an investment transaction by which the ownership equity of a company, or a majority share of the stock of the company is acquired.',\n",
       " 'byrd': 'Byrd commonly refers to:* William Byrd, an English composer of the Renaissance* Richard E. Byrd (1888–1957), an American naval officer and explorerByrd or Byrds may also refer to:',\n",
       " 'cablevision': 'It was the fifth-largest cable provider and ninth-largest television provider in the United States.',\n",
       " 'cairo': 'Clockwise from top: <br> View of the Nile, Ibn Tulun Mosque, Muizz Street, Talaat Harb Square, Azhar Park, Baron Empain Palace, Cairo Citadel nickname                        = City of a Thousand Minarets image_flag                      = Flag of Cairo.svg flag_size                       = 125px image_blank_emblem              = Cairo Coat of Arms.svg blank_emblem_type               = Emblem blank_emblem_size               = 100px pushpin_map                     = Egypt#Africa pushpin_label_position          = left pushpin_relief                  = yes pushpin_mapsize                 =  pushpin_map_caption             = Location of Cairo within Egypt coordinates                     =  subdivision_type                = Country subdivision_name                =  subdivision_type1               = Governorate subdivision_name1               = Cairo established_title               = Founded established_date                = 969&nbsp;AD established_title1              = Founded by established_date1               = Fatimid dynasty leader_title                    = Governor leader_name                     = Atef Abd El Hamid area_magnitude                  =  area_total_km2                  = 606 area_footnotes                  =  area_land_km2                   =  area_water_km2                  =  area_urban_km2                  =  area_metro_km2                  = 17,267.6 elevation_m                     = 23 elevation_ft                    =  population_total                = 19,500,000 population_as_of                = October 2018 population_density_km2          = auto population_metro                = 20,439,541 population_blank1_title         = Demonym population_blank1               = Cairene population_note                 =  postal_code_type                =  postal_code                     =  area_code                       = (+20) 2 website                         = [http://www.cairo.gov.eg/ Cairo.gov.eg] thumb                           =  timezone                        = EST utc_offset                      = +02:00 timezone_DST                    =  utc_offset_DST                  =  footnotes                       = Cairo ( ; , ) is the capital of Egypt and is one of the top largest cities in the Middle East and Africa.Its metropolitan area, with a population of over 20 million, is the largest in Africa, the Arab world, and the Middle East, and the 15th-largest in the world.',\n",
       " 'cake': 'There are countless cake recipes; some are bread-like, some are rich and elaborate, and many are centuries old.',\n",
       " 'calculated': 'The album received positive reviews from critics.',\n",
       " 'calculation': 'The term is used in a variety of senses, from the very definite arithmetical calculation of using an algorithm, to the vague heuristics of calculating a strategy in a competition, or calculating the chance of a successful relationship between two people.For example, multiplying 7 by 6 is a simple algorithmic calculation.',\n",
       " 'caledonian': 'Caledonian is a geographical term used to refer to places, species, or items in or from Scotland, or particularly the Scottish Highlands.',\n",
       " 'calendar': 'A calendar is also a physical record (often paper) of such a system.',\n",
       " 'calgary': 'Calgary () is a city in the western Canadian province of Alberta.',\n",
       " 'california': 'The state capital is Sacramento.',\n",
       " 'callebaut': 'Callebaut is a Belgian chocolate brand, owned by the Barry Callebaut group.',\n",
       " 'caltex': 'Caltex is a petroleum brand name of Chevron Corporation used in 29 countries in the Asia-Pacific region, the Middle East, and Southern Africa.',\n",
       " 'cambridge': 'The buildings of the university include Kings College Chapel, Cavendish Laboratory, and the Cambridge University Library, one of the largest legal deposit libraries in the world.',\n",
       " 'came': 'came is a divider bar used between small pieces of glass to make a larger glazing panel.There are two kinds of came: the H-shaped sections that hold two pieces together and the U-shaped sections that are used for the borders.',\n",
       " 'camera': 'The functioning of the camera is very similar to the functioning of the human eye.',\n",
       " 'campeau': 'Notable people with the surname include:*Charles-Édouard Campeau (born 1916), politician*Frank Campeau (1864–1943), actor*Jean Campeau (born 1931), businessman and politician*Lucien Campeau (died 2010), cardiologist*Robert Campeau (born 1923), businessman*Rychard Campeau (born 1952), ice hockey player*Tod Campeau (1923–2009), ice hockey player*Jennifer Campeau (born 1973), politician',\n",
       " 'canada': 'Canada is a country in the northern part of North America.',\n",
       " 'canadians': '37,797,496  (Q3 2019)<br>Ethnic origins<br> region1 = United States pop1 = 1,062,640 ref1 =  region2 = Hong Kong pop2 = 300,000 ref2 =  region3 = United Kingdom pop3 = 73,000 ref3 =  pop4 = 60,000 region4 = France ref4 =  region5 = Lebanon pop5 = 45,000 ref5 =  region6 = United Arab Emirates pop6 = 40,000 ref6 =  region7 = Australia pop7 = 27,289 ref7 =  region8 = China pop8 = 19,990 ref8 =  pop9 = 15,750 region9 = Germany ref9 =  region10 = South Korea pop10 = 14,210 ref10 =  region11 = Japan pop11 = 11,016 ref11 =  region12 = Egypt pop12 = 10,000 ref12 =  region13 = Mexico pop13 = 9,816 ref13 =  region14 = New Zealand pop14 = 7,770 ref14 =  region15 = Philippines pop15 = 7,500 ref15 =  region16 = Haiti pop16 = 6,000 ref16 =  region17 = Switzerland pop17 = 5,243 ref17 =  pop18 = 5,140 region18 = Singapore ref18 =  region19 = Thailand pop19 = 5,000 ref19 =  region20 = Trinidad and Tobago pop20 = 5,000 ref20 =  region21 = Belgium pop21 = 4,145 ref21 =  langs = {{plainlistLanguages of Canada*56% English *22%  French*(11% English & French)*3.5% Chinese*1.6% Punjabi*1.5% Tagalog*1.4% Spanish*1.4% Arabic*1.2% German*1.2% Italian rels ={{plainlist Religions of Canada*67.2% Christianity*3.2% Islam*1.5% Hinduism*1.4% Sikhism*1.1% Buddhism*1.0% Judaism *0.6% Other*(23.9% No religion)Canadians () are people identified with the country of Canada.',\n",
       " 'canal': 'These reservoirs are referred to as slack water levels, often just called levels.A canal is also known as a navigation when it parallels a river and shares part of its waters and drainage basin, and leverages its resources by building dams and locks to increase and lengthen its stretches of slack water levels while staying in its valley.In contrast, a canal cuts across a drainage divide atop a ridge, generally requiring an external water source above the highest elevation.Many canals have been built at elevations towering over valleys and other water ways crossing far below.Canals with sources of water at a higher level can deliver water to a destination such as a city where water is needed.',\n",
       " 'canary': 'Canary originally referred to the island of Gran Canaria on the west coast of Africa, and the group of surrounding islands (the Canary Islands).',\n",
       " 'candidate': 'The act of being a candidate in a race for either a party nomination or for electoral office is called a \"candidacy\".',\n",
       " 'cannon': 'By the end of the 14th century cannon were widespread throughout Eurasia.',\n",
       " 'cap': 'cap is a form of headgear.',\n",
       " 'capacity': 'Capacity or capacities may refer to:',\n",
       " 'cape': 'cape is a sleeveless outer garment, which drapes the wearers back, arms, and chest, and connects  at the neck.',\n",
       " 'capita': 'It is the largest business process outsourcing and professional services company in the UK, with an overall market share of 29% in 2016, and has clients in central government, local government and the private sector.',\n",
       " 'capital': '* Capital city, the area of a country, province, region, or state, regarded as enjoying primary status, usually but not always the seat of the government.',\n",
       " 'capitol': 'capitol is a building in which a legislature meets, including:',\n",
       " 'car': 'Cars became widely available in the early 20th century.',\n",
       " 'caracas': 'The Museum of Contemporary Art of Caracas is one of the most important in South America.',\n",
       " 'carbide': 'carbide usually describes a compound composed of carbon and a metal.',\n",
       " 'carbon': 'Carbon is one of the few elements known since antiquity.Carbon is the 15th most abundant element in the Earths crust, and the fourth most abundant element in the universe by mass after hydrogen, helium, and oxygen.',\n",
       " 'cardis': 'Cardis may refer to*Cardis (name)*Kärde, a village in Estonia**Treaty of Cardis, which ended a Russo–Swedish War in 1661*Japanese thrush (Turdus cardis)',\n",
       " 'cargill': 'Founded in 1865, it is the largest privately held corporation in the United States in terms of revenue.',\n",
       " 'cargo': 'Cargo was originally a shipload.',\n",
       " 'caribbean': 'Caribbean   is a region of the Americas that consists of the Caribbean Sea, its islands (some surrounded by the Caribbean Sea and some bordering both the Caribbean Sea and the North Atlantic Ocean) and the surrounding coasts.',\n",
       " 'carnival': '<!---->',\n",
       " 'carpet': 'Carpet is commonly made in widths of  and  in the US and  and  in Europe.',\n",
       " 'cartel': 'Cartels are usually associations in the same sphere of business, and thus an alliance of rivals.',\n",
       " 'cash': 'Cash is seen either as a reserve for payments, in case of a structural or incidental negative cash flow or as a way to avoid a downturn on financial markets.',\n",
       " 'casino': 'casino is a facility for certain types of gambling.',\n",
       " 'casting': 'Casting is a manufacturing process in which a liquid material is usually poured into a mold, which contains a hollow cavity of the desired shape, and then allowed to solidify.',\n",
       " 'castle': 'These changes in defence have been attributed to a mixture of castle technology from the Crusades, such as concentric fortification, and inspiration from earlier defences, such as Roman forts.',\n",
       " 'caterpillar': 'Some feed on other animal products; for example, clothes moths feed on wool, and horn moths feed on the hooves and horns of dead ungulates.Caterpillars are typically voracious feeders and many of them are among the most serious of agricultural pests.',\n",
       " 'cathay': 'Originally, this name was the name applied by Central and Western Asians and Europeans to northern China; the name was also used in Marco Polos book on his travels in China (he referred to southern China as Mangi).',\n",
       " 'cathode': 'cathode is the electrode from which a conventional current leaves a polarized electrical device.',\n",
       " 'cattle': 'Cattle, or cows, are the most common type of large domesticated ungulates.',\n",
       " 'caught': 'A catch by the bowler is known as caught and bowled.',\n",
       " 'causes': 'It may also refer to:* Causes (band), an indie band based in the Netherlands* Causes (company), an online company',\n",
       " 'cawl': 'Cawl () is a Welsh dish.',\n",
       " 'cbs': 'In 2000 CBS came under the control of the first Viacom, which was formed as a spin-off of CBS in 1971.',\n",
       " 'ceiling': 'Coving often links the ceiling to the surrounding walls.',\n",
       " 'celanese': 'Its largest plant is in the Clear Lake area of Pasadena, Texas, United States the home to the worlds largest acetic acid plant.',\n",
       " 'celeron': 'Subsequent Celeron-branded CPUs were based on the Pentium III, Pentium 4, Pentium M, and Intel Core.',\n",
       " 'cement': 'Rather, it sets as it dries and reacts with carbon dioxide in the air.',\n",
       " 'census': 'census is the procedure of systematically acquiring and recording information about the members of a given population.',\n",
       " 'centel': 'Centel Corporation was an American telecommunications company, with primary interests in providing basic telephone service, cellular phone service and cable television service.',\n",
       " 'central': 'Central is an adjective usually referring to being in the center of some place or (mathematical) object.Central may also refer to:',\n",
       " 'centrale': 'Centrale can mean:-',\n",
       " 'centurion': 'Centurions were also found in the Roman navy.',\n",
       " 'century': 'century is a period of 100 years.',\n",
       " 'cereal': 'When processed by the removal of the bran, and germ, the remaining endosperm is mostly carbohydrate.',\n",
       " 'certification': 'Accreditation is a specific organizations process of certification.',\n",
       " 'certs': ')- bgcolor=\"#ccffff\"  Mass bgcolor=\"#ccffcc\"  1.7g (approx.',\n",
       " 'cetus': 'Cetus is in the region of the sky that contains other water-related constellations: Aquarius, Pisces and Eridanus.',\n",
       " 'chain': '* Those designed for transferring power in machines have links designed to mesh with the teeth of the sprockets of the machine, and are flexible in only one dimension.',\n",
       " 'champion': 'The champions',\n",
       " 'chancellor': '-->',\n",
       " 'channon': 'Channon both a given name and a surname.',\n",
       " 'charles': 'It is from the French form Charles of a Germanic name Karl.',\n",
       " 'chart': 'chart is a graphical representation of data, in which \"the data is represented by symbols, such as bars in a bar chart, lines in a line chart, or slices in a pie chart\".',\n",
       " 'charter': 'charter is  the grant of authority or rights, stating that the granter formally recognizes the prerogative of the recipient to exercise the rights specified.',\n",
       " 'chartered': 'Charter or Chartered might refer to different things:* Charter, a legal document conferring rights or privileges* Chartered (professional), a professional credential* Chartered Semiconductor Manufacturing, a manufacturing company',\n",
       " 'cheating': 'Cheating can refer specifically to infidelity.',\n",
       " 'checkoff': 'The same term is used to refer to a tax on sales of agricultural goods that finance a generic commodity marketing program; one example is the commodity checkoff programs mandated by the United States Department of Agriculture to promote sales of milk, beef, soybeans, or sorghum.',\n",
       " 'chernobyl': 'The plant is  north of the Chernobyl city.',\n",
       " 'cherry': 'cherry is the fruit of many plants of the genus Prunus, and is a fleshy drupe (stone fruit).Commercial cherries are obtained from cultivars of several species, such as the sweet Prunus avium and the sour Prunus cerasus.',\n",
       " 'cheung': 'Cheung is a Cantonese romanization of several Chinese surnames, including the one written as  in Traditional characters and  in Simplified characters (<small>Jyutping:</small> Zoeng1; <small>Pinyin:</small> Zhāng; <small>Wade–Giles:</small> Chang, Vietnamese: Trương), and the one written in both Traditional characters and Simplified characters as .',\n",
       " 'cheyenne': 'Allied with the Arapaho, the Cheyenne pushed the Kiowa to the Southern Plains.',\n",
       " 'chicago': 'Chicago , officially the City of Chicago, is the most populous city in the U.S. state of Illinois, and the third-most-populous city in the United States.',\n",
       " 'chicken': 'There are more chickens in the world than any other bird or domesticated fowl.',\n",
       " 'chile': 'It borders Peru to the north, Bolivia to the northeast, Argentina to the east, and the Drake Passage in the far south.',\n",
       " 'china': 'China is also the worlds largest exporter and second-largest importer of goods.',\n",
       " 'chinese': 'Chinese can refer to:* Something of, from, or related to China* Chinese people, people of Chinese nationality, citizenship, or ethnicity**Zhonghua minzu, the supra-ethnic Chinese nationality** Han Chinese, the dominant ethnic group in Mainland China, Hong Kong, Macau, and Taiwan** Ethnic minorities in China, non-Han Chinese people in China** Citizens of the Peoples Republic of China ** Overseas Chinese, people of Chinese ancestry outside territories of Mainland China, Hong Kong, Macau and Taiwan* Chinese language, a group of related language varieties spoken predominantly in China in different mutually intelligible and unintelligible varieties and forms, sharing the same written standard but with disparate regional written vernaculars** Standard Chinese, the standard form of Chinese in China, Taiwan and Singapore** Varieties of Chinese, the topolects grouped under Chinese** Written Chinese, the writing system used for Chinese* Chinese cuisine, styles of food originating from China** American Chinese cuisine',\n",
       " 'chips': 'Chips most commonly refers to:* Chips (hot food) or french fries, long chunks of potato that have been deep fried or baked* Potato chips, thin crispy slices of deep-fried or baked potatoesChips may also refer to:',\n",
       " 'chocolate': 'Much of the chocolate consumed today is in the form of sweet chocolate, a combination of cocoa solids, cocoa butter or added vegetable oils, and sugar.',\n",
       " 'choice': 'It can include judging the merits of multiple options and selecting one or more of them.',\n",
       " 'cholesterol': 'Cholesterol is biosynthesized by all animal cells and is an essential structural component of animal cell membranes.',\n",
       " 'chose': 'English law uses a chose to refer to a bundle of rights, traditionally relating to property which may be utilised in certain circumstances.',\n",
       " 'chris': 'Chris is also used as a name in its own right, however it is not as common.',\n",
       " 'christi': 'Notable people with the name include:* Christi Belcourt (born 1966), Métis painter, craftsperson, and writer*Christi Brereton* Christi Lake (born 1965), American pornographic actress* Christi Malthouse (born 1976), Australian television personality* Christi Paul (born 1969), American television journalist* Christi Shake (born 1980), American model and actress* Christi Thomas (born 1982), American basketball player',\n",
       " 'christian': 'Christian usually refers to:* Christians, people who follow or adhere to Christianity** Anything pertaining to ChristianityChristian or Christians may also refer to:',\n",
       " 'christians': 'Christians make up the majority of the population in 158 countries and territories.',\n",
       " 'christmas': 'This corresponds to the date of the winter solstice on the Roman calendar.',\n",
       " 'christopher': 'The name is most common in England and not so common in Wales, Scotland, or Ireland.',\n",
       " 'chrysler': 'In 1998, it was acquired by Daimler-Benz, and the holding company was renamed DaimlerChrysler.',\n",
       " 'cif': 'Cif is a French brand of household cleaning products owned by the British-Dutch company Unilever, known as Jif in Australia, New Zealand, Japan, Middle East and the Nordic countries.',\n",
       " 'cincinnati': 'Cincinnati is the birthplace of William Howard Taft, the 27th President of the United States.',\n",
       " 'cineplex': '* Loews Cineplex Entertainment, a former and oldest movie theatre chain operating in North America.',\n",
       " 'circle': 'The distance between any point of the circle and the centre is called the radius.',\n",
       " 'citadel': 'citadel is the core fortified area of a town or city.',\n",
       " 'citgo': 'Headquartered in the Energy Corridor area of Houston, it is majority-owned by PDVSA, a state-owned company of the Venezuelan government (although due to U.S. sanctions, in 2019, they no longer economically benefit from Citgo.)',\n",
       " 'citibank': 'Aside from the U.S. and Mexico, most of the companys branches are in Poland, Russia, India and the United Arab Emirates.As a result of the financial crisis of 2007–2008 and huge losses in the value of its subprime mortgage assets, Citigroup, the parent of Citibank, received a bailout in the form of an investment from the U.S. Treasury.',\n",
       " 'citrus': 'Citrus is a genus of flowering trees and shrubs in the rue family, Rutaceae.',\n",
       " 'city': 'Another example of relative age, is in the age of the oldest capital cities of the superpower and emerging superpower, they are the U.S. state capital of Santa Fe, New Mexico, and the Chinese prefecture capital of Xian, Shaanxi.',\n",
       " 'civilian': 'civilian is \"a person who is not a member of the police, the armed forces, or a fire department\".',\n",
       " 'claimed': 'Claimed\" is the eleventh episode of the fourth season of the post-apocalyptic horror television series The Walking Dead, which aired on AMC on February 23, 2014.',\n",
       " 'clark': 'Clark evolved from \"clerk\".',\n",
       " 'clause': 'In language, a clause is a part of the sentence that contains a verb.',\n",
       " 'cleaning': 'Cleaning occurs in many different contexts, and uses many different methods.',\n",
       " 'clearance': 'Clearance can refer to:* Authorization or permission from an authority** Air traffic control clearance in aviation** Security clearance, a status granted to individuals allowing them access to classified information* Cheque clearing, the process of transferring value on a cheque from one bank account to another* Engineering tolerance, a physical distance or space between two components* Ride height (vehicle clearance)* Hydraulic clearance, valve clearance* Clearance in civil engineering** Ground clearance, the amount of space between the base of an automobile tire and the underside of the chassis** The difference between the loading gauge and the structure gauge, the amount of space between the top of a rail car and the top of a tunnel or the bottom of a rail car and the top of rail** Air draft, applies to bridges across navigable waterways** Clearance car * Clearance (pharmacology), the rate at which a substance is removed or cleared from the body by the kidneys or in renal dialysis* Clearance rate, in criminal justice, the number of crimes \"cleared\" divided by the number reported* Closeout (sale), in retail, the final sale of items to zero inventory* Customs clearance, in international trade, the movement of goods through customs barriers* Deforestation, the deliberate clearance of woodland or forest for human development* In Australian rules football, the clearing of the ball out of a ball-up situation* A chess term for removal of pieces from a rank, file or diagonal so that a bishop, rook or queen is free to move along it* The Highland Clearances, eviction of tenants in the Scottish Highlands during the 18th and 19th centuries* Market clearing or equilibrium price, the price at which quantity supplied is equal to quantity demanded* Collective rights management, the licensing of copyright and related rights',\n",
       " 'clearly': 'They are one of the largest online contact lens retailers in North America, and the largest seller of prescription eyeglasses online in the world.',\n",
       " 'cleveland': 'Cleveland ( ) is a city in the U.S. state of Ohio, and the county seat of Cuyahoga County.',\n",
       " 'clevite': 'In 1952 Cleveland Graphite Bronz Company absorbed the Brush Development Company and Brush Labs in a merger.',\n",
       " 'climate': 'In a broader sense, climate is the state of the components of the climate system, which includes the ocean and ice on Earth.',\n",
       " 'clinton': 'Baron Clinton is a title of peerage in England, originally created in 1298.  Notable people with the name Clinton include:',\n",
       " 'clothing': 'The wearing of clothing is mostly restricted to human beings and is a feature of all human societies.',\n",
       " 'coal': 'Australia accounts for about a third of world coal exports followed by Indonesia and Russia.',\n",
       " 'coalition': 'The word coalition connotes a coming together to achieve a goal.',\n",
       " 'coast': 'coast, also known as the coastline or seashore, is the area where land meets the sea or ocean, or a line that forms the boundary between the land and the ocean or a lake.',\n",
       " 'coat': 'Coats typically have long sleeves and are open down the front, closing by means of buttons, zippers, hook-and-loop fasteners, toggles, a belt, or a combination of some of these.',\n",
       " 'coca': 'The native people use it as a stimulant.',\n",
       " 'coconut': 'The inner flesh of the mature seed, as well as the coconut milk extracted from it, forms a regular part of the diets of many people in the tropics and subtropics.',\n",
       " 'code': 'But speech limits the range of communication to the distance a voice can carry, and limits the audience to those present when the speech is uttered.',\n",
       " 'codelco': 'It owns the worlds largest known copper reserves and resources.',\n",
       " 'coffee': 'Green, unroasted coffee is one of the most traded agricultural commodities in the world.',\n",
       " 'coin': 'They are usually disc shaped.',\n",
       " 'cojuangco': 'Cojuangco  is the Hispanized Filipino-Chinese surname Kho (Hanzi: 許, pronounced  in Hokkien and Xu  in Mandarin).',\n",
       " 'cola': 'Among them, the most popular are Coca-Cola and Pepsi.',\n",
       " 'cold': 'This corresponds to  on the Celsius scale,  on the Fahrenheit scale, and  on the Rankine scale.Since temperature relates to the thermal energy held by an object or a sample of matter, which is the kinetic energy of the random motion of the particle constituents of matter, an object will have less thermal energy when it is colder and more when it is hotter.',\n",
       " 'collective': 'collective is a group of entities that share or are motivated by at least one common issue or interest, or work together to achieve a common objective.',\n",
       " 'colo': 'Colo has several meanings:*Colo (gorilla), the first gorilla born into captivity*An alternate name for the Alemow (Citrus × macrophylla)*A colloquial term for the French École Nationale de la France dOutre-Mer*Short for colocation centre*A surname of Italian origin*Colo (film)',\n",
       " 'colombia': 'Colombia is bounded on the north by the Caribbean Sea, the northwest by Panama, the south by both Ecuador and Peru, the east by Venezuela, the southeast by Brazil, and the west by the Pacific.',\n",
       " 'colombo': 'It is the financial centre of the island and a tourist destination.',\n",
       " 'colony': 'colony is a territory under the immediate complete political control and occupied by settlers of a state, distinct from the home territory of the sovereign.',\n",
       " 'colorado': 'Colorado  is a state of the Western United States encompassing most of the southern Rocky Mountains as well as the northeastern portion of the Colorado Plateau and the western edge of the Great Plains.',\n",
       " 'combat': 'A large-scale fight is known as a battle.',\n",
       " 'combination': 'The 5 cards of the hand are all distinct, and the order of cards in the hand does not matter.',\n",
       " 'combustion': 'Thermodynamically, the chemical equilibrium of combustion in air is overwhelmingly on the side of the products.',\n",
       " 'comdata': 'Comdata is a payment processor and issuer of fleet fuel cards, corporate spend cards, paperless payroll cards (\"paycards\"), virtual payments, and trucking permits.',\n",
       " 'comecon': 'Comecon was the Eastern Blocs reply to the formation in Western Europe of the Marshall Plan and the OEEC, which later became the OECD.',\n",
       " 'comes': 'Comes\" ( ), plural \"comites\" ( ), is the Latin word for \"companion\", either individually or as a member of a collective denominated a \"comitatus\", especially the suite of a magnate, being in some instances sufficiently large and/or formal to justify specific denomination, e. g. a \"cohors amicorum\".',\n",
       " 'commerce': 'Commerce is the exchange of goods and services, especially on a large scale.',\n",
       " 'commerzbank': 'In 2017, it handled 13 million customers in Germany and 5 million customers in Central and Eastern Europe.',\n",
       " 'commissioner': 'commissioner is, in principle, a member of a commission or an individual who has been given a commission (official charge or authority to do something).In practice, the title of commissioner has evolved to include a variety of senior officials, often sitting on a specific commission.',\n",
       " 'committee': 'committee or commission is a body of one or more persons that is subordinate to a deliberative assembly.',\n",
       " 'commodity': 'commodity is an economic good or service that has full or substantial fungibility: that is, the market treats instances of the good as equivalent or nearly so with no regard to who produced them.The price of a commodity good is typically determined as a function of its market as a whole: well-established physical commodities have actively traded spot and derivative markets.',\n",
       " 'commons': 'commons is the cultural and natural resources accessible to all members of a society, including natural materials such as air, water, and a habitable earth.',\n",
       " 'commonwealth': 'Originally a phrase (the common-wealth or the common wealth – echoed in the modern synonym \"public wealth\") it comes from the old meaning of \"wealth\", which is \"well-being\", and is itself a loose translation of the Latin res publica (republic).',\n",
       " 'communication': 'Communication (from Latin communicare, meaning \"to share\") is the act of conveying meanings from one entity or group to another through the use of mutually understood signs, symbols,  and semiotic rules.The main steps inherent to all communication are:# The formation of communicative motivation or reason.# Message composition (further internal or technical elaboration on what exactly to express).# Message encoding (for example, into digital data, written text, speech, pictures, gestures and so on).# Transmission of the encoded message as a sequence of signals using a specific channel or medium.# Noise sources such as natural forces and in some cases human activity (both intentional and accidental) begin influencing the quality of signals propagating from the sender to one or more receivers.# Reception of signals and reassembling of the encoded message from a sequence of received signals.# Decoding of the reassembled encoded message.# Interpretation and making sense of the presumed original message.The scientific study of communication can be divided into:* Information theory which studies the quantification, storage, and communication of information in general;* Communication studies which concerns human communication;* Biosemiotics which examines communication in and between living organisms in general.The channel of communication can be visual, auditory, tactile/haptic (e.g.',\n",
       " 'community': 'Communities may share a sense of place situated in a given geographical area (e.g.',\n",
       " 'company': 'When a company closes, it may need a \"death certificate\" to avoid further legal obligations.',\n",
       " 'compaq': 'Pfeiffer served through the 1990s.',\n",
       " 'comparative': 'The interaction of the various mechanisms complicates the analysis.',\n",
       " 'comparison': 'Comparison is widely used in society, in science and in the arts.',\n",
       " 'competition': 'They investigate the natural urge of competition and its circumstances.',\n",
       " 'complaint': 'In the United States, the complaint is often associated with misdemeanor criminal charges presented by the prosecutor without the grand jury process.',\n",
       " 'complement': 'Thus it may be:* Complement (linguistics), a word or phrase having a particular syntactic role** Subject complement, a word or phrase adding to a clauses subject after a linking verb* Phonetic complement* Complementary, a type of opposite in lexical semantics (sometimes called an antonym)* Complement (music), an interval that when added to another spans an octave* Aggregate complementation (music), the separation of pitch-class collections into complementary sets* Complementary color, in painting and optics* Complement good (economics), a good often consumed together with another good * Ships complement, the number of persons in a ships company, including both commissioned officers and crew',\n",
       " 'complex': 'Complex commonly refers to:* Complexity, the behaviour of a system whose components interact in multiple ways so possible interactions are difficult to describe** Complex system, a system composed of many components which may interact with each other* Complex (psychology), a core pattern of emotions etc in the personal unconscious organized around a common theme such as power or status* Complex (magazine), an American media platform for youth culture Complex may also refer to:',\n",
       " 'compliance': 'Compliance can mean:',\n",
       " 'compounding': 'compounding (done in compounding pharmacies) is the creation of a particular pharmaceutical product to fit the unique need of a patient.',\n",
       " 'compromise': 'In the negative connotation, compromise may be referred to as capitulation, referring to a \"surrender\" of objectives, principles, or material, in the process of negotiating an agreement.',\n",
       " 'computer': 'The first semiconductor transistors in the late 1940s were followed by the silicon-based MOSFET (MOS transistor) and monolithic integrated circuit (IC) chip technologies in the late 1950s, leading to the microprocessor and the microcomputer revolution in the 1970s.',\n",
       " 'computerland': 'After this time the rapid commoditization of the PC led to the companys downfall, with most of the retail locations closing by 1990.',\n",
       " 'concentrate': 'Typically, this will be the removal of water from a solution or suspension, such as the removal of water from fruit juice.',\n",
       " 'concentrated': '\"Concentrated\" is Fear Zeros second studio release.',\n",
       " 'concentration': 'Several types of mathematical description can be distinguished: mass concentration, molar concentration, number concentration, and volume concentration.',\n",
       " 'concept': 'Concepts are defined as abstract ideas or general notions that occur in the mind, in speech, or in thought.',\n",
       " 'concerned': 'The comic consists of game screenshots, with characters posed using Garrys Mod, a tool which facilitates manipulation of the Source engine used by Half-Life 2.',\n",
       " 'concert': 'concert is a live music performance in front of an audience.',\n",
       " 'concrete': 'Concrete is one of the most frequently used building materials.',\n",
       " 'conducting': 'Conducting is the art of directing a musical performance, such as an orchestral or choral concert.',\n",
       " 'confederation': 'Likewise, the relationship between the member states and the general government, and the distribution of powers among them is variable.',\n",
       " 'conference': 'conference is a meeting of people who \"confer\" about a topic.',\n",
       " 'confidence': 'self-efficacy).',\n",
       " 'confidentiality': 'Confidentiality involves a set of rules or a promise usually executed through confidentiality agreements that limits access or places restrictions on certain types of information.',\n",
       " 'confirmation': 'confirmation is seen as the sealing of Christianity created in baptism.',\n",
       " 'confrontation': 'It is the underpinning mathematical basis of drama theory.',\n",
       " 'confusion': 'These refer to the loss of orientation, or the ability to place oneself correctly in the world by time, location and personal identity.',\n",
       " 'conger': 'It includes some of the largest types of eels, ranging up to 6&nbsp;m (20&nbsp;ft) in length, in the case of the European conger.',\n",
       " 'congress': 'Subsequent to the use of congress as the name for the legislature of the U.S. federal government (beginning in 1789), the term has been adopted by many nations to refer to their national legislatures.',\n",
       " 'connecticut': 'Connecticut () is the southernmost state in the New England region of the northeastern United States.',\n",
       " 'conoco': 'Conoco  is a major American brand of oil and gas station owned by Phillips 66.',\n",
       " 'consecutive': '-->',\n",
       " 'consent': 'United Nations agencies and initiatives in sex education programs believe that teaching the topic of consent as part of a comprehensive sexuality education is beneficial.',\n",
       " 'conservation': 'Conservation is the preservation or efficient use of resources, or the conservation of various quantities under physical laws.Conservation may also refer to:',\n",
       " 'consideration': 'Anything of value promised by one party to the other when making a contract can be treated as \"consideration\": for example, if A signs a contract to buy a car from B for $5,000, As consideration is the $5,000, and Bs consideration is the car.Additionally, if A signs a contract with B such that A will paint Bs house for $500, As consideration is the service of painting Bs house, and Bs consideration is $500 paid to A.',\n",
       " 'consortium': 'consortium (plural: consortia) is an association of two or more individuals, companies, organizations or governments (or any combination of these entities) with the objective of participating in a common activity or pooling their resources for achieving a common goal.Consortium is a Latin word meaning \"partnership\", \"association\" or \"society\", and derives from consors partner, itself from con- together and sors fate, meaning owner of means or comrade.',\n",
       " 'construction': 'Construction is the process of constructing a building or infrastructure.',\n",
       " 'constructive': '* \"Constructive knowledge\" is knowledge that courts impute to a person because  such knowledge is obtainable by the exercise of reasonable care.',\n",
       " 'consultant': 'Depending on the nature of the consulting services and the wishes of the client, the advice from the consultant may be made public, by placing the report or presentation online, or the advice may be kept confidential, and only given to the senior executives of the organization paying for the consulting services.',\n",
       " 'consumer': 'consumer is a person or organization that uses or consumes economic services or commodities.',\n",
       " 'consummation': 'Consummation is also relevant in the case of a common law marriage.',\n",
       " 'container': 'container is any receptacle or enclosure for holding a product used in storage, packaging, and shipping.Things kept inside of a container are protected by being inside of its structure.',\n",
       " 'contel': 'It was acquired by GTE in 1991.',\n",
       " 'continent': 'Some geological continents are largely covered with water, such as Zealandia (see submerged continents below).',\n",
       " 'contingencies': 'Contingencies is mailed to members of the Academy and targeted individuals such as legislators and their staffs, regulators, business executives, and related organizations.',\n",
       " 'contingency': 'Contingency may refer to * Contingency (philosophy), in philosophy and logic* \"Contingency\" (Prison Break), a series 5 episode* Contingency management in medicine* Contingency plan in planning* Contingency table in statistics* Contingency theory in evolutionary biology* Contingent claims in finance* Contingent fee in commercial matters* Contingent liability in law* Contingent vote in politics* Contingent work and contingent workforce, an employment relationship* Contractual terms, upon which agreed outcomes are contingent* Cost contingency in business risk management* A campaign mission in the video game Call of Duty: Modern Warfare 2* An episode of Kris Straubs Local 58 series on YouTube',\n",
       " 'continuation': 'the continuation is a data structure that represents the computational process at a given point in the processs execution; the created data structure can be accessed by the programming language, instead of being hidden in the runtime environment.',\n",
       " 'contract': 'contract is a legally binding agreement that recognises and governs the rights and duties of the parties to the agreement.',\n",
       " 'controversy': 'Controversy is a state of prolonged public dispute or debate, usually concerning a matter of conflicting opinion or point of view.',\n",
       " 'convenience': 'Convenience is a relative concept, and depends on context.',\n",
       " 'convertible': 'Other types of convertible roofs include retractable hardtops (often constructed from metal or plastic) and detachable hardtops (where a metal or plastic roof is manually removed and often stored in the trunk).',\n",
       " 'convince': 'It has roots in Kumina and Jamaican Maroon religion.',\n",
       " 'convoy': 'Often, a convoy is organized with armed defensive support.',\n",
       " 'cooke': 'Notable people with the surname include:* Alan Cooke, British actor* Alexander Cooke (died 1614), English actor* Alfred Tyrone Cooke, of the Indo-Pakistani wars* Alistair Cooke KBE (1908–2004), journalist and broadcaster* Amos Starr Cooke (1810–1871), found of Royal School and Castle & Cooke in Hawaii* Anna Rice Cooke (1853–1934), patron of the arts and founder of the Honolulu Academy of Arts* Anthony Cooke (1505–1576), British scholar* Baden Cooke (born 1978), Australian cyclist* Barrie Cooke (born 1931), Irish painter* Bates Cooke, US Representative 1831–1833, and NY State Comptroller 1839–1841* Benjamin Cooke (1734–1793), British musician* Beryl Cooke (1906–2001), British actress* C. R. Cooke (Conrad Reginald Cooke, 1901–1996), English early Himalayan mountaineer* Charles Cooke (disambiguation), several people* Chauncey H. Cooke (1846–1919), American soldier in the U.S. Civil War* Christian Cooke (born 1986), English actor* Clarence Hyde Cooke (1876–1944), businessman in Hawaii* Dave Cooke, Canadian politician* Denise DAscenzo Cooke (19582019), American news anchor* Deryck Cooke (1919–1975), British musicologist* Doc Cook (Charles L. Cooke, 1891–1958), jazz bandleader* Dusty Cooke (1907–1987), American professional baseball player* Edmund F. Cooke (1885–1967), US congressman from New York* Edward William Cooke (1811–1880), English maritime artist* Eric Edgar Cooke, murderer* Francis Cooke, Passenger on the Mayflower* Francis Judd Cooke (1910–1995), American composer* Geoff Cooke (disambiguation), several people* George Cooke (disambiguation), several people* H. Basil S. Cooke (1915–2018), Canadian paleontologist* Hope Cooke, Queen of Sikkim* Jack Kent Cooke (1912–1997), Canadian entrepreneur* Sir James Douglas Cooke (1879–1949), MP for Hammersmith South* James J. Cooke, American historian, author, academic and soldier* James W. Cooke, American naval officer* Janet Cooke (born 1954), American journalist, won a Pulitzer Prize for a fabricated story* Jay Cooke (1821–1905), American financier, notable for financing Union effort in Civil War and Northern Pacific Railway* Jennifer Cooke, actress* John Cooke (disambiguation), several people* Joseph Platt Cooke (1730–1816), in American Revolutionary War* Keith Cooke, actor* L. J. Cooke (Louis Joseph Cooke, 1868–1943), first mens basketball coach at the University of Minnesota* Lawrence H. Cooke (1914–2000), Chief Judge of New York Court of Appeals 1979–1984* Logan Cooke (born 1995), American football player* Lorrin A. Cooke (1831–1902), American politician, governor of Connecticut* Martin Cooke (disambiguation), several people* Matt Cooke, hockey player* Mel Cooke (1934–2013), New Zealand rugby league footballer* Mordecai Cubitt Cooke (1825–1914), British botanist* Nathaniel Cooke (19th century), designer of the standard set of chess figures* Nicole Cooke (born 1983), British cyclist* Peter Cooke (Scouting)* Philip St. George Cooke (1809–1895), 19th century US cavalry officer* Pinny Cooke (1923–2004), New York politician, assemblywoman from Rochester* Robin Cooke, Baron Cooke of Thorndon, New Zealand judge* Rose Terry Cooke (1827–1892), American author, poet* Sam Cooke (1931–1964), American singer/songwriter* Sir Samuel Cooke (1912–1978), British judge* Samuel Nathaniel Cooke (S. N. Cooke) (born 1883), English architect* Sasha Cooke, American mezzo-soprano* Sidney Cooke (born 1927), paedophile and child killer* Steve Cooke (born 1970), baseball player* Terence Cooke (1921–1983), Cardinal, and Archbishop of New York* Thomas Cooke (disambiguation), several people* Walter E. Cooke (1910–1982), New York politician* Walter H. Cooke (1838–1909), American recipient of the Medal of Honor* Weldon B. Cooke (1884–1914), American pioneer aviator killed in crash* Wells Cooke (1858–1916), American ornithologist* William Cooke (disambiguation), several people',\n",
       " 'cooking': 'Cooking or cookery is the art, technology, science and craft of preparing food for consumption.',\n",
       " 'cooperation': 'Many animal and plant species cooperate both with other members of their own species and with members of other species (symbiosis or mutualism).',\n",
       " 'cooperative': 'As an example of this, in 2013, retail co-operatives in the UK invested 6.9% of their pre-tax profits in the communities in which they trade as compared with 2.4% for other rival supermarkets.Since 2002 cooperatives have been distinguishable on the Internet through the use of a .coop domain.',\n",
       " 'coopervision': 'It is a soft contact lens manufacturer.',\n",
       " 'cope': 'If worn by a bishop, it is generally accompanied by a mitre.',\n",
       " 'copper': 'Copper is sometimes used in decorative art, both in its elemental metal form and in compounds as pigments.',\n",
       " 'copra': 'Copra (or khobara) is the dried meat or kernel of the coconut, which is the fruit of the coconut palm (Cocos nucifera).',\n",
       " 'corby': 'The borough of Corby borders onto the borough of Kettering, the district of East Northamptonshire, the district of Harborough and the unitary authority county of Rutland.',\n",
       " 'cordero': 'Coco) (b.',\n",
       " 'corona': 'The F-corona (F&nbsp;for Fraunhofer) is created by sunlight bouncing off dust particles, and is observable because its light contains the Fraunhofer absorption lines that are seen in raw sunlight; the F-corona extends to very high elongation angles from the Sun, where it is called the zodiacal light.',\n",
       " 'corporation': 'A corporation sole is a legal entity consisting of a single (\"sole\") incorporated office, occupied by a single (\"sole\")  natural person.Where local law distinguishes corporations by the ability to issue stock, corporations allowed to do so are referred to as \"stock corporations\", ownership of the corporation is through stock, and owners of stock are referred to as \"stockholders\" or \"shareholders\".',\n",
       " 'corrections': 'Its object of study includes personnel training and management as well as the experiences of those on the other side of the fence — the unwilling subjects of the correctional process.',\n",
       " 'cosmetics': 'Cosmetics are products used to enhance or change the appearance of the face, fragrance or the texture of the body.',\n",
       " 'cost': 'Usually, the price also includes a mark-up for profit over the cost of production.More generalized in the field of economics, cost is a metric that is totaling up as a result of a process or as a differential for the result of a decision.',\n",
       " 'costly': 'Notable people with the surname include:*Anthony Costly (born 1954), Honduran footballer*Carlo Costly (born 1982), Honduran footballer*Marcel Costly (born 1995), German footballer',\n",
       " 'cotton': 'India is the worlds largest producer of cotton.',\n",
       " 'council': 'A board of directors might also be denoted as a council.',\n",
       " 'counsel': 'It is a title often used interchangeably with the title of lawyer.The word counsel can also mean advice given outside of the context of the legal profession.',\n",
       " 'count': 'Equivalents of the rank of count exist or have existed in the nobility structures of some non-European countries, such as hakushaku during the Japanese Imperial era.',\n",
       " 'counterproductive': 'Counterproductive is anything that is more of an \"obstacle\" than a help in the achieving of a productive project or an objective.',\n",
       " 'countertrade': 'Countertrade means exchanging goods or services which are paid for, in whole or part, with other goods or services, rather than with money.',\n",
       " 'country': 'country refers to a political state or nation or its territory.',\n",
       " 'county': 'The modern French is , and its equivalents in other languages are , , , , , , , etc.',\n",
       " 'couple': 'Couple or couples may refer to :',\n",
       " 'coupled': 'A few days later, after the cast for Big Brother was announced, he was ranting on Twitter, shortly deleting them and deactivating his account.On August 8, 2016, Fox canceled the series after one season.',\n",
       " 'coupon': 'In addition, coupons can also be targeted selectively to regional markets in which price competition is great.In government, a coupon is a paper certificate used to administer a benefit or permission.',\n",
       " 'courier': 'courier is a company, an employee of that company or a person who delivers a message, package or letter from one place or person to another place or person.',\n",
       " 'court': 'The place where a court sits is known as a venue.',\n",
       " 'courtaulds': 'It was established in 1794 and became the worlds leading man-made fibre production company before being broken up in 1990 into Courtaulds plc and Courtaulds Textiles Ltd.',\n",
       " 'craft': 'After he set up his own shop, he could then call himself a master of his craft.This system of a stepwise approach to mastery of a craft, which includes the obtainment of a certain amount of education and the learning of skills, has survived in some countries of the world until today.',\n",
       " 'crandall': 'It derives from the Gaelic patronymic name MacRandall, which subsequently dropped the Mac after becoming corrupted to MacCrandall.Notable people with the surname include:*Bradley Crandall (1927–1991), radio personality, USA*Bruce Perry Crandall (* 1933), soldier and Medal of Honor recipient, USA*Charles Henry Crandall (1858–1923), author and poet, USA*Charles Martin Crandall (1833–1905), inventor and toymaker, USA*Del Crandall (* 1930), baseball player and manager, USA*Duane Crandall (* 1946), politician, Canada*Elizabeth Walbert Crandall (1914–2005), academic, USA*Harrison R. Crandall (1887–1970), photographer and painter, USA*Harry Crandall (1879–1937), businessman, USA*Jaime Crandall (* 1982), ballet dancer, USA*James Otis Crandall (1887–1951), baseball player, USA*Jesse Armour Crandall (1834–1920), inventor and toymaker, USA*John Crandall (1609–1676), early settler of Rhode Island, USA*John Gardner Crandall Jr. (1931–2008), American football coach, USA*Joseph Crandall (ca 1761-1858), Baptist minister and political figure in New Brunswick, Canada*Keith A. Crandall (* 1965), computational biologist, bioinformaticist, and population geneticist, USA*Lauren Crandall (* 1985), field hockey player, USA*Lee Saunders Crandall (1887–1969), ornithologist and General Curator of Bronx Zoo, USA*Louis Eugene Crandall (1929–2016), printer and entrepreneur, USA*Lucien Stephen Crandall (1844–1889), inventor, USA*Lynn Crandall (1888–1964), civil engineer, USA*Martin Lesley Crandall (* 1975), keyboardist, USA*Michael Grain Crandall (* 1940), mathematician, USA*Orson Leon Crandall (1903–1960), soldier and Medal of Honor recipient, USA*Prudence Crandall (c.1803–1890), schoolteacher and activist, USA*Reed Leonard Crandall (1917–1982), illustrator of comic books and magazines, USA*Richard Crandall (1947–2012), computer scientist and physicist, USA*Robert Lloyd Crandall (* 1935), businessman, USA*Rodolph Crandall (1832–1922), politician and soldier, USA*Roland Crandall (1892–1972), animator, USA*Stephen Harry Crandall (1920–2013), professor emeritus of mechanical engineering, USAFictional characters:*Captain Crandall, leader of Teamo Supremo*Lt. Rip Crandall, character played by Jack Lemmon in The Wackiest Ship in the Army*Lt. Dolores Crandall, character in Operation Petticoat*Lennart Crandall, character in Johnny Cool*Bob \"Lightnin\" Crandall, character played by Bob Steele in Lightnin Crandall*Corky Crandall, character in sitcom Makin It*Sam Crandall, character in The FBI Story*George Crandall (disambiguation), multiple characters*Ellen Crandall, character played by Dorothy Neuman in Perry Mason, episode #44 \"The Case of the Curious Bride\"*Jack Crandall, character played by Dwayne Hickman in My Dog, The Thief*Sheriff Vic Crandall, character played by Barry Kelley in sitcom Petticoat Junction*Sheriff Lucky Crandall, character played by Russell Hayden in A Tornado in the Saddle*Sir Crispin Crandall, character played by Harris Yulin, The Blacklist, episode \"Sir Crispin Crandall*Monte Crandall, character played by James Ellison in The Ghost Goes Wild*Lawrence and Betty Crandall, characters played by Harry Hayden and Donna Martell in Abbott and Costello Meet the Killer, Boris Karloff*Jim Crandal, character played by James Britton in The Yesterday MachineSee also:*Crandall v. Nevada (1868), U.S. Supreme Court case',\n",
       " 'create': 'The term and its variants may also refer to:* Creativity, phenomenon whereby something new and valuable is created',\n",
       " 'credibility': 'Credibility comprises the objective and subjective components of the believability of a source or message.',\n",
       " 'credit': 'Credit is extended by a creditor, also known as a lender, to a debtor, also known as a borrower.',\n",
       " 'creditanstalt': 'Creditanstalt  (sometimes Credit-Anstalt, abbreviated as CA) was an Austrian bank based in Vienna.',\n",
       " 'creditor': 'The second party is frequently called a debtor or borrower.',\n",
       " 'crellin': 'Notable people with the surname include:*Benjamin Crellin, New Zealand comedian, actor and writer*Bertie Crellin (1902–1993), Australian rules footballer*Billy Crellin (born 2000), British footballer*David Crellin (born 1961), British actor*Jeffrey Crellin, Australian oboist*John Crellin, Manx politician*Max Crellin (born 1933), Australian politician',\n",
       " 'crew': 'A location in which a crew works is called a crewyard or a workyard.',\n",
       " 'crime': 'crime is an unlawful act punishable by a state or other authority.',\n",
       " 'crisis': 'crisis (from the Greek κρίσις - krisis; plural: \"crises\"; adjectival form: \"critical\") is any event that is going (or is expected) to lead to an unstable and dangerous situation affecting an individual, group, community, or whole society.',\n",
       " 'criticism': '1907*The judger is called a critic.',\n",
       " 'crop': 'Horticulture crops include plants used for other crops (e.g.',\n",
       " 'cross': 'In ancient times, the effigy of a man hanging on a cross was set up in the fields to protect the crops.',\n",
       " 'crude': 'Crude can refer to:* Crude oil or simply crude, the unprocessed form of petroleum* Crude (2007 film), an Australian documentary about the geology and economics of crude oil* Crude (2009 film), an American documentary about oil companies and lawsuits in Ecuador* Crude (album), by Bongshang, 1993* Crude (comic), a comic book series by Steve Orlando and Garry Brown* Oklahoma Crude, a former National Indoor Football League team',\n",
       " 'crushed': 'Crushed is the past participle form of \"to crush\".Crushed may also refer to:* Crushed (Roland Lee Gift song) a 2009 single by Roland Lee Gift* Crushed (The Suite Life of Zack & Cody episode), an episode of the television show The Suite Life of Zack & Cody* Crushed, a song by Limp Bizkit from the 1999 soundtrack album End of Days* Crushed, a song by Parkway Drive from the 2015 album Ire* \"Crushed\", a song by Rosette Sharma* Crushed velvet, a form of lustrous velvet fabric with a patterned appearance produced by either pressing the fabric down in different directions or by mechanically twisting the fabric while wet* Crushed Velvet Apocalypse, a 1990 album by The Legendary Pink Dots',\n",
       " 'cruz': 'In Spanish and Portuguese, the word means \"cross\", either the Christian cross or the figure of transecting lines or ways.',\n",
       " 'cruzados': '  Cruzados  were a 1980s rock band from Los Angeles, California.',\n",
       " 'crystal': 'The scientific study of crystals and crystal formation is known as crystallography.',\n",
       " 'crzy': 'The song was produced by female R&B and pop duo Novawav.',\n",
       " 'cuba': 'The area of the Republic of Cuba is  ( without the territorial waters).',\n",
       " 'cummins': 'Cummins reported net income of $2.19 billion on sales of $23.77 billion in 2018.',\n",
       " 'curb': 'curb (American English, Canadian English), or kerb (Australian English, British English, New Zealand English; see spelling differences), is the edge where a raised sidewalk (pavement in British English; pavement or footpath in Australian English) or road median/central reservation meets a street or other roadway.',\n",
       " 'cure': 'cure is a substance or procedure that ends a medical condition, such as a medication, a surgical operation, a change in lifestyle or even a philosophical mindset that helps end a persons sufferings; or the state of being healed, or cured.',\n",
       " 'currency': 'Digital currency has arisen with the popularity of computers and the Internet.',\n",
       " 'cushion': 'It may be used for sitting or kneeling upon, or to soften the hardness or angularity of a chair or couch.',\n",
       " 'customer': 'customer (sometimes known as a client, buyer, or purchaser) is the recipient of a good, service, product or an idea - obtained from a seller, vendor, or supplier via a financial transaction or exchange for money or some  other valuable consideration.',\n",
       " 'customs': 'The movement of people into and out of a country is normally monitored by migration authorities, under a variety of names and arrangements.',\n",
       " 'cutting': 'Hence, the smaller the area (i.e., the sharper the cutting implement), the less force is needed to cut something.',\n",
       " 'cwt': 'cwt is the abbreviation for hundredweight (cwt = centum weight), an English, imperial, and US customary unit of weightCWT or cwt may also refer to:',\n",
       " 'cxr': 'CXR may mean;* Charing Cross Road, a street in London, United Kingdom* Chest X-ray, a projection radiograph of the thorax* Christmas Island (via ISO 3166-1 country code)* Carrier signal, in US telephony jargon* Cam Ranh International Airport, IATA code CXR* CXR Anderson Jacobson, a vendor of communications equipment',\n",
       " 'cyprus': 'The international community considers the northern part of the island to be territory of the Republic of Cyprus occupied by Turkish forces.',\n",
       " 'cytrx': 'Aldoxorubicin (formerly INNO-206) is a modified form of doxorubicin, the popular anthracycline chemotherapeutic agent known as \"red death\".Anthracyclines are a class of drugs that are among the most commonly used agents in the treatment of cancer.',\n",
       " 'czechoslovakia': 'In 1993, Czechoslovakia split into the two sovereign states of the Czech Republic and Slovakia.',\n",
       " 'dairy': 'A dairy farm produces milk and a dairy factory processes it into a variety of dairy products.',\n",
       " 'dallas': 'Located in North Texas, the city of Dallas is the main core of the largest metropolitan area in the Southern United States and the largest inland metropolitan area in the U.S. that lacks any navigable link to the sea.',\n",
       " 'damage': 'Damage is any change in a thing, often a physical object, that degrades it away from its initial state.',\n",
       " 'damages': 'damages are a remedy in the form of a monetary award to be paid to a claimant as compensation for loss or injury.',\n",
       " 'dangers': ' Dangers  is a commune in the Eure-et-Loir department in northern France.',\n",
       " 'daniel': 'It is a common given name for males, and is also used as a surname.',\n",
       " 'darman': 'At the 2006 census, its population was 66, in 11 families.',\n",
       " 'data': 'Experimental data is data that is generated within the context of a scientific investigation by observation and recording.',\n",
       " 'datacard': 'datacard is an electronic card for data operations (storage, transfer, transformation, input, output).',\n",
       " 'david': 'David is discussed in the Quran as a major prophet and figures in Islamic oral and written tradition as well.',\n",
       " 'day': 'In 1960, the second was redefined in terms of the orbital motion of the Earth in the year 1900, and was designated the SI base unit of time.',\n",
       " 'deadlock': 'Deadlock is a common problem in multiprocessing systems, parallel computing, and distributed systems, where software and hardware locks are used to arbitrate shared resources and implement process synchronization.In an operating system, a deadlock occurs when a process or thread enters a waiting state because a requested system resource is held by another waiting process, which in turn is waiting for another resource held by another waiting process.',\n",
       " 'deals': 'The majority of Deals stores also sold frozen foods and dairy items such as milk, eggs, pizza, ice cream, frozen dinners, and pre-made baked goods.',\n",
       " 'dealt': 'The film is distributed by IFC Films through Sundance Selects.',\n",
       " 'death': 'Many cultures and religions have the idea of an afterlife, and also hold the idea of reward or judgement and punishment for past sin.',\n",
       " 'debate': 'Debate is a process that involves formal discussion on a particular topic.',\n",
       " 'debenture': 'on changes to the rights attached to the debentures.',\n",
       " 'debt': 'Debt is an obligation that requires one party, the debtor, to pay money or other agreed-upon value to another party, the creditor.',\n",
       " 'debtor': 'If X puts money in the bank, X is the creditor and the bank is the debtor.It is not a crime to fail to pay a debt.',\n",
       " 'decade': 'decade is a period of 10 years.',\n",
       " 'december': 'Dies natalis (birthday) was held at the temple of Tellus on December 13, Consualia was held on December 15, Saturnalia was held December 17–23, Opiconsivia was held on December 19, Divalia was held on December 21, Larentalia was held on December 23, and the dies natalis of Sol Invictus was held on December 25.',\n",
       " 'declare': 'Declare (2000) is a supernatural spy novel by American author Tim Powers.',\n",
       " 'decoupling': 'Decoupling usually refers to the ending, removal or reverse of coupling.Decoupling may also refer to:',\n",
       " 'decree': 'It has the force of law.',\n",
       " 'deeply': 'Executive producer<br/>Bess Fotopoulos<br/>John Hamilton<br/>Wolfram Tichywriter         = Sheri Elwoodnarrator       =starring       = Julia Brendler<br/>Kirsten Dunst<br/>Lynn Redgravemusic          = Micki Meusercinematography = Sebastian Edschmidediting        = Jon Gregorydistributor    = Myriad Picturesreleased       = runtime        = 101 minutescountry        = Canadalanguage       = Englishbudget         = Deeply is a 2000 film directed by Sheri Elwood, starring Julia Brendler, Lynn Redgrave and Kirsten Dunst.',\n",
       " 'deficiency': 'deficiency is generally a lack of something.',\n",
       " 'deficit': 'deficit is the amount by which a sum falls short of some reference amount.',\n",
       " 'definition': 'definition is a statement of the meaning of a term (a word, phrase, or other set of symbols).',\n",
       " 'deflator': 'It is the measure of the price level for some quantity.',\n",
       " 'del': 'When applied to a function defined on a one-dimensional domain, it denotes its standard derivative as defined in calculus.',\n",
       " 'delaware': 'Delaware () is one of the 50 states of the United States, in the Mid Atlantic region.',\n",
       " 'delays': 'The bands sound combines guitar and synths and features Greg Gilberts distinctive falsetto lead vocals.',\n",
       " 'delegation': 'Responsibility is the work assigned to an individual’.',\n",
       " 'delhi': 'New Delhi is jointly administered by the federal government of India and the local government of Delhi, and serves as the capital of the nation as well as the NCT of Delhi.',\n",
       " 'deliverable': 'deliverable is a tangible or intangible good or service produced as a result of a project that is intended to be delivered to a customer (either internal or external).',\n",
       " 'delivered': 'A pizza boy finds a murdered man at his next delivery and becomes the murderers next intended victim.',\n",
       " 'delta': 'Delta commonly refers to:* Delta (letter) (Δ or δ), a letter of the Greek alphabet* River delta, a landform at the mouth of a river* D (NATO phonetic alphabet: \"Delta\"), the fourth letter of the modern English alphabet* Delta Air Lines, an American airlineDelta may also refer to:',\n",
       " 'demand': 'The relationship between price and quantity demanded is also known as the demand curve.',\n",
       " 'denim': 'As a result of the warp-faced twill weaving, one side of the textile is dominated by the blue warp threads and the other side is dominated by the white weft threads.',\n",
       " 'denis': 'Denis was a 3rd-century Christian martyr and saint.',\n",
       " 'denmark': 'The Kingdom of Denmark also includes two autonomous territories in the North Atlantic Ocean: the Faroe Islands and Greenland.',\n",
       " 'dennis': 'Dionigi or Dionisio are Italian versions of the name, although Denis is quite common in Italy.Feminine versions of the name include: Denise, Denisa, Deni, Denice, Deniece, Dione, and Dionne.',\n",
       " 'density': 'the ratio of the density of the material to that of a standard material, usually water.',\n",
       " 'denver': 'Route 6 in Colorado 26pxlink=U.S.',\n",
       " 'denwa': 'Their eastern Waters flow into the Denwa  and the western into Sonbhadra.',\n",
       " 'deny': 'Denial, in ordinary English usage, is asserting that a statement or allegation is not true.Deny may also refer to:',\n",
       " 'depositary': 'depositary is a government or organization to which a multilateral treaty is entrusted.',\n",
       " 'depreciation': 'Generally, the cost is allocated as depreciation expense among the periods in which the asset is expected to be used.',\n",
       " 'deregulation': 'It is the repeal of governmental regulation of the economy.',\n",
       " 'des': 'People named Des include:',\n",
       " 'design': 'design is a plan or specification for the construction of an object or system or for the implementation of an activity or process, or the result of that plan or specification in the form of a prototype, product or process.',\n",
       " 'designer': 'A fashion designer designs clothing, a web designer designs web pages and an automobile designer designs automobiles.',\n",
       " 'desirable': 'best response*Desirable (film)*Desirable (horse) (1981 - 1998), thoroughbred racehorseor',\n",
       " 'desire': 'The theme of desire is at the core of romance novels, which often create drama by showing cases where human desire is impeded by social conventions, class, or cultural barriers.',\n",
       " 'destinations': 'Girl Scout Destinations, formerly Wider Opportunities or Wider Ops, are events for individual Girl Scouts (ages 11 – 18) hosted by GSUSA or individual Girl Scout councils.',\n",
       " 'determination': 'Determination is a positive emotional feeling that involves persevering towards a difficult goal in spite of obstacles.',\n",
       " 'determine': 'His best season was 1954 when he became the first gray horse to win the Kentucky Derby.',\n",
       " 'detroit': 'The City of Detroit anchors the second-largest regional economy in the Midwest, behind Chicago and ahead of Minneapolis–Saint Paul, and the 13th-largest in the United States.',\n",
       " 'devaluation': 'Altering the face value of a currency without reducing its exchange rate is a redenomination, not a devaluation or revaluation.',\n",
       " 'device': 'Device may also refer to:',\n",
       " 'dialogue': 'Educators such as Freire and Ramón Flecha have also developed a body of theory and techniques for using egalitarian dialogue as a pedagogical tool.',\n",
       " 'diamond': 'Diamond is a solid form of the element carbon with its atoms arranged in a crystal structure called diamond cubic.',\n",
       " 'dictate': 'Dictate can refer to:* Dictation (disambiguation)* Dictator* Edict<!-- Long comment to avoid being listed on short pages                                                                                                                                               To give instructions-->',\n",
       " 'diego': 'In Spanish-speaking countries, Diego and Santiago are common as given names; Diego, Santiago and Sandiego are found as surnames.',\n",
       " 'digital': 'Digital usually refers to something using digits, particularly binary digits.',\n",
       " 'dilemma': 'The possibilities are termed the horns of the dilemma, a clichéd usage, but distinguishing the dilemma from other kinds of predicament as a matter of usage.',\n",
       " 'diligence': 'Diligence is one of the seven heavenly virtues.',\n",
       " 'dinar': 'The word \"dinar\" derives from the silver \"denarius\" coin of ancient Rome, first minted about 211 BC.thumb150pxright Silver dinar from the reign of Serbian king Stefan Uroš I (1243–1276).The English word \"dinar\" is the transliteration of the Arabic دينار (dīnār), which was borrowed via the Syriac dīnarā from the Greek δηνάριον (dēnárion), itself from the Latin dēnārius.',\n",
       " 'dinner': 'Dinner usually refers to what is in many Western cultures the largest and most formal meal of the day, which many Westerners eat in the evening.',\n",
       " 'diplomat': 'Diplomats are members of foreign services and diplomatic corps of various nations of the world.Diplomats are the oldest form of any of the foreign policy institutions of a state, predating by centuries foreign ministers and ministerial offices.',\n",
       " 'disadvantage': 'disadvantage (abbreviated as DA, and sometimes referred to as:  Disad) is an argument that a team brings up against a policy action that is being considered.',\n",
       " 'disappointed': 'The single was assigned the Factory catalogue number FAC 348, and the logo of the label remained on the artwork.',\n",
       " 'disappointment': 'Disappointment is the feeling of dissatisfaction that follows the failure of expectations or hopes to manifest.',\n",
       " 'disaster': 'Developing countries suffer the greatest costs when a disaster hits&nbsp;– more than 95 percent of all deaths caused by hazards occur in developing countries, and losses due to natural hazards are 20 times greater (as a percentage of GDP) in developing countries than in industrialized countries.',\n",
       " 'discipline': 'Discipline is commonly applied to regulating human and animal behavior.',\n",
       " 'disclose': 'On 5 June 2007, Disclose frontman Kawakami died from an overdose of alcohol and sedative.',\n",
       " 'disclosed': 'The show aired at 9pm on weekdays and had a repeat telecast at 8am the following day.',\n",
       " 'disease': 'Diseases can also be classified in other ways, such as communicable versus non-communicable diseases.',\n",
       " 'disposition': 'disposition is a quality of character, a habit, a preparation, a state of readiness, or a tendency to act in a specified way that may be learned.The terms dispositional belief and occurrent belief refer, in the former case, to a belief that is held in the mind but not currently being considered, and in the latter case, to a belief that is currently being considered by the mind.In Bourdieus theory of fields, dispositions are the natural tendencies of each individual to take on a specific position in any field.',\n",
       " 'disrupt': 'They only released one full-length studio album (Unrest on Relapse), however the band acquired a cult following on the strength of several underground 7-inch EPs and compilation appearances.',\n",
       " 'distance': 'Distance is a numerical measurement of how far apart objects or points are.',\n",
       " 'distributor': 'This ignition was developed by Charles Kettering and was considered a wonder in its day.',\n",
       " 'district': 'district is a type of administrative division that, in some countries, is managed by local government.',\n",
       " 'ditch': 'ditch is a small to moderate depression created to channel water.',\n",
       " 'diverted': 'Diverted is a 2009 CBC made-for-TV miniseries.',\n",
       " 'dividend': 'When a corporation earns a profit or surplus, the corporation is able to re-invest the profit in the business (called retained earnings) and pay a proportion of the profit as a dividend to shareholders.',\n",
       " 'dixie': 'The term originally referred to the states south of the Mason–Dixon line, but now is more of a cultural reference, referring to parts of the southern United States.',\n",
       " 'dna': 'The two strands of DNA run in opposite directions to each other and are thus antiparallel.',\n",
       " 'document': 'all can be expressed in documents.',\n",
       " 'documentation': 'Documentation is a set of documents provided on paper, or online, or on digital or analog media, such as audio tape or CDs.',\n",
       " 'dodge': 'Later that year, Chrysler Group was renamed FCA US LLC, corresponding with the merger of Fiat S.p.A. and Chrysler Group into the single corporate structure of Fiat Chrysler Automobiles.',\n",
       " 'dollar': 'Dollar (symbol: $) is the name of more than 20 currencies, including those of Australia, Brunei, Canada, Hong Kong, Jamaica, Liberia, Namibia, New Zealand, Singapore, Taiwan and the United States.',\n",
       " 'dome': 'The precise definition has been a matter of controversy.',\n",
       " 'dominate': 'It may begin with the commencement of the reign of Diocletian in AD 284, following the Third Century Crisis of AD 235–284, and to end in the west with the collapse of the Western Empire in AD 476, while in the east its end is disputed, as either occurring at the close of the reign of Justinian I (AD 565) or of Heraclius (AD 641).',\n",
       " 'dominion': 'The Balfour Declaration of 1926 recognised the Dominions as \"autonomous  within the British Empire\", and the 1931 Statute of Westminster confirmed their full legislative independence.Earlier usage of dominion to refer to a particular territory dates to the 16th century and was used to describe Wales from 1535 to 1801 .',\n",
       " 'domtar': 'After a 2006 merger with US-based Weyerhaeuser, Domtar is not viewed as a Canadian entity and does not qualify for inclusion in Canadian stock indexes.',\n",
       " 'donald': 'Donald is a masculine given name derived from the Gaelic name Dòmhnall.',\n",
       " 'donaldson': 'Notable people with the surname include:__NOTOC__',\n",
       " 'door': 'Doors are generally made of a material suited to the task of which it is to perform.',\n",
       " 'dormancy': 'Predictive dormancy occurs when an organism enters a dormant phase before the onset of adverse conditions.',\n",
       " 'dot': 'dot is usually a small, round spot.Dot, DoT or DOT may also refer to:',\n",
       " 'doubt': 'Doubt can result in delaying or rejecting relevant action out of concern for mistakes or missed opportunities.thumbnailDoubt',\n",
       " 'down': 'Down is the relative vertical direction opposed to up.Down may also refer to:',\n",
       " 'downgrade': 'downgrading refers to reverting software (or hardware) back to an older version; downgrade is the opposite of upgrade.',\n",
       " 'downtown': 'In British English, the term \"city centre\" is most often used instead.',\n",
       " 'dozen': 'A bakers dozen, also known as a big or long dozen, is 13.',\n",
       " 'drawing': 'Digital drawing is the act of using a computer to draw.',\n",
       " 'driel': 'Driel is a town in the municipality of Overbetuwe, approximately four kilometers southwest of Arnhem on the south bank of the Rhine, in the Netherlands.',\n",
       " 'drill': 'drill is a tool primarily used for making round holes or driving fasteners.',\n",
       " 'drilling': 'The drill bit is usually a rotary cutting tool, often multi-point.',\n",
       " 'drink': 'The category includes drinks that have undergone an alcohol removal process such as non-alcoholic beers and de-alcoholized wines.',\n",
       " 'driving': 'Driving is the controlled operation and movement of a motor vehicle, including cars, motorcycles, trucks, and buses.',\n",
       " 'drought': 'It can have a substantial impact on the ecosystem and agriculture of the affected region and harm to the local economy.',\n",
       " 'drug': 'Pharmaceutical drugs may be used for a limited duration, or on a regular basis for chronic disorders.Pharmaceutical drugs are often classified into drug classes—groups of related drugs that have similar chemical structures, the same mechanism of action (binding to the same biological target), a related mode of action, and that are used to treat the same disease.',\n",
       " 'dry': 'Dry or dryness usually refers to:* a lack of liquid, as in a drought or arid region* \"Dry\", a writing style* Dry, prohibiting, not serving, or not imbibing alcoholic beverages* Dry humor, deadpan* Dryness (medical)* Dryness (taste), the lack of sugar in a drink, especially an alcoholic one* Dry direct sound without reverberationDry or DRY may also refer to:',\n",
       " 'drying': 'A source of heat and an agent to remove the vapor produced by the process are often involved.',\n",
       " 'dubai': 'Dubai ( ;  ,  ) is the most populous city in the United Arab Emirates (UAE) and the capital of the Emirate of Dubai.Located in the eastern part of the Arabian Peninsula on the coast of the Persian Gulf, Dubai aims to be the business hub of Western Asia.',\n",
       " 'dudley': 'Historically in Worcestershire, the town is the administrative centre of the Metropolitan Borough of Dudley and in 2011 had a population of 79,379.',\n",
       " 'durable': 'Durable Hunke & Jochheim GmbH & Co. KG  is a German company selling stationery products.',\n",
       " 'durham': 'Durham most commonly refers to:*Durham, England, a historic city and the county town of County Durham*County Durham, an English county*Durham, North Carolina, a city in North Carolina, United StatesDurham may also refer to:',\n",
       " 'durum': 'It is the predominant wheat that grows in the Middle East.Durum in Latin means \"hard\", and the species is the hardest of all wheats.',\n",
       " 'dutch': 'Dutch commonly refers to:* Something of, from, or related to the Netherlands* Dutch people ()* Dutch language ()Dutch may also refer to:',\n",
       " 'duty': 'Performing ones duty may require some sacrifice of self-interest.Cicero, an early Roman philosopher who discusses duty in his work “On Duty\", suggests that duties can come from four different sources:# as a result of being a human# as a result of ones particular place in life (ones family, ones country, ones job)# as a result of ones character# as a result of ones own moral expectations for oneselfThe specific duties imposed by law or culture vary considerably, depending on jurisdiction, religion, and social norms.',\n",
       " 'eagle': 'Most of the 60 species of eagle are from Eurasia and Africa.',\n",
       " 'earning': 'Earning can refer to:*Labour (economics)*Earnings of a company*Merit<!-- Long comment to avoid being listed on short pages                                                                                                                                               -->',\n",
       " 'earnings': 'Earnings are the net benefits of a corporations operation.',\n",
       " 'earth': 'Earth is the third planet from the Sun and the only astronomical object known to harbor life.',\n",
       " 'earthquake': 'The epicenter is the point at ground level directly above the hypocenter.',\n",
       " 'east': 'East is one of the four cardinal directions or points of the compass.',\n",
       " 'easter': 'Even if calculated on the basis of the more accurate Gregorian calendar, the date of that full moon sometimes differs from that of the astronomical first full moon after the March equinox.Easter is linked to the Jewish Passover by much of its symbolism, as well as by its position in the calendar.',\n",
       " 'eating': 'This may be a result of a lifestyle choice, due to hunger or famine, as part of a diet or as religious fasting.',\n",
       " 'echo': 'The delay is directly proportional to the distance of the reflecting surface from the source and the listener.',\n",
       " 'ecolab': 'Ecolab Inc.; including its foundation in 1923 as Economics Laboratory, and the acquisition of Nalco in 2011the history of acquired businesses of NalcoNalco Holding Company<br />S&P 500 Component ISIN = industry = Chemicals,Service,Dishwasher fate =  predecessor =         <!-- or:  predecessors = --> successor =           <!-- or:  successors = --> foundation =           founder =             Merritt J. Osborn defunct =             <!--  --> location_city = St. Paul, Minnesota location_country = United States locations =           <!-- Number of locations --> area_served =  key_people = Douglas M. Baker Jr.<br /> products =  brands =  production =  services =   revenue =    operating_income =    net_income =    assets =    equity =    num_employees = ~48,400   owner =               <!-- or:  owners = --> members = parent =  divisions =  subsid =  website = [http://www.ecolab.com/ ecolab.com] footnotes = Ecolab Inc., headquartered in St. Paul, Minnesota, is an American global provider of water, hygiene and energy technologies and services to the food, energy, healthcare, industrial and hospitality markets.',\n",
       " 'economics': 'Economics () is the social science that studies the production, distribution, and consumption of goods and services.Economics focuses on the behaviour and interactions of economic agents and how economies work.',\n",
       " 'economist': 'economist is a practitioner in the social science discipline of economics.The individual may also study, develop, and apply theories and concepts from economics and write about economic policy.',\n",
       " 'economy': 'A green economy is low-carbon, resource efficient and socially inclusive.',\n",
       " 'ecopetrol': 'The company belongs to the group of 25 largest petroleum companies in the world, and it is one of the four principal petroleum companies in Latin America.',\n",
       " 'ecuador': 'Ecuador also includes the Galápagos Islands in the Pacific, about  west of the mainland.',\n",
       " 'edelman': '* Adam Edelman (born 1991), American-born four-time Israeli National Champion in skeleton event, and Israeli Olympian* Alan Edelman (born 1963), American mathematician and computer scientist* Daniel Edelman (1920–2013), American public relations executive, founder of Edelman* David Louis Edelman (born 1971), American science fiction author* Edmund D. Edelman (1930-2016), Los Angeles, California, politician* Elazer R. Edelman, American engineer, scientist, and cardiologist* Eric S. Edelman, U.S. ambassador to the Republic of Turkey(2003-2005), Under Secretary of Defense for Policy (2005-2009)* Gerald Edelman (1929-2014), biologist, 1972 Nobel Prize (Physiology/Medicine) for work on the immune system* Gregg Edelman (born 1958), American movie, television and theatre actor* Herb Edelman (1933–1996), American actor* James Edelman (born 1974), a justice of the Federal Court of Australia, and appointed to be a justice of the High Court of Australia* Judith Edelman (1923–2014), American architect* Julian Edelman (born 1986), NFL player for the New England Patriots, 2019 Super Bowl LIII MVP* Lee Edelman (born 1953), professor and chair of the English Department at Tufts University* Marek Edelman (1922–2009), political and social activist, cardiologist, and the last living leader of the Warsaw Ghetto Uprising* Marian Wright Edelman (Marian Wright) (born 1939), founder and president of the Childrens Defense Fund and wife of Peter Edelman* Maurice Edelman  (1911–1975), British politician and novelist* Murray Edelman (1919–2001), American political scientist* Natan Eidelman (1930–1989), Russian author and historian* Nufar Edelman (born 1982), Israeli Olympic sailor* Peter Edelman (born 1938), lawyer, policy maker, and law professor at Georgetown University Law Center and husband of Marian Wright Edelman* Randy Edelman (born 1947), American music composer* R. David Edelman, American policymaker* Richard Edelman (born 1954), president and CEO of public relations firm Edelman* Scott Edelman (born 1955), American science fiction and fantasy writer and editor',\n",
       " 'editorial': 'On the other hand, an editorial does reflect the position of a newspaper and the head of the newspaper, the editor, is known by name.',\n",
       " 'edmonton': 'Edmonton () is the capital city of the Canadian province of Alberta.',\n",
       " 'education': 'Education is the process of facilitating learning, or the acquisition of knowledge, skills, values, beliefs, and habits.',\n",
       " 'edward': 'Edward is an English given name.',\n",
       " 'effected': 'The album features guest appearances from J. Cole, Kendrick Lamar, Currensy and Garren.',\n",
       " 'effectiveness': 'Effectiveness is the capability of producing a desired result or the ability to produce desired output.',\n",
       " 'efficiency': 'For example, in the analysis of the energy conversion efficiency of heat engines in thermodynamics, the product P may be the amount of useful work output, while the consumable C is the amount of high-temperature heat input.',\n",
       " 'egg': 'An egg results from fertilization of an egg cell.',\n",
       " 'egypt': 'Egypts economy is one of the largest and most diversified in the Middle East, and is projected to become one of the largest in the world in the 21st century.',\n",
       " 'eia': 'Eia or Eye was an early Medieval manor in the parish of Westminster, Middlesex and is now a part of Central London It was about one mile west of the Palace of Westminster/Whitehall, about 2 miles west-south-west of the walled City of London, and about half a mile north of the River Thames.',\n",
       " 'election': 'Elections may fill offices in the legislature, sometimes in the executive and judiciary, and for regional and local government.',\n",
       " 'electricity': 'Electricity is the set of  physical phenomena associated with the presence and motion of matter that has a property of electric charge.',\n",
       " 'electronics': 'The identification of the electron in 1897, along with the subsequent invention of the vacuum tube which could amplify and rectify small electrical signals,  inaugurated the field of electronics and the electron age.',\n",
       " 'elevator': 'Several types exist, such as the chain and bucket elevator, grain auger screw conveyor using the principle of Archimedes screw, or the chain and paddles or forks of hay elevators.',\n",
       " 'elmer': 'The name is common in the United States and Canada.',\n",
       " 'emergency': 'Most emergencies require urgent intervention to prevent a worsening of the situation, although in some situations, mitigation may not be possible and agencies may only be able to offer palliative care for the aftermath.While some emergencies are self-evident (such as a natural disaster that threatens many lives), many smaller incidents require that an observer (or affected party) decide whether it qualifies as an emergency.The precise definition of an emergency, the agencies involved and the procedures used, vary by jurisdiction, and this is usually set by the government, whose agencies (emergency services) are responsible for emergency planning and management.',\n",
       " 'emerging': 'Emerging is the title of the only album by the Phil Keaggy Band, released in 1977 on NewSong Records.',\n",
       " 'emi': 'Emiえみ, エミ, 絵美,\\u3000恵美 is a feminine Japanese given name and is occasionally used as a surname.',\n",
       " 'emirate': 'emirate is a political territory that is ruled by a dynastic Arabic or Islamic monarch-styled emir.',\n",
       " 'empire': 'Territorial empires (e.g.',\n",
       " 'employment': 'Employees in some fields or sectors may receive gratuities, bonus payment or stock options.',\n",
       " 'enabling': 'enabling has a positive sense of empowering individuals, or a negative sense of encouraging dysfunctional behavior.',\n",
       " 'ends': 'Most of the stories originally appeared in the magazines Analog Science Fiction and Fact, Astounding, If, Galaxy Science Fiction, Destinies, Science Fiction Stories and Amazing Stories  The poems first appeared in The Final Encyclopedia.',\n",
       " 'energy': 'The SI unit of energy is the joule, which is the energy transferred to an object by the work of moving it a distance of 1 metre against a force of 1 newton.Common forms of energy include the kinetic energy of a moving object, the potential energy stored by an objects position in a force field (gravitational, electric or magnetic), the elastic energy stored by stretching solid objects, the chemical energy released when a fuel burns, the radiant energy carried by light, and the thermal energy due to an objects temperature.Mass and energy are closely related.',\n",
       " 'enforcement': 'Governments attempt to effectuate successful implementation of policies by enforcing laws and regulations.Enactment refers to application of a law or regulation, or carrying out of an executive or judicial order.',\n",
       " 'engine': 'Electric motors convert electrical energy into mechanical motion, pneumatic motors use compressed air, and clockwork motors in wind-up toys use elastic energy.',\n",
       " 'engineering': 'The discipline of engineering encompasses a broad range of more specialized fields of engineering, each with a more specific emphasis on particular areas of applied mathematics, applied science, and types of application.',\n",
       " 'england': 'The Irish Sea lies west of England and the Celtic Sea to the southwest.',\n",
       " 'english': 'English usually refers to:* English people* English languageEnglish may also refer to:',\n",
       " 'eni': 'Another 2.012% of the shares are held by the Peoples Bank of China.',\n",
       " 'enron': 'The scandal also brought into question the accounting practices and activities of many corporations in the United States and was a factor in the enactment of the Sarbanes–Oxley Act of 2002.',\n",
       " 'ensure': 'insureinsuranceother usesEnsure (disambiguation) mintime      =  maxtime      =  type         =  Dietary supplement, Meal replacement course       =  served       = main_ingredient =  minor_ingredient =  variations =  serving_size = 100 g calories =  protein =  fat =  carbohydrate =  glycemic_index =  other =  manufacturer = Abbott Laboratories origin       = United States introduced   =  discontinued =  colour       =  flavour      =  ingredients  =  website      =  cuisine = neutralEnsure is the brand name of nutritional supplements and meal replacements manufactured by Abbott Laboratories.',\n",
       " 'entertainment': 'Entertainment can be public or private, involving formal, scripted performance, as in the case of theatre or concerts; or unscripted and spontaneous, as in the case of childrens games.',\n",
       " 'enthusiasm': 'Enthusiasm is intense enjoyment, interest, or approval.',\n",
       " 'entire': 'entire indicates that an animal has not been desexed, that is, spayed or neutered*In botany, an edge (such as of a leaf, petal, calyx, etc.)',\n",
       " 'environment': 'Environment most often refers to:__NOTOC__* Natural environment, all living and non-living things occurring naturally* Biophysical environment, the physical and biological factors along with their chemical interactions that affect an organism or a group of organisms',\n",
       " 'equatorial': 'Equatorial generally means \"of or related to an equator\".Equatorial may refer specifically to:',\n",
       " 'equilibrium': 'Equilibrium, in several sciences, is the condition of a system in which all competing influences are balanced.Equilibrium may also refer to:',\n",
       " 'equipment': 'Equipment most commonly refers to a set of tools or other objects commonly used to achieve a particular objective.',\n",
       " 'era': 'era is a span of time defined for the purposes of chronology or historiography, as in the regnal eras in the history of a given monarchy, a calendar era used for a given calendar, or the geological eras defined for the history of Earth.Comparable terms are epoch, age, period, saeculum, aeon (Greek aion) and   Sanskrit yuga.',\n",
       " 'eric': 'In Finland, the form Erkki is also used.',\n",
       " 'ericsson': 'The company employs around 95,000 people and operates in around 180 countries.',\n",
       " 'erosion': 'At well-known agriculture sites such as the Appalachian Mountains, intensive farming practices have caused erosion up to 100x the speed of the natural rate of erosion in the region.',\n",
       " 'escalation': 'Specific uses of the term include:*Cost escalation, an increase in the price of goods*Conflict escalation, an increase in the intensity of a conflict*Escalation of commitment, an aspect of game theory*Privilege escalation, a computer security process*Technological escalation, a technological version of an arms race',\n",
       " 'escrow': 'The word derives from the Old French word , meaning a scrap of paper or a scroll of parchment; this indicated the deed that a third party held until a transaction was completed.',\n",
       " 'esselte': 'Esselte is a manufacturer and marketer of office products and business supplies with subsidiaries in 25 countries and sales in over 120 countries.',\n",
       " 'esso': 'In 1972, the name was largely replaced in the U.S. by the Exxon brand after the company bought Humble Oil, while the Esso name remained widely used elsewhere.In most of the world, the Esso brand and the Mobil brand are the primary brand names of ExxonMobil, with the Exxon brand name in use only in the United States alongside Mobil.thumbAn Esso station in Stabekk, Norway (2006)thumbA combination Exxon gasoline and Esso diesel pump at an Exxon station in Zelienople, Pennsylvania (2008)thumbThe Esso sign in 1940, used in the United States until 1966',\n",
       " 'estimates': 'Unlike tax proposals in the budget, the Estimates are rarely controversial, with most issues being dealt with in committee.Most of the countries also mandate an update or series of updates to the Estimates to account for changes in the economy or in government policy.',\n",
       " 'ethanol': 'Ethanol is also used as an alternative fuel source.',\n",
       " 'ethiopia': 'Ethiopia was also the first independent African member of the 20th-century League of Nations and the United Nations.',\n",
       " 'ethylene': 'Ethylenes hydrate is ethanol.',\n",
       " 'eurodollar': 'Eurodollars are time deposits denominated in U.S. dollars at banks outside the United States, and thus are not under the jurisdiction of the Federal Reserve.',\n",
       " 'europe': 'The fall of the Western Roman Empire in 476 AD and the subsequent Migration Period marked the end of ancient history and the beginning of the Middle Ages.',\n",
       " 'eurostat': 'The organisations in the different countries that cooperate with Eurostat are summarised under the concept of the European Statistical System.',\n",
       " 'evaluation': 'It is long term and done at the end of a period of time.',\n",
       " 'eve': 'Eve  is a figure in the Book of Genesis in the Hebrew Bible as well as a figure in the Quran.',\n",
       " 'evening': 'Evening is the period of time from the end of the afternoon to the beginning of night.',\n",
       " 'evergreen': 'evergreen is a plant that has leaves throughout the year that are always green.',\n",
       " 'everything': 'It is the totality of things relevant to some subject matter.',\n",
       " 'evidence': 'The strongest type of evidence is that which provides direct proof of the truth of an assertion.',\n",
       " 'exchequer': 'Her Majesty’s Exchequer, or just the Exchequer, is the accounting process of central government and the governments current account i.e.',\n",
       " 'excise': 'Excises are typically imposed in addition to an indirect tax such as a sales tax or value-added tax (VAT).',\n",
       " 'exercise': 'Many individuals choose to exercise outdoors where they can congregate in groups, socialize, and enhance well-being.In terms of health benefits, the amount of recommended exercise depends upon the goal, the type of exercise, and the age of the person.',\n",
       " 'existence': 'In philosophy, it refers to the ontological property of being.',\n",
       " 'exp': 'Exp may stand for:* Exponential function, in mathematics* Expiry date of organic compounds like food or medicines* Experience points, in role-playing games* EXPTIME, a complexity class in computing* Ford EXP, a car manufactured in the 1980s* Exp (band), an Italian group in the 1990s* \"EXP\" (song), a song by The Jimi Hendrix Experience from the album Axis: Bold as Love* EXP (calculator key), to enter numbers in scientific or engineering notation',\n",
       " 'expect': 'Expect, originally written in 1990 for the Unix platform, has since become available for Microsoft Windows and other systems.',\n",
       " 'expense': 'For a tenant, rent is an expense.',\n",
       " 'experience': 'A large amount of learning of knowledge and skills is associated with experience, and experience is a necessary, though not always sufficient component of the learning of physical skills.',\n",
       " 'expert': 'Historically, an expert was referred to as a sage (Sophos).',\n",
       " 'expire': 'They were signed to Bridge 9 Records.',\n",
       " 'expired': 'Expired is a 2007 comedy-drama film and the first writer-director credit for Cecilia Miniucchi, whose previous credits include the documentary on the work of artist Hermann Nitsch entitled Nitsch 1998.',\n",
       " 'explanation': 'Thus, an explanation is subjected to interpretation, and discussion.In scientific research, explanation is one of several purposes for empirical research.',\n",
       " 'explicit': 'Explicit refers to something that is specific, clear, or detailed.',\n",
       " 'exploit': 'Exploit means to take advantage of something (a person, situation, etc.)',\n",
       " 'exploration': '-->',\n",
       " 'explosion': 'Supersonic explosions created by high explosives are known as detonations and travel via supersonic shock waves.',\n",
       " 'explosive': 'Materials that detonate (the front of the chemical reaction moves faster through the material than the speed of sound) are said to be \"high explosives\" and materials that deflagrate are said to be \"low explosives\".',\n",
       " 'export': 'An exports reverse counterpart is an import.',\n",
       " 'extinguishment': 'Extinguishment is the destruction of a right or contract.',\n",
       " 'extract': 'extract is a substance made by extracting a part of a raw material, often by using a solvent such as ethanol or water.',\n",
       " 'extrusion': 'The extrusion process can be done with the material hot or cold.',\n",
       " 'exxon': 'Exxon  is the former brand name of oil and natural resources company Exxon Corporation, prior to 1972 known as Standard Oil Company of New Jersey.',\n",
       " 'eye': 'Eyes are organs of the visual system.',\n",
       " 'face': 'face is the front of an animals head that features three of the heads sense organs, the eyes, nose, and mouth, and through which animals express many of their emotions.',\n",
       " 'fact': 'is a cosmological fact.',\n",
       " 'factory': 'Factories may be supplied parts from elsewhere or make them from raw materials.',\n",
       " 'fahd': 'Fahd , also transliterated Fahed or Fahad, can refer to:',\n",
       " 'failure': 'Product failure ranges from failure to sell the product to fracture of the product, in the worst cases leading to personal injury, the province of forensic engineering.',\n",
       " 'fair': 'fair (archaic: faire or fayre), also known as a funfair, is a gathering of people for a variety of entertainment or commercial activities.',\n",
       " 'fairly': 'Fairly is a surname.',\n",
       " 'fairness': 'Fairness or being fair can refer to:* Justice* Equity (law), a legal principle allowing for the use of discretion and fairness when applying justice* Social justice, equality and solidarity in a society* Distributive justice, the perceived appropriateness of the distribution of goods, benefits, and other outcomes in a society, group, or organization (see also:  teleology)* Procedural justice, the perceived appropriateness of rules or procedures used to allocate goods, benefits, and other outcomes (see also:  deontology)* Interactional justice, the perceived appropriateness of interpersonal treatment* Environmental justice, the perceived appropriateness of the use or treatment of the environment or people via the environment, typically as a function of interpersonal or international relations* Perceptions associated with the ventrolateral prefrontal cortex and superior temporal sulcus brain regions, in the case of procedural justice, and the anterior cingulate cortex, anterior insula, and dorsolateral prefrontal cortex, in the case of distributive justice* Fairness, absence of bias in specific realms:** In American broadcasting, presentation of controversies in accord with the Fairness Doctrine ** In computer science, fairness is a property of unbounded nondeterminism** In computer science, and specifically in machine learning, fairness is a desirable property of algorithms to avoid bias.',\n",
       " 'faith': 'Faith, derived from Latin fides and Old French feid, is confidence or trust in a person, thing, or  In the context of religion, one can define faith as confidence or trust in a particular system of religious belief.Religious people often think of faith as confidence based on a perceived degree of warrant,while others who are more skeptical of religion tend to think of faith as simply belief without evidence.',\n",
       " 'familiar': 'The former were often categorised as demons, while the latter were more commonly thought of and described as fairies.',\n",
       " 'family': 'The purpose of families is to maintain the well-being of its members and of society.',\n",
       " 'fargo': 'Fargo usually refers to:* Fargo, North Dakota, United States* Fargo (film), by Joel and Ethan Coen* Fargo (TV series), based on the filmFargo may also refer to:',\n",
       " 'farm': 'In the United States, livestock may be raised on rangeland and finished in feedlots and the mechanization of crop production has brought about a great decrease in the number of agricultural workers needed.',\n",
       " 'farmer': 'by labor and attention, land or crops or raises animals (as livestock or fish).',\n",
       " 'fat': 'Fats that are saturated fats have no double bonds between the carbons in the chain.',\n",
       " 'fatty': 'Fatty is a derogatory term for someone who is obese.',\n",
       " 'fault': 'Fault commonly refers to:*Fault (geology), planar rock fractures showing evidence of relative movement*Fault (law), blameworthiness or responsibilityFault(s) may also refer to:',\n",
       " 'faygo': 'Faygo Beverages, Inc., is a soft drink company headquartered in Detroit, Michigan.',\n",
       " 'fear': 'Thus fear is judged as rational or appropriate and irrational or inappropriate.',\n",
       " 'feb': ')* Federal Executive Boards, in the United States* Federation of Enterprises in Belgium* Flash exposure bracketing* Spanish Basketball Federation (Spanish: )* Federatie Eredivisie Basketball, which runs the Dutch Basketball League* Febmix, a brand of Plasticizer used for creating concrete* Friday Evening Beer',\n",
       " 'february': 'In common years preceding common years, it begins on the same day of the week as August of the following year and ends on the same day of the week as July of the following year.',\n",
       " 'federation': 'Brazil became a federation only after the fall of the monarchy, and Venezuela became a federation after the Federal War.',\n",
       " 'fee': 'A membership fee is charged as part of a subscription business model.',\n",
       " 'feeling': 'Feeling is the nominalization of the verb to feel.',\n",
       " 'fell': 'The term is most often employed in Fennoscandia, the Isle of Man, parts of Northern England, and Scotland.',\n",
       " 'fellner': 'Notable people with the surname include:*Eduardo Fellner (born 1954), Argentine politician*Eric Fellner (born 1959), British film producer*Ferdinand Fellner (architect) (1847–1916), Austrian architect*Ferdinand Fellner (painter) (1799–1869), German designer and painter*Hermann Fellner (born 1950), German politician, representative of the Christian Social Union of Bavaria*Jakab Fellner von Fellenthal, (1722–1780), Moravian-Hungarian architect*Jamie Fellner, Senior Counsel for the United States Program of Human Rights Watch*Liliana Fellner (born 1957), Argentine politician*Rosie Fellner (born 1978), Irish actress*Till Fellner (born 1972), Austrian pianist*Werner Jaffé Fellner (1914–2009), German chemist and university professor*Joe Fellner (born 1931–2018), Hungarian Holocaust survivor Category:German-language surnames',\n",
       " 'fellow': 'These often indicate a different level of scholarship.',\n",
       " 'felt': 'Felt can be made of natural fibers such as wool or animal fur, or from synthetic fibers such as petroleum-based acrylic or acrylonitrile or wood pulp-based rayon.',\n",
       " 'fendt': 'It is part of the AGCO Corporation.',\n",
       " 'ferdinand': 'The French forms are Ferrand, Fernand, and Fernandel, and it is Ferdinando and Fernando in Italian.',\n",
       " 'fernando': 'Fernando is a given name and a surname common in Spain, Portugal, Italy, France, Switzerland, former Spanish or Portuguese colonies in Latin America, Africa and the Philippines, and Sri Lanka (The name was introduced there during the Portuguese occupation) equivalent to the Germanic given name Ferdinand, with an original meaning of \"adventurous, bold journey\".',\n",
       " 'ferrous': 'ferrous indicates a compound that contains iron in the +2 oxidation state, possibly as the divalent cation Fe.',\n",
       " 'ferry': '  ferry is a merchant vessel used to carry passengers, and sometimes vehicles and cargo, across a body of water.',\n",
       " 'fertilizer': 'fertilizer (American English) or fertiliser (British English; see spelling differences) is any material of natural or synthetic origin (other than liming materials) that is applied to soil or to plant tissues to supply one or more plant nutrients essential to the growth of plants.',\n",
       " 'fiber': 'Fiber or fibre (from ) is a natural or man-made substance that is significantly longer than it is wide.',\n",
       " 'fidelity': 'In the City of London financial markets it has traditionally been used in the sense encompassed in the motto \"My word is my bond\".',\n",
       " 'fiduciary': 'The fiduciary has a duty not to be in a situation where personal interests and fiduciary duty conflict, not to be in a situation where their fiduciary duty conflicts with another fiduciary duty, and a duty not to profit from their fiduciary position without knowledge and consent.',\n",
       " 'fiji': 'Its closest neighbours are Vanuatu to the west, New Caledonia to the southwest, New Zealands Kermadec Islands to the southeast, Tonga to the east, the Samoas and Frances Wallis and Futuna to the northeast, and Tuvalu to the north.',\n",
       " 'film': 'The visual basis of film gives it a universal power of communication.',\n",
       " 'fin': 'fin is a thin component or appendage attached to a larger body or structure.',\n",
       " 'finance': 'Finance is the study of money and how it is used.',\n",
       " 'finland': 'Finland is the eighth-largest country in Europe and the most sparsely populated country in the European Union.',\n",
       " 'fire': 'The flame is the visible portion of the fire.',\n",
       " 'first': 'First or 1st is the ordinal form of the number one (#1).First or 1st may also refer to:*World record, specifically the first instance of a particular achievement',\n",
       " 'fish': 'The production of sounds as a means of communication among fish is most often used in the context of feeding, aggression or courtship behaviour.',\n",
       " 'fisher': 'Fisher is an archaic term for a fisherman, revived as gender-neutral.Fisher, Fishers or The Fisher may also refer to:*Fisher (animal) (Pekania pennanti), a North American mustelid*Fisher (surname), an English surname*Fisher (band), a rock band featuring Kathy Fisher as lead singer*Fisher (musician), an Australian house music producer*Fisher (comic strip), a Canadian comic strip by Philip Street*Fisher (yachts), famous British motorsailers*Sergey Golovkin (1959–1996), a Russian serial killer known as \"The Fisher\"',\n",
       " 'fishing': 'In addition to being caught to be eaten, fish are caught as recreational pastimes.',\n",
       " 'fitzwater': 'Notable people with the surname include:*Marlin Fitzwater, former press secretary for presidents Ronald Reagan and George H. W. Bush*Paul Fitzwater, Republican member of the Missouri House of Representatives*Sidney A. Fitzwater, American jurist',\n",
       " 'flag': 'It is used as a symbol, a signalling device, or for decoration.',\n",
       " 'flight': 'This can be achieved by generating aerodynamic lift associated with propulsive thrust, aerostatically using buoyancy, or by ballistic movement.Many things can fly, from natural aviators such as birds, bats, and insects, to human inventions like aircraft, including airplanes, helicopters, balloons, and rockets which may carry spacecraft.The engineering aspects of flight are the purview of aerospace engineering which is subdivided into aeronautics, the study of vehicles that travel through the air, and astronautics, the study of vehicles that travel through space, and ballistics, the study of the flight of projectiles.',\n",
       " 'flights': 'Flights are an English alternative/progressive rock band formed in May 2010 in Bristol.',\n",
       " 'flood': 'flood is an overflow of water that submerges land that is usually dry.',\n",
       " 'floor': 'floor is the bottom surface of a room or vehicle.',\n",
       " 'florida': 'Florida is the flattest state in the United States.',\n",
       " 'flotation': 'Flotation (also spelled floatation) involves phenomena related to the relative buoyancy of objects.The term may also refer to:*Flotation (archaeology), a method for recovering very small artefacts from excavated sediments*Flotation (shares), an initial public offering of stocks or shares in a company*Flotation, any material added to the hull of a watercraft to keep the hull afloat*Flotation, the ability (as of a tire or snowshoes) to stay on the surface of soft ground or snow *\"Floatation\", a 1990 electronic music song by The Grid*Flotation process, in process engineering, a method for the separation of mixtures**Dissolved air flotation (DAF), a water treatment process**Froth flotation, a process for separating hydrophobic from hydrophilic materials**Induced gas flotation, a water treatment process that clarifies wastewaters (or other waters) by the removal of suspended matter such as oil or solids*Flotation therapy, a technique which uses isolation',\n",
       " 'flour': 'Cereal flour is the main ingredient of bread, which is a staple food for most cultures.',\n",
       " 'fluorocarbon': 'Fluorocarbons and their derivatives (perfluorinated compounds) are used as fluoropolymers, refrigerants, solvents, and anesthetics.',\n",
       " 'fly': 'Flies are important pollinators, second only to the bees and their Hymenopteran relatives.',\n",
       " 'foam': 'In open-cell foam, gas pockets connect to each other.',\n",
       " 'following': 'Following is a 1998 British neo-noir crime thriller film written and directed by Christopher Nolan.',\n",
       " 'follows': 'Follows is a surname.',\n",
       " 'food': 'Food is any substance consumed to provide nutritional support for an organism.',\n",
       " 'foodservice': 'Some companies manufacture products in both consumer and foodservice versions.',\n",
       " 'foot': 'In many animals with feet, the foot is a separate organ at the terminal part of the leg made up of one or more segments or bones, generally including claws or nails.',\n",
       " 'foote': 'Notable people with the surname include:*Adam Foote (born 1971), Canadian ice hockey player*Albert E. Foote (1846-1895) American mineralogist *Andrew Hull Foote (1806–1863), American naval officer*Arthur Foote (1853–1937), American composer*Arthur De Wint Foote (1849–1933), American engineer*Callan Foote (born 1998), Canadian ice hockey player*Christopher Spencer Foote (1935–2005), American chemist *Diane Foote (born 1954), New Zealand Olympic gymnast.',\n",
       " 'footwear': '5.000 BCE).',\n",
       " 'forbes': 'The motto of Forbes magazine is \"Change the World\".',\n",
       " 'force': 'If the mass of the object is constant, this law implies that the acceleration of an object is directly proportional to the net force acting on the object, is in the direction of the net force, and is inversely proportional to the mass of the object.Concepts related to force include: thrust, which increases the velocity of an object; drag, which decreases the velocity of an object; and torque, which produces changes in rotational speed of an object.',\n",
       " 'forced': 'It is about gladiators fighting for their freedom in a fantasy arena and are assisted by a spirit-like character called Balfus.',\n",
       " 'forecasting': 'In some cases the data used to predict the variable of interest is itself forecasted.',\n",
       " 'forego': 'Forego (April 30, 1970 – August 27, 1997) was an American Thoroughbred racehorse that won eight Eclipse Awards including Horse of the Year, Champion Handicap Horse and Champion Sprinter.',\n",
       " 'foremost': 'Foremost may also refer to:*Bow (ship), the front of a ship*Foremost, a manufacturer in Canada of equipment for oil & gas, mining, construction and waterwell markets etc*Foremost 105, originally named Empire Greta, a tugboat in the service of the British Government from 1945 to 1947*Foremost 106, originally named Empire Martha, a tugboat in the service of the British Government from 1945 to 1947*Foremost Airport, an airport outside of Foremost, Alberta*Foremost, Alberta, a village in Canada*Foremost Formation, a geological formation in Alberta*Foremost Group, a New York-based shipping company*Foremost Insurance, a mobile home and recreational vehicle insurance company, part of Farmers Insurance Group*Foremost-McKesson, a name previously used by the McKesson Corporation*Foremost (software), a forensic data recovery program',\n",
       " 'forest': 'Forests account for 75% of the gross primary production of the Earths biosphere, and contain 80% of the Earths plant biomass.',\n",
       " 'form': 'Form is the shape, visual appearance, or configuration of an object.',\n",
       " 'forma': 'Both the Latin forma and the English form are used interchangeably as informal terms in biology:* Form (zoology)* Form (botany)',\n",
       " 'former': 'former is an object, such as a template, gauge or cutting die, which is used to form something such as a boats hull.',\n",
       " 'formula': 'formula is a concise way of expressing information symbolically, as in a mathematical formula or a chemical formula.',\n",
       " 'forstmann': 'Forstmann is a German surname.',\n",
       " 'forward': 'Forward may also refer to:',\n",
       " 'fourth': 'Fourth is the ordinal form of the number four.',\n",
       " 'fox': 'Foxes are small to medium-sized, omnivorous mammals belonging to several genera of the family Canidae.',\n",
       " 'fragile': 'It may also refer to:',\n",
       " 'frame': 'frame is often a structural system that supports other components of a physical construction and/or steel frame that limits the constructions extent.Frame and FRAME may also refer to:',\n",
       " 'franc': 'The French franc symbol was F or Fr.',\n",
       " 'france': 'The metropolitan area of France extends from the Mediterranean Sea to the English Channel and the North Sea, and from the Rhine to the Atlantic Ocean.',\n",
       " 'francisco': 'Also, in Spanish Latin America and in the Philippines, people with the name Francisco are called \"Pancho\".',\n",
       " 'frankfurt': 'Messe Frankfurt is one of the worlds largest trade fairs.',\n",
       " 'frans': 'Frans is a common first name, the Dutch version of Francis in English or Franz in German:',\n",
       " 'fraud': 'fraud is intentional deception to secure unfair or unlawful gain, or to deprive a victim of a legal right.',\n",
       " 'frawley': 'Notable people with the surname include:* Arthur J. Frawley (c.1899–1969), American politician* Barbara Frawley (1935–2004), Australian actress and voice artist* Ciarán Frawley (born 1997), Irish rugby union player* Craig Frawley (born 1980), Australian rugby league footballer* Damien Frawley (born 1962), international rugby union player* Dan Frawley (1882–1967), pioneer Australian rugby league footballer* Dan Frawley (ice hockey) (born 1962), Canadian hockey player best known as captain of the Pittsburgh Penguins* Danny Frawley (1963–2019), Australian rules footballer, coach and commentator* David Frawley, American author on Hinduism* Des Frawley (1924–1996), Australian politician* James Frawley (born 1937), American director and actor* James Frawley (Australian rules footballer) (born 1988)* James Frawley (tennis) (born 1994), Australian tennis player* James J. Frawley (1867–1926), New York State Senator and Tammany Hall leader* John Frawley (disambiguation)* Lee Frawley (born 1954), equestrian* Matt Frawley (born 1994), Australian rugby league player* Maurice Frawley (1954–2009), Australian musician* Mick Frawley (1885–1919), Australian rugby league footballer * Rod Frawley (born 1952), Australian tennis player* William Frawley (1887–1966), American actor best known for playing Fred Mertz on I Love Lucy',\n",
       " 'frazier': 'Frazier is a Scottish surname.',\n",
       " 'freedman': 'A fugitive slave is a person who escaped slavery by fleeing.',\n",
       " 'freedom': 'Freedom, generally, is having the ability to act or change without constraint.',\n",
       " 'friction': '*Skin friction is a component of drag, the force resisting the motion of a fluid across the surface of a body.',\n",
       " 'friday': 'In Iran Friday is the last day of the weekend, with Saturday as the first day of the working week.',\n",
       " 'friends': 'The show ranked no.',\n",
       " 'fritz': 'Fritz was also a name given to German troops by the British and others in the First and Second World Wars, equivalent to Tommy, as the British troops were called by German and other troops.',\n",
       " 'frontier': 'A frontier can also be referred to as a \"front\".',\n",
       " 'frost': 'The depth of frost crystals varies depending on the amount of time they have been accumulating, and the concentration of the water vapor (humidity).',\n",
       " 'fructose': 'High-fructose corn syrup is a mixture of glucose and fructose as monosaccharides.',\n",
       " 'fruit': 'Edible fruits, in particular, have propagated with the movements of humans and animals in a symbiotic relationship as a means for seed dispersal and nutrition; in fact, humans and many animals have become dependent on fruits as a source of food.',\n",
       " 'frustration': 'frustration is a common emotional response to opposition, related to anger, annoyance and disappointment.',\n",
       " 'fuel': 'fuel is any material that can be made to react with other substances so that it releases  energy as heat energy or to be used for work.',\n",
       " 'fujian': 'This is reflected in the abbreviation of the provinces name (閩).',\n",
       " 'fujitsu': 'It has approximately 140,000 employees and its products and services are available in over 100 countries.Fujitsu is listed on the Tokyo Stock Exchange and is a constituent of the Nikkei 225 and TOPIX indices.',\n",
       " 'fully': 'Fully is a municipality in the district of Martigny in the canton of Valais in Switzerland.',\n",
       " 'fumio': 'Fumio (written: , , , , , , ,  or  in katakana) is a masculine Japanese given name.',\n",
       " 'funding': 'While this is usually in the form of money, it can also take the form of effort or time from an organization or company.',\n",
       " 'funeral': 'funeral is a ceremony connected with the final disposition of a corpse, such as a burial or cremation, with the attendant observances.',\n",
       " 'furniture': 'Furniture can be a product of design and is considered a form of decorative art.',\n",
       " 'future': 'future is the time after the present.',\n",
       " 'futures': 'Futures may mean:',\n",
       " 'gabon': 'Located on the equator, Gabon is bordered by Equatorial Guinea to the northwest, Cameroon to the north, the Republic of the Congo on the east and south, and the Gulf of Guinea to the west.',\n",
       " 'gaf': 'There are four forms, each used in different places:*  in Perso-Arabic alphabet *  in the Jawi script*  in the Pegon script* in Moroccan Arabic* in Algerian Arabic, Tunisian Arabic and Berber languages* in Pashto*  in Sindhi and SaraikiNote that the standard practice in Egyptian Arabic is to use   for , and in Arabic dialects like Hejazi Arabic and Najdi Arabic the  and   are used instead to represent  e.g.',\n",
       " 'galactic': 'Galactic is an American jam band from New Orleans, Louisiana, United States.',\n",
       " 'galaxy': 'The Milky Way is part of the Local Group, which is dominated by it and the Andromeda Galaxy and is part of the Virgo Supercluster.',\n",
       " 'gallon': 'Three significantly different sizes are in current use: *the imperial gallon, defined as  litres, which is used in the United Kingdom, Canada, and some Caribbean nations;*the US gallon defined as 231 cubic inches (exactly 3.785411784 litres), which is used in the US and some Latin American and Caribbean countries; and *the US dry gallon, defined as  US bushel (exactly 4.40488377086 litres).There are four quarts in a gallon and eight pints in a gallon, and they have different sizes in different systems.The IEEE standard symbol for the gallon is gal.',\n",
       " 'game': 'Often, part of the entertainment for children playing a game is deciding who is part of their audience and who is a player.Key components of games are goals, rules, challenge, and interaction.',\n",
       " 'gao': 'Gao , or Gawgaw/Kawkaw, is a city in Mali and the capital of the Gao Region.',\n",
       " 'garden': 'garden is a planned space, usually outdoors, set aside for the display, cultivation, or enjoyment of plants and other forms of nature.',\n",
       " 'gardini': 'Notable people with this surname include:*Andrea Gardini (born 1965), Italian volleyball player*Carlos Gardini (1948–2017), Argentine translator and science fiction and fantasy writer*Davide Gardini (born 1999), Italian volleyball player *Elisabetta Gardini (born 1956), Italian actress and politician *Fausto Gardini (1930–2008), Italian tennis player*Maria Pia Gardini (1936–2012), Italian entrepreneur and former Scientologist*Raul Gardini (1933–1993), Italian businessman*Renato Gardini (1889–1940), Italian wrestler',\n",
       " 'gartner': 'It is a member of the S&P 500.',\n",
       " 'gas': 'oxygen), or compound molecules made from a variety of atoms (e.g.',\n",
       " 'gasoline': 'Gasoline contains benzene and other known carcinogens.',\n",
       " 'gateway': 'Gateway often refers to:*A gate or portalGateway or The Gateway may also refer to:',\n",
       " 'gear': 'Two or more meshing gears, working in a sequence, are called a gear train or a transmission.',\n",
       " 'gelco': 'It is now part of Concur Technologies.',\n",
       " 'gene': 'gene is a sequence of nucleotides in DNA or RNA that encodes the synthesis of a gene product, either RNA or protein.',\n",
       " 'generation': 'generation is \"all of the people born and living at about the same time, regarded collectively.\"',\n",
       " 'genetics': 'dominance), and within the context of a population.',\n",
       " 'geneva': 'In 2017, Geneva was ranked as the seventh most expensive city in the world.',\n",
       " 'geography': 'Human geography deals with the study of people and their communities, cultures, economies, and interactions with the environment by studying their relations with and across space and place.',\n",
       " 'georgia': 'Georgia usually refers to:* Georgia (country), a country in the Caucasus region of Eurasia* Georgia (U.S. state), one of the states of the United States of AmericaGeorgia may also refer to:',\n",
       " 'gephardt': 'Gephardt is a surname.',\n",
       " 'gerald': 'People with the name Gerald include:',\n",
       " 'gerard': 'A few abbreviated forms are Gerry and Jerry (English);  Gerd (German) and Gert (Afrikaans and Dutch); Gerrit (Afrikaans and Dutch); Gertjie (Afrikaans); Geert (Dutch) and Жоро (Bulgarian).The introduction of the name Gerard into the English language took place following the Norman conquest of England in 1066.',\n",
       " 'germans': 'German is the shared mother tongue of a substantial majority of ethnic Germans.The English term Germans  has historically referred to the German-speaking population of the Holy Roman Empire since the Late Middle Ages.',\n",
       " 'germany': 'It is part of the Schengen Area and became a co-founder of the Eurozone in 1999.',\n",
       " 'germination': 'The most common example of germination is the sprouting of a seedling from a seed of an angiosperm or gymnosperm.',\n",
       " 'gesture': 'Gestures include movement of the hands, face, or other parts of the body.',\n",
       " 'ghana': 'Spanning a land mass of , Ghana is bordered by the Ivory Coast in the west, Burkina Faso in the north, Togo in the east, and the Gulf of Guinea and Atlantic Ocean in the south.',\n",
       " 'giant': 'The antagonist in \"Jack and the Beanstalk\" is often described as a giant.',\n",
       " 'gibraltar': 'It has an area of  and is bordered to the north by Spain.',\n",
       " 'gillette': 'In July 2007, Global Gillette was dissolved and incorporated into Procter & Gambles other two main divisions, Procter & Gamble Beauty and Procter & Gamble Household Care.',\n",
       " 'given': 'given is a statement or a condition assumed to be true or known, often to explain or give an example of something; for related topics, see:* Presumption (in law)* Axiom (in formal logic)* Givenness (in discourse)* Conditional probability, usually expressed using the term \"given\"Given may also refer to:* Given, Iran, or Givan, a village in West Azerbaijan, Iran* Given, West Virginia, a settlement in the United States* Given Imaging, an Israeli medical technology company* \"Given\", a song by Seether from Karma and Effect* Given (manga), a Japanese boys love manga series',\n",
       " 'glass': 'Glass is most often formed by rapid cooling (quenching) of the molten form, some glasses such as volcanic glass are naturally occurring.',\n",
       " 'glatfelter': 'U.S. operations include papermaking facilities in Spring Grove, Pennsylvania; and Chillicothe and Fremont, Ohio; as well as woodyard operations in Washington, West Virginia; Piketon, Ohio; and Delmar, Maryland.',\n",
       " 'glen': 'glen is a valley, typically one that is long and bounded by gently sloped concave sides, unlike a ravine, which is deep and bounded by steep slopes.',\n",
       " 'glickman': 'Notable people with the surname include:*Dan Glickman (born 1944), American politician*Dov Glickman, Israeli actor*Harry Glickman (born 1924), founder of the National Basketball Associations Portland Trail Blazers*Irving Glickman (1914–1972), American periodontist*Jonathan Glickman (born 1969), American film producer*Kevon Glickman (born 1960), American music producer and entertainment lawyer*Lawrence B. Glickman (born 1963), American historian*Marty Glickman (1917–2001), American track and field athlete and sports announcer*Mort Glickman (1898–1953), American composer*Stephen H. Glickman, American judge*Stephen Kramer Glickman (born 1979), American actor*Susan Glickman (born 1953), Canadian writer and critic*Sylvia Glickman, composer*Todd Glickman (born 1956), American meteorologist*Will Glickman (1910–1983), American playwright',\n",
       " 'global': 'Global means of or referring to a globe and may also refer to:',\n",
       " 'globe': 'A model globe of the celestial sphere is called a celestial globe.A globe shows details of its subject.',\n",
       " 'gloomy': 'Gloomy can refer to:*melancholia*The song Gloomy Sunday*The song Gloomy from the self-titled album Creedence Clearwater Revival*The Gloomy Dean, nickname of William Ralph Inge*Gloomy Bear, a fictional character *Gloomy Galleon*Someone who is easily saddened or depressed',\n",
       " 'goal': 'goal is an idea of the future or desired result that a person or a group of people envision, plan and commit to achieve.',\n",
       " 'gobert': 'Gobert is a surname, notable people with the surname include:*Jacques-Nicolas Gobert (1760–1808), French general*André Gobert, tennis player*Anthony Gobert, motorcycle road racer*Dedrick D. Gobert, actor*Émile Joseph Isidore Gobert*Pierre Gobert, painter*Rudy Gobert, basketball playermountain in thuringia see  Gobert',\n",
       " 'goes': 'Goes () is a city and municipality in the southwestern Netherlands on Zuid-Beveland, in the province of Zeeland.',\n",
       " 'gold': 'Chemically, gold is a transition metal and a group 11 element.',\n",
       " 'golden': 'Golden means made of, or relating to gold.Golden may also refer to:',\n",
       " 'goldman': '* William Goldman (1931-2018), American screenwriter and author* Yoel Goldman (born 1980), American real estate developer* Yosef Goldman, scholar and author',\n",
       " 'goldsmith': 'The trade has very often included jewellery-making skills, as well as the very similar skills of the silversmith.',\n",
       " ...}"
      ]
     },
     "execution_count": 63,
     "metadata": {},
     "output_type": "execute_result"
    }
   ],
   "source": [
    "encyclopedia_same"
   ]
  },
  {
   "cell_type": "code",
   "execution_count": 64,
   "metadata": {},
   "outputs": [
    {
     "data": {
      "text/plain": [
       "'Hanover or Hannover  is the capital and largest city of the German state of Lower Saxony.'"
      ]
     },
     "execution_count": 64,
     "metadata": {},
     "output_type": "execute_result"
    }
   ],
   "source": [
    "encyclopedia_same[\"hanover\"]"
   ]
  },
  {
   "cell_type": "markdown",
   "metadata": {},
   "source": [
    "## Conclusão"
   ]
  },
  {
   "cell_type": "markdown",
   "metadata": {},
   "source": [
    "Em posse da enciclopédia, construída sobre o modelo treinado com o próprio contexto de cada palavra-chave, pode-se observar que em grande parte, as descrições são sentenças pertinentes, porém há palavras com descrições inadequadas, isso pode ter ocorrido devido a essas palavras terem um documento com muito pouco conteúdo escrito, prejudicando o treinamento do modelo para a análise de perplexidade."
   ]
  }
 ],
 "metadata": {
  "kernelspec": {
   "display_name": "Python 3",
   "language": "python",
   "name": "python3"
  },
  "language_info": {
   "codemirror_mode": {
    "name": "ipython",
    "version": 3
   },
   "file_extension": ".py",
   "mimetype": "text/x-python",
   "name": "python",
   "nbconvert_exporter": "python",
   "pygments_lexer": "ipython3",
   "version": "3.7.6"
  }
 },
 "nbformat": 4,
 "nbformat_minor": 4
}
