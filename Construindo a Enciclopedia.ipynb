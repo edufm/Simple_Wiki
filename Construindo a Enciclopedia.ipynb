{
 "cells": [
  {
   "cell_type": "markdown",
   "metadata": {},
   "source": [
    "# Construindo uma enciclopedia"
   ]
  },
  {
   "cell_type": "markdown",
   "metadata": {},
   "source": [
    "Este projeto consiste na criação de uma enciclopédia utilizando conceitos de processamento de linguagem natural, neste são implementados etapas como extração de palavras de documentos do corpus reuters, extração de conteúdos da api do wikipedia referente a cada palavra, processamento desses conteúdos retirando caracteres e textos desnecessários, e treinamento de um modelo para selecionar as melhores descrições das palavras com análises de perplexidade."
   ]
  },
  {
   "cell_type": "markdown",
   "metadata": {},
   "source": [
    "## Importa dependências"
   ]
  },
  {
   "cell_type": "code",
   "execution_count": 1,
   "metadata": {},
   "outputs": [],
   "source": [
    "# importe de bibliotecas\n",
    "import re\n",
    "import nltk\n",
    "from nltk.corpus import reuters\n",
    "from nltk.lm.preprocessing import padded_everygram_pipeline\n",
    "from nltk.lm import MLE, Laplace\n",
    "\n",
    "import requests\n",
    "\n",
    "import json\n",
    "from joblib import Parallel, delayed\n",
    "\n",
    "import math\n",
    "from time import sleep"
   ]
  },
  {
   "cell_type": "code",
   "execution_count": 31,
   "metadata": {},
   "outputs": [
    {
     "name": "stderr",
     "output_type": "stream",
     "text": [
      "[nltk_data] Downloading package reuters to\n",
      "[nltk_data]     C:\\Users\\EduardoFM\\AppData\\Roaming\\nltk_data...\n",
      "[nltk_data]   Package reuters is already up-to-date!\n",
      "[nltk_data] Downloading package punkt to\n",
      "[nltk_data]     C:\\Users\\EduardoFM\\AppData\\Roaming\\nltk_data...\n",
      "[nltk_data]   Unzipping tokenizers\\punkt.zip.\n"
     ]
    }
   ],
   "source": [
    "# Download do nltk\n",
    "if True:\n",
    "    nltk.download('reuters')\n",
    "    nltk.download('punkt')"
   ]
  },
  {
   "cell_type": "markdown",
   "metadata": {},
   "source": [
    "## Importa o dataset de palavras a serem estudadas"
   ]
  },
  {
   "cell_type": "code",
   "execution_count": 5,
   "metadata": {},
   "outputs": [
    {
     "data": {
      "text/plain": [
       "['asian', 'exporters', 'fear', 'damage', 'from', 'u', '.', 's', '.-', 'japan']"
      ]
     },
     "execution_count": 5,
     "metadata": {},
     "output_type": "execute_result"
    }
   ],
   "source": [
    "# Cria a lista de palavras\n",
    "words = list(map(str.lower, reuters.words()))\n",
    "words[0:10]"
   ]
  },
  {
   "cell_type": "code",
   "execution_count": 6,
   "metadata": {},
   "outputs": [
    {
     "data": {
      "text/plain": [
       "['connection',\n",
       " 'inc',\n",
       " 'rejecting',\n",
       " 'drawing',\n",
       " 'surprise',\n",
       " 'principally',\n",
       " 'arbitragers',\n",
       " 'pursuant',\n",
       " 'photo',\n",
       " 'ixl']"
      ]
     },
     "execution_count": 6,
     "metadata": {},
     "output_type": "execute_result"
    }
   ],
   "source": [
    "# filtra as palavras de acordo com os critérios definidos\n",
    "freq_reuters = nltk.FreqDist(words)\n",
    "filtered = list(set(word for word in words if (freq_reuters[word] > 5 and len(word) > 2 and re.fullmatch(r\"[a-z]*\", word))))\n",
    "\n",
    "filtered[0: 10]"
   ]
  },
  {
   "cell_type": "code",
   "execution_count": 7,
   "metadata": {},
   "outputs": [],
   "source": [
    "# ordena a lista e salva em um arquivo para evitar uma nova leitura\n",
    "filtered = sorted(filtered)\n",
    "\n",
    "with open(\"storage/good_words.txt\", \"w\") as dump:\n",
    "    for word in filtered:\n",
    "        dump.write(f\"{word}\\n\")"
   ]
  },
  {
   "cell_type": "markdown",
   "metadata": {},
   "source": [
    "## Faz os downloads das paginas da wikipédia para construir o dataset"
   ]
  },
  {
   "cell_type": "code",
   "execution_count": 8,
   "metadata": {},
   "outputs": [],
   "source": [
    "# Le o bloco de notas com as palavras\n",
    "with open(\"storage/good_words.txt\", \"r\") as load:\n",
    "    good_words = load.read().split(\"\\n\")"
   ]
  },
  {
   "cell_type": "code",
   "execution_count": 9,
   "metadata": {},
   "outputs": [],
   "source": [
    "# Define os parametros para a API\n",
    "BATCH_SIZE = 50\n",
    "URL = \"https://en.wikipedia.org/w/api.php\"\n",
    "PARAMS = {\n",
    "    \"action\": \"query\",\n",
    "    \"prop\": \"revisions\",\n",
    "    \"rvprop\": \"content\",\n",
    "    \"rvslots\": \"main\",\n",
    "    \"rvsection\": \"0\",\n",
    "    \"titles\": \"\",\n",
    "    \"format\": \"json\",\n",
    "}\n",
    "\n",
    "# Define uma função para dividir os batches\n",
    "def split_batches(words, batch_size=BATCH_SIZE):\n",
    "    k = 0\n",
    "    while k < len(words):\n",
    "        yield words[k:(k + batch_size)]\n",
    "        k += batch_size\n",
    "\n",
    "main_texts = {}\n",
    "error_log = []\n",
    "\n",
    "# Inicia a seção\n",
    "S = requests.Session()"
   ]
  },
  {
   "cell_type": "code",
   "execution_count": 10,
   "metadata": {},
   "outputs": [
    {
     "name": "stdout",
     "output_type": "stream",
     "text": [
      "9179 palavras boas para baixar\n",
      "\n",
      "Processando batch #00184\n",
      "\n",
      "Download concluido\n"
     ]
    }
   ],
   "source": [
    "print(f\"{len(good_words)} palavras boas para baixar\")\n",
    "print()\n",
    "\n",
    "# realiza o fetch para cada batch das palavras inicialmente boas\n",
    "for k, batch in enumerate(split_batches(good_words)):\n",
    "    try:\n",
    "        print(f'\\rProcessando batch #{k + 1:05}', end='')\n",
    "        PARAMS['titles'] = '|'.join(batch)\n",
    "        r = S.get(url=URL, params=PARAMS)\n",
    "        r_json = r.json()\n",
    "\n",
    "        # Reverse map of normalized titles.\n",
    "        title_map = {}\n",
    "        for item in r_json['query']['normalized']:\n",
    "            title_map[item['to']] = item['from']\n",
    "            \n",
    "        # Get texts.\n",
    "        texts = {}\n",
    "        for pageid, page_content in r_json['query']['pages'].items():\n",
    "            if int(pageid) < 0:\n",
    "                continue\n",
    "            text = page_content['revisions'][0]['slots']['main']['*']\n",
    "            if page_content['title'] in title_map:\n",
    "                w = title_map[page_content['title']]\n",
    "            else:\n",
    "                w = page_content['title']\n",
    "                \n",
    "            texts[w] = text\n",
    "\n",
    "        # Add to global dict.\n",
    "        main_texts.update(texts)\n",
    "\n",
    "    except Exception as e:\n",
    "        error_log.append((e, r))\n",
    "        \n",
    "print()\n",
    "print()\n",
    "print(\"Download concluido\")"
   ]
  },
  {
   "cell_type": "markdown",
   "metadata": {},
   "source": [
    "### Realiza a busca das palavras com redirecionamento"
   ]
  },
  {
   "cell_type": "code",
   "execution_count": 11,
   "metadata": {},
   "outputs": [],
   "source": [
    "# Fução para limpar as palavras encontradas no redirected\n",
    "def treat_redirected(text):\n",
    "    \n",
    "    text = text.split(\"[\")[-1].split(\"]\")[0].split(\" (\")[0]\n",
    "    text = text.strip(\" \")\n",
    "    \n",
    "    if (re.fullmatch(r\"[a-z_ ]*\", text.lower())):\n",
    "        return text\n",
    "    \n",
    "    return \"Remove Me\""
   ]
  },
  {
   "cell_type": "code",
   "execution_count": 12,
   "metadata": {},
   "outputs": [
    {
     "name": "stdout",
     "output_type": "stream",
     "text": [
      "2157 palavras redirecionadas para baixar\n",
      "\n",
      "Processando batch #00044\n",
      "\n",
      "Download concluido\n"
     ]
    }
   ],
   "source": [
    "# Procura nos textos recebidos palavras que não tiveram a pagina enontrada\n",
    "redirected_words = list(set(treat_redirected(main_texts[word]) for word in main_texts.keys() if \"#redirect\" in main_texts[word][:50].lower()))\n",
    "try:\n",
    "    redirect.remove(\"Remove Me\")\n",
    "except:\n",
    "    pass\n",
    "\n",
    "print(f\"{len(redirected_words)} palavras redirecionadas para baixar\")\n",
    "print()\n",
    "\n",
    "# realiza o fetch para cada batch das palavras redirecionadas\n",
    "for k, batch in enumerate(split_batches(redirected_words)):\n",
    "    try:\n",
    "        print(f'\\rProcessando batch #{k + 1:05}', end='')\n",
    "        PARAMS['titles'] = '|'.join(batch)\n",
    "        r = S.get(url=URL, params=PARAMS)\n",
    "        r_json = r.json()\n",
    "\n",
    "        # Reverse map of normalized titles.\n",
    "        title_map = {}\n",
    "        for item in r_json['query']['normalized']:\n",
    "            title_map[item['to']] = item['from']\n",
    "            \n",
    "        # Get texts.\n",
    "        texts = {}\n",
    "        for pageid, page_content in r_json['query']['pages'].items():\n",
    "            if int(pageid) < 0:\n",
    "                continue\n",
    "            text = page_content['revisions'][0]['slots']['main']['*']\n",
    "            if page_content['title'] in title_map:\n",
    "                w = title_map[page_content['title']]\n",
    "            else:\n",
    "                w = page_content['title']\n",
    "                \n",
    "            texts[w.lower()] = text\n",
    "\n",
    "        # Add to global dict.\n",
    "        main_texts.update(texts)\n",
    "\n",
    "    except Exception as e:\n",
    "        error_log.append((e, r))\n",
    "        \n",
    "print()\n",
    "print()\n",
    "print(\"Download concluido\")"
   ]
  },
  {
   "cell_type": "markdown",
   "metadata": {},
   "source": [
    "### Remocão de páginas sem Conteudo"
   ]
  },
  {
   "cell_type": "code",
   "execution_count": 13,
   "metadata": {},
   "outputs": [
    {
     "name": "stdout",
     "output_type": "stream",
     "text": [
      "2663 paginas redirecionadas para remover\n",
      "2651 paginas de desambiguação para remover\n",
      "32 paginas com erro\n"
     ]
    }
   ],
   "source": [
    "# Retira da lista palavras que foram redirecionadas\n",
    "words = main_texts.keys()\n",
    "not_good_data = list(set(word for word in words if \"#redirect\" in main_texts[word][:50].lower()))\n",
    "print(f\"{len(not_good_data)} paginas redirecionadas para remover\")\n",
    "for word in not_good_data:\n",
    "    main_texts.pop(word)\n",
    "    \n",
    "# Retira palavras que vão para as paginas de desambiguação\n",
    "words = main_texts.keys()\n",
    "not_good_data = list(set(word for word in words if \"may refer to:\" in main_texts[word]))\n",
    "print(f\"{len(not_good_data)} paginas de desambiguação para remover\")\n",
    "for word in not_good_data:\n",
    "    main_texts.pop(word)\n",
    "    \n",
    "# Retira palavras que vão para as paginas muito curtas\n",
    "words = main_texts.keys()\n",
    "not_good_data = list(set(word for word in words if \"{{Short pages monitor}}\" in main_texts[word]))\n",
    "not_good_data = list(set(not_good_data + [word for word in words if \"{{wiktionary redirect}}\" in main_texts[word]]))\n",
    "\n",
    "print(f\"{len(not_good_data)} paginas com erro\")\n",
    "for word in not_good_data:\n",
    "    main_texts.pop(word)"
   ]
  },
  {
   "cell_type": "code",
   "execution_count": 14,
   "metadata": {
    "scrolled": false
   },
   "outputs": [],
   "source": [
    "# Exporta os resultados para arquivos\n",
    "with open('storage/texts.json', 'w') as f:\n",
    "    json.dump(main_texts, f, indent=4)\n",
    "\n",
    "with open('storage/errors.txt', 'w') as f:\n",
    "    for e, r in error_log:\n",
    "        f.write(f'{e} ({type(e)})\\nConteudo:\\n{r.headers}\\n{\"*\"*100}\\n')"
   ]
  },
  {
   "cell_type": "markdown",
   "metadata": {},
   "source": [
    "## Realia a limpeza dos textos"
   ]
  },
  {
   "cell_type": "code",
   "execution_count": 15,
   "metadata": {},
   "outputs": [],
   "source": [
    "# Le o bloco de notas com as palavras\n",
    "with open(\"storage/texts.json\", \"r\") as load:\n",
    "    main_texts = json.load(load)"
   ]
  },
  {
   "cell_type": "markdown",
   "metadata": {},
   "source": [
    "### Demonstração da limpeza"
   ]
  },
  {
   "cell_type": "code",
   "execution_count": 16,
   "metadata": {},
   "outputs": [],
   "source": [
    "sample = \"hanover\""
   ]
  },
  {
   "cell_type": "code",
   "execution_count": 17,
   "metadata": {
    "scrolled": true
   },
   "outputs": [
    {
     "data": {
      "text/plain": [
       "'{{about|the German city|other uses|Hanover (disambiguation)}}\\n{{Redirect|Hannover}}\\n{{short description|Capital of Lower Saxony, Germany}}\\n{{Infobox German location\\n|name               = Hanover\\n|German_name        = Hannover\\n|type               = City\\n|image_photo        = {{Photomontage|position=center\\n| photo1a = Hannover Blick Neues Rathaus 01.jpg\\n| photo2a = Hannover_old_townhall_Karmarschstrasse_Mitte_Hannover_Germany_01.jpg\\n| photo2b = Marktkirche_St_Georgii_et_Jacobi_Mitte_Hannover_Germany.jpg\\n| photo3a = Herrenhäuser gärten 2.jpg\\n| photo3b = Neues Rathaus bei Nacht.jpg\\n| photo4a = Universität Hannover - Hauptgebäude - B02.jpg\\n   | size = 280\\n   | spacing = 2\\n   | color = #FFFFFF\\n   | border = 0\\n}}\\n|image_caption = Clockwise from top: View over the city centre, [[Marktkirche St. Georgii et Jacobi|Market Church of Sts. George and James]], [[New Town Hall (Hanover)|New Town Hall]], [[University of Hanover]], [[Herrenhausen Gardens]], [[Altes Rathaus, Hanover|Old Town Hall]]\\n|image_flag         = Flagge Hanover.svg\\n|image_coa          = Coat of arms of Hannover.svg\\n|coordinates        = {{coord|52|22|N|9|43|E|format=dms|display=inline,title}}\\n|image_plan         = Hannover in H.svg\\n|state              = Lower Saxony\\n|district           = Hannover\\n|elevation          = 55\\n|area               = 204.01\\n|area_metro         = <!-- Metropolitan area, in km². XXX.XX (no commas or other text) -->\\n<!-- |population         = 518386  filled via Gemeindeschlüssel \\n|pop_date              = 31 December 2013\\n|pop_ref            = <ref>{{cite web |url=http://www.statistik.niedersachsen.de/portal/live.php?navigation_id=25688&article_id=87673&_psmand=40|title=Themenbereich: Bevölkerung - Tabellen |access-date=2014-04-03 |language=de}}</ref>\\n-->\\n|pop_metro          = 1119032\\n|postal_code        = 30001 - 30669\\n|area_code          = 0511\\n|licence            = H\\n|Gemeindeschlüssel  = 03 2 41 001\\n|NUTS               = <!-- NUTS value: DEXXX  - WILL \\'\\'not\\'\\' BE DISPLAYED -->\\n|LOCODE             = DE HAJ\\n|divisions          = 13 districts\\n|website            = [https://www.hannover.de/ www.hannover.de]|\\n|mayor              = [[Belit Onay]]\\n|Bürgermeistertitel = Oberbürgermeister\\n|party              = Greens\\n|ruling_party1      = SPD\\n|ruling_party2      = Greens\\n<ref>{{Cite web|url=https://www.haz.de/Hannover/Aus-der-Stadt/Rathausaffaere-Oberbuergermeister-Stefan-Schostok-tritt-zurueck|title=Oberbürgermeister Stefan Schostok tritt zurück|website=HAZ – Hannoversche Allgemeine|language=de|access-date=2019-06-14}}</ref>\\n}}\\n\\n\\'\\'\\'Hanover\\'\\'\\' ({{IPAc-en|ˈ|h|æ|n|oʊ|v|ər|,_|-|n|ə|v|-}}; {{lang-de|Hannover}} {{IPA-de|haˈnoːfɐ||De-Hannover.ogg}}; {{lang-nds|Hannober}}) is the capital and largest city of the German [[States of Germany|state]] of [[Lower Saxony]]. Its 535,061 (2017) inhabitants make it the [[List of cities in Germany by population|13th-largest city]] in [[Germany]] as well as the third-largest city in [[Northern Germany]] after [[Hamburg]] and [[Bremen]]. Hanover\\'s [[urban area]] comprises the towns of [[Garbsen]], [[Langenhagen]] and [[Laatzen]] and has a population of about 791,000 (2018).<ref>{{Cite web |url=https://citypopulation.de/en/germany/urbanareas/ |title=Germany: Urban Areas |website=citypopulation.de |access-date=2020-07-02}}</ref> The [[Hanover Region]] has approximately 1.16 million inhabitants (2019).<ref>{{Cite web |url=https://de.statista.com/statistik/daten/studie/374885/umfrage/entwicklung-der-gesamtbevoelkerung-der-region-hannover/ |title=Entwicklung der Einwohnerzahl in der Region Hannover (Landkreis) von 1995 bis 2019 |website=Statista |language=de |access-date=2020-07-02}}</ref>\\n\\nThe city lies at the [[confluence]] of the [[River Leine]] (progression: {{PAller}}) and its [[tributary]] [[Ihme]], in the south of the [[North German Plain]], and is the largest city in the [[Hannover–Braunschweig–Göttingen–Wolfsburg Metropolitan Region]]. It is the fifth-largest city in the [[Low German]] dialect area after Hamburg, [[Dortmund]], [[Essen]] and Bremen.\\n\\nBefore it became the capital of Lower Saxony in 1946, Hanover was the capital of the [[Principality of Calenberg]] (1636–1692), the [[Electorate of Hanover]] (1692–1814), the [[Kingdom of Hanover]] (1814–1866), the [[Province of Hanover]] of the [[Kingdom of Prussia]] (1868–1918), the [[Province of Hanover]] of the [[Free State of Prussia]] (1918–1946) and of the [[State of Hanover]] (1946). From 1714 to 1837 Hanover was by [[personal union]] the family seat of the [[House of Hanover|Hanoverian Kings of the United Kingdom of Great Britain and Ireland]], under their title of the dukes of [[Duchy of Brunswick-Lüneburg|Brunswick-Lüneburg]] (later described as the [[Electorate of Hanover|Elector of Hanover]]).\\n\\nThe city is a major crossing point of railway lines and motorways ([[Autobahn]]en), connecting European main lines in both the east-west ([[Berlin]]–[[Ruhr|Ruhr area]]/[[Düsseldorf]]/[[Cologne]]) and north-south ([[Hamburg]]–[[Frankfurt]]/[[Stuttgart]]/[[Munich]]) directions. [[Hannover Airport]] lies north of the city, in [[Langenhagen]], and is Germany\\'s ninth-busiest airport. The city\\'s most notable institutes of higher education are the [[Hannover Medical School]] (\\'\\'Medizinische Hochschule Hannover\\'\\'), one of Germany\\'s leading [[medical school]]s, with its [[university hospital]] \\'\\'Klinikum der Medizinischen Hochschule Hannover\\'\\', and the [[Leibniz University Hannover]].\\n\\nThe [[Hanover fairground]], owing to numerous extensions, especially for the [[Expo 2000]], is the largest in the world. Hanover hosts annual commercial [[World\\'s fair|trade fairs]] such as the [[Hanover Fair]] and up to 2018 the [[CeBIT]]. The IAA Commercial Vehicles show takes place every two years. It is the world\\'s leading trade show for transport, logistics and mobility. Every year Hanover hosts the [[Schützenfest Hannover]], the world\\'s largest marksmen\\'s festival, and the [[Oktoberfest celebrations#Hannover|Oktoberfest Hannover]].\\n\\n\\'Hanover\\' is the traditional English spelling. The German spelling (with a double n) is becoming more popular in English; recent editions of encyclopedias prefer the German spelling,<ref>[http://www.britannica.com/EBchecked/topic/254472/Hannover Encyclopædia Britannica] uses \\'Hannover\\'. It says \"\\'\\'English\\'\\' Hanover\" but uses \\'Hannover\\' in the text.</ref><ref>[http://www.britannica.com/EBchecked/topic/254472/Hannover Microsoft Encarta] gives the primary spelling as \\'Hannover\\'.</ref> and the local government uses the German spelling on English websites.<ref>{{cite web|url=http://www.hannover.de/english/ |title=Official Website of the City and Region of Hannover |publisher=Hannover.de |date=2009-10-27 |access-date=2011-04-07}}</ref> The English pronunciation, with [[Stress (linguistics)|stress]] on the first syllable, is applied to both the [[German language|German]] and [[English language|English]] spellings, which is different from German pronunciation, with stress on the second syllable and a long second vowel. The traditional English spelling is still used in historical contexts, especially when referring to the British [[House of Hanover]].'"
      ]
     },
     "execution_count": 17,
     "metadata": {},
     "output_type": "execute_result"
    }
   ],
   "source": [
    "# Define a variavel de teste\n",
    "clean = main_texts[sample]\n",
    "clean"
   ]
  },
  {
   "cell_type": "code",
   "execution_count": 18,
   "metadata": {
    "scrolled": true
   },
   "outputs": [
    {
     "data": {
      "text/plain": [
       "\"{{about|the German city|other uses|Hanover (disambiguation)}}\\n{{Redirect|Hannover}}\\n{{short description|Capital of Lower Saxony, Germany}}\\n{{Infobox German location\\n|name               = Hanover\\n|German_name        = Hannover\\n|type               = City\\n|image_photo        = {{Photomontage|position=center\\n| photo1a = Hannover Blick Neues Rathaus 01.jpg\\n| photo2a = Hannover_old_townhall_Karmarschstrasse_Mitte_Hannover_Germany_01.jpg\\n| photo2b = Marktkirche_St_Georgii_et_Jacobi_Mitte_Hannover_Germany.jpg\\n| photo3a = Herrenhäuser gärten 2.jpg\\n| photo3b = Neues Rathaus bei Nacht.jpg\\n| photo4a = Universität Hannover - Hauptgebäude - B02.jpg\\n   | size = 280\\n   | spacing = 2\\n   | color = #FFFFFF\\n   | border = 0\\n}}\\n|image_caption = Clockwise from top: View over the city centre, [[Marktkirche St. Georgii et Jacobi|Market Church of Sts. George and James]], [[New Town Hall (Hanover)|New Town Hall]], [[University of Hanover]], [[Herrenhausen Gardens]], [[Altes Rathaus, Hanover|Old Town Hall]]\\n|image_flag         = Flagge Hanover.svg\\n|image_coa          = Coat of arms of Hannover.svg\\n|coordinates        = {{coord|52|22|N|9|43|E|format=dms|display=inline,title}}\\n|image_plan         = Hannover in H.svg\\n|state              = Lower Saxony\\n|district           = Hannover\\n|elevation          = 55\\n|area               = 204.01\\n|area_metro         = <!-- Metropolitan area, in km². XXX.XX (no commas or other text) -->\\n<!-- |population         = 518386  filled via Gemeindeschlüssel \\n|pop_date              = 31 December 2013\\n|pop_ref            = \\n-->\\n|pop_metro          = 1119032\\n|postal_code        = 30001 - 30669\\n|area_code          = 0511\\n|licence            = H\\n|Gemeindeschlüssel  = 03 2 41 001\\n|NUTS               = <!-- NUTS value: DEXXX  - WILL ''not'' BE DISPLAYED -->\\n|LOCODE             = DE HAJ\\n|divisions          = 13 districts\\n|website            = [https://www.hannover.de/ www.hannover.de]|\\n|mayor              = [[Belit Onay]]\\n|Bürgermeistertitel = Oberbürgermeister\\n|party              = Greens\\n|ruling_party1      = SPD\\n|ruling_party2      = Greens\\n\\n}}\\n\\n'''Hanover''' ({{IPAc-en|ˈ|h|æ|n|oʊ|v|ər|,_|-|n|ə|v|-}}; {{lang-de|Hannover}} {{IPA-de|haˈnoːfɐ||De-Hannover.ogg}}; {{lang-nds|Hannober}}) is the capital and largest city of the German [[States of Germany|state]] of [[Lower Saxony]]. Its 535,061 (2017) inhabitants make it the [[List of cities in Germany by population|13th-largest city]] in [[Germany]] as well as the third-largest city in [[Northern Germany]] after [[Hamburg]] and [[Bremen]]. Hanover's [[urban area]] comprises the towns of [[Garbsen]], [[Langenhagen]] and [[Laatzen]] and has a population of about 791,000 (2018). The [[Hanover Region]] has approximately 1.16 million inhabitants (2019).\\n\\nThe city lies at the [[confluence]] of the [[River Leine]] (progression: {{PAller}}) and its [[tributary]] [[Ihme]], in the south of the [[North German Plain]], and is the largest city in the [[Hannover–Braunschweig–Göttingen–Wolfsburg Metropolitan Region]]. It is the fifth-largest city in the [[Low German]] dialect area after Hamburg, [[Dortmund]], [[Essen]] and Bremen.\\n\\nBefore it became the capital of Lower Saxony in 1946, Hanover was the capital of the [[Principality of Calenberg]] (1636–1692), the [[Electorate of Hanover]] (1692–1814), the [[Kingdom of Hanover]] (1814–1866), the [[Province of Hanover]] of the [[Kingdom of Prussia]] (1868–1918), the [[Province of Hanover]] of the [[Free State of Prussia]] (1918–1946) and of the [[State of Hanover]] (1946). From 1714 to 1837 Hanover was by [[personal union]] the family seat of the [[House of Hanover|Hanoverian Kings of the United Kingdom of Great Britain and Ireland]], under their title of the dukes of [[Duchy of Brunswick-Lüneburg|Brunswick-Lüneburg]] (later described as the [[Electorate of Hanover|Elector of Hanover]]).\\n\\nThe city is a major crossing point of railway lines and motorways ([[Autobahn]]en), connecting European main lines in both the east-west ([[Berlin]]–[[Ruhr|Ruhr area]]/[[Düsseldorf]]/[[Cologne]]) and north-south ([[Hamburg]]–[[Frankfurt]]/[[Stuttgart]]/[[Munich]]) directions. [[Hannover Airport]] lies north of the city, in [[Langenhagen]], and is Germany's ninth-busiest airport. The city's most notable institutes of higher education are the [[Hannover Medical School]] (''Medizinische Hochschule Hannover''), one of Germany's leading [[medical school]]s, with its [[university hospital]] ''Klinikum der Medizinischen Hochschule Hannover'', and the [[Leibniz University Hannover]].\\n\\nThe [[Hanover fairground]], owing to numerous extensions, especially for the [[Expo 2000]], is the largest in the world. Hanover hosts annual commercial [[World's fair|trade fairs]] such as the [[Hanover Fair]] and up to 2018 the [[CeBIT]]. The IAA Commercial Vehicles show takes place every two years. It is the world's leading trade show for transport, logistics and mobility. Every year Hanover hosts the [[Schützenfest Hannover]], the world's largest marksmen's festival, and the [[Oktoberfest celebrations#Hannover|Oktoberfest Hannover]].\\n\\n'Hanover' is the traditional English spelling. The German spelling (with a double n) is becoming more popular in English; recent editions of encyclopedias prefer the German spelling, and the local government uses the German spelling on English websites. The English pronunciation, with [[Stress (linguistics)|stress]] on the first syllable, is applied to both the [[German language|German]] and [[English language|English]] spellings, which is different from German pronunciation, with stress on the second syllable and a long second vowel. The traditional English spelling is still used in historical contexts, especially when referring to the British [[House of Hanover]].\""
      ]
     },
     "execution_count": 18,
     "metadata": {},
     "output_type": "execute_result"
    }
   ],
   "source": [
    "# Remove referencias do HTML\n",
    "clean = re.sub(r\"<ref.*?(/ref>|/>)\", \"\", clean, flags=re.DOTALL|re.MULTILINE)\n",
    "clean = re.sub(r\"<sup.*?(/sup>|/>)\", \"\", clean, flags=re.DOTALL|re.MULTILINE)\n",
    "clean"
   ]
  },
  {
   "cell_type": "code",
   "execution_count": 19,
   "metadata": {
    "scrolled": true
   },
   "outputs": [
    {
     "data": {
      "text/plain": [
       "\"\\n\\n\\n\\n|image_caption = Clockwise from top: View over the city centre, [[Marktkirche St. Georgii et Jacobi|Market Church of Sts. George and James]], [[New Town Hall (Hanover)|New Town Hall]], [[University of Hanover]], [[Herrenhausen Gardens]], [[Altes Rathaus, Hanover|Old Town Hall]]\\n|image_flag         = Flagge Hanover.svg\\n|image_coa          = Coat of arms of Hannover.svg\\n|coordinates        = \\n|image_plan         = Hannover in H.svg\\n|state              = Lower Saxony\\n|district           = Hannover\\n|elevation          = 55\\n|area               = 204.01\\n|area_metro         = <!-- Metropolitan area, in km². XXX.XX (no commas or other text) -->\\n<!-- |population         = 518386  filled via Gemeindeschlüssel \\n|pop_date              = 31 December 2013\\n|pop_ref            = \\n-->\\n|pop_metro          = 1119032\\n|postal_code        = 30001 - 30669\\n|area_code          = 0511\\n|licence            = H\\n|Gemeindeschlüssel  = 03 2 41 001\\n|NUTS               = <!-- NUTS value: DEXXX  - WILL ''not'' BE DISPLAYED -->\\n|LOCODE             = DE HAJ\\n|divisions          = 13 districts\\n|website            = [https://www.hannover.de/ www.hannover.de]|\\n|mayor              = [[Belit Onay]]\\n|Bürgermeistertitel = Oberbürgermeister\\n|party              = Greens\\n|ruling_party1      = SPD\\n|ruling_party2      = Greens\\n\\n}}\\n\\n'''Hanover''' (;  ; ) is the capital and largest city of the German [[States of Germany|state]] of [[Lower Saxony]]. Its 535,061 (2017) inhabitants make it the [[List of cities in Germany by population|13th-largest city]] in [[Germany]] as well as the third-largest city in [[Northern Germany]] after [[Hamburg]] and [[Bremen]]. Hanover's [[urban area]] comprises the towns of [[Garbsen]], [[Langenhagen]] and [[Laatzen]] and has a population of about 791,000 (2018). The [[Hanover Region]] has approximately 1.16 million inhabitants (2019).\\n\\nThe city lies at the [[confluence]] of the [[River Leine]] (progression: ) and its [[tributary]] [[Ihme]], in the south of the [[North German Plain]], and is the largest city in the [[Hannover–Braunschweig–Göttingen–Wolfsburg Metropolitan Region]]. It is the fifth-largest city in the [[Low German]] dialect area after Hamburg, [[Dortmund]], [[Essen]] and Bremen.\\n\\nBefore it became the capital of Lower Saxony in 1946, Hanover was the capital of the [[Principality of Calenberg]] (1636–1692), the [[Electorate of Hanover]] (1692–1814), the [[Kingdom of Hanover]] (1814–1866), the [[Province of Hanover]] of the [[Kingdom of Prussia]] (1868–1918), the [[Province of Hanover]] of the [[Free State of Prussia]] (1918–1946) and of the [[State of Hanover]] (1946). From 1714 to 1837 Hanover was by [[personal union]] the family seat of the [[House of Hanover|Hanoverian Kings of the United Kingdom of Great Britain and Ireland]], under their title of the dukes of [[Duchy of Brunswick-Lüneburg|Brunswick-Lüneburg]] (later described as the [[Electorate of Hanover|Elector of Hanover]]).\\n\\nThe city is a major crossing point of railway lines and motorways ([[Autobahn]]en), connecting European main lines in both the east-west ([[Berlin]]–[[Ruhr|Ruhr area]]/[[Düsseldorf]]/[[Cologne]]) and north-south ([[Hamburg]]–[[Frankfurt]]/[[Stuttgart]]/[[Munich]]) directions. [[Hannover Airport]] lies north of the city, in [[Langenhagen]], and is Germany's ninth-busiest airport. The city's most notable institutes of higher education are the [[Hannover Medical School]] (''Medizinische Hochschule Hannover''), one of Germany's leading [[medical school]]s, with its [[university hospital]] ''Klinikum der Medizinischen Hochschule Hannover'', and the [[Leibniz University Hannover]].\\n\\nThe [[Hanover fairground]], owing to numerous extensions, especially for the [[Expo 2000]], is the largest in the world. Hanover hosts annual commercial [[World's fair|trade fairs]] such as the [[Hanover Fair]] and up to 2018 the [[CeBIT]]. The IAA Commercial Vehicles show takes place every two years. It is the world's leading trade show for transport, logistics and mobility. Every year Hanover hosts the [[Schützenfest Hannover]], the world's largest marksmen's festival, and the [[Oktoberfest celebrations#Hannover|Oktoberfest Hannover]].\\n\\n'Hanover' is the traditional English spelling. The German spelling (with a double n) is becoming more popular in English; recent editions of encyclopedias prefer the German spelling, and the local government uses the German spelling on English websites. The English pronunciation, with [[Stress (linguistics)|stress]] on the first syllable, is applied to both the [[German language|German]] and [[English language|English]] spellings, which is different from German pronunciation, with stress on the second syllable and a long second vowel. The traditional English spelling is still used in historical contexts, especially when referring to the British [[House of Hanover]].\""
      ]
     },
     "execution_count": 19,
     "metadata": {},
     "output_type": "execute_result"
    }
   ],
   "source": [
    "# Remove marcas de objetos desenhados na pagina (entre chaves)\n",
    "clean = re.sub(r\"\\{\\{(?:[^\\'\\'\\'])*?\\}\\}\", \"\", clean, flags=re.DOTALL|re.MULTILINE)\n",
    "clean"
   ]
  },
  {
   "cell_type": "code",
   "execution_count": 20,
   "metadata": {
    "scrolled": true
   },
   "outputs": [
    {
     "data": {
      "text/plain": [
       "\"Hanover (;  ; ) is the capital and largest city of the German [[States of Germany|state]] of [[Lower Saxony]]. Its 535,061 (2017) inhabitants make it the [[List of cities in Germany by population|13th-largest city]] in [[Germany]] as well as the third-largest city in [[Northern Germany]] after [[Hamburg]] and [[Bremen]]. Hanover's [[urban area]] comprises the towns of [[Garbsen]], [[Langenhagen]] and [[Laatzen]] and has a population of about 791,000 (2018). The [[Hanover Region]] has approximately 1.16 million inhabitants (2019).\\n\\nThe city lies at the [[confluence]] of the [[River Leine]] (progression: ) and its [[tributary]] [[Ihme]], in the south of the [[North German Plain]], and is the largest city in the [[Hannover–Braunschweig–Göttingen–Wolfsburg Metropolitan Region]]. It is the fifth-largest city in the [[Low German]] dialect area after Hamburg, [[Dortmund]], [[Essen]] and Bremen.\\n\\nBefore it became the capital of Lower Saxony in 1946, Hanover was the capital of the [[Principality of Calenberg]] (1636–1692), the [[Electorate of Hanover]] (1692–1814), the [[Kingdom of Hanover]] (1814–1866), the [[Province of Hanover]] of the [[Kingdom of Prussia]] (1868–1918), the [[Province of Hanover]] of the [[Free State of Prussia]] (1918–1946) and of the [[State of Hanover]] (1946). From 1714 to 1837 Hanover was by [[personal union]] the family seat of the [[House of Hanover|Hanoverian Kings of the United Kingdom of Great Britain and Ireland]], under their title of the dukes of [[Duchy of Brunswick-Lüneburg|Brunswick-Lüneburg]] (later described as the [[Electorate of Hanover|Elector of Hanover]]).\\n\\nThe city is a major crossing point of railway lines and motorways ([[Autobahn]]en), connecting European main lines in both the east-west ([[Berlin]]–[[Ruhr|Ruhr area]]/[[Düsseldorf]]/[[Cologne]]) and north-south ([[Hamburg]]–[[Frankfurt]]/[[Stuttgart]]/[[Munich]]) directions. [[Hannover Airport]] lies north of the city, in [[Langenhagen]], and is Germany's ninth-busiest airport. The city's most notable institutes of higher education are the [[Hannover Medical School]] (''Medizinische Hochschule Hannover''), one of Germany's leading [[medical school]]s, with its [[university hospital]] ''Klinikum der Medizinischen Hochschule Hannover'', and the [[Leibniz University Hannover]].\\n\\nThe [[Hanover fairground]], owing to numerous extensions, especially for the [[Expo 2000]], is the largest in the world. Hanover hosts annual commercial [[World's fair|trade fairs]] such as the [[Hanover Fair]] and up to 2018 the [[CeBIT]]. The IAA Commercial Vehicles show takes place every two years. It is the world's leading trade show for transport, logistics and mobility. Every year Hanover hosts the [[Schützenfest Hannover]], the world's largest marksmen's festival, and the [[Oktoberfest celebrations#Hannover|Oktoberfest Hannover]].\\n\\n'Hanover' is the traditional English spelling. The German spelling (with a double n) is becoming more popular in English; recent editions of encyclopedias prefer the German spelling, and the local government uses the German spelling on English websites. The English pronunciation, with [[Stress (linguistics)|stress]] on the first syllable, is applied to both the [[German language|German]] and [[English language|English]] spellings, which is different from German pronunciation, with stress on the second syllable and a long second vowel. The traditional English spelling is still used in historical contexts, especially when referring to the British [[House of Hanover]].\""
      ]
     },
     "execution_count": 20,
     "metadata": {},
     "output_type": "execute_result"
    }
   ],
   "source": [
    "# Corta as legendas pré texto\n",
    "splited_clean = clean.split(\"'''\")[1:]\n",
    "\n",
    "if len(splited_clean) == 0:\n",
    "    pass\n",
    "else:\n",
    "    clean = \"\".join(splited_clean)\n",
    "\n",
    "clean"
   ]
  },
  {
   "cell_type": "code",
   "execution_count": 21,
   "metadata": {
    "scrolled": true
   },
   "outputs": [
    {
     "data": {
      "text/plain": [
       "\"Hanover (;  ; ) is the capital and largest city of the German [[States of Germany|state]] of Lower Saxony. Its 535,061 (2017) inhabitants make it the [[List of cities in Germany by population|13th-largest city]] in Germany as well as the third-largest city in Northern Germany after Hamburg and Bremen. Hanover's urban area comprises the towns of Garbsen, Langenhagen and Laatzen and has a population of about 791,000 (2018). The Hanover Region has approximately 1.16 million inhabitants (2019).\\n\\nThe city lies at the confluence of the River Leine (progression: ) and its tributary Ihme, in the south of the North German Plain, and is the largest city in the Hannover–Braunschweig–Göttingen–Wolfsburg Metropolitan Region. It is the fifth-largest city in the Low German dialect area after Hamburg, Dortmund, Essen and Bremen.\\n\\nBefore it became the capital of Lower Saxony in 1946, Hanover was the capital of the Principality of Calenberg (1636–1692), the Electorate of Hanover (1692–1814), the Kingdom of Hanover (1814–1866), the Province of Hanover of the Kingdom of Prussia (1868–1918), the Province of Hanover of the Free State of Prussia (1918–1946) and of the State of Hanover (1946). From 1714 to 1837 Hanover was by personal union the family seat of the [[House of Hanover|Hanoverian Kings of the United Kingdom of Great Britain and Ireland]], under their title of the dukes of [[Duchy of Brunswick-Lüneburg|Brunswick-Lüneburg]] (later described as the [[Electorate of Hanover|Elector of Hanover]]).\\n\\nThe city is a major crossing point of railway lines and motorways (Autobahnen), connecting European main lines in both the east-west (Berlin–[[Ruhr|Ruhr area]]/Düsseldorf/Cologne) and north-south (Hamburg–Frankfurt/Stuttgart/Munich) directions. Hannover Airport lies north of the city, in Langenhagen, and is Germany's ninth-busiest airport. The city's most notable institutes of higher education are the Hannover Medical School (''Medizinische Hochschule Hannover''), one of Germany's leading medical schools, with its university hospital ''Klinikum der Medizinischen Hochschule Hannover'', and the Leibniz University Hannover.\\n\\nThe Hanover fairground, owing to numerous extensions, especially for the Expo 2000, is the largest in the world. Hanover hosts annual commercial [[World's fair|trade fairs]] such as the Hanover Fair and up to 2018 the CeBIT. The IAA Commercial Vehicles show takes place every two years. It is the world's leading trade show for transport, logistics and mobility. Every year Hanover hosts the Schützenfest Hannover, the world's largest marksmen's festival, and the [[Oktoberfest celebrations#Hannover|Oktoberfest Hannover]].\\n\\n'Hanover' is the traditional English spelling. The German spelling (with a double n) is becoming more popular in English; recent editions of encyclopedias prefer the German spelling, and the local government uses the German spelling on English websites. The English pronunciation, with [[Stress (linguistics)|stress]] on the first syllable, is applied to both the [[German language|German]] and [[English language|English]] spellings, which is different from German pronunciation, with stress on the second syllable and a long second vowel. The traditional English spelling is still used in historical contexts, especially when referring to the British House of Hanover.\""
      ]
     },
     "execution_count": 21,
     "metadata": {},
     "output_type": "execute_result"
    }
   ],
   "source": [
    "# Subistitui palavras entre colxete pela própria palavra\n",
    "clean = re.sub(r\"\\[\\[((?:[^|])*?)\\]\\]\", r\"\\1\", clean, flags=re.DOTALL|re.MULTILINE)\n",
    "clean"
   ]
  },
  {
   "cell_type": "code",
   "execution_count": 22,
   "metadata": {
    "scrolled": true
   },
   "outputs": [
    {
     "data": {
      "text/plain": [
       "\"Hanover (;  ; ) is the capital and largest city of the German |state of Lower Saxony. Its 535,061 (2017) inhabitants make it the |13th-largest city in Germany as well as the third-largest city in Northern Germany after Hamburg and Bremen. Hanover's urban area comprises the towns of Garbsen, Langenhagen and Laatzen and has a population of about 791,000 (2018). The Hanover Region has approximately 1.16 million inhabitants (2019).\\n\\nThe city lies at the confluence of the River Leine (progression: ) and its tributary Ihme, in the south of the North German Plain, and is the largest city in the Hannover–Braunschweig–Göttingen–Wolfsburg Metropolitan Region. It is the fifth-largest city in the Low German dialect area after Hamburg, Dortmund, Essen and Bremen.\\n\\nBefore it became the capital of Lower Saxony in 1946, Hanover was the capital of the Principality of Calenberg (1636–1692), the Electorate of Hanover (1692–1814), the Kingdom of Hanover (1814–1866), the Province of Hanover of the Kingdom of Prussia (1868–1918), the Province of Hanover of the Free State of Prussia (1918–1946) and of the State of Hanover (1946). From 1714 to 1837 Hanover was by personal union the family seat of the |Hanoverian Kings of the United Kingdom of Great Britain and Ireland, under their title of the dukes of |Brunswick-Lüneburg (later described as the |Elector of Hanover).\\n\\nThe city is a major crossing point of railway lines and motorways (Autobahnen), connecting European main lines in both the east-west (Berlin–|Ruhr area/Düsseldorf/Cologne) and north-south (Hamburg–Frankfurt/Stuttgart/Munich) directions. Hannover Airport lies north of the city, in Langenhagen, and is Germany's ninth-busiest airport. The city's most notable institutes of higher education are the Hannover Medical School (''Medizinische Hochschule Hannover''), one of Germany's leading medical schools, with its university hospital ''Klinikum der Medizinischen Hochschule Hannover'', and the Leibniz University Hannover.\\n\\nThe Hanover fairground, owing to numerous extensions, especially for the Expo 2000, is the largest in the world. Hanover hosts annual commercial |trade fairs such as the Hanover Fair and up to 2018 the CeBIT. The IAA Commercial Vehicles show takes place every two years. It is the world's leading trade show for transport, logistics and mobility. Every year Hanover hosts the Schützenfest Hannover, the world's largest marksmen's festival, and the |Oktoberfest Hannover.\\n\\n'Hanover' is the traditional English spelling. The German spelling (with a double n) is becoming more popular in English; recent editions of encyclopedias prefer the German spelling, and the local government uses the German spelling on English websites. The English pronunciation, with |stress on the first syllable, is applied to both the |German and |English spellings, which is different from German pronunciation, with stress on the second syllable and a long second vowel. The traditional English spelling is still used in historical contexts, especially when referring to the British House of Hanover.\""
      ]
     },
     "execution_count": 22,
     "metadata": {},
     "output_type": "execute_result"
    }
   ],
   "source": [
    "# Subistitui palavras entre colxete com pipe pela palavra depois do pipe\n",
    "clean = re.sub(r\"\\[\\[(?:[^|]|)*(.*?)\\]\\]\", r\"\\1\", clean, flags=re.DOTALL|re.MULTILINE)\n",
    "clean"
   ]
  },
  {
   "cell_type": "code",
   "execution_count": 23,
   "metadata": {
    "scrolled": false
   },
   "outputs": [
    {
     "data": {
      "text/plain": [
       "'Hanover  is the capital and largest city of the German state of Lower Saxony. Its 535,061 (2017) inhabitants make it the 13th-largest city in Germany as well as the third-largest city in Northern Germany after Hamburg and Bremen. Hanovers urban area comprises the towns of Garbsen, Langenhagen and Laatzen and has a population of about 791,000 (2018). The Hanover Region has approximately 1.16 million inhabitants (2019).The city lies at the confluence of the River Leine (progression: ) and its tributary Ihme, in the south of the North German Plain, and is the largest city in the Hannover–Braunschweig–Göttingen–Wolfsburg Metropolitan Region. It is the fifth-largest city in the Low German dialect area after Hamburg, Dortmund, Essen and Bremen.Before it became the capital of Lower Saxony in 1946, Hanover was the capital of the Principality of Calenberg (1636–1692), the Electorate of Hanover (1692–1814), the Kingdom of Hanover (1814–1866), the Province of Hanover of the Kingdom of Prussia (1868–1918), the Province of Hanover of the Free State of Prussia (1918–1946) and of the State of Hanover (1946). From 1714 to 1837 Hanover was by personal union the family seat of the Hanoverian Kings of the United Kingdom of Great Britain and Ireland, under their title of the dukes of Brunswick-Lüneburg (later described as the Elector of Hanover).The city is a major crossing point of railway lines and motorways (Autobahnen), connecting European main lines in both the east-west (Berlin–Ruhr area/Düsseldorf/Cologne) and north-south (Hamburg–Frankfurt/Stuttgart/Munich) directions. Hannover Airport lies north of the city, in Langenhagen, and is Germanys ninth-busiest airport. The citys most notable institutes of higher education are the Hannover Medical School (Medizinische Hochschule Hannover), one of Germanys leading medical schools, with its university hospital Klinikum der Medizinischen Hochschule Hannover, and the Leibniz University Hannover.The Hanover fairground, owing to numerous extensions, especially for the Expo 2000, is the largest in the world. Hanover hosts annual commercial trade fairs such as the Hanover Fair and up to 2018 the CeBIT. The IAA Commercial Vehicles show takes place every two years. It is the worlds leading trade show for transport, logistics and mobility. Every year Hanover hosts the Schützenfest Hannover, the worlds largest marksmens festival, and the Oktoberfest Hannover.Hanover is the traditional English spelling. The German spelling (with a double n) is becoming more popular in English; recent editions of encyclopedias prefer the German spelling, and the local government uses the German spelling on English websites. The English pronunciation, with stress on the first syllable, is applied to both the German and English spellings, which is different from German pronunciation, with stress on the second syllable and a long second vowel. The traditional English spelling is still used in historical contexts, especially when referring to the British House of Hanover.'"
      ]
     },
     "execution_count": 23,
     "metadata": {},
     "output_type": "execute_result"
    }
   ],
   "source": [
    "# limpa algumas outras variaveis irrelevantes\n",
    "clean = re.sub(r\"\\n|\\'\", r\"\", clean, flags=re.DOTALL|re.MULTILINE)\n",
    "clean = re.sub(r\"}}\", r\"\", clean, flags=re.DOTALL|re.MULTILINE)\n",
    "clean = re.sub(r\"\\|\", r\"\", clean, flags=re.DOTALL|re.MULTILINE)\n",
    "clean = re.sub(r\"\\(;|\\(,\", r\"(SPECIALCHAR\", clean, flags=re.DOTALL|re.MULTILINE)\n",
    "clean = re.sub(r\"\\(SPECIALCHAR.*?\\)\", \"\", clean, flags=re.DOTALL|re.MULTILINE)\n",
    "clean"
   ]
  },
  {
   "cell_type": "markdown",
   "metadata": {},
   "source": [
    "### Limpeza total"
   ]
  },
  {
   "cell_type": "code",
   "execution_count": 24,
   "metadata": {},
   "outputs": [],
   "source": [
    "def clean_string(clean, remove_special=True):\n",
    "    # Remove referencias do HTML\n",
    "    clean = re.sub(r\"<ref.*?(/ref>|/>)\", \"\", clean, flags=re.DOTALL|re.MULTILINE)\n",
    "    clean = re.sub(r\"<sup.*?(/sup>|/>)\", \"\", clean, flags=re.DOTALL|re.MULTILINE)\n",
    "\n",
    "    # Remove marcas de objetos desenhados na pagina (entre chaves)\n",
    "    clean = re.sub(r\"\\{\\{(?:[^\\'\\'\\'])*?\\}\\}\", \"\", clean, flags=re.DOTALL|re.MULTILINE)\n",
    "\n",
    "    # Corta as legendas pré texto\n",
    "    splited_clean = clean.split(\"'''\")[1:]\n",
    "\n",
    "    if len(splited_clean) == 0:\n",
    "        pass\n",
    "    else:\n",
    "        clean = \"\".join(splited_clean)\n",
    "\n",
    "    # Subistitui palavras entre colchete pela própria palavra\n",
    "    clean = re.sub(r\"\\[\\[((?:[^|])*?)\\]\\]\", r\"\\1\", clean, flags=re.DOTALL|re.MULTILINE)\n",
    "\n",
    "    # Subistitui palavras entre colxete com pipe pela palavra depois do pipe\n",
    "    clean = re.sub(r\"\\[\\[(?:[^|]|)*(.*?)\\]\\]\", r\"\\1\", clean, flags=re.DOTALL|re.MULTILINE)\n",
    "\n",
    "    # limpa algumas outras variaveis irrelevantes\n",
    "    clean = re.sub(r\"\\n|\\'\", r\"\", clean, flags=re.DOTALL|re.MULTILINE)\n",
    "    clean = re.sub(r\"}}\", r\"\", clean, flags=re.DOTALL|re.MULTILINE)\n",
    "    clean = re.sub(r\"\\|\", r\"\", clean, flags=re.DOTALL|re.MULTILINE)\n",
    "    clean = re.sub(r\"\\(;|\\(,\", r\"(SPECIALCHAR\", clean, flags=re.DOTALL|re.MULTILINE)\n",
    "    \n",
    "    if remove_special:\n",
    "        clean = re.sub(r\"\\(SPECIALCHAR.*?\\)\", \"\", clean, flags=re.DOTALL|re.MULTILINE)\n",
    "    \n",
    "    return clean"
   ]
  },
  {
   "cell_type": "code",
   "execution_count": 25,
   "metadata": {},
   "outputs": [],
   "source": [
    "for word in list(main_texts.keys()):\n",
    "    \n",
    "    new_text = clean_string(main_texts[word])\n",
    "    \n",
    "    if len(new_text) == 0:\n",
    "        main_texts.pop(word)\n",
    "    else:\n",
    "        main_texts[word] = new_text"
   ]
  },
  {
   "cell_type": "code",
   "execution_count": 26,
   "metadata": {},
   "outputs": [],
   "source": [
    "# Exporta os resultados para arquivos\n",
    "with open('storage/clean_texts.json', 'w') as f:\n",
    "    json.dump(main_texts, f, indent=4)"
   ]
  },
  {
   "cell_type": "markdown",
   "metadata": {},
   "source": [
    "## Divide o texto em sentenças usando o tokenizador Punkt"
   ]
  },
  {
   "cell_type": "code",
   "execution_count": 27,
   "metadata": {},
   "outputs": [],
   "source": [
    "# Le o bloco de notas com as palavras\n",
    "with open(\"storage/clean_texts.json\", \"r\") as load:\n",
    "    main_texts = json.load(load)"
   ]
  },
  {
   "cell_type": "code",
   "execution_count": 28,
   "metadata": {},
   "outputs": [],
   "source": [
    "sample = \"hanover\""
   ]
  },
  {
   "cell_type": "code",
   "execution_count": 32,
   "metadata": {},
   "outputs": [],
   "source": [
    "main_sents = {}\n",
    "sent_tokenizer=nltk.data.load('tokenizers/punkt/english.pickle')\n",
    "for key, value in main_texts.items():\n",
    "    main_sents[key] = sent_tokenizer.tokenize(value)"
   ]
  },
  {
   "cell_type": "code",
   "execution_count": 33,
   "metadata": {},
   "outputs": [
    {
     "data": {
      "text/plain": [
       "['Hanover  is the capital and largest city of the German state of Lower Saxony.',\n",
       " 'Its 535,061 (2017) inhabitants make it the 13th-largest city in Germany as well as the third-largest city in Northern Germany after Hamburg and Bremen.',\n",
       " 'Hanovers urban area comprises the towns of Garbsen, Langenhagen and Laatzen and has a population of about 791,000 (2018).',\n",
       " 'The Hanover Region has approximately 1.16 million inhabitants (2019).The city lies at the confluence of the River Leine (progression: ) and its tributary Ihme, in the south of the North German Plain, and is the largest city in the Hannover–Braunschweig–Göttingen–Wolfsburg Metropolitan Region.',\n",
       " 'It is the fifth-largest city in the Low German dialect area after Hamburg, Dortmund, Essen and Bremen.Before it became the capital of Lower Saxony in 1946, Hanover was the capital of the Principality of Calenberg (1636–1692), the Electorate of Hanover (1692–1814), the Kingdom of Hanover (1814–1866), the Province of Hanover of the Kingdom of Prussia (1868–1918), the Province of Hanover of the Free State of Prussia (1918–1946) and of the State of Hanover (1946).',\n",
       " 'From 1714 to 1837 Hanover was by personal union the family seat of the Hanoverian Kings of the United Kingdom of Great Britain and Ireland, under their title of the dukes of Brunswick-Lüneburg (later described as the Elector of Hanover).The city is a major crossing point of railway lines and motorways (Autobahnen), connecting European main lines in both the east-west (Berlin–Ruhr area/Düsseldorf/Cologne) and north-south (Hamburg–Frankfurt/Stuttgart/Munich) directions.',\n",
       " 'Hannover Airport lies north of the city, in Langenhagen, and is Germanys ninth-busiest airport.',\n",
       " 'The citys most notable institutes of higher education are the Hannover Medical School (Medizinische Hochschule Hannover), one of Germanys leading medical schools, with its university hospital Klinikum der Medizinischen Hochschule Hannover, and the Leibniz University Hannover.The Hanover fairground, owing to numerous extensions, especially for the Expo 2000, is the largest in the world.',\n",
       " 'Hanover hosts annual commercial trade fairs such as the Hanover Fair and up to 2018 the CeBIT.',\n",
       " 'The IAA Commercial Vehicles show takes place every two years.',\n",
       " 'It is the worlds leading trade show for transport, logistics and mobility.',\n",
       " 'Every year Hanover hosts the Schützenfest Hannover, the worlds largest marksmens festival, and the Oktoberfest Hannover.Hanover is the traditional English spelling.',\n",
       " 'The German spelling (with a double n) is becoming more popular in English; recent editions of encyclopedias prefer the German spelling, and the local government uses the German spelling on English websites.',\n",
       " 'The English pronunciation, with stress on the first syllable, is applied to both the German and English spellings, which is different from German pronunciation, with stress on the second syllable and a long second vowel.',\n",
       " 'The traditional English spelling is still used in historical contexts, especially when referring to the British House of Hanover.']"
      ]
     },
     "execution_count": 33,
     "metadata": {},
     "output_type": "execute_result"
    }
   ],
   "source": [
    "main_sents[sample]"
   ]
  },
  {
   "cell_type": "code",
   "execution_count": 34,
   "metadata": {},
   "outputs": [],
   "source": [
    "# Exporta os resultados para arquivos\n",
    "with open('storage/def_sents.json', 'w') as f:\n",
    "    json.dump(main_sents, f, indent=4)"
   ]
  },
  {
   "cell_type": "markdown",
   "metadata": {},
   "source": [
    "## Análise por Perplexidade"
   ]
  },
  {
   "cell_type": "markdown",
   "metadata": {},
   "source": [
    "A fim de selecionar a melhor setença que define cada palavra-chave, será utilizada a análise por perplexidade, método este que consiste em mensurar a \"estranheza\", através da perspectiva de um modelo treinado sob uma base grande de textos, de cada sentença."
   ]
  },
  {
   "cell_type": "code",
   "execution_count": 35,
   "metadata": {},
   "outputs": [],
   "source": [
    "# Le o bloco de notas com as palavras\n",
    "with open(\"storage/def_sents.json\", \"r\") as load:\n",
    "    main_sents = json.load(load)"
   ]
  },
  {
   "cell_type": "markdown",
   "metadata": {},
   "source": [
    "### Usando Corpus Reuters como base"
   ]
  },
  {
   "cell_type": "markdown",
   "metadata": {},
   "source": [
    "Nesta seção o corpus reuters é utilizado como base de treinamento para o modelo, com o pressuposto inicial de que ao utilizar um conjunto grande de textos, tem-se um modelo amplamente treinado sobre palavras muito utilizadas e pouco utilizadas para mensurar o grau de \"estranhesa\" de cada sentença."
   ]
  },
  {
   "cell_type": "code",
   "execution_count": 36,
   "metadata": {},
   "outputs": [],
   "source": [
    "# Prepraração dos dados\n",
    "reuters_sentences = reuters.sents()\n",
    "reuters_train, reuters_vocab = padded_everygram_pipeline(2, reuters_sentences)\n",
    "\n",
    "reuters_train = list(list(t) for t in reuters_train)\n",
    "reuters_vocab = list(reuters_vocab)\n",
    "\n",
    "#Treinamento do Modelo\n",
    "lm_reuters = Laplace(2)\n",
    "lm_reuters.fit(reuters_train, reuters_vocab)"
   ]
  },
  {
   "cell_type": "code",
   "execution_count": 37,
   "metadata": {},
   "outputs": [],
   "source": [
    "sample = \"hanover\""
   ]
  },
  {
   "cell_type": "code",
   "execution_count": 38,
   "metadata": {},
   "outputs": [
    {
     "name": "stdout",
     "output_type": "stream",
     "text": [
      "2517.139793945666\n",
      "8372.738449782728\n",
      "12312.347223746885\n",
      "6315.5021930547955\n",
      "7722.020235677807\n",
      "10478.996008500326\n",
      "14306.6105660475\n",
      "16213.089441452663\n",
      "7638.787064473857\n",
      "11221.220325754459\n",
      "5488.853729160127\n",
      "19418.311305672127\n",
      "10551.841006068196\n",
      "4051.3891598621826\n",
      "5014.1451339978485\n",
      "Tempo de Execução: 0.006981611251831055 segundos\n"
     ]
    }
   ],
   "source": [
    "# Encontra as perplexidades da amostra\n",
    "text_sentences = [t.split() for t in main_sents[sample]]\n",
    "test, _ = padded_everygram_pipeline(2, text_sentences)\n",
    "test = list(list(t) for t in test)\n",
    "\n",
    "import time \n",
    "start_time = time.time()\n",
    "\n",
    "# Calcula a perplexidade das sentenças\n",
    "idx = 0 \n",
    "min_value = math.inf\n",
    "for i, s in enumerate(test):\n",
    "    px = lm_reuters.perplexity(s)\n",
    "    \n",
    "    if(min_value > px):\n",
    "        min_value = px\n",
    "        idx = i\n",
    "\n",
    "    print(px)\n",
    "print(f\"Tempo de Execução: {time.time() - start_time} segundos\")"
   ]
  },
  {
   "cell_type": "markdown",
   "metadata": {},
   "source": [
    "Como pode-se observar nos testes utilizando o corpus router como base, há um valor alto de tempo de execução para apenas uma palavra-chave, o que torna a execução do codigo para todo o conjunto de pavras da enciclopedia a ser implementada muito alto, aproximadamente de 1:30h para o conjunto atual, logo o teste completo com esta base, embora implementado, n foi executado neste notebook. "
   ]
  },
  {
   "cell_type": "code",
   "execution_count": 39,
   "metadata": {},
   "outputs": [],
   "source": [
    "def find_lowest_perplexity_reuter_parallel(main_sents, words, do_print=False):\n",
    "    \n",
    "    encyclopedia_reuters = {}\n",
    "    for i, word in enumerate(words):\n",
    "        idx, min_value = find_lowest_perplexity_reuters(main_sents, word)\n",
    "        encyclopedia_reuters[word] = main_sents[word][idx]\n",
    "        \n",
    "    return encyclopedia_reuters\n",
    "        \n",
    "def find_lowest_perplexity_reuters(main_sents, word, do_print=False):\n",
    "\n",
    "    # Prepraração dos dados\n",
    "    text_sentences = [t.split() for t in main_sents[word]]\n",
    "    test, _ = padded_everygram_pipeline(2, text_sentences)\n",
    "    test = list(list(t) for t in test)\n",
    "\n",
    "    # Calcula a perplexidade das sentenças\n",
    "    idx = 0 \n",
    "    min_value = math.inf\n",
    "    for i, s in enumerate(test):\n",
    "        px = lm_reuters.perplexity(s)\n",
    "\n",
    "        if(min_value > px):\n",
    "            min_value = px\n",
    "            idx = i\n",
    "\n",
    "        if do_print:\n",
    "            print(px)\n",
    "            \n",
    "    return idx, min_value "
   ]
  },
  {
   "cell_type": "markdown",
   "metadata": {},
   "source": [
    "#### Rodando em serie"
   ]
  },
  {
   "cell_type": "code",
   "execution_count": 40,
   "metadata": {
    "scrolled": true
   },
   "outputs": [],
   "source": [
    "# encyclopedia_reuters = {}\n",
    "# words = list(main_sents.keys())\n",
    "# total = len(words)\n",
    "# for i, word in enumerate(words):\n",
    "#     idx, min_value = find_lowest_perplexity_reuters(main_sents, word)\n",
    "#     encyclopedia_reuters[word] = main_sents[word][idx]\n",
    "    \n",
    "#     print(f\"\\r{i+1} out of {total}\", end='')"
   ]
  },
  {
   "cell_type": "markdown",
   "metadata": {},
   "source": [
    "#### Rodando em Paralelo"
   ]
  },
  {
   "cell_type": "code",
   "execution_count": 41,
   "metadata": {},
   "outputs": [],
   "source": [
    "# n_jobs = 12\n",
    "# encyclopedia_reuters = {}\n",
    "# words = list(main_sents.keys())\n",
    "# part = round(len(words)/n_jobs)\n",
    "\n",
    "# words_batch = []\n",
    "# for i in range(n_jobs):\n",
    "#     if ((i+1)*part > len(words)):\n",
    "#         words_batch.append(words[i*part:])\n",
    "#     else:\n",
    "#         words_batch.append(words[i*part:(i+1)*part])"
   ]
  },
  {
   "cell_type": "code",
   "execution_count": 42,
   "metadata": {},
   "outputs": [],
   "source": [
    "# encyclopedia_reuters = {}\n",
    "# results = Parallel(n_jobs=n_jobs, verbose=50)(delayed(find_lowest_perplexity_reuter_parallel)(main_sents, words) for words in words_batch)"
   ]
  },
  {
   "cell_type": "code",
   "execution_count": 43,
   "metadata": {},
   "outputs": [],
   "source": [
    "# # Exporta os resultados para arquivos\n",
    "# with open('storage/encyclopedia_reuters.json', 'w') as f:\n",
    "#     json.dump(encyclopedia_reuters, f, indent=4)"
   ]
  },
  {
   "cell_type": "markdown",
   "metadata": {},
   "source": [
    "### Usando o próprio texto como base"
   ]
  },
  {
   "cell_type": "markdown",
   "metadata": {},
   "source": [
    "Nesta seção o próprio documento referente a palavra-chave é utilizado como base de treinamento para o modelo, com o pressuposto inicial de que a sentença que melhor define a palavra contem elementos com uso mais frequente em seu contexto específico."
   ]
  },
  {
   "cell_type": "code",
   "execution_count": 44,
   "metadata": {},
   "outputs": [],
   "source": [
    "sample = \"hanover\""
   ]
  },
  {
   "cell_type": "code",
   "execution_count": 45,
   "metadata": {},
   "outputs": [
    {
     "name": "stdout",
     "output_type": "stream",
     "text": [
      "77.23595126135935\n",
      "132.66110823535138\n",
      "137.8052817783378\n",
      "111.49717703151089\n",
      "89.3669246617187\n",
      "130.71641079116478\n",
      "118.04072560239162\n",
      "143.31842453140845\n",
      "124.88363853010559\n",
      "161.86166212548235\n",
      "120.47089382568275\n",
      "113.8615045296886\n",
      "126.2236923379113\n",
      "123.00294373187059\n",
      "133.52740330778033\n"
     ]
    }
   ],
   "source": [
    "# Prepraração dos dados\n",
    "text_sentences = [t.split() for t in main_sents[sample]]\n",
    "train, vocab = padded_everygram_pipeline(2, text_sentences)\n",
    "\n",
    "train = list(list(t) for t in train)\n",
    "vocab = list(vocab)\n",
    "\n",
    "# Treinamento do Modelo\n",
    "lm = Laplace(2)\n",
    "lm.fit(train, vocab)\n",
    "\n",
    "# Calcula a perplexidade das sentenças\n",
    "idx = 0 \n",
    "min_value = math.inf\n",
    "for i, s in enumerate(train):\n",
    "    px = lm.perplexity(s)\n",
    "    \n",
    "    if(min_value > px):\n",
    "        min_value = px\n",
    "        idx = i\n",
    "\n",
    "    print(px)"
   ]
  },
  {
   "cell_type": "code",
   "execution_count": 46,
   "metadata": {},
   "outputs": [],
   "source": [
    "def find_lowest_perplexity_same_parallel(main_sents, words, do_print=False):\n",
    "    \n",
    "    encyclopedia_same = {}\n",
    "    for i, word in enumerate(words):\n",
    "        idx, min_value = find_lowest_perplexity_same(main_sents, word)\n",
    "        encyclopedia_same[word] = main_sents[word][idx]\n",
    "        \n",
    "    return encyclopedia_same\n",
    "\n",
    "def find_lowest_perplexity_same(main_sents, word, do_print=False):\n",
    "\n",
    "    # Prepraração dos dados\n",
    "    text_sentences = [t.split() for t in main_sents[word]]\n",
    "    train, vocab = padded_everygram_pipeline(2, text_sentences)\n",
    "\n",
    "    train = list(list(t) for t in train)\n",
    "    vocab = list(vocab)\n",
    "\n",
    "    # Treinamento do Modelo\n",
    "    lm = Laplace(2)\n",
    "    lm.fit(train, vocab)\n",
    "    \n",
    "    # Calcula a perplexidade das sentenças\n",
    "    idx = 0 \n",
    "    min_value = math.inf\n",
    "    for i, s in enumerate(train):\n",
    "        px = lm.perplexity(s)\n",
    "        \n",
    "        if(min_value > px):\n",
    "            min_value = px\n",
    "            idx = i\n",
    "        \n",
    "        if do_print:\n",
    "            print(px)\n",
    "            \n",
    "    return idx, min_value "
   ]
  },
  {
   "cell_type": "code",
   "execution_count": 47,
   "metadata": {
    "scrolled": true
   },
   "outputs": [
    {
     "name": "stdout",
     "output_type": "stream",
     "text": [
      "3238 out of 3238"
     ]
    }
   ],
   "source": [
    "encyclopedia_same = {}\n",
    "words = list(main_sents.keys())\n",
    "total = len(words)\n",
    "for i, word in enumerate(words):\n",
    "    idx, min_value = find_lowest_perplexity_same(main_sents, word)\n",
    "    encyclopedia_same[word] = main_sents[word][idx]\n",
    "    \n",
    "    print(f\"\\r{i+1} out of {total}\", end='')"
   ]
  },
  {
   "cell_type": "markdown",
   "metadata": {},
   "source": [
    "#### Rodando em paralelo"
   ]
  },
  {
   "cell_type": "code",
   "execution_count": 48,
   "metadata": {},
   "outputs": [],
   "source": [
    "n_jobs = 12\n",
    "encyclopedia_reuters = {}\n",
    "words = list(main_sents.keys())\n",
    "part = round(len(words)/n_jobs)\n",
    "\n",
    "words_batch = []\n",
    "for i in range(n_jobs):\n",
    "    if ((i+1)*part > len(words)):\n",
    "        words_batch.append(words[i*part:])\n",
    "    else:\n",
    "        words_batch.append(words[i*part:(i+1)*part])"
   ]
  },
  {
   "cell_type": "code",
   "execution_count": 49,
   "metadata": {},
   "outputs": [
    {
     "name": "stdout",
     "output_type": "stream",
     "text": [
      "[Parallel(n_jobs=12)]: Using backend LokyBackend with 12 concurrent workers.\n",
      "[Parallel(n_jobs=12)]: Done   1 tasks      | elapsed:    4.4s\n",
      "[Parallel(n_jobs=12)]: Done   2 out of  12 | elapsed:    4.5s remaining:   22.8s\n",
      "[Parallel(n_jobs=12)]: Done   3 out of  12 | elapsed:    4.6s remaining:   13.9s\n",
      "[Parallel(n_jobs=12)]: Done   4 out of  12 | elapsed:    4.9s remaining:    9.9s\n",
      "[Parallel(n_jobs=12)]: Done   5 out of  12 | elapsed:    5.0s remaining:    7.1s\n",
      "[Parallel(n_jobs=12)]: Done   6 out of  12 | elapsed:    5.1s remaining:    5.1s\n",
      "[Parallel(n_jobs=12)]: Done   7 out of  12 | elapsed:    5.2s remaining:    3.7s\n",
      "[Parallel(n_jobs=12)]: Done   8 out of  12 | elapsed:    5.2s remaining:    2.5s\n",
      "[Parallel(n_jobs=12)]: Done   9 out of  12 | elapsed:    5.4s remaining:    1.7s\n",
      "[Parallel(n_jobs=12)]: Done  10 out of  12 | elapsed:    5.4s remaining:    1.0s\n",
      "[Parallel(n_jobs=12)]: Done  12 out of  12 | elapsed:    5.8s remaining:    0.0s\n",
      "[Parallel(n_jobs=12)]: Done  12 out of  12 | elapsed:    5.8s finished\n"
     ]
    }
   ],
   "source": [
    "encyclopedia_same = {}\n",
    "results = Parallel(n_jobs=n_jobs, verbose=50)(delayed(find_lowest_perplexity_same_parallel)(main_sents, words) for words in words_batch)\n",
    "\n",
    "for result in results:\n",
    "    encyclopedia_same.update(result)"
   ]
  },
  {
   "cell_type": "code",
   "execution_count": 50,
   "metadata": {},
   "outputs": [],
   "source": [
    "# Exporta os resultados para arquivos\n",
    "with open('storage/encyclopedia_same.json', 'w') as f:\n",
    "    json.dump(encyclopedia_same, f, indent=4)"
   ]
  },
  {
   "cell_type": "markdown",
   "metadata": {},
   "source": [
    "## Explora as encyclopedias"
   ]
  },
  {
   "cell_type": "code",
   "execution_count": 51,
   "metadata": {},
   "outputs": [],
   "source": [
    "# Le o bloco de notas com os dados\n",
    "with open(\"storage/encyclopedia_same.json\", \"r\") as load:\n",
    "    encyclopedia_same = json.load(load)\n",
    "    \n",
    "#with open(\"storage/encyclopedia_reuters.json\", \"r\") as load:\n",
    "#    encyclopedia_reuters = json.load(load)"
   ]
  },
  {
   "cell_type": "code",
   "execution_count": 52,
   "metadata": {},
   "outputs": [],
   "source": [
    "#encyclopedia_reuters"
   ]
  },
  {
   "cell_type": "code",
   "execution_count": 53,
   "metadata": {},
   "outputs": [
    {
     "data": {
      "text/plain": [
       "{'abbett': 'Abbett is a surname.',\n",
       " 'abdul': 'Abdul (also transliterated as Abdal, Abdel, Abdil, Abdol, Abdool, or Abdoul; , {{translarDINʿAbd al-) is the most frequent transliteration of the combination of the Arabic word Abd  and the definite prefix al / el .It is the initial component of many compound names, names made of two words.',\n",
       " 'ablaze': 'The film uses stock footage from two other films.',\n",
       " 'abroad': 'The Moise A. Khayrallah Center for Lebanese Diaspora Studies awarded Alexander the 2020 Khayrallah Art Prize for the film.',\n",
       " 'acceleration': 'The orientation of an objects acceleration is given by the orientation of the net force acting on that object.',\n",
       " 'acceptance': 'Acceptance in human psychology is a persons assent to the reality of a situation, recognizing a process or condition (often a negative or uncomfortable situation) without attempting to change it or protest it.',\n",
       " 'accepted': 'The story takes place in Wickliffe and a fictitious college town called Harmon in Ohio.',\n",
       " 'accession': 'Accession refers to the general idea of joining or adding to.',\n",
       " 'accident': 'Most scientists who study unintentional injury avoid using the term \"accident\" and focus on factors that increase risk of severe injury and that reduce injury incidence and severity.',\n",
       " 'accordance': 'The program is used for both private and academic study.',\n",
       " 'accounting': 'Practitioners of accounting are known as accountants.',\n",
       " 'accrual': 'These types of accounts include, among others, accounts payable, accounts receivable, goodwill, deferred tax liability and future interest expense.',\n",
       " 'achieved': 'As a two-year-old he was undefeated in three starts including the Phoenix Stakes and the Champagne Stakes and was rated the best horse of his generation in Ireland.',\n",
       " 'acid': 'Conversely, many Lewis acids are not Arrhenius or Brønsted–Lowry acids.',\n",
       " 'acquire': 'The object of the game is to earn the most money by developing and merging hotel chains.',\n",
       " 'acre': 'acre is a unit of land area used in the imperial and US customary systems.',\n",
       " 'acting': 'Acting also demands an ability to employ dialects, accents, improvisation, observation and emulation, mime, and stage combat.',\n",
       " 'actually': '435 in its list of the 500 Greatest Albums of All Time.',\n",
       " 'addition': 'Repeated addition of  is the same as counting; addition of  does not change a number.',\n",
       " 'address': 'Some addresses also contain special codes, such as a postal code, to make identification easier and aid in the routing of mail.Addresses provide a means of physically locating a building.',\n",
       " 'adobe': 'Adobe is among the earliest building materials, and is used throughout the world.',\n",
       " 'adoption': 'Adoption is a process whereby a person assumes the parenting of another, usually a child, from that persons biological or legal parent or parents.',\n",
       " 'advantageous': 'The film stars Jacqueline Kim, James Urbaniak, Freya Adams, Ken Jeong, Jennifer Ehle, and Samantha Kim.',\n",
       " 'adverse': 'This word should not be confused with averse.',\n",
       " 'advertising': 'Sponsors of advertising are typically businesses wishing to promote their products or services.',\n",
       " 'advise': 'It is reportedly developing a massive data mining system, which would collect and analyze data on everyone in the United States and perform a \"threat analysis\" on them.',\n",
       " 'adviser': 'An advisers role is that of a mentor or guide and differs categorically from that of a task-specific consultant.',\n",
       " 'advocate': 'advocate is a professional in the field of law.',\n",
       " 'aerospace': 'Aerospace engineering consists of aeronautics and astronautics.',\n",
       " 'aetna': 'The name of the company is based on Mount Etna, at the time the most active volcano in Europe.',\n",
       " 'affair': 'affair is a sexual relationship, romantic friendship, or passionate attachment in which at least one of its participants has a formal or informal commitment to a third person, who may neither agree to, nor even know of, the affair.',\n",
       " 'affandi': 'He married Maryati, a fellow artist.',\n",
       " 'africa': 'The majority of the continent and its countries are in the Northern Hemisphere, with a substantial portion and number of countries in the Southern Hemisphere.',\n",
       " 'afternoon': 'Afternoon is the time of the day between noon and evening.',\n",
       " 'aggression': 'Human aggression can be classified into direct and indirect aggression; whilst the former is characterized by physical or verbal behavior intended to cause harm to someone, the latter is characterized by behavior intended to harm the social relations of an individual or group.In definitions commonly used in the social sciences and behavioral sciences, aggression is an action or response by an individual that delivers something unpleasant to another person.',\n",
       " 'agip': 'It has been a subsidiary of the multinational petroleum company Eni since 2003, when Eni acquired Agip Petroli S.p.A., creating the Refining and Marketing Division (R&M).',\n",
       " 'agriculture': 'The history of agriculture began thousands of years ago.',\n",
       " 'aid': 'Countries may provide aid for further diplomatic reasons.',\n",
       " 'airbus': 'The company produces and markets the first commercially viable digital fly-by-wire airliner, the Airbus A320, and the worlds largest passenger airliner, the A380.',\n",
       " 'aircraft': '--> It counters the force of gravity by using either static lift or by using the dynamic lift of an airfoil, or in a few cases the downward thrust from jet engines.',\n",
       " 'airline': 'Lufthansa Group was the largest by number of employees, FedEx Express by freight tonne-kilometres, Turkish Airlines by number of countries served and UPS Airlines by number of destinations served (though United Airlines was the largest passenger airline by number of destinations served).',\n",
       " 'airport': 'An airport for use by seaplanes and amphibious aircraft is called a seaplane base.',\n",
       " 'ajinomoto': 'The corporations head office is located in Chūō, Tokyo.',\n",
       " 'akbar': 'Akbar himself was a patron of art and culture.',\n",
       " 'alabama': 'The state tree is the longleaf pine, and the state flower is the camellia.',\n",
       " 'alaska': 'The state capital of Juneau is the second-largest city in the United States by area, comprising more territory than the states of Rhode Island and Delaware.',\n",
       " 'albany': 'Albany, derived from the Gaelic name for Scotland, commonly refers to:*Albany, New York, the capital of New York and largest city of this nameAlbany may also refer to:',\n",
       " 'alberta': 'English is the official language of the province.',\n",
       " 'alcan': 'It was headquartered in Montreal, in its Maison Alcan complex.',\n",
       " 'alcoa': 'Alcoa conducts operations in 10 countries.',\n",
       " 'alcohol': 'When a higher priority group is present in the compound, the prefix hydroxy- is used in its IUPAC name.',\n",
       " 'alejandro': 'Defender of Mankind region          = Greece language        = Spanish seealso         = Alejandra, Alexandra, Alexander, Alex, Alessandro, Alexandru, AlexandreAlejandro is the Spanish form of the name Alexander.Alejandro has multiple variations in different languages, including Aleksander (Czech, Polish), Alexandre (French), Alexandros (Greek), Alsander (Irish), Alessandro (Italian), Aleksandr (Russian), and Alasdair (Gaelic).',\n",
       " 'alert': 'alert is to be in a state of alertness.Alert or ALERT  may also refer to:',\n",
       " 'alex': 'Alex is a given name.',\n",
       " 'alexander': 'The most prominent bearer of the name is Alexander the Great, the king of the Ancient Greek kingdom of Macedonia who created one of the largest empires in ancient history.',\n",
       " 'alexandria': 'Alexandria was the intellectual and cultural centre of the ancient Mediterranean world for much of the Hellenistic age and late antiquity.',\n",
       " 'algeria': 'Algerias military is one of the largest in Africa, and has the largest defence budget on the continent.',\n",
       " 'ali': 'Ali was eventually killed in the mosque of Kufa by the sword of one of the Kharijites, Ibn Muljam Moradi, and was buried outside the city of Kufa.',\n",
       " 'alitalia': 'The airline is fully owned by the Government of Italy since 17 March 2020.',\n",
       " 'alliance': 'Some, such as the Russian Empire, withdrew from the war before the armistice due to revolution or defeat.After the end of World War II and during the Cold War, the North Atlantic Treaty Organization (NATO) was formed as a political and military alliance that promotes anti-communist values.More recently, the term \"Allied forces\" has also been used to describe the coalition of the Gulf War, as opposed to forces the Multi-National Forces in Iraq which are commonly referred to as \"Coalition forces\" or, as by the George W. Bush administration, \"the coalition of the willing\".',\n",
       " 'alloy': 'alloy is an admixture of metals, or a metal combined with one or more other elements.',\n",
       " 'almir': 'Almir de Souza Fraga (born 26 March 1969), known as Almir, is a Brazilian former footballer who played as a striker.He represented the Brazilian national side in five international games between 1990 and 1993.',\n",
       " 'almost': 'So almost all real numbers in (0, 1) are member of the complement of the Cantor set.',\n",
       " 'aloha': 'Mary Kawena Pukui wrote that the \"first expression\" of aloha was between a parent and child.',\n",
       " 'alpha': 'Alpha is derived from the Phoenician letter aleph 20pxaleph, which is the West Semitic word for \"ox\".',\n",
       " 'alternatives': 'Alternatives also publishes the Alternatives International Journal, a monthly publication in English distributed electronically.Alternatives Montreal is the headquarters of an International Federation consisting of nine NGOs spread across the world.',\n",
       " 'altron': 'It has developed or published games for the PlayStation, early Nintendo and Sega home consoles, as well as smartphones and most Nintendo handheld systems.',\n",
       " 'aluminium': 'The radioactivity of Al is used in radiodating.Chemically, aluminium is a weak metal in the boron group; as it is common for the group, aluminium forms compounds primarily in the +3 oxidation state.',\n",
       " 'alusuisse': 'The organisation was named Schweizerische Aluminium AG from 1963, Alusuisse-Lonza Holding AG from 1990, and Algroup from 1998.From the 1900s became a significant employer in the Valais canton through its aluminum production activities; a byproduct of the aluminium production process: fluorine became the subject of a pollution scandal ( guerre du fluor) after its public reporting in the 1970s.',\n",
       " 'alza': 'Alza Corporation was a pharmaceutical and medical systems company.',\n",
       " 'amazon': 'Amazon most often refers to:* Amazons, a tribe of woman warriors in Greek mythology* Amazon rainforest, a rainforest covering most of the Amazon basin* Amazon River, in South America* Amazon (company), an American multinational technology companyAmazon or Amazone may also refer to:',\n",
       " 'ambassador': 'The \"ambassadors\" of the Holy See are known as Papal or Apostolic Nuncios.',\n",
       " 'amcor': 'Amcor merged with Bemis and became Amcor plc.',\n",
       " 'amendment': 'It is based on the verb to amend, which means to change for better.',\n",
       " 'amends': 'Amends\" is episode ten of season three of the television show Buffy the Vampire Slayer.',\n",
       " 'americans': '<br />{{cite bookauthor=International Business Publications, USAtitle=Philippines Business Law Handbook: Strategic Information and Lawsurl=https://books.google.com/books?id=c7ucUVVBsg4C&pg=PA29date=August 1, 2013publisher=Intl Business Publicationsisbn=978-1-4387-7078-9page=29quote=An estimated 600,000 Americans visit the Philippines each year, while an estimated 300,000 reside in-country.<br /><br /></ref> region5          = Brazil pop5             = 260,000 ref5             =  region6          = France pop6             = 200,000 ref6             =  region7          = Israel pop7             = 200,000 ref7             =  region8          = United Kingdom pop8             = 197,143 (foreign born only) ref8             =  region9          = South Korea pop9             = 120,000–158,000 ref9             = </ref> region10         = Costa Rica pop10            = 120,000–130,000 ref10            = </ref> region11         = Germany pop11            = 111,529 (foreign born only) ref11            =  region12         = China pop12            = 110,000 ref12            =  region13         = Colombia pop13            = 60,000 ref13            =  region14         = Hong Kong pop14            = 60,000 ref14            =  region15         = Japan pop15            = 59,172-153,389 ref15            =  region16         = Australia pop16            = 56,276 ref16            =  region17         = Pakistan pop17            = 52,486 ref17            =  region18         = Italy pop18            = 50,000 ref18            =  region19         = United Arab Emirates pop19            = 50,000 ref19            =  region20         = Haiti pop20            = 45,000 ref20            =  region21         = Saudi Arabia pop21            = 40,000 ref21            =  region22         = Argentina pop22            = 37,000 ref22            =  region23         = Norway pop23            = 33,509 ref23            =  region24         = The Bahamas pop24            = 30,000 ref24            =  region25         = Russia pop25            = 30,000 ref25            =  region26         = Lebanon pop26            = 25,000 ref26            =  region27         = Panama pop27            = 25,000 ref27            =  region28         = Dominican Republic pop28            = 24,457 ref28            =  region29         = Spain pop29            = 22,082 ref29            =  region30         = Chile pop30            = 19,161 ref30            =  region31         = El Salvador pop31            = 19,000 ref31            =  region32         = New Zealand pop32            = 17,751 ref32            =  region33         = Honduras pop33            = 15,000 ref33            =  region34         = Poland pop34            = 2,483–14,000 ref34            = </ref> region35         = Trinidad and Tobago pop35            = 11,500 ref35            =  region36         = Taiwan pop36            = 10,645 ref36            =  region37         = Austria pop37            = 10,175 ref37            =  region38         = Denmark pop38            = 9,400 ref38            =  region39         = Czech Republic pop39            = 8,763 ref39            =  region40         = Bermuda pop40            = 8,000 ref40            =  langs            = Primarily American English, but also Spanish and others rels             = Primarily Christian (Protestantism, Catholicism, and other denominations)<br />Various non-Christian religions (Judaism and others)<br />Irreligion related_groups   = Americans are the citizens and nationals of the United States of America.',\n",
       " 'amnesty': 'Other famous amnesties include: Napoleons amnesty of March 13, 1815, from which thirteen eminent persons, including Talleyrand, were exempt; the Prussian amnesty of August 10, 1840; the general amnesty proclaimed by the emperor Franz Josef I of Austria in 1857; the general amnesty granted by President of the United States, Andrew Johnson, after the American Civil War (1861–1865), in 1868, and the French amnesty of 1905.',\n",
       " 'amoco': 'By the mid-twentieth century it was ranked the largest oil company in the United States.',\n",
       " 'amortization': 'In accounting, amortization refers to charging or writing off an intangible assets cost as an operational expense over its estimated useful life to reduce a companys taxable income.',\n",
       " 'amphenol': 'This is the birthplace of the MIL-DTL-38999 cylindrical connector.',\n",
       " 'amsterdam': 'The city is also the cultural capital of the Netherlands.',\n",
       " 'amstutz': 'Notable people with the surname include:*Adrian Amstutz (born 1953), Swiss politician*Dan Amstutz (1932–2006), American lobbyist*Hobart Baumann Amstutz (1896–1980), American Methodist bishop*Reto Amstutz (born 1993), Swiss ice hockey player*Ron Amstutz (born 1952), American politician*Tom Amstutz (born 1955), American football coach',\n",
       " 'amt': 'Amt is a type of administrative division governing a group of municipalities, today only in Germany, but formerly also common in other countries of Northern Europe.',\n",
       " 'amusement': 'Amusement, from the old French à muser – to put into a stupid stare, is the state of experiencing humorous and entertaining events or situations while the person or animal actively maintains the experience, and is associated with enjoyment, happiness, laughter and pleasure.',\n",
       " 'anacomp': 'The name Anacomp is a combination of the words ANAlyze and COMPute.',\n",
       " 'analysis': 'It has also been ascribed to Isaac Newton, in the form of a practical method of physical discovery (which he did not name).',\n",
       " 'anchor': 'anchor is a device, normally made of metal, used to secure a vessel to the bed of a body of water to prevent the craft from drifting due to wind or current.',\n",
       " 'andersen': 'English Andrew).',\n",
       " 'andreas': 'The Scandinavian name is earliest attested as antreos in a runestone from the 12th century.The name Andrea may be used as a feminine form, but is instead the main masculine form in Italy and the canton of Ticino in Switzerland.',\n",
       " 'andrew': 'In the King James Bible, the Greek \"Ἀνδρέας\" is translated as Andrew.',\n",
       " 'andriessen': 'People named Andriessen or Andriesse  include:* Anthonie Andriessen (1746–1813), Dutch painter*  (born 1940), Dutch painter and sculptor* Christiaan Andriessen (1775–1846), Dutch draftsman, son of Jurriaan Andriessen (artist)* Frans Andriessen (1929–2019), Dutch politician*  (born 1957), Dutch videoartist/composer, son of Jurriaan Andriessen (composer)* Hendrick Andriessen (1607–1655), Flemish painter* Hendrik Andriessen  (1892–1981), Dutch composer, brother of Willem and Mari* Jurriaan Andriessen (artist) (1742–1819), Dutch decorative painter* Jurriaan Andriessen (composer) (1925–1996), Dutch composer, son  of Hendrik Andriessen* Koos Andriessen (1928–2019), Dutch politician* Louis Andriessen (1939–2021), Dutch composer, son of Hendrik Andriessen* Mari Andriessen (1897–1977), Dutch sculptor, brother of Willem and Hendrik* Willem Andriessen (1887–1964), Dutch pianist and composer, brother of Hendrik and Mari;Andriesse* Cornelis Dirk Andriesse (born 1939), Dutch physicist* Emmy Andriesse (1914–1953), Dutch photographer;Purely patronymic:* Albert Andriessen Bradt (1607–1687), Norwegian-born settler from Amsterdam in New Amsterdam',\n",
       " 'anger': 'Some view anger as an emotion which triggers part of the fight or flight response.',\n",
       " 'angered': 'About half the population is unemployed.',\n",
       " 'anglo': 'It is also used in the United States to distinguish the growing Spanish-speaking Latino population from the English-speaking majority.',\n",
       " 'anhui': 'The province is located across the basins of the Yangtze River and the Huai River, bordering Jiangsu to the east, Zhejiang to the southeast, Jiangxi to the south, Hubei to the southwest, Henan to the northwest, and Shandong for a short section in the north.With a population of 63.65 million, Anhui is the 8th most populous province in China.',\n",
       " 'animal': 'Nonhuman animals have appeared in art from the earliest times and are featured in mythology and religion.',\n",
       " 'ankara': 'The historical center of Ankara is a rocky hill rising  over the left bank of the Ankara River, a tributary of the Sakarya River.',\n",
       " 'annesley': 'Nearby to the west is Annesley Woodhouse.',\n",
       " 'anniversary': 'One year later would be the first anniversary of that event.',\n",
       " 'answer': 'Answer commonly refers to answer (response), to a question.Answer may also refer to:* Answer (law)',\n",
       " 'anticipating': '\"Anticipating\" is a disco and dance-pop song, influenced by R&B.',\n",
       " 'anticipation': 'Anticipation is an emotion involving pleasure or anxiety in considering or awaiting an expected event.',\n",
       " 'antilles': 'Antilles  is an archipelago bordered by the Caribbean Sea to the south and west, the Gulf of Mexico to the northwest, and the Atlantic Ocean to the north and east.The Antillean islands are divided  into two smaller groupings: the Greater Antilles and the Lesser Antilles.',\n",
       " 'antonio': 'The Roman general Marcus Antonius held that the origin of the name was Anthon (Ανθών), son of Hercules.',\n",
       " 'antwerp': 'Antwerp  is a city in Belgium and the capital of Antwerp Province in the Flemish Region.',\n",
       " 'anza': 'Anza, Anzah, or de Anza might refer to:',\n",
       " 'apartheid': 'Places of residence were determined by racial classification.',\n",
       " 'api': 'It is a type of software interface, offering a service to other pieces of software.',\n",
       " 'apollo': 'One of the most important and complex of the Greek gods, he is the son of Zeus and Leto, and the twin brother of Artemis, goddess of the hunt.',\n",
       " 'apparently': 'The song was nominated for Best Rap Performance for the 2016 Grammys.',\n",
       " 'appeal': 'Appeals function both as a process for error correction as well as a process of clarifying and interpreting law.',\n",
       " 'appears': 'Alexey Eremenko, writing for AllMusic, selected the track as the best song from the album and her career.',\n",
       " 'apply': 'apply is a function that applies a function to arguments.',\n",
       " 'approaching': 'The majority of the disk is taken up by Nicholas Bentz’s work Approaching Eternity.',\n",
       " 'april': 'April is the fourth month of the year in the Gregorian calendar, the fifth in the early Julian, the first of four months to have a length of 30 days, and the second of five months to have a length of less than 31 days.April is commonly associated with the season of autumn in parts of the Southern Hemisphere, and spring in parts of the Northern Hemisphere, where it is the seasonal equivalent to October in the Southern Hemisphere and vice versa.',\n",
       " 'apt': 'Apt.',\n",
       " 'arable': 'Arable  relates to the growing of crops:* Arable farming or agronomy, the cultivation of field crops* Arable land, land upon which crops are cultivated* Arable crops program, a consolidated support system operated under the EU Common Agricultural Policy* Fivehead Arable Fields, a Site of Special Scientific Interest in Somerset, England',\n",
       " 'arango': 'Arango is one of fifteen parishes (administrative divisions) in Pravia, a municipality within the province and autonomous community of Asturias, in northern Spain.The population is 264 (INE 2007).',\n",
       " 'arbed': 'Created in 1911 after the merger of three steel producing companies, ARBED had a significant role in the economy of the Grand Duchy until it merged in 2002 with two other European steel companies to create Arcelor.',\n",
       " 'arbitrage': 'arbitrage  is the practice of taking advantage of a price difference between two or more markets: striking a combination of matching deals that capitalize upon the imbalance, the profit being the difference between the market prices at which the unit is traded.',\n",
       " 'arbitration': 'Arbitration, a form of alternative dispute resolution (ADR), is a way to resolve disputes outside the judiciary courts.',\n",
       " 'architect': 'architect is a person who plans, designs and oversees the construction of buildings.',\n",
       " 'arctic': 'Arctic land is bordered by the subarctic.',\n",
       " 'are': 'Are is the second-person singular and plural forms of the verb \"to be\", the copula of the English language.Are, ARE or Åre may also refer to:',\n",
       " 'area': 'It is the two-dimensional analog of the length of a curve (a one-dimensional concept) or the volume of a solid (a three-dimensional concept).The area of a shape can be measured by comparing the shape to squares of a fixed size.',\n",
       " 'argentina': 'It is the second-largest country in South America after Brazil, the fourth-largest country in the Americas, and the eighth-largest country in the world.',\n",
       " 'argument': 'Deductive arguments can be valid or sound: in a valid argument, premisses necessitate the conclusion, even if one or more of the premises is false and the conclusion is false; in a sound argument, true premises necessitate a true conclusion.',\n",
       " 'argyll': 'Earra-Ghàidheal native_name_lang                = ga settlement_type                 = Historic county image_skyline                   =  image_alt                       =  image_caption                   =  image_flag                      =  flag_size                       = 150px flag_link                       = Flag of Argyll flag_alt                        =  image_seal                      =  seal_alt                        =  image_shield                    =  shield_alt                      =  nickname                        =  motto                           =  image_map                       = Argyllshire Brit Isles Sect 2.svg map_alt                         =  map_caption                     =  pushpin_map                     =  pushpin_map_alt                 =  pushpin_map_caption             =  coor_pinpoint                   =  coordinates                     =  coordinates_footnotes           =  subdivision_type                = Sovereign state subdivision_name                =  subdivision_type1               = Country subdivision_name1               =  subdivision_type2               =  subdivision_name2               =  established_title               =  established_date                =  founder                         =  seat_type                       = County town seat                            = Inveraray government_footnotes            =  leader_party                    =  leader_title                    =  leader_name                     =  unit_pref                       = UK<!-- or US or Metric --> area_footnotes                  =  area_total_sq_mi                = 3110 area_land_sq_mi                 =  area_water_sq_mi                =  area_total_km2                  =  area_land_km2                   =  area_water_km2                  =  area_water_percent              =  area_note                       = Ranked 2nd of 34 elevation_footnotes             =  elevation_m                     =  population_footnotes            =  population_total                =  population_as_of                =  population_density_km2          = auto population_demonym              =  population_note                 =  timezone1                       =  utc_offset1                     =  timezone1_DST                   =  utc_offset1_DST                 =  postal_code_type                = Chapman code postal_code                     = ARL area_code_type                  =  area_code                       =  iso_code                        =  website                         = <!--  --> footnotes                       = thumbrightArgyll Argyll , sometimes called Argyllshire, is a historic county and registration county of western Scotland.Argyll is of ancient origin, and corresponds to most of the part of the ancient kingdom of  on Great Britain.',\n",
       " 'ariadne': 'She was mostly associated with mazes and labyrinths because of her involvement in the myths of the Minotaur and Theseus.',\n",
       " 'arisen': 'Arisen is a 2012 album by the band Lestat.',\n",
       " 'ariz': 'Ariz may refer to the following places:*Ariz (Marco de Canaveses), a parish in the municipality of Marco de Canaveses, Portugal*Ariz (Moimenta da Beira), a parish in the municipality of Moimenta da Beira, Portugal *Ariz, a parish in Basauri, Biscay, Basque Country* Ariz (Metro Bilbao), a metro station in Basauri, Biscay, Basque Country* Ariz, Lebanon, an area in Lebanon* Ariz, Clinica, Institucion privada para la salud en Mexico, San Jeronimo Aculco, Magdalena Contreras',\n",
       " 'arizona': 'It is the 6th largest and the 14th most populous of the 50 states.',\n",
       " 'arkansas': 'The largest city in the states eastern part is Jonesboro.',\n",
       " 'arm': 'It can be divided into the upper arm, which extends from the shoulder to the elbow, the forearm which extends from the elbow to the hand, and the hand.',\n",
       " 'armed': 'He was inducted into the National Museum of Racing and Hall of Fame in 1963.',\n",
       " 'army': 'To differentiate the colloquial army from the formal concept of military force, the term is qualified, for example in France the land force is called Armée de terre, meaning Land Army, and the air and space force is called Armée de lAir et de l’Espace, meaning Air and Space Army.',\n",
       " 'arrange': 'When he returned, he spat on the ground, creating the granite boulders from the central part of Karlu Karlu.',\n",
       " 'arrangement': 'Arranging is the art of giving an existing melody musical variety\".',\n",
       " 'arrears': 'For instance, rent is usually paid in advance, but mortgages in arrear (the interest for the period is due at the end of the period).',\n",
       " 'arrow': 'arrow is a fin-stabilized projectile launched by a bow.',\n",
       " 'arsenal': 'arsenal is a place where arms and ammunition are made, maintained and repaired, stored, or issued, in any combination, whether privately or publicly owned.',\n",
       " 'art': 'The resulting artworks are studied in the professional fields of art criticism and the history of art.',\n",
       " 'arthur': 'Its etymology is disputed, but its popularity derives from it being the name of the legendary hero King Arthur.Diminutive forms of the name include Art and Artie.',\n",
       " 'article': 'Article often refers to:* Article (grammar), a grammatical element used to indicate definiteness or indefiniteness* Article (publishing), a piece of nonfictional prose that is an independent part of a publicationArticle may also refer to:',\n",
       " 'arturo': 'Arturo is a Spanish and Italian variant of the name Arthur.',\n",
       " 'asarco': 'Its mines produce  of copper a year.',\n",
       " 'asean': 'In 2003, ASEAN moved along the path of the European Union by agreeing to establish an ASEAN community comprising three pillars:  the ASEAN security community, the ASEAN economic community, and the ASEAN socio-cultural community.',\n",
       " 'asher': 'Asher ( ’Āšēr), in the Book of Genesis, is the second son of Jacob and Zilpah, and the founder of the Tribe of Asher.',\n",
       " 'asia': 'It shares the continental landmass of Eurasia with the continent of Europe and the continental landmass of Afro-Eurasia with both Europe and Africa.',\n",
       " 'aside': 'aside is a dramatic device in which a character speaks to the audience.',\n",
       " 'ask': 'Ask is the active verb for a direct question.Ask may also refer to:',\n",
       " 'assay': 'The difference in the assay outcome is used to deduce the unknown quality or quantity of the target in question.',\n",
       " 'asset': 'Tangible assets contain various subclasses, including current assets and fixed assets.',\n",
       " 'assumption': 'Assumption, in Christianity, refers to the Assumption of Mary, a belief in the taking up of the Virgin Mary into heaven.Assumption may also refer to:',\n",
       " 'athens': 'Landmarks of the modern era, dating back to the establishment of Athens as the capital of the independent Greek state in 1834, include the Hellenic Parliament and the so-called \"architectural trilogy of Athens\", consisting of the National Library of Greece, the National and Kapodistrian University of Athens and the Academy of Athens.',\n",
       " 'atlanta': 'Atlanta () is the capital and most populous city of the U.S. state of Georgia.',\n",
       " 'atlantis': 'Platos vague indications of the time of the events (more than 9,000 years before his time) and the alleged location of Atlantis (\"beyond the Pillars of Hercules\") gave rise to much pseudoscientific speculation.',\n",
       " 'atlas': 'atlas is a collection of maps; it is typically a bundle of maps of Earth or a region of Earth.Atlases have traditionally been bound into book form, but today many atlases are in multimedia formats.',\n",
       " 'atmosphere': 'The current composition of the Earths atmosphere is the product of billions of years of biochemical modification of the paleoatmosphere by living organisms.A stellar atmosphere is the outer region of a star and typically includes the portion above the opaque photosphere.',\n",
       " 'attached': 'The eighth episode of the seventh season.',\n",
       " 'attempt': 'Attempt to commit a particular crime is a crime, usually considered to be of the same or lesser gravity as the particular crime attempted.',\n",
       " 'attention': 'Focalization, concentration, of consciousness are of its essence.\"',\n",
       " 'auction': 'auction is usually a process of buying and selling goods or services by offering them up for bid, taking bids, and then selling the item to the highest bidder or buying the item from the lowest bidder.',\n",
       " 'audi': 'After relaunching the Audi brand with the 1965 introduction of the Audi F103 series, Volkswagen merged Auto Union with NSU Motorenwerke in 1969, thus creating the present-day form of the company.The company name is based on the Latin translation of the surname of the founder, August Horch.',\n",
       " 'audio': 'It may also refer to:',\n",
       " 'audit': 'The term is most frequently applied to audits of the financial information relating to a legal person.',\n",
       " 'auditor': 'Generally, to act as an external auditor of the company, a person should have a certificate of practice from the regulatory authority.',\n",
       " 'august': 'In the Northern Hemisphere, August falls in the season of summer.',\n",
       " 'austerity': 'This also tends to reduce employment in the short term.',\n",
       " 'australasia': 'The term is used in a number of different contexts including geopolitically, physiogeographically, and ecologically where the term covers several slightly different but related regions.',\n",
       " 'australia': 'It is the largest country in Oceania and the worlds sixth-largest country.',\n",
       " 'austria': 'It plays host to the OSCE and OPEC and is a founding member of the OECD and Interpol.',\n",
       " 'authority': 'In the exercise of governance, the terms authority and power are inaccurate synonyms.',\n",
       " 'authorization': 'Authorization is the function of specifying access rights/privileges to resources, which is related to general information security and computer security, and to access control in particular.',\n",
       " 'automation': 'Automation has also found space in the banking sector.',\n",
       " 'autumn': 'Persians celebrate the beginning of the autumn as Mehregan to honor Mithra (Mehr).',\n",
       " 'availability': 'a random, time.',\n",
       " 'avalon': 'It is often identified as the former island of Glastonbury Tor, which the later English variant of the legend made the place where King Arthur was taken to his final rest.',\n",
       " 'average': 'Different concepts of average are used in different contexts.',\n",
       " 'avia': 'Avia Motors s.r.o.',\n",
       " 'aviation': 'Some of the most significant advancements in aviation technology came with the controlled gliding flying of Otto Lilienthal in 1896; then a large step in significance came with the construction of the first powered airplane by the Wright brothers in the early 1900s.',\n",
       " 'awaiting': 'The other short films were The Dream directed by Shu Kei, HK 2014 - Education for All directed by Christopher Doyle, and Boss I Love You directed by Zhang Yuan.',\n",
       " 'award': 'The award item may be a decoration, that is an insignia suitable for wearing, such as a medal, badge, or rosette (award).',\n",
       " 'aziz': 'The feminine form of both the adjective and the given name is Aziza.Aziz in Arabic is derived from the root ʕ-z-z with a meaning of \"strong, powerful\" and the adjective has acquired its meaning of \"dear, darling, precious\".',\n",
       " 'babcock': 'Notable people with the surname include: *Alpheus Babcock (1785–1842), American piano and musical  instrument maker*Audrey Babcock, American operatic mezzo-soprano*Barbara Babcock (born 1937), American actress*Betty Lee Babcock (1922–2013), American businesswoman and politician*Brad Babcock, American college baseball coach*Brenton D. Babcock (1830–1906), mayor of Cleveland, Ohio*Charlie Babcock, American actor*Chip Babcock (born c. 1950), American attorney*Christine Babcock, American runner*Courtney Babcock (born 1972), Canadian runner*Edward V. Babcock (1864–1948), mayor of Pittsburgh, Pennsylvania*E. B. Babcock (Ernest Brown Babcock, 1877–1954), American plant geneticist*Elnora Monroe Babcock (1852–1934), American suffragist, press chair*Emma Whitcomb Babcock (1849–1926), American litterateur, author*Erin Babcock (1981–2020), Canadian politician*Ezekiel Babcock (1828–1905), American farmer and politician*Laura Babcock (1988/1989-2012), Canadian murder victim who was murdered by Dellen Millard and Mark Smich*George Herman Babcock (1832–1893), American inventor*Harold D. Babcock (1882–1968), American astronomer*Havilah Babcock (1837–1905), American businessman*Horace W. Babcock (1912–2003), American astronomer*Ira Babcock (1808–1888), American pioneer and judge*John Babcock (1900–2010), last surviving Canadian World War I veteran*John C. Babcock (1836–1908), rowing pioneer and American Civil War spy*Joseph Park Babcock (1893–1949), American Mahjong promoter*Joseph Weeks Babcock (1850–1909), Wisconsin member of the U.S. House of Representatives*Lorenzo A. Babcock, first attorney general of Minnesota Territory*Mabel Keyes Babcock, American landscape architect*Maud Babcock (1867–1954), American educator*Mike Babcock (born 1963), Canadian hockey head coach and former player*Orville E. Babcock (1835–1884), American Civil War general*Rob Babcock, (born c. 1953) former general manager of the Toronto Raptors NBA basketball team*Roscoe Lloyd Babcock, (1897–1981) California artist*Sam Babcock (1901–1970), American football player (Canton Bulldogs)*Shelby Babcock (born 1992), American softball player*Stanton Babcock (1904–1979), American equestrian*Stefan Babcock (born 1988), vocalist and guitarist for PUP*Stephen Moulton Babcock (1843–1931), American agricultural chemist*Tim M. Babcock (1919–2015), governor of Montana*Warren Babcock (1866–1913), American politician and educator*Wendy Babcock (1979–2011), Canadian activist for the rights of sex workers',\n",
       " 'bag': 'bag (also known regionally as a sack) is a common tool in the form of a non-rigid container.',\n",
       " 'baghdad': 'Baghdad  is the capital of Iraq and is, after Cairo, the second largest city of the Arab world and fourth largest in the Middle East with a city population of 8.1 million.',\n",
       " 'bahia': 'Bahia .',\n",
       " 'bahrain': 'The capital and largest city is Manama.Bahrain is the site of the ancient Dilmun civilization.',\n",
       " 'baker': 'The place where a baker works is called a bakery.',\n",
       " 'baking': 'A person who prepares baked goods as a profession is called a baker.',\n",
       " 'balao': 'The most important rivers are: the Balao River, the Jagua River, and the Gala River.',\n",
       " 'baldrige': 'Son of H. Malcolm Baldrige, and eponym for the Malcolm Baldrige National Quality Award.',\n",
       " 'baldwin': 'Baldwin is a Germanic name, composed of the elements bald \"bold\" and win \"friend\".',\n",
       " 'bales': '1985), American basketball player* Barry Bales (b.',\n",
       " 'ball': 'It is used in ball games, where the play of the game follows the state of the ball as it is hit, kicked or thrown by players.',\n",
       " 'baltimore': 'Baltimore was designated an independent city by the Constitution of Maryland in 1851, and today is the largest independent city in the United States.',\n",
       " 'bamberger': 'Notable people with the surname include:* Ana Maria Bamberger (born 1966), Romanian physician and playwright* Ármin Vámbéry (born Bamberger) (1832–1913), Hungarian orientalist* Bernard Jacob Bamberger (1904-1980), American rabbi and Biblical scholar* Cyril Stanley Bamberger (1919–2008), Battle of Britain pilot * Eugen Bamberger (1857–1932), German chemist* Florence E. Bamberger (1882–1965), American pedagogue* Fritz Bamberger (painter) (1814–1873), German painter* Fritz Bamberger (scholar) (1902–1984), German Jewish scholar* Heinrich von Bamberger, Austrian physician* George Bamberger (1923–2004), American baseball player* Jakob Bamberger (1913–1989), German boxer and Porajmos survivor* Lesley Bamberger (born 1965/1966), Dutch billionaire, owner of Kroonenberg Groep* Louis Bamberger (1855-1944), founder of the Institute for Advanced Study** Bambergers, retail store that he founded* Ludwig Bamberger (1823–1899), German deputy, political economist and founder of Deutsche Bank* Michael Bamberger (born 1960), writer* Seligman Baer Bamberger (1807–1878), German rabbi, author and educator* Simon Bamberger (1846–1926), U.S. politician, governor of Utah (1917–1921)<!-- redlinks* Béla Bamberger (1854–), Hungarian lawyer and writer on political economy ([http://jewishencyclopedia.com/view.jsp?artid=191&letter=B JE])* Édouard Adrien Bamberger, Alsatian deputy and physician ([http://jewishencyclopedia.com/view.jsp?artid=192&letter=B JE])* Isaac Bamberger (1834–1896), German rabbi ([http://jewishencyclopedia.com/view.jsp?artid=193&letter=B JE])* Julius Bamberger, see German article([http://jewishencyclopedia.com/view.jsp?artid=194&letter=B JE])* Ludwig Berger (born Bamberger) (1892–1969), German film director (in German)* Max Bamberger, Austrian chemist* Richard Bamberger, award-winning childrens author* Rob Bamberger, host of Hot Jazz Saturday Night* Solomon Bamberger (1835–), German rabbi and Talmudic author, the son of Seligman Baer Bamberger ([http://jewishencyclopedia.com/view.jsp?artid=196&letter=B JE])* P. Kurt Bamberger, American Surgeon, ([http://pkbsurgery.com])* Rupert Bamberger, UK based Assistant Director-->Bamberger may also refer to a citizen of the German city of Bamberg or to organisations connected with that city:* Bamberg Symphony Orchestra (Bamberger Symphoniker)',\n",
       " 'bangkok': 'The city is now a regional force in finance and business.',\n",
       " 'bangladesh': 'The Bangladeshi economy is the 39th-largest in the world by nominal GDP, and the 29th-largest by PPP.',\n",
       " 'bank': 'In the history of banking, a number of banking dynasties — notably, the  Medicis, the Fuggers, the Welsers, the  Berenbergs, and the  Rothschilds — have played a central role over many centuries.',\n",
       " 'bankruptcy': 'In most jurisdictions, bankruptcy is imposed by a court order, often initiated by the debtor.Bankrupt is not the only legal status that an insolvent person may have, and the term bankruptcy is therefore not a synonym for insolvency.',\n",
       " 'banner': 'banner can be a flag or other piece of cloth bearing a symbol, logo, slogan or other message.',\n",
       " 'barber': 'Barbershops are also places of social interaction and public discourse.',\n",
       " 'barclays': 'James Barclay became a partner in the business in 1736.',\n",
       " 'barco': 'Barco may also refer to:',\n",
       " 'bargaining': 'bargaining or haggling is a type of negotiation in which the buyer and seller of a good or service debate the price and exact nature of a transaction.',\n",
       " 'barge': 'Originally barges were towed by draft horses on an adjacent towpath.',\n",
       " 'baring': 'Baring may refer to one of the following',\n",
       " 'barley': 'It is used in soups and stews, and in barley bread of various cultures.',\n",
       " 'barnett': 'Barnett is both a surname and a masculine given name.',\n",
       " 'baron': 'The use of the title baron came to England via the Norman Conquest of 1066, then the Normans brought the title to Scotland and Italy.',\n",
       " 'barrel': 'Wine was shipped in barrels of .',\n",
       " 'barrier': 'barrier or barricade is a physical structure which blocks or impedes something.Barrier may also refer to:',\n",
       " 'barter': 'barter (derived from baretor) is a system of exchange in which participants in a transaction directly exchange goods or services for other goods or services without using a medium of exchange, such as money.',\n",
       " 'basf': 'BASF SE is a German multinational chemical company and the largest chemical producer in the world.',\n",
       " 'basket': 'Baskets are generally woven by hand.',\n",
       " 'bastian': 'Notable people with the surname include:*Adolf Bastian (1826–1905), 19th-century anthropologist*Ali Bastian (born 1982), English television actress*Amy Bastian (born 1968), American neuroscientist*Anura Bastian (born 1950), Sri Lankan politician*Bob Bastian (1938–2019), American farmer and politician*Bruce Bastian (born 1948), American computer programmer and businessman*Charlie Bastian (1860–1932), American baseball player*Donald N. Bastian, Canadian bishop*Ed Bastian (born 1957), American business executive*Frank O. Bastian, American medical doctor and neuropathologist*Fritz Bastian (1898–1944), American tennis player*Gert Bastian (1923–1992), German military officer and politician*Gordon Bastian (1902–1987), British sailor*Henry Charlton Bastian (1837–1915), English zoologist, physiologist and neurologist*Hilda Bastian ( 1980s–1990s), Australian researcher*Jolly Bastian, Indian stunt master*Lan Bastian (born 1985), Indonesian footballer*Mary Bastian (1948–1985), Tamil Human Rights activist*Michael Bastian (born 1965), American fashion designer*Nathan Bastian (born 1997), Canadian ice hockey player*Nico Bastian (born 1990), German racing driver*Noah Bastian (born 1979), American actor*Peter Bastian (1943–2017), Danish musician*Stan Bastian (born 1941), American educator and politician*Stanley Bastian (born 1958), American judge*Wally Bastiansz (died 1985), Sri Lankan baila musician*Walter M. Bastian (1891–1975), American judgeBastian is also a male given name:*Bastián Arce (born 1989), Chilean footballer*Bastian Badu (born 2000), French footballer*Bastian Baker (born 1991), Swiss singer and songwriter*Bastian Clevé (born 1950), German filmmaker and producer*Bastian Dankert (born 1980), German football referee*Bastian Doreth (born 1989), German basketball player*Kai-Bastian Evers (born 1990), German footballer*Bastian Heidenfelder (born 1986), German footballer*Bastian Henning (born 1983), German footballer*Bastian Hohmann (born 1990), German footballer*Bastian Kaltenböck (born 1983), Austrian ski jumper*Bastian Kersaudy (born 1994), French badminton player*Bastian Knittel (born 1983), German tennis player*Bastian Kolmsee (born 1981), German racing driver*Bastian Kurz (born 1996), German footballer*Didrik Bastian Juell (born 1990), Norwegian freestyle skier*Bastián Lizama (born 1996), Chilean badminton player*Bastian Müller (born 1991), German footballer*Bastian Obermayer (born 1977), German investigative journalist*Bastian Oczipka (born 1989), German footballer*Julius Bastian Olsen (1875–1936), Norwegian politician*Bastian Pagez ( 1566), servant of Mary, Queen of Scots*Bastian Pastewka (born 1972), German comedian*Bastian Pinske (born 1978), German footballer*Bastian Reinhardt (born 1975), German footballer*Lars Bastian Ridder Stabell (1798–1860), Norwegian politician*Bastian Roscheck (born 1991), German handball player*Bastián San Juan (born 1994), Chilean footballer*Bastian Schulz (born 1985), German footballer*Bastian Schweinsteiger (born 1984), German soccer player*Bastian Seibt (born 1978), German rower*Bastian Seidel (born 1975), Australian politician and medical doctor*Bastian Semm (born 1979), German actor*Bastian Sick (born 1965), German journalist and author*Bastián Solano Molina (born 1999), Chilean footballer*Bastian Steger (born 1981), German table tennis player*Bastian Swillims (born 1982), German sprinter*Bastian Trinker (born 1990), Austrian tennis player*Bastian Trost (born 1974), German actor*Bastian Vasquez (1990–2015), Norwegian terrorist*Bastian Winkelhaus, German card game player*Bastián Yañez (born 2001), Chilean footballer',\n",
       " 'bat': 'Bats are mammals of the order Chiroptera.',\n",
       " 'battle': 'Some prominent examples of this would be the Battle of the Atlantic, Battle of Britain, and Battle of Stalingrad, all in World War II.',\n",
       " 'bauxite': 'It is the worlds main source of aluminium and gallium.',\n",
       " 'bay': 'A cove is a small, circular bay with a narrow entrance.',\n",
       " 'bayer': 'Bayer AG  is a German multinational pharmaceutical and life sciences company and one of the largest pharmaceutical companies in the world.',\n",
       " 'bayou': 'bayou () is a body of water typically found in a flat, low-lying area, and may refer to an extremely slow-moving stream or river (often with a poorly defined shoreline), a marshy lake or wetland or a creek whose current reverses daily due to tides, and which contains brackish water highly conducive to fish life and plankton.',\n",
       " 'bbc': 'The fee is set by the British Government, agreed by Parliament, and is used to fund the BBCs radio, TV, and online services covering the nations and regions of the UK.',\n",
       " 'beach': 'Preserved beaches and their associated dune are important for protection from extreme weather for inland ecosystems and human infrastructure.',\n",
       " 'beall': 'Senator from Maryland*Jim Beall (California politician) (born 1952), American politician*Jeffrey Beall, American librarian*J. Glenn Beall Jr. (1927–2006), U.S.',\n",
       " 'bean': 'They can be cooked in many different ways, including boiling, frying, and baking, and are used in many traditional dishes throughout the world.',\n",
       " 'bear': 'Bears are carnivoran mammals of the family Ursidae.',\n",
       " 'beauty': 'Because of its subjective side, beauty is said to be \"in the eye of the beholder\".',\n",
       " 'beaver': 'Beavers are the second-largest living rodents after the capybaras.',\n",
       " 'bed': 'Some beds contain neither a padded mattress nor a bed frame, such as the hammock.',\n",
       " 'beecham': 'Notable people with the surname include:* Audrey Beecham (1915–1989), poet and niece of the conductor* Betty Humby Beecham (1908–1958), British pianist and wife of the conductor* Earl Beecham (born 1965), American football player* Emily Beecham (born 1984), English actress* Ernie Beecham (1906–1985), English footballer* Jeremy Beecham (born 1944), British Labour politician* Sir Joseph Beecham, 1st Baronet (1848–1916), eldest son of Thomas Beecham the chemist* Thomas Beecham (1879–1961), British conductor* Thomas Beecham (chemist) (1820–1907), British chemist, grandfather of the conductor* Sinclair Beecham, British entrepreneur',\n",
       " 'beef': 'The bones are used for making beef stock.',\n",
       " 'beer': 'During the brewing process, fermentation of the starch sugars in the wort produces ethanol and carbonation in the resulting beer.',\n",
       " 'begun': 'It is also one of the historical towns of Chittorgarh district.',\n",
       " 'behalf': 'logo = Behalf_square_logo_250x250 (2).png type = Financial Services author =',\n",
       " 'being': 'Anything that exists is being.',\n",
       " 'beira': 'Beira  can refer to:*Beira (mythology), the mother to all the gods and goddesses in the Celtic mythology of Scotland*Beira, Azores, a small village on São Jorge Island*Beira (Portugal), the name of a region (and former province) in north-central Portugal; three provinces were later known by the name:**Beira Alta Province (extinct)**Beira Baixa Province (extinct)**Beira Litoral Province (extinct)*Beira, Mozambique, a port city in Mozambique*Beira Railroad Corporation, operating in Mozambique*Prince of Beira, a title within the Portuguese royal house*Beira (antelope) (scientific name Dorcatragus megalotis), a species of antelope*1474 Beira, an asteroid*Beira Lake, a lake in Colombo, Sri Lanka',\n",
       " 'belgium': 'It is bordered by the Netherlands to the north, Germany to the east, Luxembourg to the southeast, France to the southwest, and the North Sea to the northwest.',\n",
       " 'belgrade': 'In 1521, Belgrade was conquered by the Ottomans and became the seat of the Sanjak of Smederevo.',\n",
       " 'belief': '\".',\n",
       " 'believed': 'It was released through indie label Leisure Records.',\n",
       " 'bell': 'Some small bells such as ornamental bells or cowbells can be made from cast or pressed metal, glass or ceramic, but large bells such as a church, clock and tower bells are normally cast from bell metal.Bells intended to be heard over a wide area can range from a single bell hung in a turret or bell-gable, to a musical ensemble such as an English ring of bells, a carillon or a Russian zvon which are tuned to a common scale and installed in a bell tower.',\n",
       " 'bellsouth': 'Its operations in Australia were under the name of BellSouth Australia Pty Limited.',\n",
       " 'ben': 'Bar-, \"son of\" in Aramaic, is also seen, e.g.',\n",
       " 'bentsen': 'Bentsen is a Danish surname, and it means son of Bendt which is a Danish nickname for Benedict.',\n",
       " 'berisford': 'Berisford is a surname.',\n",
       " 'berkey': 'Notable people with the surname include:*Craig Berkey (born 1962), Canadian sound engineer*Dennis D. Berkey, American academic administrator*Jackson Berkey (born 1942), American composer, pianist, and singer*James L. Berkey (1930–1982), American set decorator*Jean Berkey (1938–2013), American politician*John Berkey (1932–2008), American artist*Jonathan Berkey, American historian*Joshua H. Berkey (1852-1911), American Prohibitionist politician*Russell S. Berkey (1893–1985), United States Navy admiral',\n",
       " 'berlin': 'Berlin in the 1920s was the third-largest municipality in the world.',\n",
       " 'berliner': 'Berliner is most often used to designate a citizen of Berlin, GermanyBerliner may also refer to:',\n",
       " 'bermuda': 'Bermuda  is a British Overseas Territory in the North Atlantic Ocean.',\n",
       " 'bernard': 'Bernard is the second most common surname in France.',\n",
       " 'bernstein': 'The German pronunciation is , but in English it is pronounced either as  or .',\n",
       " 'berry': 'Some berries are commercially important.',\n",
       " 'beryl': 'Well-known varieties of beryl include emerald and aquamarine.',\n",
       " 'bethlehem': 'The Gospels of Matthew and Luke identify Bethlehem as the birthplace of Jesus.',\n",
       " 'between': 'Between is a preposition.',\n",
       " 'bhp': 'In 2018, BHP Billiton Limited and BHP Billiton Plc became BHP Group Limited and BHP Group Plc, respectively.',\n",
       " 'bidding': 'The price offer a business or individual is willing to sell is also called a bid.',\n",
       " 'bilateral': 'Bilateral may refer to any concept including two sides, in particular:*Bilateria, bilateral animals*Bilateralism, the political and cultural relations between two states*Bilateral, occurring on both sides of an organism (Anatomical terms of location § Medial and lateral)*Bilateral symmetry, symmetry between two sides of an organism*Bilateral filter, an image processing algorithm*Bilateral amplifier, a type of amplifier*Bilateral (album), an album by the band Leprous*Bilateral school, see Partially selective school (England)',\n",
       " 'billboard': 'Billboards present large advertisements to passing pedestrians and drivers.',\n",
       " 'billet': 'billet is a living quarters to which a soldier is assigned to sleep.',\n",
       " 'billion': 'one thousand million, or  (ten to the ninth power), as defined on the short scale.',\n",
       " 'bilzerian': 'Notable people with the surname include:*Adam Bilzerian (born 1983), Saint Kitts and Nevis poker player and writer*Dan Bilzerian (born 1980), American venture capitalist and professional poker player*Paul Bilzerian (born 1950), American financier',\n",
       " 'biotechnology': 'Biotechnology is a broad area of biology, involving the use of living systems and organisms to develop or make products.',\n",
       " 'bird': 'Birds figure throughout human culture.',\n",
       " 'bismuth': 'Bismuth is a chemical element with the symbol&nbsp;Bi and atomic number 83.',\n",
       " 'bit': 'The name is a contraction of binary digit.',\n",
       " 'black': 'It was used in ancient Egypt and Greece as the color of the underworld.',\n",
       " 'blair': 'The given name Blair is unisex and derived from the surname.',\n",
       " 'blame': 'When someone is morally responsible for doing something wrong, their action is blameworthy.',\n",
       " 'bleached': 'The band plays a style of rock, pop, rock and roll, and indie rock.',\n",
       " 'blood': 'Platelets are important in the clotting of blood.',\n",
       " 'blow': 'Blow commonly refers to:*Cocaine*Exhalation*Strike (attack)Blow, Blew, Blowing, or Blown may also refer to:',\n",
       " 'blue': 'In the Middle Ages, European artists used it in the windows of cathedrals.',\n",
       " 'boat': 'rowboats and paddle boats), wind  (e.g.',\n",
       " 'boeing': 'Boeing stock is included in the Dow Jones Industrial Average.',\n",
       " 'boliden': 'It lies 28,5 kilometers from Skellefteå City.This is where Boliden AB was founded in early 20th century after the findings in the mine that was called the Boliden mine.',\n",
       " 'bolivia': 'One-third of the country is within the Andean mountain range.',\n",
       " 'bolster': 'A bolster pillow is a common shape for lace pillows.',\n",
       " 'bonn': 'From 1597 to 1794, Bonn was the capital of the Electorate of Cologne, and residence of the Archbishops and Prince-electors of Cologne.',\n",
       " 'bonus': 'Bonus commonly means:* Bonus, a Commonwealth term for a distribution of profits to a with-profits insurance policy* Bonus payment, an extra payment received as a reward for doing ones job well or as an incentiveBonus may also refer to:',\n",
       " 'book': 'Each part of Aristotles Physics is called a book.',\n",
       " 'boot': 'Some uniforms include boots as the regulated footwear.',\n",
       " 'border': 'Borders are geographic boundaries, imposed either by geographic features such as oceans, or by arbitrary groupings of political entities such as governments, sovereign states, federated states, and other subnational entities.',\n",
       " 'borg': 'Borg are an alien group that appear as recurring antagonists in the Star Trek fictional universe.',\n",
       " 'borrow': '*In finance, monetary debt*In language, the use of loanwords*In arithmetic, when a digit becomes less than zero and the deficiency is taken from the next digit to the left*In music, the use of borrowed chords*In construction, borrow pit*In golf, the tendency of a putted ball to deviate from the straight line; see Glossary of golf#B',\n",
       " 'boston': 'Boston , officially the City of Boston, is the capital and most populous city of the Commonwealth of Massachusetts in the United States and 21st most populous city in the country.',\n",
       " 'botswana': 'Botswana has a GDP (purchasing power parity) per capita of about $18,113 , one of the highest in Africa.',\n",
       " 'bought': 'Adaptation & dialogue:<br>Charles Kenyon<br>Raymond Griffith based_on       = {{basedonJackdaws StrutHarriet Henry starring       = Constance Bennett<!--per billing--> music          =  cinematography = Ray June editing        = George Marks studio         = Warner Bros. distributor    = Warner Bros. released       = {{Film date19310822US runtime        = 92 minutes country        = United States language       = English budget         =$425,000  gross          =$777,000Bought  is a 1931 American Pre-Code drama film produced and released by Warner Bros. and directed by Archie Mayo.',\n",
       " 'boveri': 'Boveri is the surname of several people:* Giovanni Boveri (Boverius), (1568–1638), Italian jurist *Theodor Boveri (1862–1915), German biologist, brother of Walter Boveri*Marcella Boveri (1863–1950), US biologist, wife of Theodor Boveri*Walter Boveri (1865–1924), Swiss industrialist, co-founder of the company Brown, Boveri & Cie, brother of Theodor Boveri*Margret Boveri (1900–1975), German journalist and publicist, daughter of Marcella OGrady and Theodor Boveri',\n",
       " 'bow': 'Bow often refers to:* Bow and arrow, a weapon* Bowing, bending the upper body as a social gesture* An ornamental knot made of ribbonBow may also refer to:',\n",
       " 'bowater': 'Bowater Inc. was a paper and pulp business headquartered in Greenville, South Carolina.',\n",
       " 'box': 'The size of a box may vary, from the very smallest (such as a matchbox) to the size of a large appliance, and can be used for a variety of purposes ranging from the functional to the decorative.Boxes may be made of a variety of typically durable materials, such as wood and metal, though common non-durable materials include corrugated fiberboard and paperboard.',\n",
       " 'boycott': 'When a similar practice is legislated by a national government, it is known as a sanction.',\n",
       " 'bra': 'Nursing bras are designed to facilitate breastfeeding.',\n",
       " 'bradford': 'Bradford  is a city in the county of West Yorkshire, England.',\n",
       " 'bradley': 'The family moved and spread to counties Londonderry, Donegal and Cork, and England.',\n",
       " 'bran': 'Bran is not the same as chaff, which is a coarser scaly material surrounding the grain but not forming part of the grain itself, and which is indigestible to humans.',\n",
       " 'branch': 'Large branches are known as boughs and small branches are known as twigs.',\n",
       " 'brand': 'A commodity brand is a brand associated with a commodity.',\n",
       " 'brass': 'for drawer pulls and doorknobs.',\n",
       " 'braverman': 'Notable people with the surname include:*Alan N. Braverman, American media executive*Amy Braverman, American statistician*Arthur Braverman, American Japanese translator*Avishay Braverman, Israeli economist and politician and president of the Ben-Gurion University of the Negev*Bart Braverman, American actor*Charles Braverman, American filmmaker*Daniel Braverman (born 1993), American NFL football player*Elena Braverman, Russian, Israeli, and Canadian mathematician, mother of Mark*Eric R. Braverman (born 1957), American physician*Harry Braverman (1920–1976), American Marxist economist*Kate Braverman (born 1950), American novelist*Mark Braverman (born 1984), Israeli mathematician, son of Elena*Sara Braverman (1918–2013), Israeli military operative*Suella Braverman (1980), British Conservative member of Parliament',\n",
       " 'brazil': 'It is the largest country to have Portuguese as an official language and the only one in the Americas.',\n",
       " 'breached': 'Breached is a Canadian rock band from Toronto, Ontario.',\n",
       " 'bread': 'Throughout recorded history, it has been a prominent food in large parts of the world.',\n",
       " 'breakup': 'The term is less likely to be applied to a married couple, where a breakup is typically called a separation or divorce.',\n",
       " 'bregman': '*Martin Bregman (1926–2018), American film producer and former personal manager*Myriam Bregman (born 1972), Argentine politician*Rutger Bregman (born 1988), Dutch historian*Solomon Bregman (1895–1953), prominent member of the Jewish Anti-Fascist Committee formed in the Soviet Union in 1942*Tracey E. Bregman (born 1963), German-American soap opera actress',\n",
       " 'brewery': 'brewery or brewing company is a business that makes and sells beer.',\n",
       " 'brewing': 'Brewing is the production of beer by steeping a starch source (commonly cereal grains, the most popular of which is barley) in water and fermenting the resulting sweet liquid with yeast.',\n",
       " 'brian': 'Also, in the north-west of England, the Irish name was introduced by Scandinavian settlers from Ireland.',\n",
       " 'bridge': 'Designs of bridges vary depending on factors such as: the function of the bridge, the nature of the terrain where the bridge is constructed and anchored, and the material used to make it and the funds available to build it.The earliest bridges were likely made with fallen trees and stepping stones.',\n",
       " 'brierley': 'The civil parish was abolished in 2016.',\n",
       " 'brings': 'After the successful single  (2001) they specialized in Cologne party hits.',\n",
       " 'brisbane': 'Brisbane ( ) is the capital and most populous city of the Australian state of Queensland, and the third-most populous city in Australia.',\n",
       " 'bristol': 'The city lies between Gloucestershire to the north and Somerset to the south.',\n",
       " 'britain': 'Britain most often refers to:* United Kingdom, a sovereign state in Europe comprising the island of Great Britain, the north-eastern part of the island of Ireland and many smaller islands* Great Britain, the largest island in the United Kingdom* Roman Britain, a Roman province corresponding roughly to modern-day England and Wales*Historical predecessors to the present-day United Kingdom:**Kingdom of Great Britain (1707 to 1801)**United Kingdom of Great Britain and Ireland (1801 to 1922)Britain may also refer to:',\n",
       " 'britannia': 'An image first used in classical antiquity, the Latin Britannia was the name variously applied to the British Isles, Great Britain, and the Roman province of Britain during the Roman Empire.',\n",
       " 'britoil': 'It was once a constituent of the FTSE 100 Index.',\n",
       " 'broadcasting': 'As defined, \"transmitting\" and \"broadcasting\" are not the same.Transmission of radio and television programs from a radio or television station to home receivers by radio waves is referred to as \"over the air\" (OTA) or terrestrial broadcasting and in most countries requires a broadcasting license.',\n",
       " 'broker': 'A broker who also acts as a seller or as a buyer becomes a principal party to the deal.',\n",
       " 'brook': 'It may also refer to:',\n",
       " 'brooklyn': 'Brooklyn () is a borough of New York City, coextensive with Kings County, in the U.S. state of New York.',\n",
       " 'brown': 'In the CMYK color model used in printing or painting, brown is made by combining red, black, and yellow, or red, yellow, and blue.',\n",
       " 'bruce': 'Bruce arrived in Scotland with the Normans , from the place name Brix, Manche in Normandy, France, meaning \"the willowlands\".',\n",
       " 'brunswick': 'Brunswick is the historical English name for the German city of Braunschweig (Low German: Brunswiek, Braunschweig dialect: Bronswiek).Brunswick may also refer to:',\n",
       " 'brusca': 'Brusca is an Italian surname.',\n",
       " 'brussels': 'Brussels is also increasingly becoming multilingual.',\n",
       " 'bud': 'bud is an undeveloped or embryonic shoot and normally occurs in the axil of a leaf or at the tip of a stem.',\n",
       " 'budget': 'budget is a financial plan for a defined period, often one year.',\n",
       " 'building': 'A building as a shelter represents a physical division of the human habitat (a place of comfort and safety) and the outside (a place that at times may be harsh and harmful).Ever since the first cave paintings, buildings have also become objects or canvasses of much artistic expression.',\n",
       " 'buitoni': 'It was founded in 1827.',\n",
       " 'bulgaria': 'Bulgaria covers a territory of , and is the sixteenth-largest country in Europe.',\n",
       " 'bulk': 'Bulk can refer to:',\n",
       " 'bull': 'More muscular and aggressive than the females of the same species, the cows, bulls have long been an important symbol in many cultures, and play a significant role in beef ranching, dairy farming, and a variety of other cultural activities, including bullfighting and bull riding.',\n",
       " 'bullion': 'It ordinarily refers to bulk metal used in the production of coins and especially precious metals such as gold and silver.',\n",
       " 'bur': 'bur (also spelt burr) is a seed or dry fruit or infructescence that has hooks or teeth.Some other forms of diaspores, such as the stems of certain species of cactus also are covered with thorns and may function as burs.Bur-bearing plants such as Xanthium species are often single-stemmed when growing in dense groups, but branch and spread when growing singly.',\n",
       " 'bus': 'Many types of buses, such as city transit buses and inter-city coaches, charge a fare.',\n",
       " 'bush': 'Bush commonly refers to:* Bush (plant), a shrub or small treeBush, Bushes, or the bush may also refer to:',\n",
       " 'bushel': 'or bu.)',\n",
       " 'business': 'A business structure does not allow for corporate tax rates.',\n",
       " 'butane': 'Butane is a gas at room temperature and atmospheric pressure.',\n",
       " 'butler': 'A butler is usually male, and in charge of male servants, while a housekeeper is usually a woman, and in charge of female servants.',\n",
       " 'butter': 'It is a semi-solid emulsion at room temperature, consisting of approximately 80% butterfat.',\n",
       " 'buttrose': 'Notable people with the surname include:*Ita Buttrose (born 1942), Australian journalist and businesswoman*Larry Buttrose (born 1952), Australian writer, journalist, and academic*Stroma Buttrose (born 1929), Australian architect',\n",
       " 'buy': 'The term may also refer to:',\n",
       " 'buyout': 'buyout is an investment transaction by which the ownership equity of a company, or a majority share of the stock of the company is acquired.',\n",
       " 'byrd': 'Byrd commonly refers to:<!--common uses only, other people at Byrd (surname)-->* William Byrd, an English composer of the Renaissance* Richard E. Byrd (1888–1957), an American naval officer and explorerByrd or Byrds may also refer to:',\n",
       " 'cablevision': 'It was the fifth-largest cable provider and ninth-largest television provider in the United States.',\n",
       " 'cain': 'According to Genesis, Cain was the first human born and the first murderer.',\n",
       " 'cairo': 'The Cairo metropolitan area, with a population of 21.3 million, is the largest metropolitan area in the Arab world, the second largest in Africa, and the sixth largest in the world.',\n",
       " 'cake': 'There are countless cake recipes; some are bread-like, some are rich and elaborate, and many are centuries old.',\n",
       " 'calculated': 'The album received positive reviews from critics.',\n",
       " 'calculation': 'The term is used in a variety of senses, from the very definite arithmetical calculation of using an algorithm, to the vague heuristics of calculating a strategy in a competition, or calculating the chance of a successful relationship between two people.For example, multiplying 7 by 6 is a simple algorithmic calculation.',\n",
       " 'caledonian': 'Caledonian is a geographical term used to refer to places, species, or items in or from Scotland, or particularly the Scottish Highlands.',\n",
       " 'calendar': 'A calendar is also a physical record (often paper) of such a system.',\n",
       " 'calgary': 'It is situated at the confluence of the Bow River and the Elbow River in the south of the province, in the transitional area between the foothill and the prairie, about  east of the front ranges of the Canadian Rockies, roughly  south of the provincial capital of Edmonton and approximately  north of the Canada–United States border.',\n",
       " 'california': 'Sacramento is the states capital, while Los Angeles is the most populous city in the state and the second most populous city in the country (after New York City).',\n",
       " 'callebaut': 'Callebaut is a Belgian chocolate brand, owned by the Barry Callebaut group.',\n",
       " 'caltex': 'Caltex is a petroleum brand name of Chevron Corporation used in 29 countries in the Asia-Pacific region, the Middle East, and Southern Africa.',\n",
       " 'cambridge': 'The buildings of the university include Kings College Chapel, Cavendish Laboratory, and the Cambridge University Library, one of the largest legal deposit libraries in the world.',\n",
       " 'came': 'came is a divider bar used between small pieces of glass to make a larger glazing panel.There are two kinds of came: the H-shaped sections that hold two pieces together and the U-shaped sections that are used for the borders.',\n",
       " 'camera': 'The functioning of the camera is very similar to the functioning of the human eye.',\n",
       " 'campeau': 'Notable people with the surname include:*Charles-Édouard Campeau (born 1916), politician*Frank Campeau (1864–1943), actor*Jean Campeau (born 1931), businessman and politician*Lucien Campeau (died 2010), cardiologist*Robert Campeau (born 1923), businessman*Rychard Campeau (born 1952), ice hockey player*Tod Campeau (1923–2009), ice hockey player*Jennifer Campeau (born 1973), politician',\n",
       " 'canada': 'Canada is a country in North America.',\n",
       " 'canadians': 'Legislative independence was established with the passage of the Statute of Westminster 1931, the Canadian Citizenship Act of 1946 took effect on January 1, 1947, and full sovereignty was achieved with the patriation of the constitution in 1982.',\n",
       " 'canal': 'The best-known example of such a canal is the Panama Canal.Many canals have been built at elevations, above valleys and other waterways.Canals with sources of water at a higher level can deliver water to a destination such as a city where water is needed.',\n",
       " 'canary': 'Canary originally referred to the island of Gran Canaria on the west coast of Africa, and the group of surrounding islands (the Canary Islands).',\n",
       " 'candidate': 'The act of being a candidate in a race for either a party nomination or for electoral office is called a \"candidacy\".',\n",
       " 'cannon': 'By the end of the 14th century, cannons were widespread throughout Eurasia.',\n",
       " 'cap': 'They are popular in casual and informal settings, and are seen in sports and fashion.',\n",
       " 'capacity': 'Capacity or capacities may refer to:',\n",
       " 'cape': 'cape is a sleeveless outer garment which drapes the wearers back, arms, and chest, and connects at the neck.',\n",
       " 'capita': 'Roughly half of its turnover comes from the private sector and half from the public sector.',\n",
       " 'capital': 'Capital most commonly refers to:* Capital letter, an upper-case letter in any type of writing* Capital city, the area of a country, province, region, or state, regarded as enjoying primary status, usually but not always the seat of the government* Capital (economics), a factor of production that is not wanted for itself but for its ability to help in producing other goodsCapital may also refer to:',\n",
       " 'capitol': 'capitol is a building in which a legislature meets, including:',\n",
       " 'car': 'Cars became widely available in the early 20th century.',\n",
       " 'caracas': 'The Museum of Contemporary Art of Caracas is one of the most important in South America.',\n",
       " 'carbide': 'carbide usually describes a compound composed of carbon and a metal.',\n",
       " 'carbon': 'Carbon is one of the few elements known since antiquity.Carbon is the 15th most abundant element in the Earths crust, and the fourth most abundant element in the universe by mass after hydrogen, helium, and oxygen.',\n",
       " 'cardis': 'Cardis may refer to*Cardis (name)*Kärde, a village in Estonia**Treaty of Cardis, which ended a Russo–Swedish War in 1661*Japanese thrush (Turdus cardis)',\n",
       " 'caremark': 'It was founded by Kevin Lewis, Chief Executive, in 2005 and is based in Worthing.',\n",
       " 'cargill': 'Founded in 1865, it is the largest privately held corporation in the United States in terms of revenue.',\n",
       " 'cargo': 'Freight is the price paid to carry cargo.',\n",
       " 'caribbean': 'Belize, Guyana, and Suriname are also considered part of the Caribbean despite being mainland countries and they are full member states of the Caribbean Community and the Association of Caribbean States.',\n",
       " 'carnival': '<!---->',\n",
       " 'carpet': 'Carpet is commonly made in widths of  and  in the US and  and  in Europe.',\n",
       " 'cartel': 'Cartels are usually associations in the same sphere of business, and thus an alliance of rivals.',\n",
       " 'cash': 'Cash is seen either as a reserve for payments, in case of a structural or incidental negative cash flow or as a way to avoid a downturn on financial markets.',\n",
       " 'casino': 'casino is a facility for certain types of gambling.',\n",
       " 'casting': 'Casting is a manufacturing process in which a liquid material is usually poured into a mold, which contains a hollow cavity of the desired shape, and then allowed to solidify.',\n",
       " 'castle': 'These changes in defence have been attributed to a mixture of castle technology from the Crusades, such as concentric fortification, and inspiration from earlier defences, such as Roman forts.',\n",
       " 'caterpillar': 'Some feed on other animal products; for example, clothes moths feed on wool, and horn moths feed on the hooves and horns of dead ungulates.Caterpillars are typically voracious feeders and many of them are among the most serious of agricultural pests.',\n",
       " 'cathay': 'Cathay () is an alternative European historical name for China.',\n",
       " 'cathode': 'cathode is the electrode from which a conventional current leaves a polarized electrical device.',\n",
       " 'cattle': 'They are a prominent modern member of the subfamily Bovinae, are the most widespread species of the genus Bos, and are most commonly classified collectively as Bos taurus.',\n",
       " 'caught': 'A catch by the bowler is known as caught and bowled.',\n",
       " 'causes': 'It may also refer to:* Causes (band), an indie band based in the Netherlands* Causes (company), an online company',\n",
       " 'cawl': 'Cawl () is a Welsh dish.',\n",
       " 'cbs': 'It serves as the flagship property of the CBS Entertainment Group division of ViacomCBS.',\n",
       " 'ceiling': 'Coving often links the ceiling to the surrounding walls.',\n",
       " 'celanese': 'The company owns and operates the worlds three largest acetic acid plants, one in the Clear Lake area of Pasadena, Texas, one on Jurong Island in Singapore, and the third is in Nanjing, China.',\n",
       " 'celeron': 'Subsequent Celeron-branded CPUs were based on the Pentium III, Pentium 4, Pentium M, and Intel Core.',\n",
       " 'cell': 'Cell most often refers to:* Cell (biology), the functional basic unit of lifeCell may also refer to:',\n",
       " 'cement': 'The initial calcination reaction in the production of cement is responsible for about 4% of global  emissions.',\n",
       " 'census': 'census is the procedure of systematically calculating, acquiring and recording information about the members of a given population.',\n",
       " 'centel': 'Centel Corporation was an American telecommunications company, with primary interests in providing basic telephone service, cellular phone service and cable television service.',\n",
       " 'central': 'Central is an adjective usually referring to being in the center of some place or (mathematical) object.Central may also refer to:',\n",
       " 'centrale': 'Centrale can mean:-',\n",
       " 'centurion': 'Centurions also served in the Roman navy.',\n",
       " 'century': 'century is a period of 100 years.',\n",
       " 'cereal': 'When processed by the removal of the bran, and germ, the remaining endosperm is mostly carbohydrate.',\n",
       " 'certification': 'Accreditation is a specific organizations process of certification.',\n",
       " 'certs': ')- bgcolor=\"#ccffff\"  Mass bgcolor=\"#ccffcc\"  1.7g (approx.',\n",
       " 'cetus': 'Cetus is in the region of the sky that contains other water-related constellations: Aquarius, Pisces and Eridanus.',\n",
       " 'chain': '* Those designed for transferring power in machines have links designed to mesh with the teeth of the sprockets of the machine, and are flexible in only one dimension.',\n",
       " 'champion': 'There can be a territorial pyramid of championships, e.g.',\n",
       " 'chancellor': '-->',\n",
       " 'channon': 'Channon both a given name and a surname.',\n",
       " 'charles': 'It is from the French form Charles of a Germanic name Karl.',\n",
       " 'chart': 'chart is a graphical representation for data visualization, in which \"the data is represented by symbols, such as bars in a bar chart, lines in a line chart, or slices in a pie chart\".',\n",
       " 'charter': 'charter is  the grant of authority or rights, stating that the granter formally recognizes the prerogative of the recipient to exercise the rights specified.',\n",
       " 'cheating': 'Cheating can refer specifically to infidelity.',\n",
       " 'checkoff': 'The same term is used to refer to a tax on sales of agricultural goods that finance a generic commodity marketing program; one example is the commodity checkoff programs mandated by the United States Department of Agriculture to promote sales of milk, beef, soybeans, or sorghum.',\n",
       " 'chernobyl': 'Chernobyl is about  north of Kyiv, and  southwest of the Belarusian city of Gomel.',\n",
       " 'cherry': 'cherry is the fruit of many plants of the genus Prunus, and is a fleshy drupe (stone fruit).Commercial cherries are obtained from cultivars of several species, such as the sweet Prunus avium and the sour Prunus cerasus.',\n",
       " 'cheung': 'Cheung is a Cantonese romanization of several Chinese surnames, including the one written as  in Traditional characters and  in Simplified characters (<small>Jyutping:</small> Zoeng1; <small>Pinyin:</small> Zhāng; <small>Wade–Giles:</small> Chang, Vietnamese: Trương), and the one written in both Traditional characters and Simplified characters as  (zoeng1).',\n",
       " 'cheyenne': 'Allied with the Arapaho, the Cheyenne pushed the Kiowa to the Southern Plains.',\n",
       " 'chicago': 'Chicago ( ,   ;), officially the City of Chicago, is the most populous city in the U.S. state of Illinois, and the third most populous city in the United States, following New York and Los Angeles.',\n",
       " 'chicken': 'There are more chickens in the world than any other bird.',\n",
       " 'chile': 'Chile is the southernmost country in the world, the closest to Antarctica, and borders Peru to the north, Bolivia to the northeast, Argentina to the east, and the Drake Passage in the far south.',\n",
       " 'china': 'The United States has a coastal water area of , and a territorial water area of , for a total of  of additional water space.',\n",
       " 'chinese': 'Chinese  can refer to:* Something related to China* Chinese people, people of Chinese nationality, citizenship, and/or ethnicity**Zhonghua minzu, the supra-ethnic concept of the Chinese nation** Han Chinese, the largest ethnic group in the world and the majority ethnic group in Mainland China, Hong Kong, Macau, Taiwan, and Singapore** Ethnic minorities in China, people of non-Han Chinese ethnicities in modern China** Ethnic groups in Chinese history, people of various ethnicities in historical China** Nationals of the Peoples Republic of China** Nationals of the Republic of China ** Overseas Chinese, Chinese people residing outside the territories of Mainland China, Hong Kong, Macau, and Taiwan* Sinitic languages, the major branch of the Sino-Tibetan language family** Chinese language, a group of related languages spoken predominantly in China, sharing a written script (Chinese characters in traditional and simplified forms)*** Standard Chinese, the standard form of Mandarin Chinese in Mainland China, similar to forms of Mandarin Chinese in Taiwan and Singapore*** Varieties of Chinese, topolects grouped under Chinese languages*** Written Chinese, writing scripts used for Chinese languages* Chinese cuisine, styles of food originating from China or their derivatives',\n",
       " 'chips': 'Chips most commonly refers to:* Chips (hot food) or french fries, long chunks of potato that have been deep fried or baked* Potato chips, or crisps, thin crispy slices of deep-fried or baked potatoesChips may also refer to:',\n",
       " 'chocolate': 'Much of the chocolate consumed today is in the form of sweet chocolate, a combination of cocoa solids, cocoa butter or added vegetable oils, and sugar.',\n",
       " 'choice': 'For example, a traveler might choose a route for a journey based on the preference of arriving at a given destination at a specified time.',\n",
       " 'cholesterol': 'It is a sterol (or modified steroid), a type of lipid.',\n",
       " 'chose': 'English law uses a chose to refer to a bundle of rights, traditionally relating to property which may be utilised in certain circumstances.',\n",
       " 'chris': 'Chris is also used as a name in its own right, however it is not as common.',\n",
       " 'christi': 'Notable people with the name include:* Christi Belcourt (born 1966), Métis painter, craftsperson, and writer* Christi Brereton (born 1992), English kickboxer and muay Thai fighter* Christi Lake (born 1965), American pornographic actress* Christi Malthouse (born 1976), Australian television personality* Christi Paul (born 1969), American television journalist* Christi Shake (born 1980), American model and actress* Christi Thomas (born 1982), American basketball player',\n",
       " 'christians': 'Christians make up the majority of the population in 158 countries and territories.',\n",
       " 'christmas': 'This corresponds to the date of the winter solstice on the Roman calendar.',\n",
       " 'christopher': 'The name is most common in England and not so common in Wales, Scotland, or Ireland.',\n",
       " 'chrysler': 'The original Chrysler Corporation was founded in 1925 by Walter Chrysler from the remains of the Maxwell Motor Company.',\n",
       " 'cif': 'Cif is a French brand of household cleaning products owned by the Anglo-Dutch company Unilever, known as Jif in Australia, New Zealand, Japan, Middle East and the Nordic countries.Cif was launched in France in 1965 and was marketed in competition against scouring powders (such as Vim scouring powder) as a creamy and hence protective, but powerful domestic cleaner.',\n",
       " 'cincinnati': 'Cincinnati is the birthplace of William Howard Taft, the 27th President of the United States.',\n",
       " 'cineplex': '* Loews Cineplex Entertainment, a former and oldest movie theatre chain operating in North America.',\n",
       " 'circle': 'The distance between any point of the circle and the centre is called the radius.',\n",
       " 'citadel': 'citadel is the core fortified area of a town or city.',\n",
       " 'citgo': 'Headquartered in the Energy Corridor area of Houston, it is majority-owned by PDVSA, a state-owned company of the Venezuelan government (although due to U.S. sanctions, in 2019, they no longer economically benefit from Citgo).',\n",
       " 'citibank': 'By 2010, Citibank had repaid the loans from the Treasury in full, including interest, resulting in a net profit for the U.S. federal government.',\n",
       " 'citrus': 'Citrus is a genus of flowering trees and shrubs in the rue family, Rutaceae.',\n",
       " 'city': 'This increased influence means that cities also have significant influences on global issues, such as sustainable development, global warming and global health.',\n",
       " 'civilian': 'civilian is \"a person who is not a member of the police, the armed forces, or a fire department.\"',\n",
       " 'claimed': 'Claimed\" is the eleventh episode of the fourth season of the post-apocalyptic horror television series The Walking Dead, which aired on AMC on February 23, 2014.',\n",
       " 'clark': 'Clark evolved from \"clerk\".',\n",
       " 'clause': 'clause is a constituent that links a semantic predicand (expressed or not) and a semantic predicate.',\n",
       " 'cleaning': 'Cleaning occurs in many different contexts, and uses many different methods.',\n",
       " 'clearance': 'Clearance can refer to:',\n",
       " 'clearly': 'The latest acquisition is contactlens.qa',\n",
       " 'cleveland': 'The citys major league professional sports teams include the Cleveland Browns, the Cleveland Cavaliers, the Cleveland Indians, and the Cleveland Monsters.',\n",
       " 'clevite': 'In 1952 the Cleveland Graphite Bronze Company absorbed the Brush Development Company and Brush Labs in a merger.',\n",
       " 'climate': 'In a broader sense, climate is the state of the components of the climate system, which includes the ocean, land, and ice on Earth.',\n",
       " 'clinton': 'Baron Clinton is a title of peerage in England, originally created in 1298.  Notable people with the name Clinton include:',\n",
       " 'clothing': 'The wearing of clothing is mostly restricted to human beings and is a feature of all human societies.',\n",
       " 'coal': 'With the invention of the steam engine coal consumption increased.',\n",
       " 'coalition': 'The word coalition connotes a coming together to achieve a goal.',\n",
       " 'coast': 'Because of their importance in society and high concentration of population, the coast is important for major parts of the global food and economic system.',\n",
       " 'coat': 'Coats typically have long sleeves and are open down the front, closing by means of buttons, zippers, hook-and-loop fasteners, toggles, a belt, or a combination of some of these.',\n",
       " 'coca': 'Coca is any of the four cultivated plants in the family Erythroxylaceae, native to western South America.',\n",
       " 'coconut': 'The inner flesh of the mature seed, as well as the coconut milk extracted from it, form a regular part of the diets of many people in the tropics and subtropics.',\n",
       " 'code': 'But speech limits the range of communication to the distance a voice can carry and limits the audience to those present when the speech is uttered.',\n",
       " 'codelco': 'It owns the worlds largest known copper reserves and resources.',\n",
       " 'coffee': 'Green, unroasted coffee is the most traded agricultural commodity, and the coffee trade is the most traded commodity second only to petroleum.',\n",
       " 'coin': 'They are usually disc shaped.',\n",
       " 'cojuangco': 'He was commonly called Kuán Goō ( \"Brother Kuan\") or Koǒ Kuán Goō ( \"Brother Koo Kuan\") among Hoklo Chinese Filipinos, and the latter was Hispanicized as Cojuangco.',\n",
       " 'cola': 'Among them, the most popular are Coca-Cola and Pepsi.',\n",
       " 'cold': 'This corresponds to  on the Celsius scale,  on the Fahrenheit scale, and  on the Rankine scale.Since temperature relates to the thermal energy held by an object or a sample of matter, which is the kinetic energy of the random motion of the particle constituents of matter, an object will have less thermal energy when it is colder and more when it is hotter.',\n",
       " 'collective': 'collective is a group of entities that share or are motivated by at least one common issue or interest, or work together to achieve a common objective.',\n",
       " 'colo': 'Colo has several meanings:*Colo (gorilla), the first gorilla born into captivity*An alternate name for the Alemow (Citrus × macrophylla)*A colloquial term for the French École Nationale de la France dOutre-Mer*Short for colocation centre*A surname of Italian origin*Colo (film)',\n",
       " 'colombia': 'It is bounded on the north by the Caribbean Sea, the northwest by Panama, the south by Ecuador and Peru, the east by Venezuela, the southeast by Brazil, and the west by the Pacific Ocean.',\n",
       " 'colombo': 'It is also the administrative capital of the Western Province and the district capital of Colombo District.',\n",
       " 'colony': 'colony is a territory subject to a form of foreign rule.',\n",
       " 'colorado': 'Colorado  is a state in the Mountain West subregion of the Western United States.',\n",
       " 'combat': 'An instance of combat can be a stand-alone confrontation or a small part of a much larger violent conflict.',\n",
       " 'combination': 'The 5 cards of the hand are all distinct, and the order of cards in the hand does not matter.',\n",
       " 'combustion': 'Thermodynamically, the chemical equilibrium of combustion in air is overwhelmingly on the side of the products.',\n",
       " 'comdata': 'Comdata is a payment processor and issuer of fleet fuel cards, corporate spend cards, paperless payroll cards (\"paycards\"), virtual payments, and trucking permits.It is headquartered in Brentwood, Tennessee.Brian Radin is a President of Comdata.',\n",
       " 'comecon': 'This usage was sometimes extended as well to bilateral relations among members because in the system of communist international economic relations, multilateral accords typically of a general nature tended to be implemented through a set of more detailed, bilateral agreements.Comecon was set up initially to prevent countries in the Soviet sphere of influence from moving towards that of the United States.It was the Eastern Blocs response to the formation in Western Europe of the Marshall Plan and the OEEC, which later became the OECD.',\n",
       " 'comes': 'a \"cohors amicorum\".',\n",
       " 'commerce': 'Commerce is the exchange of goods and services, especially on a large scale.',\n",
       " 'commerzbank': 'In 2017, it handled 13 million customers in Germany and 5 million customers in Central and Eastern Europe.',\n",
       " 'commissioner': 'In particular, the commissioner frequently refers to senior police or government officials.',\n",
       " 'committee': 'committee or commission is a body of one or more persons that is subordinate to a deliberative assembly.',\n",
       " 'commodity': 'commodity is an economic good, usually a resource, that has full or substantial fungibility: that is, the market treats instances of the good as equivalent or nearly so with no regard to who produced them.The price of a commodity good is typically determined as a function of its market as a whole: well-established physical commodities have actively traded spot and derivative markets.',\n",
       " 'commons': 'commons is the cultural and natural resources accessible to all members of a society, including natural materials such as air, water, and a habitable earth.',\n",
       " 'commonwealth': 'The organisation is not to be confused with the realms of the Commonwealth.',\n",
       " 'communication': '* Biocommunication which exemplifies sign-mediated interactions in and between organisms of all domains of life, including viruses.The channel of communication can be visual, auditory, tactile/haptic (e.g.',\n",
       " 'community': 'Communities may share a sense of place situated in a given geographical area (e.g.',\n",
       " 'company': 'company, abbreviated as co., is a legal entity representing an association of people, whether natural, legal or a mixture of both, with a specific objective.',\n",
       " 'compaq': 'Pfeiffer served through the 1990s.',\n",
       " 'comparative': 'The interaction of the various mechanisms complicates the analysis.',\n",
       " 'comparison': 'Comparison is widely used in society, in science and in the arts.',\n",
       " 'competition': 'They investigate the natural urge of competition and its circumstances.',\n",
       " 'complaint': 'In the United States, the complaint is often associated with misdemeanor criminal charges presented by the prosecutor without the grand jury process.',\n",
       " 'complement': 'Thus it may be:* Complement (linguistics), a word or phrase having a particular syntactic role** Subject complement, a word or phrase adding to a clauses subject after a linking verb* Phonetic complement* Complementary, a type of opposite in lexical semantics (sometimes called an antonym)* Complement (music), an interval that when added to another spans an octave* Aggregate complementation (music), the separation of pitch-class collections into complementary sets* Complementary color, in painting and optics* Complement good (economics), a good often consumed together with another good * Ships complement, the number of persons in a ships company, including both commissioned officers and crew',\n",
       " 'complex': 'Complex commonly refers to:* Complexity, the behaviour of a system whose components interact in multiple ways so possible interactions are difficult to describe** Complex system, a system composed of many components which may interact with each other* Complex (psychology), a core pattern of emotions etc.',\n",
       " 'compliance': 'Compliance can mean:',\n",
       " 'compounding': 'Medically necessary compounding is referred to as \"traditional\" compounding.',\n",
       " 'compromise': 'In the negative connotation, compromise may be referred to as capitulation, referring to a \"surrender\" of objectives, principles, or material, in the process of negotiating an agreement.',\n",
       " 'computer': 'These programs enable computers to perform a wide range of tasks.',\n",
       " 'computerland': 'After this time the rapid commoditization of the PC led to the companys downfall, with most of the retail locations closing by 1990.',\n",
       " 'concentrate': 'Typically, this will be the removal of water from a solution or suspension, such as the removal of water from fruit juice.',\n",
       " 'concentrated': '\"Concentrated\" is Fear Zeros second studio release.',\n",
       " 'concentration': 'Several types of mathematical description can be distinguished: mass concentration, molar concentration, number concentration, and volume concentration.',\n",
       " 'concept': 'Concepts are defined as abstract ideas or general notions that occur in the mind, in speech, or in thought.',\n",
       " 'concerned': 'The comic consists of game screenshots, with characters posed using Garrys Mod, a tool which facilitates manipulation of the Source engine used by Half-Life 2.',\n",
       " 'concert': 'concert is a live music performance in front of an audience.',\n",
       " 'concrete': 'Concrete is distinct from mortar.',\n",
       " 'conducting': 'Conducting is the art of directing a musical performance, such as an orchestral or choral concert.',\n",
       " 'confederation': 'Likewise, the relationship between the member states and the general government and the distribution of powers among them varies.',\n",
       " 'conference': 'Conference types include:',\n",
       " 'confidence': 'self-efficacy).',\n",
       " 'confidentiality': 'Confidentiality involves a set of rules or a promise usually executed through confidentiality agreements that limits access or places restrictions on certain types of information.',\n",
       " 'confirmation': 'confirmation is seen as the sealing of the covenant created in baptism.',\n",
       " 'confrontation': 'It is the underpinning mathematical basis of drama theory.',\n",
       " 'confusion': 'These refer to the loss of orientation, or the ability to place oneself correctly in the world by time, location and personal identity.',\n",
       " 'conger': 'It includes some of the largest types of eels, ranging up to 2&nbsp;m (6&nbsp;ft) or more in length, in the case of the European conger.',\n",
       " 'congress': 'Congresses are formal meetings of the representatives of different countries, constituent states, organizations, trade unions, political parties or other groups.',\n",
       " 'connecticut': 'Connecticut () is the southernmost state in the New England region of the United States.',\n",
       " 'conoco': 'Conoco can refer to either a major American brand of oil and gas filling stations that is currently owned by Phillips 66 Co. or to \"Conoco Inc.\", a defunct oil and gas company that had operated from 1875 until 2002, when it merged with the Phillips Petroleum Company 66 to form ConocoPhillips.',\n",
       " 'consent': 'Types of consent include implied consent, express consent, informed consent and unanimous consent.',\n",
       " 'conservation': 'Conservation is the preservation or efficient use of resources, or the conservation of various quantities under physical laws.Conservation may also refer to:',\n",
       " 'consideration': 'Anything of value promised by one party to the other when making a contract can be treated as \"consideration\": for example, if A signs a contract to buy a car from B for $5,000, As consideration is the $5,000, and Bs consideration is the car.Additionally, if A signs a contract with B such that A will paint Bs house for $500, As consideration is the service of painting Bs house, and Bs consideration is $500 paid to A.',\n",
       " 'consortium': 'consortium (plural: consortia) is an association of two or more individuals, companies, organizations or governments (or any combination of these entities) with the objective of participating in a common activity or pooling their resources for achieving a common goal.',\n",
       " 'construction': 'To construct is the verb: the act of building, and the noun is construction: how something is built, the nature of its structure.In its most widely used context, construction covers the processes involved in delivering buildings, infrastructure and industrial facilities, and associated activities through to the end of their life.',\n",
       " 'constructive': 'constructive is \"helping to develop or improve something; helpful to someone, instead of upsetting and negative,\" as in the phrase \"constructive criticism,\" in legal writing constructive has a different meaning.',\n",
       " 'consultant': 'consultant (from  \"to deliberate\") is a professional (also known as Expert, Specialist, see variations of meaning below) who provides advice and further purposeful activities in an area of specialization.',\n",
       " 'consumer': 'consumer is a person or a group who intends to order, orders, or uses purchased goods, products, or services primarily for personal, social, family, household and similar needs, not directly related to entrepreneurial or business activities.thumbrightConsumer',\n",
       " 'consummation': 'Consummation is also relevant in the case of a common law marriage.',\n",
       " 'container': 'container is any receptacle or enclosure for holding a product used in storage, packaging, and transportation, including shipping.Things kept inside of a container are protected by being inside of its structure.',\n",
       " 'contel': 'It was acquired by GTE in 1991.',\n",
       " 'continent': 'continent is one of several large landmasses.',\n",
       " 'contingencies': 'Contingencies is mailed to members of the Academy and targeted individuals such as legislators and their staffs, regulators, business executives, and related organizations.',\n",
       " 'contingency': 'Contingency may refer to * Contingency (philosophy), in philosophy and logic* Contingency plan in planning* Contingency table in statistics* Contingency theory in evolutionary biology* Contingency management in medicine* Contingent claims in finance* Contingent fee in commercial matters* Contingent liability in law* Contingent vote in politics* Contingent work and contingent workforce, an employment relationship* Cost contingency in business risk management* As a proper noun:** \"Contingency\" (Prison Break), a series 5 episode** A campaign mission in the video game Call of Duty: Modern Warfare 2** An episode of Kris Straubs Local 58 series on YouTube',\n",
       " 'continuation': 'the continuation is a data structure that represents the computational process at a given point in the processs execution; the created data structure can be accessed by the programming language, instead of being hidden in the runtime environment.',\n",
       " 'contract': 'For example, European Member States apply Article 4 of the Rome I Regulation to decide the law governing the contract, and the Brussels I Regulation to decide jurisdiction.',\n",
       " 'controversy': 'Controversy is a state of prolonged public dispute or debate, usually concerning a matter of conflicting opinion or point of view.',\n",
       " 'convenience': 'Convenience is a relative concept, and depends on context.',\n",
       " 'convertible': 'Other types of convertible roofs include retractable hardtops (often constructed from metal or plastic) and detachable hardtops (where a metal or plastic roof is manually removed and often stored in the trunk).',\n",
       " 'convince': 'It has roots in Kumina and Jamaican Maroon religion.',\n",
       " 'convoy': 'Often, a convoy is organized with armed defensive support.',\n",
       " 'cooke': 'Notable people with the surname include:* Alexander Cooke (died 1614), English actor* Alfred Tyrone Cooke, of the Indo-Pakistani wars* Alistair Cooke KBE (1908–2004), journalist and broadcaster* Amos Starr Cooke (1810–1871), found of Royal School and Castle & Cooke in Hawaii* Anna Rice Cooke (1853–1934), patron of the arts and founder of the Honolulu Academy of Arts* Anthony Cooke (1505–1576), British scholar* Baden Cooke (born 1978), Australian cyclist* Barrie Cooke (born 1931), Irish painter* Bates Cooke, US Representative 1831–1833, and NY State Comptroller 1839–1841* Benjamin Cooke (1734–1793), British musician* Beryl Cooke (1906–2001), British actress* C. R. Cooke (Conrad Reginald Cooke, 1901–1996), English early Himalayan mountaineer* Charles Cooke (disambiguation), several people* Chauncey H. Cooke (1846–1919), American soldier in the U.S. Civil War* Christian Cooke (born 1986), English actor* Clarence Hyde Cooke (1876–1944), businessman in Hawaii* Dave Cooke, Canadian politician* Denise DAscenzo Cooke (19582019), American news anchor* Deryck Cooke (1919–1975), British musicologist* Doc Cook (Charles L. Cooke, 1891–1958), jazz bandleader* Dusty Cooke (1907–1987), American professional baseball player* Edmund F. Cooke (1885–1967), US congressman from New York* Edward William Cooke (1811–1880), English maritime artist* Eric Edgar Cooke, murderer* Francis Cooke, Passenger on the Mayflower* Francis Judd Cooke (1910–1995), American composer* Geoff Cooke (disambiguation), several people* George Cooke (disambiguation), several people* H. Basil S. Cooke (1915–2018), Canadian paleontologist* Hope Cooke, Queen of Sikkim* Jack Kent Cooke (1912–1997), Canadian entrepreneur* Sir James Douglas Cooke (1879–1949), MP for Hammersmith South* James J. Cooke, American historian, author, academic and soldier* James W. Cooke, American naval officer* Janet Cooke (born 1954), American journalist, won a Pulitzer Prize for a fabricated story* Jay Cooke (1821–1905), American financier, notable for financing Union effort in Civil War and Northern Pacific Railway* Jennifer Cooke, actress* John Cooke (disambiguation), several people* Joseph Platt Cooke (1730–1816), in American Revolutionary War* Keith Cooke, actor* L. J. Cooke (Louis Joseph Cooke, 1868–1943), first mens basketball coach at the University of Minnesota* Lawrence H. Cooke (1914–2000), Chief Judge of New York Court of Appeals 1979–1984* Logan Cooke (born 1995), American football player* Lorrin A. Cooke (1831–1902), American politician, governor of Connecticut* Martin Cooke (disambiguation), several people* Matt Cooke, hockey player* Mel Cooke (1934–2013), New Zealand rugby league footballer* Mordecai Cubitt Cooke (1825–1914), British botanist* Nathaniel Cooke (19th century), designer of the standard set of chess figures* Nelson Cooke (1919–2018), Australian cellist* Nicole Cooke (born 1983), British cyclist* Peter Cooke (Scouting)* Philip St. George Cooke (1809–1895), 19th century US cavalry officer* Pinny Cooke (1923–2004), New York politician, assemblywoman from Rochester* Robin Cooke, Baron Cooke of Thorndon, New Zealand judge* Rose Terry Cooke (1827–1892), American author, poet* Sam Cooke (1931–1964), American singer/songwriter* Sir Samuel Cooke (1912–1978), British judge* Samuel Nathaniel Cooke (S. N. Cooke) (born 1883), English architect* Sasha Cooke, American mezzo-soprano* Sidney Cooke (born 1927), paedophile and child killer* Steve Cooke (born 1970), baseball player* Terence Cooke (1921–1983), Cardinal, and Archbishop of New York* Thomas Cooke (disambiguation), several people * Walter E. Cooke (1910–1982), New York politician* Walter H. Cooke (1838–1909), American recipient of the Medal of Honor* Weldon B. Cooke (1884–1914), American pioneer aviator killed in crash* Wells Cooke (1858–1916), American ornithologist* William Cooke (disambiguation), several people',\n",
       " 'cooking': 'Cooking, cookery, or culinary arts is the art, science, and craft of using heat to prepare food for consumption.',\n",
       " 'cool': 'Cool commonly refers to:* Cool, a moderately low temperature* Cool (aesthetic), an aesthetic of attitude, behavior, and styleCool or COOL may also refer to:',\n",
       " 'cooperation': 'Many animal and plant species cooperate both with other members of their own species and with members of other species (symbiosis or mutualism).',\n",
       " 'cooperative': 'As an example of this, in 2013, retail co-operatives in the UK invested 6.9% of their pre-tax profits in the communities in which they trade as compared with 2.4% for other rival supermarkets.Since 2002 cooperatives have been distinguishable on the Internet through the use of a .coop domain.',\n",
       " 'coopervision': 'It is a soft contact lens manufacturer.',\n",
       " 'cope': 'If worn by a bishop, it is generally accompanied by a mitre.',\n",
       " 'copper': 'Copper is sometimes used in decorative art, both in its elemental metal form and in compounds as pigments.',\n",
       " 'copra': 'The ground cake is known as coconut or copra meal.',\n",
       " 'corby': 'From 1974 to 2021, the town served as the administrative headquarters of the Borough of Corby.',\n",
       " 'cordero': 'Cordero is a family name of Spanish origin.',\n",
       " 'corona': 'Corona (from the Latin for crown) most commonly refers to:<!-- The content of this section has been discussed on the talk page-->* Stellar corona, the outer atmosphere of the Sun or another star* Coronavirus, a group of RNA viruses** Severe acute respiratory syndrome coronavirus 2 (SARS-CoV-2), a coronavirus responsible for the 2019–21 pandemic*** Coronavirus disease 2019 (COVID-19), the disease caused by the virus*** COVID-19 pandemic, the ongoing global pandemic* Corona (beer), a Mexican beerCorona may also refer to:',\n",
       " 'corporation': 'Corporations not allowed to issue stock are referred to as non-stock corporations; i.e.',\n",
       " 'corrections': 'Its object of study includes personnel training and management as well as the experiences of those on the other side of the fence — the unwilling subjects of the correctional process.',\n",
       " 'cosmetics': 'Cosmetics can also be designed to add fragrance to the body.',\n",
       " 'cost': 'Usually, the price also includes a mark-up for profit over the cost of production.More generalized in the field of economics, cost is a metric that is totaling up as a result of a process or as a differential for the result of a decision.',\n",
       " 'cotton': 'India is the worlds largest producer of cotton.',\n",
       " 'council': 'A board of directors might also be denoted as a council.',\n",
       " 'counsel': 'It is a title often used interchangeably with the title of lawyer.The word counsel can also mean advice given outside of the context of the legal profession.',\n",
       " 'count': 'Count (feminine: countess) is a historical title of nobility in certain European countries, varying in relative status, generally of middling rank in the hierarchy of nobility.',\n",
       " 'counterproductive': 'Counterproductive is anything that is more of an \"obstacle\" than a help in the achieving of a productive project or an objective.',\n",
       " 'countertrade': 'Countertrade means exchanging goods or services which are paid for, in whole or part, with other goods or services, rather than with money.',\n",
       " 'country': 'a nation).',\n",
       " 'county': 'Canada) or a State (e.g.',\n",
       " 'couple': 'Couple or couples may refer to :',\n",
       " 'coupled': 'A few days later, after the cast for Big Brother was announced, he was ranting on Twitter, shortly deleting them and deactivating his account.On August 8, 2016, Fox canceled the series after one season.',\n",
       " 'coupon': 'coupon is a ticket or document that can be redeemed for a financial discount or rebate when purchasing a product.Customarily, coupons are issued by manufacturers of consumer packaged goods or by retailers, to be used in retail stores as a part of sales promotions.',\n",
       " 'courier': 'courier is a company, an employee of that company or a person who delivers a message, package or letter from one place or person to another place or person.',\n",
       " 'court': 'The place where a court sits is known as a venue.',\n",
       " 'courtaulds': 'It was established in 1794 and became the worlds leading man-made fibre production company before being broken up in 1990 into Courtaulds plc and Courtaulds Textiles Ltd.',\n",
       " 'craft': 'The households of craftsmen were not as self-sufficient as those of people engaged in agricultural work and therefore had to rely on the exchange of goods.',\n",
       " 'crandall': 'Crandall is a Scottish surname.',\n",
       " 'create': 'The term and its variants may also refer to:* Creativity, phenomenon whereby something new and valuable is created',\n",
       " 'credibility': 'Credibility comprises the objective and subjective components of the believability of a source or message.',\n",
       " 'credit': 'Credit is extended by a creditor, also known as a lender, to a debtor, also known as a borrower.',\n",
       " 'creditanstalt': 'Creditanstalt  (sometimes Credit-Anstalt, abbreviated as CA) was an Austrian bank based in Vienna.',\n",
       " 'creditor': 'The second party is frequently called a debtor or borrower.',\n",
       " 'crellin': 'Notable people with the surname include:*Benjamin Crellin, New Zealand comedian, actor and writer*Bertie Crellin (1902–1993), Australian rules footballer*Billy Crellin (born 2000), British footballer*David Crellin (born 1961), British actor*Jeffrey Crellin, Australian oboist*John Crellin, Manx politician*Max Crellin (born 1933), Australian politician',\n",
       " 'crew': 'A location in which a crew works is called a crewyard or a workyard.',\n",
       " 'crime': 'crime is an unlawful act punishable by a state or other authority.',\n",
       " 'crisis': 'More loosely, a crisis is a testing time or an emergency.thumbThe alien invasion in War of the Worlds is a fictitious crisis',\n",
       " 'criticism': '1907*The judger is called a critic.',\n",
       " 'crop': 'Horticulture crops include plants used for other crops (e.g.',\n",
       " 'cross': 'In ancient times, the effigy of a man hanging on a cross was set up in the fields to protect the crops.',\n",
       " 'crown': 'A crown is often, by extension, a symbol of the monarchs government or items endorsed by it.',\n",
       " 'crude': 'Crude can refer to:* Crude oil or simply crude, the unprocessed form of petroleum* Crude (2007 film), an Australian documentary about the geology and economics of crude oil* Crude (2009 film), an American documentary about oil companies and lawsuits in Ecuador* Crude (album), by Bongshang, 1993* Crude (comic), a comic book series by Steve Orlando and Garry Brown* Oklahoma Crude, a former National Indoor Football League team',\n",
       " 'cruz': 'In Spanish and Portuguese, the word means \"cross\", either the Christian cross or the figure of transecting lines or ways.',\n",
       " 'cruzados': '  Cruzados  were a 1980s rock band from Los Angeles, California.',\n",
       " 'crystal': 'The scientific study of crystals and crystal formation is known as crystallography.',\n",
       " 'crzy': 'The song was produced by female R&B and pop duo Novawav.',\n",
       " 'cuba': 'The official area of the Republic of Cuba is  (without the territorial waters).',\n",
       " 'cummins': 'Cummins is an American multinational corporation that designs, manufactures, and distributes engines, filtration, and power generation products.',\n",
       " 'curb': 'curb (North American English), or kerb (Commonwealth English except Canada; see spelling differences), the edge where a raised sidewalk or road median/central reservation meets a street or other roadway.',\n",
       " 'cure': 'cure is a substance or procedure that ends a medical condition, such as a medication, a surgical operation, a change in lifestyle or even a philosophical mindset that helps end a persons sufferings; or the state of being healed, or cured.',\n",
       " 'currency': 'Decentralized digital currencies, such as cryptocurrencies are not legal currency, strictly speaking, since they are not issued by a government monetary authority and are not legal tender.',\n",
       " 'cushion': 'It may be used for sitting or kneeling upon, or to soften the hardness or angularity of a chair or couch.',\n",
       " 'customer': 'customer (sometimes known as a client, buyer, or purchaser) is the recipient of a good, service, product or an idea - obtained from a seller, vendor, or supplier via a financial transaction or exchange for money or some  other valuable consideration.',\n",
       " 'customs': 'tariffs) and other taxes on import and export.',\n",
       " 'cutting': 'Hence, the smaller the area (i.e., the sharper the cutting implement), the less force is needed to cut something.',\n",
       " 'cwt': 'cwt is the abbreviation for hundredweight (cwt = centum weight), an English, imperial, and US customary unit of weightCWT or cwt may also refer to:',\n",
       " 'cxr': 'CXR may mean;* Charing Cross Road, a street in London, United Kingdom* Chest X-ray, a projection radiograph of the thorax* Christmas Island (via ISO 3166-1 country code)* Carrier signal, in US telephony jargon* Cam Ranh International Airport, IATA code CXR* CXR Anderson Jacobson, a vendor of communications equipment',\n",
       " 'cyprus': 'The international community considers the northern part of the island to be territory of the Republic of Cyprus occupied by Turkish forces.',\n",
       " 'cytrx': 'Aldoxorubicin (formerly INNO-206) is a modified form of doxorubicin, the popular anthracycline chemotherapeutic agent known as \"red death\".Anthracyclines are a class of drugs that are among the most commonly used agents in the treatment of cancer.',\n",
       " 'czechoslovakia': 'Between 1939 and 1945 the state ceased to exist, as Slovakia proclaimed its independence and subsequently the remaining territories in the east became part of Hungary, while in the remainder of the Czech Lands the German Protectorate of Bohemia and Moravia was proclaimed.',\n",
       " 'dairy': 'A dairy farm produces milk and a dairy factory processes it into a variety of dairy products.',\n",
       " 'dallas': 'Located in North Texas, the city of Dallas is the main core of the largest metropolitan area in the Southern United States and the largest inland metropolitan area in the U.S. that lacks any navigable link to the sea.',\n",
       " 'damage': 'Damage is any change in a thing, often a physical object, that degrades it away from its initial state.',\n",
       " 'damages': 'damages are a remedy in the form of a monetary award to be paid to a claimant as compensation for loss or injury.',\n",
       " 'dangers': 'Dangers is a commune in the Eure-et-Loir department in northern France.',\n",
       " 'daniel': 'It is a common given name for males, and is also used as a surname.',\n",
       " 'darman': 'At the 2006 census, its population was 66, in 11 families.',\n",
       " 'data': 'However, in academic treatments of the subject data are simply units of information.',\n",
       " 'david': 'is described in the Hebrew Bible as king of the United Monarchy of Israel and Judah.',\n",
       " 'day': 'The second is designated the SI base unit of time.',\n",
       " 'deadlock': 'Deadlocks are a common problem in multiprocessing systems, parallel computing, and distributed systems, where software and hardware locks are used to arbitrate shared resources and implement process synchronization.In an operating system, a deadlock occurs when a process or thread enters a waiting state because a requested system resource is held by another waiting process, which in turn is waiting for another resource held by another waiting process.',\n",
       " 'deals': 'The majority of Deals stores also sold frozen foods and dairy items such as milk, eggs, pizza, ice cream, frozen dinners, and pre-made baked goods.',\n",
       " 'dealt': 'The film is distributed by IFC Films through Sundance Selects.',\n",
       " 'death': 'Death is the permanent, irreversible cessation of all biological functions that sustain a living organism.',\n",
       " 'debate': 'In particular, in parliamentary democracies, a legislature debates and decides on new laws.',\n",
       " 'debenture': 'on changes to the rights attached to the debentures.',\n",
       " 'debt': 'Debt is a deferred payment, or series of payments, which differentiates it from an immediate purchase.',\n",
       " 'debtor': 'If X puts money in the bank, X is the creditor and the bank is the debtor.It is not a crime to fail to pay a debt.',\n",
       " 'decade': 'decade is a period of 10 years.',\n",
       " 'december': 'Dies natalis (birthday) was held at the temple of Tellus on December 13, Consualia was held on December 15, Saturnalia was held December 17–23, Opiconsivia was held on December 19, Divalia was held on December 21, Larentalia was held on December 23, and the dies natalis of Sol Invictus was held on December 25.',\n",
       " 'declare': 'Declare (2000) is a supernatural spy novel by American author Tim Powers.',\n",
       " 'decoupling': 'Decoupling usually refers to the ending, removal or reverse of coupling.Decoupling may also refer to:',\n",
       " 'decree': 'It has the force of law.',\n",
       " 'deeply': 'Executive producer:<br/>Bess Fotopoulos<br/>John Hamilton<br/>Wolfram Tichywriter         = Sheri Elwoodnarrator       =starring       = Julia Brendler<br/>Kirsten Dunst<br/>Lynn Redgravemusic          = Micki Meusercinematography = Sebastian Edschmidediting        = Jon Gregorydistributor    = Myriad Picturesreleased       = runtime        = 101 minutescountry        = Canadalanguage       = Englishbudget         = Deeply is a 2000 film directed by Sheri Elwood, starring Julia Brendler, Lynn Redgrave and Kirsten Dunst.',\n",
       " 'deficiency': 'deficiency is generally a lack of something.',\n",
       " 'deficit': 'deficit is the amount by which a sum falls short of some reference amount.',\n",
       " 'definition': 'definition is a statement of the meaning of a term (a word, phrase, or other set of symbols).',\n",
       " 'deflator': 'It is the measure of the price level for some quantity.',\n",
       " 'del': 'When applied to a function defined on a one-dimensional domain, it denotes the standard derivative of the function as defined in calculus.',\n",
       " 'delaware': 'Delaware was one of the Thirteen Colonies that took part in the American Revolution.',\n",
       " 'delays': 'The bands sound combines guitar and synths and features Greg Gilberts distinctive falsetto lead vocals.',\n",
       " 'delegation': 'It is the process of distributing and entrusting work to another person.',\n",
       " 'delhi': 'New Delhi is jointly administered by the federal government of India and the local government of Delhi, and serves as the capital of the nation as well as the NCT of Delhi.',\n",
       " 'deliverable': 'deliverable is a tangible or intangible good or service produced as a result of a project that is intended to be delivered to a customer (either internal or external).',\n",
       " 'delivered': 'A pizza boy finds a murdered man at his next delivery and becomes the murderers next intended victim.',\n",
       " 'delta': 'Delta commonly refers to:* Delta (letter) (Δ or δ), a letter of the Greek alphabet* River delta, a landform at the mouth of a river* D (NATO phonetic alphabet: \"Delta\"), the fourth letter of the modern English alphabet* Delta Air Lines, an American airlineDelta may also refer to:',\n",
       " 'demand': 'demand is the quantity of a good that consumers are willing and able to purchase at various prices during a given period of time.',\n",
       " 'denim': 'As a result of the warp-faced twill weaving, one side of the textile is dominated by the blue warp threads and the other side is dominated by the white weft threads.',\n",
       " 'denmark': 'Denmark has a total area of  , and the total area including Greenland and the Faroe Islands is .',\n",
       " 'dennis': 'He is viewed as the promoter of civilization, a lawgiver, and lover of peace—as well as the patron deity of both agriculture and the theater.Dionysus is a god of mystery religious rites, such as those practiced in honor of Demeter and Persephone at Eleusis near Athens.',\n",
       " 'density': 'the ratio of the density of the material to that of a standard material, usually water.',\n",
       " 'denver': 'Route 6 in Colorado 26pxlink=U.S.',\n",
       " 'denwa': 'Their eastern Waters flow into the Denwa  and the western into Sonbhadra.',\n",
       " 'deny': 'Denial, in ordinary English usage, is asserting that a statement or allegation is not true.Deny may also refer to:',\n",
       " 'depositary': 'depositary is a government or organization to which a multilateral treaty is entrusted.',\n",
       " 'depreciation': 'The decrease in value of the asset affects the balance sheet of a business or entity, and the method of depreciating the asset, accounting-wise, affects the net income, and thus the income statement that they report.',\n",
       " 'deregulation': 'It is the repeal of governmental regulation of the economy.',\n",
       " 'des': 'People named Des include:',\n",
       " 'design': 'design is a plan or specification for the construction of an object or system or for the implementation of an activity or process, or the result of that plan or specification in the form of a prototype, product or process.',\n",
       " 'designer': 'designer is a person who plans the look or workings of something before it is made, by preparing drawings or plans.More formally, a designer is an agent that designs the clothes at her studio or desing room \"specifies the structural properties of a design object\".',\n",
       " 'desirable': 'best response*Desirable (film)*Desirable (horse) (1981 - 1998), thoroughbred racehorseor',\n",
       " 'desire': 'Desires are closely related to agency: they motivate the agent to realize them.',\n",
       " 'destinations': 'Girl Scout Destinations, formerly Wider Opportunities or Wider Ops, are events for individual Girl Scouts (ages 11 – 18) hosted by GSUSA or individual Girl Scout councils.',\n",
       " 'determination': 'Determination is a positive emotional feeling that involves persevering towards a difficult goal in spite of obstacles.',\n",
       " 'determine': 'His best season was 1954 when he became the first gray horse to win the Kentucky Derby.',\n",
       " 'detroit': 'The Detroit Metropolitan Airport is among the most important hubs in the United States.',\n",
       " 'devaluation': 'Altering the face value of a currency without reducing its exchange rate is a redenomination, not a devaluation or revaluation.',\n",
       " 'device': 'Device may also refer to:',\n",
       " 'dialogue': 'Dialogue (sometimes spelled dialog in American English) is a written or spoken conversational exchange between two or more people, and a literary and theatrical form that depicts such an exchange.',\n",
       " 'diamond': 'Diamond is a form of the element carbon with its atoms arranged in a crystal structure called diamond cubic.',\n",
       " 'dictate': 'Dictate can refer to:* Dictation (disambiguation)* Dictator* Edict<!-- Long comment to avoid being listed on short pages                                                                                                                                               To give instructions-->',\n",
       " 'diego': 'The Portuguese equivalent is Diogo.',\n",
       " 'digital': 'Digital usually refers to something using discrete digits, often binary digits.',\n",
       " 'dilemma': 'The possibilities are termed the horns of the dilemma, a clichéd usage, but distinguishing the dilemma from other kinds of predicament as a matter of usage.',\n",
       " 'diligence': 'It is indicative of a work ethic, the belief that work is good in itself.',\n",
       " 'dinar': 'The Kushan Empire introduced a gold coin known as the dīnāra into India in the 1st century AD; the Gupta Empire and its successors up to the 6th century adopted the coin.',\n",
       " 'dinner': 'In hot climates, people have always tended to eat the main meal in the evening, after the temperature has fallen.',\n",
       " 'diplomat': 'The receiving state of the proposed diplomat may accept the diplomat or refuse to accept the diplomat without having to provide reasons for its refusal or acceptance of the person.',\n",
       " 'disadvantage': 'A disadvantage is also used in Lincoln Douglas Debate.',\n",
       " 'disagreement': 'disagreement is the absence of consensus or consent.',\n",
       " 'disappointed': 'The single was assigned the Factory catalogue number FAC 348, and the logo of the label remained on the artwork.Upon the songs release, it reached the top 20 in Germany, Greece, Ireland, Portugal, Sweden, and the United Kingdom, and it peaked within the top 10 on three US Billboard charts.',\n",
       " 'disappointment': 'Disappointment is the feeling of dissatisfaction that follows the failure of expectations or hopes to manifest.',\n",
       " 'disaster': 'Developing countries suffer the greatest costs when a disaster hits&nbsp;– more than 95% of all deaths caused by hazards occur in developing countries, and losses due to natural hazards are 20 times greater (as a percentage of GDP) in developing countries than in industrialized countries.',\n",
       " 'discipline': 'Discipline is action or inaction that is regulated  to be in accordance (or to achieve accord) with a particular system of governance.',\n",
       " 'disclose': 'On 5 June 2007, Disclose frontman Kawakami died from an overdose of alcohol and sedative.',\n",
       " 'disclosed': 'The show aired at 9pm on weekdays.',\n",
       " 'disease': 'The study of disease is called pathology, which includes the study of etiology, or cause.',\n",
       " 'disposition': 'disposition is a quality of character, a habit, a preparation, a state of readiness, or a tendency to act in a specified way that may be learned.The terms dispositional belief and occurrent belief refer, in the former case, to a belief that is held in the mind but not currently being considered, and in the latter case, to a belief that is currently being considered by the mind.In Bourdieus theory of fields, dispositions are the natural tendencies of each individual to take on a specific position in any field.',\n",
       " 'disrupt': 'were released in 1992.',\n",
       " 'distance': 'The distance from a point A to a point B is sometimes denoted as <math>AB</math>.',\n",
       " 'distributor': 'The distributors main function is to route secondary, or high voltage, current from the ignition coil to the spark plugs in the correct firing order, and for the correct amount of time.',\n",
       " 'district': 'district is a type of administrative division that, in some countries, is managed by the local government.',\n",
       " 'ditch': 'ditch is a small to moderate divot created to channel water.',\n",
       " 'diverted': 'Diverted is a 2009 CBC made-for-TV miniseries.',\n",
       " 'dividend': 'dividend is a distribution of profits by a corporation to its shareholders.',\n",
       " 'dixie': 'Some definitions include certain areas more than others, but most include the states that seceded to form the Confederate States of America (1861–65).',\n",
       " 'dna': 'The two strands of DNA run in opposite directions to each other and are thus antiparallel.',\n",
       " 'document': 'all can be expressed in documents.',\n",
       " 'documentation': 'Documentation can be provided on paper, online, or on digital or analog media, such as audio tape or CDs.',\n",
       " 'dodge': 'Horace died in December of the same year, perhaps weakened by his bout with the Spanish Flu, though the cause of death was cirrhosis of the liver.',\n",
       " 'dollar': 'They include Australian dollar, Canadian dollar, Hong Kong dollar, New Zealand dollar, Singapore dollar, New Taiwan dollar, Jamaican dollar, Liberian dollar, Namibian dollar, Brunei dollar, the United States dollar and several others.',\n",
       " 'dome': 'The domes of the modern world can be found over religious buildings, legislative chambers, sports stadiums, and a variety of functional structures.',\n",
       " 'dominate': 'It may begin with the commencement of the reign of Diocletian in AD 284, following the Third Century Crisis of AD 235–284, and to end in the west with the collapse of the Western Empire in AD 476, while in the east its end is disputed, as either occurring at the close of the reign of Justinian I (AD 565) or of Heraclius (AD 641).',\n",
       " 'dominion': 'With the dissolution of the British Empire after World War II and the formation of the Commonwealth of Nations, use of the term was formally abandoned at the 1949 Commonwealth Prime Ministers Conference and replaced with \"member of the Commonwealth\" to recognize the full autonomy of members.',\n",
       " 'domtar': 'Domtar Corporation is the largest integrated producer of uncoated free-sheet paper in North America and the second largest in the world based on production capacity, and is also a manufacturer of papergrade pulp.The firm designs, manufactures, markets and distributes a wide range of business, commercial printing, publication as well as technical and specialty papers with recognized brands such as Cougar, Lynx Opaque Ultra, Husky Opaque Offset, First Choice, Sandpiper (premium 100% recycled unbleached), and Domtar EarthChoice Office Paper, part of a family of environmentally and socially responsible papers.Domtar owns and operates Domtar Distribution Group, an extensive network of paper distribution facilities.',\n",
       " 'donald': 'Donald is a masculine given name derived from the Gaelic name Dòmhnall.',\n",
       " 'donaldson': 'Notable people with the surname include:__NOTOC__',\n",
       " 'door': 'Doors are generally made of a material suited to the doors task.',\n",
       " 'dormancy': 'Predictive dormancy occurs when an organism enters a dormant phase before the onset of adverse conditions.',\n",
       " 'dot': 'dot is usually a small, round spot.Dot, DoT or DOT may also refer to:',\n",
       " 'doubt': 'Doubt can result in delaying or rejecting relevant action out of concern for mistakes or missed opportunities.thumbnailDoubt',\n",
       " 'down': 'Down most often refers to:* Down, the relative direction opposed to up* Down (gridiron football), in American/Canadian football, a period when one play takes place* Down feather, a soft bird feather used in bedding and clothing* Downland, a type of hillDown may also refer to:',\n",
       " 'downgrade': 'downgrading refers to reverting software (or hardware) back to an older version; downgrade is the opposite of upgrade.',\n",
       " 'downtown': 'It is marked by a cluster of tall buildings, cultural institutions and the convergence of rail transit and bus lines.',\n",
       " 'downward': 'Notable people with the surname include:*Alfred Downward (1847–1930), Australian politician*Herbert Downward (1880–1973), Australian politician*Julian Downward (born 1960), British biochemist*Peter Downward (1924–2014), British Army officerCategory:English-language surnames',\n",
       " 'dozen': 'A bakers dozen, also known as a big or long dozen, is a grouping of 13.',\n",
       " 'drastic': 'They formed in February 2020, at the start of the COVID-19 pandemic.',\n",
       " 'drawing': 'Digital drawing is the act of using a computer to draw.',\n",
       " 'driel': 'Driel is a town in the municipality of Overbetuwe, approximately four kilometers southwest of Arnhem on the south bank of the Rhine, in the Netherlands.',\n",
       " 'drill': 'drill or drilling machine is a tool primarily used for making round holes or driving fasteners.',\n",
       " 'drilling': 'The drill bit is usually a rotary cutting tool, often multi-point.',\n",
       " 'drink': 'The category includes drinks that have undergone an alcohol removal process such as non-alcoholic beers and de-alcoholized wines.',\n",
       " 'driving': 'Driving skills have also developed since the 15th century with physical, mental and safety skills being required to drive.',\n",
       " 'drought': 'It can have a substantial impact on the ecosystem and agriculture of the affected region and harm to the local economy.',\n",
       " 'drug': 'All drugs can have potential side effects.',\n",
       " 'dry': 'Dry or dryness most often refers to:* Lack of rainfall, which may refer to**Arid regions**Drought* Dry or dry area, relating to legal prohibition of selling, serving, or imbibing alcoholic beverages* Dry humor, deadpan* Dryness (medical)* Dryness (taste), the lack of sugar in a drink, especially an alcoholic one* Dry direct sound without reverberationDry or DRY may also refer to:',\n",
       " 'drying': 'A source of heat and an agent to remove the vapor produced by the process are often involved.',\n",
       " 'dubai': 'Dubai is one of the worlds most popular tourist destinations with the second most five-star hotels in the world, and the tallest building in the world, the Burj Khalifa.Located in the eastern part of the Arabian Peninsula on the coast of the Persian Gulf, Dubai aims to be the business hub of Western Asia.',\n",
       " 'dubilier': 'Dubilier is the surname of the following notable people:*Martin H. Dubilier (1926–1991), American businessman and inventor**Clayton, Dubilier & Rice, American private equity company founded by Martin*Nicole Dubilier, American marine microbiologist *William Dubilier (1888–1969), American electronics inventor, father of Martin**Dubilier Condenser Company founded by William',\n",
       " 'dudley': 'Historically an exclave of Worcestershire, the town is the administrative centre of the Metropolitan Borough of Dudley and in 2011 had a population of 79,379.',\n",
       " 'durable': 'Durable Hunke & Jochheim GmbH & Co. KG  is a German company selling stationery products.',\n",
       " 'durham': 'Durham most commonly refers to:*Durham, England, a cathedral city and the county town of County Durham*County Durham, an English county*Durham, North Carolina, a city in North Carolina, United StatesDurham may also refer to:',\n",
       " 'durum': 'It is the predominant wheat that grows in the Middle East.Durum in Latin means \"hard\", and the species is the hardest of all wheats.',\n",
       " 'dutch': 'Dutch commonly refers to:* Something of, from, or related to the Netherlands* Dutch people ()* Dutch language ()** Flemish, the Dutch dialect spoken in BelgiumDutch may also refer to:',\n",
       " 'duty': 'Performing ones duty may require some sacrifice of self-interest.Cicero, an early Roman philosopher who discusses duty in his work “On Duty\", suggests that duties can come from four different sources:# as a result of being a human# as a result of ones particular place in life (ones family, ones country, ones job)# as a result of ones character# as a result of ones own moral expectations for oneselfThe specific duties imposed by law or culture vary considerably, depending on jurisdiction, religion, and social norms.',\n",
       " 'eagle': 'Most of the 60 species of eagle are from Eurasia and Africa.',\n",
       " 'earning': 'Earning can refer to:*Labour (economics)*Earnings of a company*Merit<!-- Long comment to avoid being listed on short pages                                                                                                                                               -->',\n",
       " 'earnings': 'Earnings are the net benefits of a corporations operation.',\n",
       " 'earth': '-->',\n",
       " 'earthquake': 'The epicenter is the point at ground level directly above the hypocenter.',\n",
       " 'east': 'East is one of the four cardinal directions or points of the compass.',\n",
       " 'easter': 'The Easter lily, a symbol of the resurrection in Western Christianity, traditionally decorates the chancel area of churches on this day and for the rest of Eastertide.',\n",
       " 'eating': 'This may be a result of a lifestyle choice, due to hunger or famine, as part of a diet or as religious fasting.',\n",
       " 'echlin': 'Echlin is a surname.',\n",
       " 'echo': 'The delay is directly proportional to the distance of the reflecting surface from the source and the listener.',\n",
       " 'ecolab': 'Ecolab Inc.; including its foundation in 1923 as Economics Laboratory, and the acquisition of Nalco in 2011the history of acquired businesses of NalcoNalco Holding Company<br />S&P 500 Component ISIN =  industry = Chemicals, Service, Water Management, Food Safety, Infection Prevention fate =  predecessor = <!-- or:  predecessors = --> successor = <!-- or:  successors = --> foundation =  founder = Merritt J. Osborn defunct = <!--  --> location_city = St. Paul, Minnesota location_country = United States locations = <!-- Number of locations --> area_served =  key_people = Christophe Beck.<br /> products =  brands =  production =  services =  revenue =    operating_income =    net_income =    assets =    equity =    num_employees = ~50,000  owner = <!-- or:  owners = --> members =  parent =  divisions =  subsid =  website = [http://www.ecolab.com/ ecolab.com] footnotes = Ecolab Inc., headquartered in St. Paul, Minnesota, is an American corporation that develops and offers services, technology and systems that specialize in water treatment, purification, cleaning and hygiene in a wide variety of applications.',\n",
       " 'economics': 'Microeconomics analyzes basic elements in the economy, including individual agents and markets, their interactions, and the outcomes of interactions.',\n",
       " 'economist': 'economist is a practitioner in the social science discipline of economics.The individual may also study, develop, and apply theories and concepts from economics and write about economic policy.',\n",
       " 'economy': 'A green economy is low-carbon, resource efficient and socially inclusive.',\n",
       " 'ecopetrol': 'In the 2020 Forbes Global 2000, Ecopetrol was ranked as the 313th -largest public company in the world.',\n",
       " 'ecuador': 'Ecuador also includes the Galápagos Islands in the Pacific, about  west of the mainland.',\n",
       " 'edelman': '* Adam Edelman (born 1991), American-born four-time Israeli National Champion in skeleton event, and Israeli Olympian* Alan Edelman (born 1963), American mathematician and computer scientist* Daniel Edelman (1920–2013), American public relations executive, founder of Edelman* David Louis Edelman (born 1971), American science fiction author* Edmund D. Edelman (1930-2016), Los Angeles, California, politician* Elazer R. Edelman, American engineer, scientist, and cardiologist* Eric S. Edelman, U.S. ambassador to Turkey and Under Secretary of Defense for Policy* Gerald Edelman (1929-2014), biologist, 1972 Nobel Prize (Physiology/Medicine) for work on the immune system* Gregg Edelman (born 1958), American movie, television and theatre actor* Herb Edelman (1933–1996), American actor* Isidore Edelman (1920&ndash;2004), American physician and researcher* James Edelman (born 1974), a justice of the Federal Court of Australia, and appointed to be a justice of the High Court of Australia* Judith Edelman (1923–2014), American architect* Julian Edelman (born 1986), NFL player for the New England Patriots, 2019 Super Bowl LIII MVP* Lee Edelman (born 1953), professor and chair of the English Department at Tufts University* Marek Edelman (1922–2009), political and social activist, cardiologist, and the last living leader of the Warsaw Ghetto Uprising* Marian Wright Edelman (Marian Wright) (born 1939), founder and president of the Childrens Defense Fund and wife of Peter Edelman* Maurice Edelman  (1911–1975), British politician and novelist* Murray Edelman (1919–2001), American political scientist* Natan Eidelman (1930–1989), Russian author and historian* Nufar Edelman (born 1982), Israeli Olympic sailor* Peter Edelman (born 1938), lawyer, policy maker, and law professor at Georgetown University Law Center and husband of Marian Wright Edelman* Randy Edelman (born 1947), American music composer* R. David Edelman, American policymaker* Richard Edelman (born 1954), president and CEO of public relations firm Edelman* Scott Edelman (born 1955), American science fiction and fantasy writer and editor',\n",
       " 'edible': 'edible item is any item that is safe for humans to eat.',\n",
       " 'editorial': 'On the other hand, an editorial does reflect the position of a newspaper and the head of the newspaper, the editor, is known by name.',\n",
       " 'edmonton': 'Edmonton is on the North Saskatchewan River and is the centre of the Edmonton Metropolitan Region, which is surrounded by Albertas central region.',\n",
       " 'education': 'Education is the process of facilitating learning, or the acquisition of knowledge, skills, values, morals, beliefs, and habits.',\n",
       " 'edward': 'It is derived from the Anglo-Saxon form Éadƿeard, composed of the elements ead \"wealth, fortune; prosperous\" and ƿeard \"guardian, protector\".This term is of Indo-European origin, appearing in Latin «ardŭus», Greek «αρδις» (ardis) and Sanskrit «úrdhva» which means at the tip of the dart.',\n",
       " 'effected': 'The album features guest appearances from J. Cole, Kendrick Lamar, Currensy and Garren.',\n",
       " 'effectiveness': 'Effectiveness is the capability of producing a desired result or the ability to produce desired output.',\n",
       " 'efficiency': 'In more mathematical or scientific terms, signifies the level of performance that uses the least amount of inputs to achieve the highest amount of output.',\n",
       " 'egg': 'An egg results from fertilization of an egg cell.',\n",
       " 'egypt': 'Egypt is a Mediterranean country bordered by the Gaza Strip (Palestine) and Israel to the northeast, the Gulf of Aqaba and the Red Sea to the east, Sudan to the south, and Libya to the west.',\n",
       " 'eia': 'It was about one mile west of the Palace of Westminster/Whitehall, about 2 miles west-south-west of the walled City of London, and about half a mile north of the River Thames.',\n",
       " 'election': 'Elections may fill offices in the legislature, sometimes in the executive and judiciary, and for regional and local government.',\n",
       " 'electricity': 'Electricity is the set of physical phenomena associated with the presence and motion of matter that has a property of electric charge.',\n",
       " 'electronics': ' Electronics comprises the physics, engineering, technology and applications that deal with the emission, flow and control of electrons in vacuum and matter.',\n",
       " 'elevator': 'Several types exist, such as the chain and bucket elevator, grain auger screw conveyor using the principle of Archimedes screw, or the chain and paddles or forks of hay elevators.',\n",
       " 'elmer': 'The name is common in the United States and Canada.',\n",
       " 'embark': 'Embark is a Sri Lankan animal rescue and welfare organization.',\n",
       " 'emergency': 'Most emergencies require urgent intervention to prevent a worsening of the situation, although in some situations, mitigation may not be possible and agencies may only be able to offer palliative care for the aftermath.While some emergencies are self-evident (such as a natural disaster that threatens many lives), many smaller incidents require that an observer (or affected party) decide whether it qualifies as an emergency.The precise definition of an emergency, the agencies involved and the procedures used, vary by jurisdiction, and this is usually set by the government, whose agencies (emergency services) are responsible for emergency planning and management.',\n",
       " 'emerging': 'Emerging is the title of the only album by the Phil Keaggy Band, released in 1977 on NewSong Records.',\n",
       " 'emi': 'Emiえみ, エミ, 絵美,\\u3000恵美 is a feminine Japanese given name and is occasionally used as a surname.',\n",
       " 'emirate': 'emirate is a political territory that is ruled by a dynastic Arabic or Islamic monarch-styled emir.',\n",
       " 'empire': 'Territorial empires (e.g.',\n",
       " 'employment': 'Employees in some fields or sectors may receive gratuities, bonus payment or stock options.',\n",
       " 'enabling': 'enabling has a positive sense of empowering individuals, or a negative sense of encouraging dysfunctional behavior.',\n",
       " 'ends': 'Most of the stories originally appeared in the magazines Analog Science Fiction and Fact, Astounding, If, Galaxy Science Fiction, Destinies, Science Fiction Stories and Amazing Stories  The poems first appeared in The Final Encyclopedia.',\n",
       " 'energy': 'The unit of measurement in the International System of Units (SI) of energy is the joule, which is the energy transferred to an object by the work of moving it a distance of one metre against a force of one newton.Common forms of energy include the kinetic energy of a moving object, the potential energy stored by an objects position in a force field (gravitational, electric or magnetic), the elastic energy stored by stretching solid objects, the chemical energy released when a fuel burns, the radiant energy carried by light, and the thermal energy due to an objects temperature.Mass and energy are closely related.',\n",
       " 'enforcement': 'Governments attempt to effectuate successful implementation of policies by enforcing laws and regulations.Enactment refers to application of a law or regulation, or carrying out of an executive or judicial order.',\n",
       " 'engine': 'engine or motor is a machine designed to convert one form of energy into mechanical energy.',\n",
       " 'engineering': 'The discipline of engineering encompasses a broad range of more specialized fields of engineering, each with a more specific emphasis on particular areas of applied mathematics, applied science, and types of application.',\n",
       " 'england': 'The Irish Sea lies northwest of England and the Celtic Sea to the southwest.',\n",
       " 'english': 'English usually refers to:* English language* English peopleEnglish may also refer to:',\n",
       " 'eni': 'In the 2020 Forbes Global 2000, Eni was ranked as the 468th -largest public company in the world.',\n",
       " 'enron': 'The scandal also brought into question the accounting practices and activities of many corporations in the United States and was a factor in the enactment of the Sarbanes–Oxley Act of 2002.',\n",
       " 'ensure': 'insureinsuranceother usesEnsure (disambiguation) mintime      =  maxtime      =  type         =  Dietary supplement, Meal replacement course       =  served       = main_ingredient =  minor_ingredient =  variations =  serving_size = 100 g calories =  protein =  fat =  carbohydrate =  glycemic_index =  other =  manufacturer = Abbott Laboratories origin       = United States introduced   =  discontinued =  colour       =  flavour      =  ingredients  =  website      =  cuisine = neutralEnsure is an American brand of nutritional supplements and meal replacements manufactured by Abbott Laboratories.',\n",
       " 'entertainment': 'Entertainment can be public or private, involving formal, scripted performance, as in the case of theatre or concerts; or unscripted and spontaneous, as in the case of childrens games.',\n",
       " 'enthusiasm': 'enthusiasm refers to intense enjoyment, interest, or approval expressed by a person.',\n",
       " 'entire': 'entire indicates that an animal has not been desexed, that is, spayed or neutered*In botany, an edge (such as of a leaf, petal, calyx, etc.)',\n",
       " 'environment': 'Environment most often refers to:__NOTOC__* Natural environment, all living and non-living things occurring naturally* Biophysical environment, the physical and biological factors along with their chemical interactions that affect an organism or a group of organisms',\n",
       " 'equatorial': 'Equatorial generally means \"of or related to an equator\".Equatorial may refer specifically to:',\n",
       " 'equilibrium': 'Equilibrium may also refer to:',\n",
       " 'equipment': 'Equipment most commonly refers to a set of tools or other objects commonly used to achieve a particular objective.',\n",
       " 'era': 'era is a span of time defined for the purposes of chronology or historiography, as in the regnal eras in the history of a given monarchy, a calendar era used for a given calendar, or the geological eras defined for the history of Earth.Comparable terms are epoch, age, period, saeculum, aeon (Greek aion) and   Sanskrit yuga.',\n",
       " 'eric': 'In Norway, another form of the name (which has kept the Old Norse diphthong) Eirik is also commonly used.',\n",
       " 'ericsson': 'The Wallenbergs and the Handelsbanken sphere acquired their voting-strong A-shares, and thus the control of Ericsson, after the fall of the Kreuger empire in the early 1930s.Ericsson is the inventor of Bluetooth technology.',\n",
       " 'erosion': 'Feedbacks are also possible between rates of erosion and the amount of eroded material that is already carried by, for example, a river or glacier.',\n",
       " 'escalation': 'Specific uses of the term include:*Cost escalation, an increase in the price of goods*Conflict escalation, an increase in the intensity of a conflict*Escalation of commitment, an aspect of game theory*Privilege escalation, a computer security process*Technological escalation, a technological version of an arms race',\n",
       " 'escrow': 'The word derives from the Old French word , meaning a scrap of paper or a scroll of parchment; this indicated the deed that a third party held until a transaction was completed.',\n",
       " 'esselte': 'Esselte is a manufacturer and marketer of office products and business supplies with subsidiaries in 25 countries and sales in over 120 countries.',\n",
       " 'esso': 'In 1972, the name Esso was largely replaced in the U.S. by the Exxon brand after the Standard Oil of New Jersey bought Humble Oil, while the Esso name remained widely used elsewhere.',\n",
       " 'estimates': 'Unlike tax proposals in the budget, the Estimates are rarely controversial, with most issues being dealt with in committee.Most of the countries also mandate an update or series of updates to the Estimates to account for changes in the economy or in government policy.',\n",
       " 'ethanol': 'Ethanol is a fuel source.',\n",
       " 'ethiopia': 'Ethiopia was the first independent African member of the League of Nations and the United Nations.',\n",
       " 'ethylene': 'The hydrate of ethylene is ethanol.',\n",
       " 'eurodollar': 'There is no connection with the euro currency or the eurozone.',\n",
       " 'europe': 'The fall of the Western Roman Empire in 476 AD and the subsequent Migration Period marked the end of Europes ancient history and the beginning of the Middle Ages.',\n",
       " 'eurostat': 'The organisations in the different countries that cooperate with Eurostat are summarised under the concept of the European Statistical System.',\n",
       " 'evaluation': 'It is long term and done at the end of a period of time.',\n",
       " 'eve': 'Eve  is a figure in the Book of Genesis in the Hebrew Bible and the Quran.',\n",
       " 'evening': 'Evening is the period of a day from the end of the afternoon to the beginning of night.',\n",
       " 'evergreen': 'This also pertains to plants that retain their foliage only in warm climates, and contrasts with deciduous plants, which completely lose their foliage during the winter or dry season.',\n",
       " 'everything': 'It is the totality of things relevant to some subject matter.',\n",
       " 'evidence': 'Two issues for the scientific conception of evidence are the problem of underdetermination, i.e.',\n",
       " 'exchequer': 'It can be found used in various financial documents including the latest departmental and agency annual accounts.It was the name of a British government department responsible for the collection and the management of taxes and revenues; of making payments on behalf of the sovereign and auditing official accounts.',\n",
       " 'excise': 'Excises are typically imposed in addition to an indirect tax such as a sales tax or value-added tax (VAT).',\n",
       " 'exercise': 'Many individuals choose to exercise outdoors where they can congregate in groups, socialize, and enhance well-being.In terms of health benefits, the amount of recommended exercise depends upon the goal, the type of exercise, and the age of the person.',\n",
       " 'existence': 'In philosophy, it refers to the ontological property of being.',\n",
       " 'exp': 'Exp may stand for:* Exponential function, in mathematics* Expiry date of organic compounds like food or medicines* Experience points, in role-playing games* EXPTIME, a complexity class in computing* Ford EXP, a car manufactured in the 1980s* Exp (band), an Italian group in the 1990s* \"EXP\" (song), a song by The Jimi Hendrix Experience from the album Axis: Bold as Love* EXP (calculator key), to enter numbers in scientific or engineering notation',\n",
       " 'expect': 'Expect, originally written in 1990 for the Unix platform, has since become available for Microsoft Windows and other systems.',\n",
       " 'expense': 'For a tenant, rent is an expense.',\n",
       " 'experience': 'This can include descriptive knowledge (e.g.',\n",
       " 'expert': 'Historically, an expert was referred to as a sage.',\n",
       " 'expire': 'They were signed to Bridge 9 Records.',\n",
       " 'expired': 'Expired is a 2007 comedy-drama film and the first writer-director credit for Cecilia Miniucchi, whose previous credits include the documentary on the work of artist Hermann Nitsch entitled Nitsch 1998.',\n",
       " 'explanation': 'explanation is a set of statements usually constructed to describe a set of facts which clarifies the causes, context, and consequences of those facts.',\n",
       " 'explicit': 'Explicit refers to something that is specific, clear, or detailed.',\n",
       " 'exploit': 'Exploit means to take advantage of something (a person, situation, etc.)',\n",
       " 'exploration': 'Exploration is the act of searching for the purpose of discovery of information or resources.',\n",
       " 'explosion': 'Supersonic explosions created by high explosives are known as detonations and travel via shock waves.',\n",
       " 'explosive': 'Materials that detonate (the front of the chemical reaction moves faster through the material than the speed of sound) are said to be \"high explosives\" and materials that deflagrate are said to be \"low explosives\".',\n",
       " 'export': 'export in international trade is a good produced in one country that is sold into another country or a service provided in one country for a national or resident of another country.',\n",
       " 'extinguishment': 'Extinguishment is the destruction of a right or contract.',\n",
       " 'extract': 'extract is a substance made by extracting a part of a raw material, often by using a solvent such as ethanol, oil or water.',\n",
       " 'extrusion': 'The extrusion process can be done with the material hot or cold.',\n",
       " 'exxon': 'Exxon  is the brand name of the former oil company Exxon Corporation which was, prior to January 1973, known as \"Standard Oil Company of New Jersey\".',\n",
       " 'eye': 'Eyes are organs of the visual system.',\n",
       " 'face': 'face is the front of an animals head that features three of the heads sense organs, the eyes, nose, and mouth, and through which animals express many of their emotions.',\n",
       " 'fact': 'Generally speaking, facts are independent of belief and of knowledge.',\n",
       " 'factory': 'Factories may be supplied parts from elsewhere or make them from raw materials.',\n",
       " 'fahd': 'Fahd , also transliterated Fahed or Fahad, can refer to:',\n",
       " 'failure': 'Finding useful and effective criteria, or heuristics, to judge the success or failure of a situation may itself be a significant task.',\n",
       " 'fair': 'fair (archaic: faire or fayre) is a gathering of people for a variety of entertainment or commercial activities.',\n",
       " 'fairly': 'Fairly is a surname.',\n",
       " 'fairness': '** In computer science, fairness is a property of unbounded nondeterminism.',\n",
       " 'faith': 'Faith, derived from Latin fides and Old French feid, is confidence or trust in a person, thing, or  In the context of religion, one can define faith as \"belief in a god or in the doctrines or teachings of religion\".Religious people often think of faith as confidence based on a perceived degree of warrant,while others who are more skeptical of religion tend to think of faith as simply belief without evidence.',\n",
       " 'familiar': 'The former were often categorized as demons, while the latter were more commonly thought of and described as fairies.',\n",
       " 'family': 'The purpose of families is to maintain the well-being of its members and of society.',\n",
       " 'farm': 'It includes ranches, feedlots, orchards, plantations and estates, smallholdings and hobby farms, and includes the farmhouse and agricultural buildings as well as the land.',\n",
       " 'farmer': 'A farmer might own the farmed land or might work as a laborer on land owned by others, but in advanced economies, a farmer is usually a farm owner, while employees of the farm are known as farm workers, or farmhands.',\n",
       " 'fat': 'Dietary fats are also the carriers of some flavor and aroma ingredients and vitamins that are not water-soluble.',\n",
       " 'fatty': 'Fatty is a derogatory term for someone who is obese.',\n",
       " 'fault': 'Fault commonly refers to:*Fault (geology), planar rock fractures showing evidence of relative movement*Fault (law), blameworthiness or responsibilityFault(s) may also refer to:',\n",
       " 'faygo': 'Faygo Beverages, Inc., is a soft drink company headquartered in Detroit, Michigan.',\n",
       " 'fear': 'Thus, fear is judged as rational or appropriate and irrational or inappropriate.',\n",
       " 'february': 'February is the second month of the year in the Julian and Gregorian calendars.',\n",
       " 'federation': 'Brazil became a federation only after the fall of the monarchy, and Venezuela became a federation after the Federal War.',\n",
       " 'fee': 'A membership fee is charged as part of a subscription business model.',\n",
       " 'feeling': 'Feeling is the nominalization of the verb to feel.',\n",
       " 'fell': 'The term is most often employed in Norway, Fennoscandia, the Isle of Man, parts of northern England, and Scotland.',\n",
       " 'fellner': 'Notable people with the surname include:*Eduardo Fellner (born 1954), Argentine politician*Eric Fellner (born 1959), British film producer*Ferdinand Fellner (architect) (1847–1916), Austrian architect*Ferdinand Fellner (painter) (1799–1869), German designer and painter*Hermann Fellner (born 1950), German politician, representative of the Christian Social Union of Bavaria*Jakab Fellner von Fellenthal, (1722–1780), Moravian-Hungarian architect*Jamie Fellner, Senior Counsel for the United States Program of Human Rights Watch*Liliana Fellner (born 1957), Argentine politician*Rosie Fellner (born 1978), Irish actress*Till Fellner (born 1972), Austrian pianist*Werner Jaffé Fellner (1914–2009), German chemist and university professor*Joe Fellner (born 1931–2018), Hungarian Holocaust survivor Category:German-language surnames',\n",
       " 'fellow': 'In the context of medical education in North America, a fellow is a physician who is undergoing a supervised, sub-specialty medical training (fellowship) after having completed a specialty training program (residency).',\n",
       " 'felt': 'Felt can be made of natural fibers such as wool or animal fur, or from synthetic fibers such as petroleum-based acrylic or acrylonitrile or wood pulp-based rayon.',\n",
       " 'fendt': 'It is part of the AGCO Corporation.',\n",
       " 'ferdinand': 'The French forms are Ferrand, Fernand, and Fernandel, and it is Ferdinando and Fernando in Italian.',\n",
       " 'fernando': 'Fernando is a given name and a surname common in Spain, Portugal, Italy, France, Switzerland, former Spanish or Portuguese colonies in Latin America, Africa and the Philippines, India and Sri Lanka (the name was introduced there during the Portuguese occupation).',\n",
       " 'ferrous': 'It is opposed to \"ferric\" or iron(III), meaning iron in its +3 oxidation state, such as the trivalent cation Fe.',\n",
       " 'ferry': 'ferry is a vessel used to carry passengers, and sometimes vehicles and cargo, across a body of water.',\n",
       " 'fertilizer': 'Many sources of fertilizer exist, both natural and industrially produced.',\n",
       " 'fiber': 'Fiber or fibre (from ) is a natural or man-made substance that is significantly longer than it is wide.',\n",
       " 'fidelity': 'In the City of London financial markets it has traditionally been used in the sense encompassed in the motto \"My word is my bond\".',\n",
       " 'fiduciary': 'The fiduciary has a duty not to be in a situation where personal interests and fiduciary duty conflict, not to be in a situation where their fiduciary duty conflicts with another fiduciary duty, and a duty not to profit from their fiduciary position without knowledge and consent.',\n",
       " 'fiji': 'About 87% of the total population of  live on the two major islands, Viti Levu and Vanua Levu.',\n",
       " 'film': 'The visual basis of film gives it a universal power of communication.',\n",
       " 'fin': 'Fish fins are used to generate thrust and control the subsequent motion.',\n",
       " 'finance': 'Paish]: \"Finance may be defined as the position of money at the time it is wanted\".',\n",
       " 'finland': 'It shares land borders with Sweden to the west, Russia to the east, Norway to the north, and is defined by the Gulf of Bothnia to the west, and the Gulf of Finland of the Baltic Sea across Estonia to the south.',\n",
       " 'fire': 'The flame is the visible portion of the fire.',\n",
       " 'first': 'First or 1st is the ordinal form of the number one (#1).First or 1st may also refer to:*World record, specifically the first instance of a particular achievement',\n",
       " 'fish': 'Fish are abundant in most bodies of water.',\n",
       " 'fisher': 'Fisher is an archaic term for a fisherman, revived as gender-neutral.Fisher, Fishers or The Fisher may also refer to:',\n",
       " 'fishing': 'In addition to being caught to be eaten, fish are caught as recreational pastimes.',\n",
       " 'fitzwater': 'Fitzwater is a patronymic surname of English origin, being a variant of Fitz Walter, son of Walter.',\n",
       " 'flag': 'It is used as a symbol, a signalling device, or for decoration.',\n",
       " 'flight': 'and rockets which may propel spacecraft and spaceplanes.The engineering aspects of flight are the purview of aerospace engineering which is subdivided into aeronautics, the study of vehicles that travel through the atmosphere, and astronautics, the study of vehicles that travel through space, and ballistics, the study of the flight of projectiles.',\n",
       " 'flood': 'In the sense of \"flowing water\", the word may also be applied to the inflow of the tide.',\n",
       " 'floor': 'floor is the bottom surface of a room or vehicle.',\n",
       " 'florida': 'Florida  is a state located in the Southeastern region of the United States.',\n",
       " 'flotation': 'Flotation (also spelled floatation) involves phenomena related to the relative buoyancy of objects.The term may also refer to:*Flotation (archaeology), a method for recovering very small artefacts from excavated sediments*Flotation (shares), an initial public offering of stocks or shares in a company*Flotation, any material added to the hull of a watercraft to keep the hull afloat*Flotation, the ability (as of a tire or snowshoes) to stay on the surface of soft ground or snow *\"Floatation\", a 1990 electronic music song by The Grid*Flotation process, in process engineering, a method for the separation of mixtures**Dissolved air flotation (DAF), a water treatment process**Froth flotation, a process for separating hydrophobic from hydrophilic materials**Induced gas flotation, a water treatment process that clarifies wastewaters (or other waters) by the removal of suspended matter such as oil or solids*Flotation therapy, a technique whereby users float in an isolation tank',\n",
       " 'flour': 'Rye flour is a constituent of bread in central and northern Europe.Cereal flour consists either of the endosperm, germ, and bran together (whole-grain flour) or of the endosperm alone (refined flour).',\n",
       " 'fluorocarbon': 'Fluorocarbons and their derivatives (perfluorinated compounds) are used as fluoropolymers, refrigerants, solvents, and anesthetics.',\n",
       " 'fly': 'Flies are important pollinators, second only to the bees and their Hymenopteran relatives.',\n",
       " 'foam': 'In open-cell foam, gas pockets connect to each other.',\n",
       " 'following': 'Along with writing, directing, and photographing the film, Nolan also helped in editing and production.Following was released by The Criterion Collection on both Blu-ray and DVD in North America on 11 December 2012.',\n",
       " 'follows': 'Follows is a surname.',\n",
       " 'food': 'Food safety and food security are monitored by international agencies like the International Association for Food Protection, World Resources Institute, World Food Programme, Food and Agriculture Organization, and International Food Information Council, and are often subject to national regulation by institutions, like the Food and Drug Administration in the United States.',\n",
       " 'foodservice': 'Some companies manufacture products in both consumer and foodservice versions.',\n",
       " 'foot': 'In many animals with feet, the foot is a separate organ at the terminal part of the leg made up of one or more segments or bones, generally including claws or nails.',\n",
       " 'foote': 'Foote (1873–1957) Canadian photographer*Lucinda Foote (1770/71–?',\n",
       " 'footwear': 'Footwear in the manner of shoes therefore primarily serves the purpose to ease locomotion and prevent injuries.',\n",
       " 'forbes': 'The motto of Forbes magazine is \"Change the World\".',\n",
       " 'force': 'If the mass of the object is constant, this law implies that the acceleration of an object is directly proportional to the net force acting on the object, is in the direction of the net force, and is inversely proportional to the mass of the object.Concepts related to force include: thrust, which increases the velocity of an object; drag, which decreases the velocity of an object; and torque, which produces changes in rotational speed of an object.',\n",
       " 'forced': 'It won the Level Up 2013 Intel award and BetaDwarf received the Danish Developer Of The Year (2013) for it.',\n",
       " 'forecasting': 'In some cases the data used to predict the variable of interest is itself forecast.',\n",
       " 'forego': 'Forego (April 30, 1970 – August 27, 1997) was an American Thoroughbred racehorse that won eight Eclipse Awards including Horse of the Year, Champion Handicap Horse and Champion Sprinter.',\n",
       " 'foremost': 'Foremost may also refer to:*Bow (ship), the front of a ship*Foremost, a manufacturer in Canada of equipment for oil & gas, mining, construction and waterwell markets etc*Foremost 105, originally named Empire Greta, a tugboat in the service of the British Government from 1945 to 1947*Foremost 106, originally named Empire Martha, a tugboat in the service of the British Government from 1945 to 1947*Foremost Airport, an airport outside of Foremost, Alberta*Foremost, Alberta, a village in Canada*Foremost Formation, a geological formation in Alberta*Foremost Group, a New York-based shipping company*Foremost Insurance, a mobile home and recreational vehicle insurance company, part of Farmers Insurance Group*Foremost-McKesson, a name previously used by the McKesson Corporation*Foremost (software), a forensic data recovery program',\n",
       " 'forest': 'Roughly 80 percent of the world’s forest area is found in patches larger than 1 million hectares.',\n",
       " 'form': 'Form is the shape, visual appearance, or configuration of an object.',\n",
       " 'forma': 'Both the Latin forma and the English form are used interchangeably as informal terms in biology:* Form (zoology)* Form (botany)',\n",
       " 'former': 'former is an object, such as a template, gauge or cutting die, which is used to form something such as a boats hull.',\n",
       " 'formula': 'formula is a concise way of expressing information symbolically, as in a mathematical formula or a chemical formula.',\n",
       " 'forstmann': 'Forstmann is a German surname.',\n",
       " 'forward': 'Forward may also refer to:',\n",
       " 'fox': 'Foxes are small to medium-sized, omnivorous mammals belonging to several genera of the family Canidae.',\n",
       " 'fraction': 'For example, in the fraction , the numerator 3 indicates that the fraction represents 3 equal parts, and the denominator 4 indicates that 4 parts make up a whole.',\n",
       " 'frame': 'frame is often a structural system that supports other components of a physical construction and/or steel frame that limits the constructions extent.Frame and FRAME may also refer to:',\n",
       " 'franc': 'The French franc symbol was F or Fr.',\n",
       " 'france': 'After the collapse of the empire and a relative decline, France endured a tumultuous succession of governments culminating in the establishment of the French Third Republic in 1870 in the midst of the Franco-Prussian War.',\n",
       " 'francisco': 'In Spanish Latin America and in the Philippines, people with the name Francisco are frequently called \"Pancho\".',\n",
       " 'frankfurt': 'Messe Frankfurt is one of the worlds largest trade fairs.',\n",
       " 'frans': 'Frans is a common first name, the Dutch version of Francis in English or Franz in German:',\n",
       " 'fraud': 'fraud is intentional deception to secure unfair or unlawful gain, or to deprive a victim of a legal right.',\n",
       " 'frawley': 'Notable people with the surname include:* Arthur J. Frawley (c.1899–1969), American politician* Barbara Frawley (1935–2004), Australian actress and voice artist* Ciarán Frawley (born 1997), Irish rugby union player* Craig Frawley (born 1980), Australian rugby league footballer* Damien Frawley (born 1962), international rugby union player* Dan Frawley (1882–1967), pioneer Australian rugby league footballer* Dan Frawley (ice hockey) (born 1962), Canadian hockey player best known as captain of the Pittsburgh Penguins* Danny Frawley (1963–2019), Australian rules footballer, coach and commentator* David Frawley, American author on Hinduism* Des Frawley (1924–1996), Australian politician* James Frawley (born 1937), American director and actor* James Frawley (Australian rules footballer) (born 1988)* James Frawley (tennis) (born 1994), Australian tennis player* James J. Frawley (1867–1926), New York State Senator and Tammany Hall leader* John Frawley (disambiguation)* Lee Frawley (born 1954), equestrian* Matt Frawley (born 1994), Australian rugby league player* Maurice Frawley (1954–2009), Australian musician* Mick Frawley (1885–1919), Australian rugby league footballer * Rod Frawley (born 1952), Australian tennis player* William Frawley (1887–1966), American actor best known for playing Fred Mertz on I Love Lucy',\n",
       " 'frazier': 'Frazier is a Scottish surname.',\n",
       " 'freedman': 'A fugitive slave is a person who escaped slavery by fleeing.',\n",
       " 'freedom': 'Freedom, generally, is having the ability to act or change without constraint.',\n",
       " 'friction': '*Skin friction is a component of drag, the force resisting the motion of a fluid across the surface of a body.',\n",
       " 'friday': 'In Israel, Friday is the sixth day of the week.',\n",
       " 'friends': 'The show ranked no.',\n",
       " 'fritz': 'Fritz (Fryc) was also a name given to German troops by the Entente powers equivalent to the derogative Tommy.',\n",
       " 'frontier': 'From the reign of Augustus onward, the Roman borders turned into defensive boundaries that divided the Roman and non-Roman realms.',\n",
       " 'frost': 'The depth of frost crystals varies depending on the amount of time they have been accumulating, and the concentration of the water vapor (humidity).',\n",
       " 'fructose': 'High-fructose corn syrup is a mixture of glucose and fructose as monosaccharides.',\n",
       " 'fruit': 'Edible fruits in particular have long propagated using the movements of humans and animals in a symbiotic relationship  that is the means for seed dispersal for the one group and nutrition for the other; in fact, humans and many animals have become dependent on fruits as a source of food.',\n",
       " 'frustration': 'frustration is a common emotional response to opposition, related to anger, annoyance and disappointment.',\n",
       " 'fuel': 'fuel is any material that can be made to react with other substances so that it releases energy as thermal energy or to be used for work.',\n",
       " 'fujian': 'Fujian is bordered by Zhejiang to the north, Jiangxi to the west, Guangdong to the south, and the Taiwan Strait to the east.',\n",
       " 'fujitsu': 'Fujitsu Limited富士通株式会社Fujitsū Kabushiki-gaisha is a Japanese multinational information and communications technology equipment and services company, established in 1935 and headquartered in Tokyo.',\n",
       " 'fully': 'Fully is a municipality in the district of Martigny in the canton of Valais in Switzerland.',\n",
       " 'fumio': 'Fumio (written: , , , , , , ,  or  in katakana) is a masculine Japanese given name.',\n",
       " 'funding': 'While this is usually in the form of money, it can also take the form of effort or time from an organization or company.',\n",
       " 'funeral': 'funeral is a ceremony connected with the final disposition of a corpse, such as a burial or cremation, with the attendant observances.',\n",
       " 'furniture': 'Furniture can be a product of design and is considered a form of decorative art.',\n",
       " 'future': 'future is the time after the present.',\n",
       " 'futures': 'Futures may mean:',\n",
       " 'gabon': 'Located on the equator, Gabon is bordered by Equatorial Guinea to the northwest, Cameroon to the north, the Republic of the Congo on the east and south, and the Gulf of Guinea to the west.',\n",
       " 'gaf': 'There are four forms, each used in different places:*  in Perso-Arabic alphabet *  in the Jawi script*  in the Pegon script* in Moroccan Arabic* in Algerian Arabic, Tunisian Arabic and Berber languages* in Pashto*  in Sindhi and SaraikiNote that the standard practice in Egypt (in Literary Arabic and Egyptian Arabic) is to use   for , and in Arabic dialects like Hejazi Arabic and Najdi Arabic the  and   are used instead to represent  e.g.',\n",
       " 'galactic': 'Galactic is an American jam band from New Orleans, Louisiana.',\n",
       " 'galaxy': 'The group is part of the Virgo Supercluster.',\n",
       " 'gallon': 'gallon is a unit of measurement for volume and fluid capacity in both the US customary units and the British imperial systems of measurement.',\n",
       " 'game': 'Often, part of the entertainment for children playing a game is deciding who is part of their audience and who is a player.Key components of games are goals, rules, challenge, and interaction.',\n",
       " 'gao': 'Gao , or Gawgaw/Kawkaw, is a city in Mali and the capital of the Gao Region.',\n",
       " 'gap': 'Gap or The Gap may refer to various openings, vacant spaces, lacks or pauses:',\n",
       " 'garden': 'The single feature identifying even the wildest wild garden is control.',\n",
       " 'gardini': 'Notable people with this surname include:*Andrea Gardini (born 1965), Italian volleyball player*Carlos Gardini (1948–2017), Argentine translator and science fiction and fantasy writer*Davide Gardini (born 1999), Italian volleyball player *Elisabetta Gardini (born 1956), Italian actress and politician *Fausto Gardini (1930–2008), Italian tennis player*Maria Pia Gardini (1936–2012), Italian entrepreneur and former Scientologist*Raul Gardini (1933–1993), Italian businessman*Renato Gardini (1889–1940), Italian wrestler',\n",
       " 'gartner': 'Its client base consists of over 15,000 organizations in over 100 countries.',\n",
       " 'gas': 'oxygen), or compound molecules made from a variety of atoms (e.g.',\n",
       " 'gasoline': 'Gasoline contains known carcinogens.',\n",
       " 'gateway': 'Gateway often refers to:*A gate or portalGateway or The Gateway may also refer to:',\n",
       " 'gear': 'An advantage of gears is that the teeth of a gear prevent slippage.',\n",
       " 'gelco': 'It is now part of Concur Technologies.',\n",
       " 'gene': 'The transmission of genes to an organisms offspring is the basis of the inheritance of phenotypic traits.',\n",
       " 'generation': 'generation is \"all of the people born and living at about the same time, regarded collectively.\"',\n",
       " 'genetics': 'dominance), and within the context of a population.',\n",
       " 'geneva': 'In 2019, Mercer ranked Geneva as the thirteenth most expensive city in the world.',\n",
       " 'geography': 'Human geography is concerned with the study of people and their communities, cultures, economies, and interactions with the environment by studying their relations with and across space and place.',\n",
       " 'georgia': 'Georgia usually refers to:* Georgia (country), a country in the Caucasus region of Eurasia* Georgia (U.S. state), one of the states of the United States of AmericaGeorgia may also refer to:',\n",
       " 'gephardt': 'Gephardt is a surname.',\n",
       " 'gerald': 'People with the name Gerald include:',\n",
       " 'gerard': 'A few abbreviated forms are Gerry and Jerry (English);  Gerd (German) and Gert (Afrikaans and Dutch); Gerrit (Afrikaans and Dutch); Gertjie (Afrikaans); Geert (Dutch) and Жоро (Bulgarian).The introduction of the name Gerard into the English language took place following the Norman conquest of England in 1066.',\n",
       " 'germans': 'The 19th century saw the dismemberment of the Holy Roman Empire and the growth of German nationalism, with the state of Prussia incorporating most of the Germans into the German Empire, while a substantial number of Germans also inhabited Austria-Hungary.',\n",
       " 'germany': 'Germany is a member of the United Nations, NATO, the G7, the G20, and the OECD.',\n",
       " 'germination': 'The term is applied to the sprouting of a seedling from a seed of an angiosperm or gymnosperm, the growth of  a sporeling from a spore, such as the spores of fungi, ferns, bacteria, and the growth of the pollen tube from the pollen grain of a seed plant.',\n",
       " 'gesture': 'Gestures include movement of the hands, face, or other parts of the body.',\n",
       " 'ghana': 'Ghana (), officially the Republic of Ghana, is a country in West Africa.',\n",
       " 'giant': 'The antagonist in Jack and the Beanstalk is often described as a giant.',\n",
       " 'gibraltar': 'In December 2020, the UK and Spain agreed in principle to a basis  on which the UK and the EU might negotiate terms for Gibraltar to participate in aspects of the Schengen Agreement.',\n",
       " 'gillette': 'In July 2007, Global Gillette was dissolved and incorporated into Procter & Gambles other two main divisions, Procter & Gamble Beauty and Procter & Gamble Household Care.',\n",
       " 'given': 'given is a statement or a condition assumed to be true or known, often to explain or give an example of something; for related topics, see:* Presumption (in law)* Axiom (in formal logic)* Givenness (in discourse)* Conditional probability, usually expressed using the term \"given\"Given may also refer to:',\n",
       " 'glass': 'The refractive, reflective and transmission properties of glass make glass suitable for manufacturing optical lenses, prisms, and optoelectronics materials.',\n",
       " 'glatfelter': 'Glatfelter and its subsidiaries employ approximately 2,560 people worldwide.',\n",
       " 'glen': 'glen is a valley, typically one that is long and bounded by gently sloped concave sides, unlike a ravine, which is deep and bounded by steep slopes.',\n",
       " 'glickman': 'Notable people with the surname include:*Dan Glickman (born 1944), American politician*Dov Glickman, Israeli actor*Harry Glickman (born 1924), founder of the National Basketball Associations Portland Trail Blazers*Irving Glickman (1914–1972), American periodontist*Jonathan Glickman (born 1969), American film producer*Kevon Glickman (born 1960), American music producer and entertainment lawyer*Lawrence B. Glickman (born 1963), American historian*Marty Glickman (1917–2001), American track and field athlete and sports announcer*Mort Glickman (1898–1953), American composer*Stephen H. Glickman, American judge*Stephen Kramer Glickman (born 1979), American actor*Susan Glickman (born 1953), Canadian writer and critic*Sylvia Glickman, composer*Todd Glickman (born 1956), American meteorologist*Will Glickman (1910–1983), American playwright',\n",
       " 'global': 'Global means of or referring to a globe and may also refer to:',\n",
       " 'globe': 'A model globe of the celestial sphere is called a celestial globe.A globe shows details of its subject.',\n",
       " 'gloomy': 'Gloomy can refer to:*melancholia*The song Gloomy Sunday*The song Gloomy from the self-titled album Creedence Clearwater Revival*The Gloomy Dean, nickname of William Ralph Inge*Gloomy Bear, a fictional character *Gloomy Galleon*Someone who is easily saddened or depressed',\n",
       " 'goal': 'goal is an idea of the future or desired result that a person or a group of people envision, plan and commit to achieve.',\n",
       " 'gobert': 'Notable people with the surname include:*André Gobert (1890–1951), French tennis player*Anthony Gobert (born 1975), Australian motorcycle road racer*Dedrick D. Gobert (1971-1994), American actor*Émile Joseph Isidore Gobert (1838–1922), French entomologist*Jacques-Nicolas Gobert (1760–1808), French general*Jos Gobert (1922–unknown), Belgian chess master*Pierre Gobert (1662–1744), French painter*Rudy Gobert (born 1992), French basketball player',\n",
       " 'goes': 'Goes () is a city and municipality in the southwestern Netherlands on Zuid-Beveland, in the province of Zeeland.',\n",
       " 'gold': 'Chemically, gold is a transition metal and a group 11 element.',\n",
       " 'golden': 'Golden means made of, or relating to gold.Golden may also refer to:',\n",
       " 'goldman': '* William Goldman (1931-2018), American screenwriter and author* Yoel Goldman (born 1980), American real estate developer* Yosef Goldman (born 1942), scholar and author',\n",
       " 'goldsmith': 'Many universities and junior colleges also offer goldsmithing, silversmithing, and metal arts fabrication as a part of their fine arts curriculum.',\n",
       " ...}"
      ]
     },
     "execution_count": 53,
     "metadata": {},
     "output_type": "execute_result"
    }
   ],
   "source": [
    "encyclopedia_same"
   ]
  },
  {
   "cell_type": "code",
   "execution_count": 54,
   "metadata": {},
   "outputs": [
    {
     "data": {
      "text/plain": [
       "'Hanover  is the capital and largest city of the German state of Lower Saxony.'"
      ]
     },
     "execution_count": 54,
     "metadata": {},
     "output_type": "execute_result"
    }
   ],
   "source": [
    "encyclopedia_same[\"hanover\"]"
   ]
  },
  {
   "cell_type": "markdown",
   "metadata": {},
   "source": [
    "## Conclusão"
   ]
  },
  {
   "cell_type": "markdown",
   "metadata": {},
   "source": [
    "Em posse da enciclopédia, construída sobre o modelo treinado com o próprio contexto de cada palavra-chave, pode-se observar que em grande parte, as descrições são sentenças pertinentes, porém há palavras com descrições inadequadas, isso pode ter ocorrido devido a essas palavras terem um documento com muito pouco conteúdo escrito, prejudicando o treinamento do modelo para a análise de perplexidade."
   ]
  },
  {
   "cell_type": "code",
   "execution_count": null,
   "metadata": {},
   "outputs": [],
   "source": []
  }
 ],
 "metadata": {
  "kernelspec": {
   "display_name": "Python 3",
   "language": "python",
   "name": "python3"
  },
  "language_info": {
   "codemirror_mode": {
    "name": "ipython",
    "version": 3
   },
   "file_extension": ".py",
   "mimetype": "text/x-python",
   "name": "python",
   "nbconvert_exporter": "python",
   "pygments_lexer": "ipython3",
   "version": "3.7.10"
  }
 },
 "nbformat": 4,
 "nbformat_minor": 4
}
